{
  "nbformat": 4,
  "nbformat_minor": 0,
  "metadata": {
    "colab": {
      "name": "EDA.ipynb",
      "provenance": [],
      "collapsed_sections": [],
      "toc_visible": true
    },
    "kernelspec": {
      "name": "python3",
      "display_name": "Python 3"
    },
    "language_info": {
      "name": "python"
    }
  },
  "cells": [
    {
      "cell_type": "markdown",
      "source": [
        "#<font color='#3dc1d3'>  Exploratory Data Analysis\n",
        "\n",
        "#Outline\n",
        "---\n",
        "# <font color='#3dc1d3'>  \n",
        "1. Importing necessary libraries\n",
        "2. Regarding the Dataset\n",
        "3. Studying top 10 conditions in depth\n",
        "5. Top 10 disease <br>\n"
      ],
      "metadata": {
        "id": "qnMZwHxpU0FB"
      }
    },
    {
      "cell_type": "markdown",
      "source": [
        "#1. Importing necessary libraries"
      ],
      "metadata": {
        "id": "F3_hWL6dVFFS"
      }
    },
    {
      "cell_type": "code",
      "execution_count": null,
      "metadata": {
        "id": "4XRMGw59Znzq"
      },
      "outputs": [],
      "source": [
        "import pandas as pd\n",
        "import numpy as np\n",
        "import seaborn as sns\n",
        "import matplotlib.pyplot as plt\n",
        "import matplotlib.pyplot as plt\n",
        "import seaborn as sns"
      ]
    },
    {
      "cell_type": "code",
      "source": [
        "from google.colab import drive\n",
        "drive.mount('/content/drive')"
      ],
      "metadata": {
        "colab": {
          "base_uri": "https://localhost:8080/"
        },
        "id": "UXzv9dEJVQ80",
        "outputId": "6a387ce8-ed3b-4c63-dcbe-62fc697cef04"
      },
      "execution_count": null,
      "outputs": [
        {
          "output_type": "stream",
          "name": "stdout",
          "text": [
            "Mounted at /content/drive\n"
          ]
        }
      ]
    },
    {
      "cell_type": "markdown",
      "source": [
        "# Regarding the Dataset\n",
        "\n",
        "*   The data below reflects the total number of unique Documents for each disease.\n",
        "*   Detailed EDA perfomed to understand the dataset regarding protocol document."
      ],
      "metadata": {
        "id": "60JoacTjbRA8"
      }
    },
    {
      "cell_type": "code",
      "source": [
        "df = pd.read_csv('/content/drive/MyDrive/Practicum Final/2. Exploratory Data Analysis/Code/count_protocol_conditions.csv')\n",
        "df.head(5)\n"
      ],
      "metadata": {
        "colab": {
          "base_uri": "https://localhost:8080/",
          "height": 206
        },
        "id": "fscEi03WWHWn",
        "outputId": "221c5058-24ac-4d25-d134-0fb1fd767bf9"
      },
      "execution_count": null,
      "outputs": [
        {
          "output_type": "execute_result",
          "data": {
            "text/plain": [
              "   totalcount                                 document_type             name\n",
              "0         205  Study Protocol and Statistical Analysis Plan    Breast Cancer\n",
              "1         177  Study Protocol and Statistical Analysis Plan          Obesity\n",
              "2         144  Study Protocol and Statistical Analysis Plan       Depression\n",
              "3         136  Study Protocol and Statistical Analysis Plan  Prostate Cancer\n",
              "4         116                                Study Protocol           Asthma"
            ],
            "text/html": [
              "\n",
              "  <div id=\"df-07be490b-0269-4d65-817b-68efb96d9616\">\n",
              "    <div class=\"colab-df-container\">\n",
              "      <div>\n",
              "<style scoped>\n",
              "    .dataframe tbody tr th:only-of-type {\n",
              "        vertical-align: middle;\n",
              "    }\n",
              "\n",
              "    .dataframe tbody tr th {\n",
              "        vertical-align: top;\n",
              "    }\n",
              "\n",
              "    .dataframe thead th {\n",
              "        text-align: right;\n",
              "    }\n",
              "</style>\n",
              "<table border=\"1\" class=\"dataframe\">\n",
              "  <thead>\n",
              "    <tr style=\"text-align: right;\">\n",
              "      <th></th>\n",
              "      <th>totalcount</th>\n",
              "      <th>document_type</th>\n",
              "      <th>name</th>\n",
              "    </tr>\n",
              "  </thead>\n",
              "  <tbody>\n",
              "    <tr>\n",
              "      <th>0</th>\n",
              "      <td>205</td>\n",
              "      <td>Study Protocol and Statistical Analysis Plan</td>\n",
              "      <td>Breast Cancer</td>\n",
              "    </tr>\n",
              "    <tr>\n",
              "      <th>1</th>\n",
              "      <td>177</td>\n",
              "      <td>Study Protocol and Statistical Analysis Plan</td>\n",
              "      <td>Obesity</td>\n",
              "    </tr>\n",
              "    <tr>\n",
              "      <th>2</th>\n",
              "      <td>144</td>\n",
              "      <td>Study Protocol and Statistical Analysis Plan</td>\n",
              "      <td>Depression</td>\n",
              "    </tr>\n",
              "    <tr>\n",
              "      <th>3</th>\n",
              "      <td>136</td>\n",
              "      <td>Study Protocol and Statistical Analysis Plan</td>\n",
              "      <td>Prostate Cancer</td>\n",
              "    </tr>\n",
              "    <tr>\n",
              "      <th>4</th>\n",
              "      <td>116</td>\n",
              "      <td>Study Protocol</td>\n",
              "      <td>Asthma</td>\n",
              "    </tr>\n",
              "  </tbody>\n",
              "</table>\n",
              "</div>\n",
              "      <button class=\"colab-df-convert\" onclick=\"convertToInteractive('df-07be490b-0269-4d65-817b-68efb96d9616')\"\n",
              "              title=\"Convert this dataframe to an interactive table.\"\n",
              "              style=\"display:none;\">\n",
              "        \n",
              "  <svg xmlns=\"http://www.w3.org/2000/svg\" height=\"24px\"viewBox=\"0 0 24 24\"\n",
              "       width=\"24px\">\n",
              "    <path d=\"M0 0h24v24H0V0z\" fill=\"none\"/>\n",
              "    <path d=\"M18.56 5.44l.94 2.06.94-2.06 2.06-.94-2.06-.94-.94-2.06-.94 2.06-2.06.94zm-11 1L8.5 8.5l.94-2.06 2.06-.94-2.06-.94L8.5 2.5l-.94 2.06-2.06.94zm10 10l.94 2.06.94-2.06 2.06-.94-2.06-.94-.94-2.06-.94 2.06-2.06.94z\"/><path d=\"M17.41 7.96l-1.37-1.37c-.4-.4-.92-.59-1.43-.59-.52 0-1.04.2-1.43.59L10.3 9.45l-7.72 7.72c-.78.78-.78 2.05 0 2.83L4 21.41c.39.39.9.59 1.41.59.51 0 1.02-.2 1.41-.59l7.78-7.78 2.81-2.81c.8-.78.8-2.07 0-2.86zM5.41 20L4 18.59l7.72-7.72 1.47 1.35L5.41 20z\"/>\n",
              "  </svg>\n",
              "      </button>\n",
              "      \n",
              "  <style>\n",
              "    .colab-df-container {\n",
              "      display:flex;\n",
              "      flex-wrap:wrap;\n",
              "      gap: 12px;\n",
              "    }\n",
              "\n",
              "    .colab-df-convert {\n",
              "      background-color: #E8F0FE;\n",
              "      border: none;\n",
              "      border-radius: 50%;\n",
              "      cursor: pointer;\n",
              "      display: none;\n",
              "      fill: #1967D2;\n",
              "      height: 32px;\n",
              "      padding: 0 0 0 0;\n",
              "      width: 32px;\n",
              "    }\n",
              "\n",
              "    .colab-df-convert:hover {\n",
              "      background-color: #E2EBFA;\n",
              "      box-shadow: 0px 1px 2px rgba(60, 64, 67, 0.3), 0px 1px 3px 1px rgba(60, 64, 67, 0.15);\n",
              "      fill: #174EA6;\n",
              "    }\n",
              "\n",
              "    [theme=dark] .colab-df-convert {\n",
              "      background-color: #3B4455;\n",
              "      fill: #D2E3FC;\n",
              "    }\n",
              "\n",
              "    [theme=dark] .colab-df-convert:hover {\n",
              "      background-color: #434B5C;\n",
              "      box-shadow: 0px 1px 3px 1px rgba(0, 0, 0, 0.15);\n",
              "      filter: drop-shadow(0px 1px 2px rgba(0, 0, 0, 0.3));\n",
              "      fill: #FFFFFF;\n",
              "    }\n",
              "  </style>\n",
              "\n",
              "      <script>\n",
              "        const buttonEl =\n",
              "          document.querySelector('#df-07be490b-0269-4d65-817b-68efb96d9616 button.colab-df-convert');\n",
              "        buttonEl.style.display =\n",
              "          google.colab.kernel.accessAllowed ? 'block' : 'none';\n",
              "\n",
              "        async function convertToInteractive(key) {\n",
              "          const element = document.querySelector('#df-07be490b-0269-4d65-817b-68efb96d9616');\n",
              "          const dataTable =\n",
              "            await google.colab.kernel.invokeFunction('convertToInteractive',\n",
              "                                                     [key], {});\n",
              "          if (!dataTable) return;\n",
              "\n",
              "          const docLinkHtml = 'Like what you see? Visit the ' +\n",
              "            '<a target=\"_blank\" href=https://colab.research.google.com/notebooks/data_table.ipynb>data table notebook</a>'\n",
              "            + ' to learn more about interactive tables.';\n",
              "          element.innerHTML = '';\n",
              "          dataTable['output_type'] = 'display_data';\n",
              "          await google.colab.output.renderOutput(dataTable, element);\n",
              "          const docLink = document.createElement('div');\n",
              "          docLink.innerHTML = docLinkHtml;\n",
              "          element.appendChild(docLink);\n",
              "        }\n",
              "      </script>\n",
              "    </div>\n",
              "  </div>\n",
              "  "
            ]
          },
          "metadata": {},
          "execution_count": 3
        }
      ]
    },
    {
      "cell_type": "code",
      "source": [
        "df.shape"
      ],
      "metadata": {
        "colab": {
          "base_uri": "https://localhost:8080/"
        },
        "id": "c15zb0OfWRgf",
        "outputId": "7520c72e-5054-4a8c-a94c-528d4a837b4d"
      },
      "execution_count": null,
      "outputs": [
        {
          "output_type": "execute_result",
          "data": {
            "text/plain": [
              "(17069, 3)"
            ]
          },
          "metadata": {},
          "execution_count": 4
        }
      ]
    },
    {
      "cell_type": "code",
      "source": [
        "df.isnull().sum()"
      ],
      "metadata": {
        "colab": {
          "base_uri": "https://localhost:8080/"
        },
        "id": "OYGyclLfWn5O",
        "outputId": "03adc59e-a47d-4136-a6da-b5820d872b76"
      },
      "execution_count": null,
      "outputs": [
        {
          "output_type": "execute_result",
          "data": {
            "text/plain": [
              "totalcount       0\n",
              "document_type    0\n",
              "name             0\n",
              "dtype: int64"
            ]
          },
          "metadata": {},
          "execution_count": 5
        }
      ]
    },
    {
      "cell_type": "code",
      "source": [
        "df['document_type'].unique()"
      ],
      "metadata": {
        "id": "Hk_8YswsgOEx",
        "colab": {
          "base_uri": "https://localhost:8080/"
        },
        "outputId": "bf6e0d00-1fdb-43eb-d42d-44ab6c362537"
      },
      "execution_count": null,
      "outputs": [
        {
          "output_type": "execute_result",
          "data": {
            "text/plain": [
              "array(['Study Protocol and Statistical Analysis Plan', 'Study Protocol',\n",
              "       'Study Protocol, Statistical Analysis Plan, and Informed Consent Form',\n",
              "       'Study Protocol: Original', 'Study Protocol: Amendment 1',\n",
              "       'Study Protocol: Amendment 2',\n",
              "       'Study Protocol and Informed Consent Form',\n",
              "       'Study Protocol: Version 5', 'Study Protocol: Protocol',\n",
              "       'Study Protocol: Protocol Cover Page', 'Study Protocol: Version 6',\n",
              "       'Study Protocol: Amendment 3', 'Study Protocol: Amendment 4',\n",
              "       'Study Protocol: Amendment 5', 'Study Protocol: Amendment 6',\n",
              "       'Study Protocol: Version 4',\n",
              "       'Study Protocol: and Statistical Analysis Plan',\n",
              "       'Study Protocol and Statistical Analysis Plan: 9. Statistical Considerations',\n",
              "       'Study Protocol and Statistical Analysis Plan: Addendum Study Protocol for COVID-19',\n",
              "       'Study Protocol and Statistical Analysis Plan: Amended Protocol V7 approved by Ethics Board on Oct 9, 2018',\n",
              "       'Study Protocol and Statistical Analysis Plan: Ann Arbor',\n",
              "       'Study Protocol and Statistical Analysis Plan: APPROVED STUDY PROTOCOL, TRANSLATED FROM HEBREW',\n",
              "       'Study Protocol and Statistical Analysis Plan: BABY HUG Follow-up Study I',\n",
              "       'Study Protocol and Statistical Analysis Plan: BABY HUG Randomized Control Trial',\n",
              "       'Study Protocol and Statistical Analysis Plan: Battle Creek',\n",
              "       'Study Protocol and Statistical Analysis Plan: Brief overview',\n",
              "       \"Study Protocol and Statistical Analysis Plan: Brigham and Women's Hospital Site\",\n",
              "       'Study Protocol and Statistical Analysis Plan: Canada',\n",
              "       'Study Protocol and Statistical Analysis Plan: CIP CAMSEN AI-5770',\n",
              "       'Study Protocol and Statistical Analysis Plan: Corrected according to Advisory Issues',\n",
              "       'Study Protocol and Statistical Analysis Plan: cover page',\n",
              "       'Study Protocol and Statistical Analysis Plan: CS0172-001',\n",
              "       'Study Protocol and Statistical Analysis Plan: CS0172-002',\n",
              "       'Study Protocol and Statistical Analysis Plan: CSP-025-05 rev DE protocol and SAP 05-16-2019_Redacted',\n",
              "       'Study Protocol and Statistical Analysis Plan: CSP-025 rev 5 UK protocol and SAP 05-16-2019_Redacted',\n",
              "       'Study Protocol and Statistical Analysis Plan: Final protocol',\n",
              "       'Study Protocol and Statistical Analysis Plan: Former trial design',\n",
              "       'Study Protocol and Statistical Analysis Plan: Full protocol',\n",
              "       'Study Protocol and Statistical Analysis Plan: Full Protocol',\n",
              "       'Study Protocol and Statistical Analysis Plan: Initial Protocol',\n",
              "       'Study Protocol and Statistical Analysis Plan: Initial version',\n",
              "       'Study Protocol and Statistical Analysis Plan: IRB Application',\n",
              "       'Study Protocol and Statistical Analysis Plan: Last Amended version',\n",
              "       'Study Protocol and Statistical Analysis Plan: Latest study protocol with baclofen',\n",
              "       'Study Protocol and Statistical Analysis Plan: Main protocol',\n",
              "       'Study Protocol and Statistical Analysis Plan: Main Study',\n",
              "       'Study Protocol and Statistical Analysis Plan: Mount Sinai School of Medicine Site',\n",
              "       'Study Protocol and Statistical Analysis Plan: Multiple Dose Protocol',\n",
              "       'Study Protocol and Statistical Analysis Plan: NICHE-BMT/Pediatrics',\n",
              "       'Study Protocol and Statistical Analysis Plan: NICHE-Leukemia/MDS/Lymphoma/BD',\n",
              "       'Study Protocol and Statistical Analysis Plan: original',\n",
              "       'Study Protocol and Statistical Analysis Plan: Original cohort prenatal-48 months',\n",
              "       'Study Protocol and Statistical Analysis Plan: Original Prototocol',\n",
              "       'Study Protocol and Statistical Analysis Plan: Original RCT: Health Care Hotspotting Analysis Plan',\n",
              "       'Study Protocol and Statistical Analysis Plan: Pre-modifications related to enrollment exceptions',\n",
              "       'Study Protocol and Statistical Analysis Plan: Previous study protocol with original arms',\n",
              "       'Study Protocol and Statistical Analysis Plan: Protocol',\n",
              "       'Study Protocol and Statistical Analysis Plan: Protocol Amendment 1',\n",
              "       'Study Protocol and Statistical Analysis Plan: Protocol and SAP',\n",
              "       'Study Protocol and Statistical Analysis Plan: Protocol and statistical analysis plan',\n",
              "       'Study Protocol and Statistical Analysis Plan: Protocol v1.0',\n",
              "       'Study Protocol and Statistical Analysis Plan: Protocol v2.0 (Amendment 1)',\n",
              "       'Study Protocol and Statistical Analysis Plan: Protocol v3.0 (Amendment 2)',\n",
              "       'Study Protocol and Statistical Analysis Plan: Protocol v4.0 (Amendment 3)',\n",
              "       'Study Protocol and Statistical Analysis Plan: Protocol V6 approved by Ethics Board on May 30, 2018',\n",
              "       'Study Protocol and Statistical Analysis Plan: Result of the study',\n",
              "       'Study Protocol and Statistical Analysis Plan: Results',\n",
              "       'Study Protocol and Statistical Analysis Plan: Results of the study',\n",
              "       'Study Protocol and Statistical Analysis Plan: Single Dose Protocol',\n",
              "       'Study Protocol and Statistical Analysis Plan: Statistical Analysis',\n",
              "       'Study Protocol and Statistical Analysis Plan: Statistical Analysis Plan only',\n",
              "       'Study Protocol and Statistical Analysis Plan: Stat Plan',\n",
              "       'Study Protocol and Statistical Analysis Plan: Study protocol',\n",
              "       'Study Protocol and Statistical Analysis Plan: Study Protocol',\n",
              "       'Study Protocol and Statistical Analysis Plan: Study Protocol and SAP',\n",
              "       'Study Protocol and Statistical Analysis Plan: Study protocol and statistical analysis plan',\n",
              "       'Study Protocol and Statistical Analysis Plan: Study Protocol and Statistical Analysis Plan',\n",
              "       'Study Protocol and Statistical Analysis Plan: Study Protocol Document with SAP',\n",
              "       'Study Protocol and Statistical Analysis Plan: Study Protocol (English Translation)',\n",
              "       'Study Protocol and Statistical Analysis Plan: Study Protocol including Statistical Analysis Plan',\n",
              "       'Study Protocol and Statistical Analysis Plan: Study Protocols and Statistical Analysis Plan',\n",
              "       'Study Protocol and Statistical Analysis Plan: Study Protocol, Statistical Analysis Plan',\n",
              "       'Study Protocol and Statistical Analysis Plan: Study Protocol Synopsis',\n",
              "       'Study Protocol and Statistical Analysis Plan: Study Protocol version 1.2 without Statistical Analysis Plan',\n",
              "       'Study Protocol and Statistical Analysis Plan: Study protocol with analysis plan',\n",
              "       'Study Protocol and Statistical Analysis Plan: Study Protocol with Statistical Analysis',\n",
              "       'Study Protocol and Statistical Analysis Plan: Study Protocol with Statistical Analysis Plan',\n",
              "       'Study Protocol and Statistical Analysis Plan: Study Protocol with summarized SAP',\n",
              "       'Study Protocol and Statistical Analysis Plan: Sub-Protocol',\n",
              "       'Study Protocol and Statistical Analysis Plan: Trial design changed',\n",
              "       'Study Protocol and Statistical Analysis Plan: United States',\n",
              "       'Study Protocol and Statistical Analysis Plan: Updated protocol',\n",
              "       'Study Protocol and Statistical Analysis Plan: Updated Protocol and SAP',\n",
              "       'Study Protocol and Statistical Analysis Plan: v. 0.0 - Initial',\n",
              "       'Study Protocol and Statistical Analysis Plan: v. 0.1',\n",
              "       'Study Protocol and Statistical Analysis Plan: v 1.0',\n",
              "       'Study Protocol and Statistical Analysis Plan: v. 1.0',\n",
              "       'Study Protocol and Statistical Analysis Plan: v 1.1',\n",
              "       'Study Protocol and Statistical Analysis Plan: v 1.2',\n",
              "       'Study Protocol and Statistical Analysis Plan: v 1.3',\n",
              "       'Study Protocol and Statistical Analysis Plan: v. 2.0',\n",
              "       'Study Protocol and Statistical Analysis Plan: version 1.0',\n",
              "       'Study Protocol and Statistical Analysis Plan: Version 1.0',\n",
              "       'Study Protocol and Statistical Analysis Plan: version 1.1',\n",
              "       'Study Protocol and Statistical Analysis Plan: version 6',\n",
              "       'Study Protocol and Statistical Analysis Plan: version 7',\n",
              "       'Study Protocol and Statistical Analysis Plan: Version for USA',\n",
              "       'Study Protocol and Statistical Analysis Plan: w/o statistical comment',\n",
              "       'Study Protocol and Statistical Analysis Plan: Zucker Hillside Hospital Site',\n",
              "       'Study Protocol: Annex 1: Grant Application Form',\n",
              "       'Study Protocol: Annex 24 Hours Parental Diary Form',\n",
              "       'Study Protocol: Annex 2: Data Delivery Agreement',\n",
              "       'Study Protocol: Annex Patient Assessment Sheet Day 0',\n",
              "       'Study Protocol: Appendix 1 security data protocol',\n",
              "       'Study Protocol: Appendix (Data Forms)',\n",
              "       'Study Protocol: aur-vos-2017-01-protocol-v1_Redacted',\n",
              "       'Study Protocol: aur-vos-2017-01-protocol-v2_Redacted',\n",
              "       'Study Protocol: aur-vos-2017-01-protocol-v3_Redacted',\n",
              "       'Study Protocol: Brazil Cohort',\n",
              "       'Study Protocol: CC-486-NPC-001.01.protocolAM1_RedactedOctober2014',\n",
              "       'Study Protocol: CC-486-NPC-001_original protocol_Redacted.11July2014',\n",
              "       'Study Protocol: CC-486-NPC-001_protocolAM2_Redacted.03April2015',\n",
              "       'Study Protocol: CC-486-NPC-001_protocolAM3_Redacted.23September2016',\n",
              "       'Study Protocol: CC-486-NSCL-001_original protocol_Redacted.15May2015',\n",
              "       'Study Protocol: CC-486-NSCL-001.ProtocolAM1.14December 2015',\n",
              "       'Study Protocol: CGAP (1) Protocol Addendum',\n",
              "       'Study Protocol: CGAP Protocol',\n",
              "       'Study Protocol: Changes to protocol',\n",
              "       'Study Protocol: CIP version 1.0',\n",
              "       'Study Protocol: CIP version 3.0',\n",
              "       'Study Protocol: CIP version 4.0',\n",
              "       'Study Protocol: CIP version 5.0',\n",
              "       'Study Protocol: Clinical Investigation Plan',\n",
              "       'Study Protocol: Clinical Investigation Plan Note to File',\n",
              "       'Study Protocol: Clinical Investigation Plan Version 4',\n",
              "       'Study Protocol: Clinical Investigation Plan Version 5',\n",
              "       'Study Protocol: Clinical Investigation Plan Version 6',\n",
              "       'Study Protocol: Clinical Protocol ORA-D N01',\n",
              "       'Study Protocol: Clinical Study Protocol',\n",
              "       'Study Protocol: Clinical Study Protocol Addendum Version (1)',\n",
              "       'Study Protocol: Clinical Study Protocol Amendment Version (a)',\n",
              "       'Study Protocol: Clinical Trial Protocol (including amendments 1-4)',\n",
              "       'Study Protocol: Consort',\n",
              "       'Study Protocol: Consort Diagram and tables',\n",
              "       'Study Protocol: Cover letter EC',\n",
              "       'Study Protocol: COWS questionnaire and Brief Substance Cravings scale',\n",
              "       'Study Protocol: EC application', 'Study Protocol: EC Form',\n",
              "       'Study Protocol: Effects of Simethicone and Multilac Baby in Infantile Colic',\n",
              "       'Study Protocol: Enrolment _log', 'Study Protocol: EpxCogScreen',\n",
              "       'Study Protocol: Ethical Clearance', 'Study Protocol: EU protocol',\n",
              "       'Study Protocol: European Cohort',\n",
              "       'Study Protocol: Expanded access protocol',\n",
              "       'Study Protocol: Figures and tables', 'Study Protocol: Final',\n",
              "       'Study Protocol: Final Protocol', 'Study Protocol: Full protocol',\n",
              "       'Study Protocol: Full Study Protocol Updated 21/09/2020',\n",
              "       'Study Protocol: GBGE (a) Protocol',\n",
              "       'Study Protocol: GBGE (b) Protocol',\n",
              "       'Study Protocol: General Protocols',\n",
              "       'Study Protocol: GSEA Protocol',\n",
              "       'Study Protocol: GSEA Protocol (a)',\n",
              "       'Study Protocol: Hydroxychloroquine and Azithromycin arms',\n",
              "       'Study Protocol: HYPNOANALGESIA IN PEDIATRIC DERMATOLOGICAL SURGERY',\n",
              "       'Study Protocol: I1F-MC-RHCD(2.1) Clinical Protocol Addendum',\n",
              "       'Study Protocol: ID_NCT04184336',\n",
              "       'Study Protocol: Image Acquisition - CCF',\n",
              "       'Study Protocol: IMPAACT 2010 Protocol V2.0_Letter of Amendment 1',\n",
              "       'Study Protocol: IMPAACT 2010 Protocol V2.0_Letter of Amendment 2',\n",
              "       'Study Protocol: IMPAACT 2010 Protocol V2.0_Letter of Amendment 3',\n",
              "       'Study Protocol: India specific protocol',\n",
              "       'Study Protocol: IRB Approval Letter',\n",
              "       'Study Protocol: JPBL 05 Protocol (a)_Redacted',\n",
              "       'Study Protocol: JPBL 05 Protocol (b)_Redacted',\n",
              "       'Study Protocol: JPBL 05 Protocol (c)_Redacted',\n",
              "       'Study Protocol: JPBL 05 Protocol (d)_Redacted',\n",
              "       'Study Protocol: JPBL 05 Protocol_Redacted',\n",
              "       'Study Protocol: JPBM Protocol',\n",
              "       'Study Protocol: JPBM Protocol (a)',\n",
              "       'Study Protocol: JPBM Protocol (b)',\n",
              "       'Study Protocol: LAHX 05 Protocol',\n",
              "       'Study Protocol: LAHX Protocol Addendum (1.1)',\n",
              "       'Study Protocol: Last Amendment N 4 - Description and Approval Letter',\n",
              "       'Study Protocol: Letter of Amendment 1',\n",
              "       'Study Protocol: Letter of Amendment #1',\n",
              "       'Study Protocol: Letter of Amendment 2',\n",
              "       'Study Protocol: Letter of Amendment #2',\n",
              "       'Study Protocol: Letter of Amendment #3',\n",
              "       'Study Protocol: Letter of Amendment to Study Protocol Version 3.1',\n",
              "       'Study Protocol: List of Publications',\n",
              "       'Study Protocol: Local Protocols',\n",
              "       'Study Protocol: Lopinavir-Ritonavir arm',\n",
              "       'Study Protocol: main document', 'Study Protocol: Master-Protocol',\n",
              "       'Study Protocol: MEDEA Protocol for AF patients',\n",
              "       'Study Protocol: MEDEA Protocol for Asthmatic Children',\n",
              "       'Study Protocol: Meeting_minutes_template',\n",
              "       'Study Protocol: NCT02201277 References',\n",
              "       'Study Protocol: New protocol', 'Study Protocol: NICHE-AA',\n",
              "       'Study Protocol: NICHE-AML', 'Study Protocol: NICHE-Hemophilia',\n",
              "       'Study Protocol: NICHE-MM',\n",
              "       'Study Protocol: Non-substantial amendment 1 dated 8 Mar 17',\n",
              "       'Study Protocol: original', 'Study Protocol: Original Protocol',\n",
              "       'Study Protocol: Part 1', 'Study Protocol: Part 2',\n",
              "       'Study Protocol: Pharmaceutical care',\n",
              "       'Study Protocol: Primary VAP Prevention Study',\n",
              "       'Study Protocol: Protocol 17-34 TN',\n",
              "       'Study Protocol: Protocol 17-96', 'Study Protocol: Protocol (a)',\n",
              "       'Study Protocol: Protocol addendum',\n",
              "       'Study Protocol: Protocol Addendum',\n",
              "       'Study Protocol: Protocol Addendum I4T-MC-JVCY(9)',\n",
              "       'Study Protocol: Protocol Amendment 1',\n",
              "       'Study Protocol: Protocol Amendment 2',\n",
              "       'Study Protocol: Protocol Amendment 2 Signature page',\n",
              "       'Study Protocol: Protocol Amendment 3',\n",
              "       'Study Protocol: Protocol Amendment 4',\n",
              "       'Study Protocol: Protocol Amendment 5',\n",
              "       'Study Protocol: Protocol Amendment 6',\n",
              "       'Study Protocol: Protocol Amendment 7',\n",
              "       'Study Protocol: Protocol Amendment (a)',\n",
              "       'Study Protocol: Protocol Amendment (b)',\n",
              "       'Study Protocol: Protocol Amendment (c)',\n",
              "       'Study Protocol: Protocol Amendment (d)',\n",
              "       'Study Protocol: Protocol (b)', 'Study Protocol: Protocol (e)',\n",
              "       'Study Protocol: Protocol excluding mainland China',\n",
              "       'Study Protocol: Protocol I4T-MC-JVCY(f)',\n",
              "       'Study Protocol: Protocol Original',\n",
              "       'Study Protocol: Protocol specific for mainland China',\n",
              "       'Study Protocol: Protocol v1.0',\n",
              "       'Study Protocol: Protocol V1.0 01Dec2016',\n",
              "       'Study Protocol: Protocol V2.0 04May2017',\n",
              "       'Study Protocol: Protocol V2.0_Letter of Amendment 1',\n",
              "       'Study Protocol: Protocol V2.0_Letter of Amendment 2',\n",
              "       'Study Protocol: Protocol V2.0_Letter of Amendment 3',\n",
              "       'Study Protocol: Protocol V2.0_Letter of Amendment 4',\n",
              "       'Study Protocol: Protocol_v.3.0_25.12.2107_Germany',\n",
              "       'Study Protocol: Protocol V5.0',\n",
              "       'Study Protocol: Protocol V5.0_Letter of Amendment 1',\n",
              "       'Study Protocol: Protocol Version 3.1',\n",
              "       'Study Protocol: Protocol Version 4 dated 8 Mar 2017',\n",
              "       'Study Protocol: Redacted Protocol Part 1',\n",
              "       'Study Protocol: Redacted Protocol Part 2',\n",
              "       'Study Protocol: Redacted Protocol Part 3',\n",
              "       'Study Protocol: Revision C', 'Study Protocol: Revision D',\n",
              "       'Study Protocol: Revision E', 'Study Protocol: Revision F',\n",
              "       'Study Protocol: Revision G', 'Study Protocol: Revision H',\n",
              "       'Study Protocol: Revision I', 'Study Protocol: Rev K',\n",
              "       'Study Protocol: Rev M',\n",
              "       'Study Protocol: RHCD 05 Protocol (b)_Redacted',\n",
              "       'Study Protocol: Screening_log',\n",
              "       'Study Protocol: Second Sub-Protocol',\n",
              "       'Study Protocol: Site-specific VAP Treatment Sub-study',\n",
              "       'Study Protocol: SP OM85adenoid',\n",
              "       'Study Protocol, Statistical Analysis Plan, and Informed Consent Form: Consent form',\n",
              "       'Study Protocol, Statistical Analysis Plan, and Informed Consent Form: Consent Form',\n",
              "       'Study Protocol, Statistical Analysis Plan, and Informed Consent Form: English version 2020 NCT02957305',\n",
              "       'Study Protocol, Statistical Analysis Plan, and Informed Consent Form: Indonesia specific protocol + ICF',\n",
              "       'Study Protocol, Statistical Analysis Plan, and Informed Consent Form: Informed Consent Form',\n",
              "       'Study Protocol, Statistical Analysis Plan, and Informed Consent Form: Protocol after Amendment 2',\n",
              "       'Study Protocol, Statistical Analysis Plan, and Informed Consent Form: Protocol after Amendment 2.1',\n",
              "       'Study Protocol, Statistical Analysis Plan, and Informed Consent Form: Protocol and Analysis Plan',\n",
              "       'Study Protocol, Statistical Analysis Plan, and Informed Consent Form: Protocol and Consent and SAP',\n",
              "       'Study Protocol, Statistical Analysis Plan, and Informed Consent Form: Protocol and statistical analysis',\n",
              "       'Study Protocol, Statistical Analysis Plan, and Informed Consent Form: Protocol in force at beginning of enrollment',\n",
              "       'Study Protocol, Statistical Analysis Plan, and Informed Consent Form: Protocol_v.7.0_28.09.2017_Russia + SAP + ICF',\n",
              "       'Study Protocol, Statistical Analysis Plan, and Informed Consent Form: Study Protocol',\n",
              "       'Study Protocol, Statistical Analysis Plan, and Informed Consent Form: Study protocol and statistical Analysis Plan',\n",
              "       'Study Protocol, Statistical Analysis Plan, and Informed Consent Form: Study Protocol and Statistical Analysis Plan',\n",
              "       'Study Protocol, Statistical Analysis Plan, and Informed Consent Form: Study Protocole, SAP and ICF',\n",
              "       'Study Protocol, Statistical Analysis Plan, and Informed Consent Form: Study protocol, Statistical Analysis',\n",
              "       'Study Protocol, Statistical Analysis Plan, and Informed Consent Form: Study Protocol, Statistical Analysis Plan',\n",
              "       'Study Protocol, Statistical Analysis Plan, and Informed Consent Form: SUM OM85adenoid',\n",
              "       'Study Protocol: Study ACP-103-054 protocol (NCT03999918)',\n",
              "       'Study Protocol: Study ACP-103-059 protocol (NCT03968159)',\n",
              "       'Study Protocol: Study protocol', 'Study Protocol: Study Protocol',\n",
              "       'Study Protocol: Study Protocol (a)',\n",
              "       'Study Protocol: Study Protocol Addendum',\n",
              "       'Study Protocol: Study Protocol (approved November 20, 2020)',\n",
              "       'Study Protocol: Study Protocol Chart',\n",
              "       'Study Protocol: Study Protocol (d)',\n",
              "       'Study Protocol: Study Protocol Summary Abstract',\n",
              "       'Study Protocol: Study Protocol v.1.0',\n",
              "       'Study Protocol: Study Protocol v.2.0',\n",
              "       'Study Protocol: Study Protocol without Cover letter wo Application wo Form',\n",
              "       'Study Protocol: Summary of Protocol Changes',\n",
              "       'Study Protocol: Supplementary assessment points for table 1',\n",
              "       'Study Protocol: Telephone_Contact_Log',\n",
              "       'Study Protocol: US and Canada', 'Study Protocol: US only',\n",
              "       'Study Protocol: US protocol', 'Study Protocol: Version 1',\n",
              "       'Study Protocol: Version 1.0', 'Study Protocol: Version 2',\n",
              "       'Study Protocol: Version 20', 'Study Protocol: Version 2.0',\n",
              "       'Study Protocol: Version 3', 'Study Protocol: Version 3.0',\n",
              "       'Study Protocol: Version 7', 'Study Protocol: Version 8',\n",
              "       'Study Protocol: Version for all countries except Germany',\n",
              "       'Informed Consent Form: Original Protocol',\n",
              "       'Study Protocol: Withdrawal_log',\n",
              "       'Informed Consent Form: Verbal Consent - Phone Protocol',\n",
              "       'Study Protocol: 38705 SSc Registry Trial',\n",
              "       'Study Protocol: 40212 (12 patients)',\n",
              "       'Study Protocol: 60 months amendment',\n",
              "       'Study Protocol: 72 months amendment',\n",
              "       'Study Protocol: ABI-007-NSCL-003.OriginalProtocolRedacted.27September2013',\n",
              "       'Study Protocol: ABI-007-NSCL-003_protocol_AM1_Redacted 28 October 2014',\n",
              "       'Study Protocol: ABI-007-NSCL-003_protocol_AM2_Redacted.27May2015',\n",
              "       'Study Protocol: ABI-007-NSCL-003_protocol_AM3_Redacted.13March2017',\n",
              "       'Study Protocol: ABI-007-NSCL-004.OriginalProtocolRedacted11Aug2014',\n",
              "       'Study Protocol: ABI-007-NSCL-004ProtocolAm1RedactedFinal.12Jan 2015',\n",
              "       'Study Protocol: ABI-007-NSCL-005_Original_Redacted.06 March2014',\n",
              "       'Study Protocol: ABI-007-NSCL-005_PA1_Redacted.09April2014',\n",
              "       'Study Protocol: ABI-007-NSCL-005_PA2_Redacted.05 December 2014',\n",
              "       'Study Protocol: ABI-007-NSCL-005_PA3_Redacted.17 March 2016',\n",
              "       'Study Protocol: ABI-007-NSCL-006_Protocol_AM4_Redacted.31May2016',\n",
              "       'Study Protocol: ABI_007-NSCL_Protocol_AM1_Redacted_24 June 2014',\n",
              "       'Study Protocol: ABI_007-NSCL_Protocol_AM2_Redacted_18July2014',\n",
              "       'Study Protocol: ABI_007-NSCL_Protocol_AM3_Redacted_14 April 2016',\n",
              "       'Study Protocol: ABI_007-NSCL_Protocol_AM5_Redacted_09December 2016',\n",
              "       'Study Protocol: ABI_007-NSCL_Protocol_Original_Redacted_29May2014',\n",
              "       'Study Protocol: AFT with cover page',\n",
              "       'Study Protocol: AMAN 05 ME2 Protocol Addenda (5)_Redacted',\n",
              "       'Study Protocol: AMAN 05 Protocol (a)_Redacted',\n",
              "       'Study Protocol: Amemdment 2', 'Study Protocol: Amemdment 3',\n",
              "       'Study Protocol: amendment', 'Study Protocol: Amendment',\n",
              "       'Study Protocol: Amendment1',\n",
              "       'Study Protocol: Amendment 10 (Version 9.0)',\n",
              "       'Study Protocol: Amendment2', 'Study Protocol: Amendment 2.1',\n",
              "       'Study Protocol: Amendment3', 'Study Protocol: Amendment 3.1',\n",
              "       'Study Protocol: Amendment4',\n",
              "       'Study Protocol: Amendment 5 (Amendment 4 not implemented)',\n",
              "       'Study Protocol: Amendment 7', 'Study Protocol: Amendment 8',\n",
              "       'Study Protocol: Amendment 9', 'Study Protocol: Amendment history',\n",
              "       'Study Protocol: Amendment Summary of Changes',\n",
              "       'Study Protocol and Informed Consent Form: Haiti specific protocol + ICF',\n",
              "       'Study Protocol and Informed Consent Form: IMPAACT 2010 Protocol V2.0',\n",
              "       'Study Protocol and Informed Consent Form: Inform consent',\n",
              "       'Study Protocol and Informed Consent Form: Informed Consent Form',\n",
              "       'Study Protocol and Informed Consent Form: Papua New Guinea specific protocol + ICF',\n",
              "       'Study Protocol and Informed Consent Form: Protocol V2.0'],\n",
              "      dtype=object)"
            ]
          },
          "metadata": {},
          "execution_count": 6
        }
      ]
    },
    {
      "cell_type": "code",
      "source": [
        "df['document_type'].nunique()"
      ],
      "metadata": {
        "colab": {
          "base_uri": "https://localhost:8080/"
        },
        "id": "0U9v3RO6idtW",
        "outputId": "e957d9b8-10ae-42a9-c721-b6dc30275ebd"
      },
      "execution_count": null,
      "outputs": [
        {
          "output_type": "execute_result",
          "data": {
            "text/plain": [
              "363"
            ]
          },
          "metadata": {},
          "execution_count": 7
        }
      ]
    },
    {
      "cell_type": "code",
      "source": [
        "df['document_type_new'] = df['document_type'].str.split(':').str[0]"
      ],
      "metadata": {
        "id": "KMKO9-JahccC"
      },
      "execution_count": null,
      "outputs": []
    },
    {
      "cell_type": "code",
      "source": [
        "df['document_type_new']"
      ],
      "metadata": {
        "colab": {
          "base_uri": "https://localhost:8080/"
        },
        "id": "WvBMSmSGgVH0",
        "outputId": "fbece563-766f-4b90-b37a-ffec9216cbea"
      },
      "execution_count": null,
      "outputs": [
        {
          "output_type": "execute_result",
          "data": {
            "text/plain": [
              "0        Study Protocol and Statistical Analysis Plan\n",
              "1        Study Protocol and Statistical Analysis Plan\n",
              "2        Study Protocol and Statistical Analysis Plan\n",
              "3        Study Protocol and Statistical Analysis Plan\n",
              "4                                      Study Protocol\n",
              "                             ...                     \n",
              "17064    Study Protocol and Statistical Analysis Plan\n",
              "17065    Study Protocol and Statistical Analysis Plan\n",
              "17066    Study Protocol and Statistical Analysis Plan\n",
              "17067    Study Protocol and Statistical Analysis Plan\n",
              "17068    Study Protocol and Statistical Analysis Plan\n",
              "Name: document_type_new, Length: 17069, dtype: object"
            ]
          },
          "metadata": {},
          "execution_count": 9
        }
      ]
    },
    {
      "cell_type": "code",
      "source": [
        "df['document_type_new'].unique()"
      ],
      "metadata": {
        "colab": {
          "base_uri": "https://localhost:8080/"
        },
        "id": "oosWvJ1whviv",
        "outputId": "6554b6e8-5813-4499-f087-6ed76939ca45"
      },
      "execution_count": null,
      "outputs": [
        {
          "output_type": "execute_result",
          "data": {
            "text/plain": [
              "array(['Study Protocol and Statistical Analysis Plan', 'Study Protocol',\n",
              "       'Study Protocol, Statistical Analysis Plan, and Informed Consent Form',\n",
              "       'Study Protocol and Informed Consent Form',\n",
              "       'Informed Consent Form'], dtype=object)"
            ]
          },
          "metadata": {},
          "execution_count": 10
        }
      ]
    },
    {
      "cell_type": "markdown",
      "source": [
        "* 5 unique types of document"
      ],
      "metadata": {
        "id": "yvHSiAn_m_VL"
      }
    },
    {
      "cell_type": "code",
      "source": [
        "df['document_type_new'].nunique()"
      ],
      "metadata": {
        "colab": {
          "base_uri": "https://localhost:8080/"
        },
        "id": "nnTNUoFIm66t",
        "outputId": "c5af030d-9621-4cb2-e59c-2d613833ffc3"
      },
      "execution_count": null,
      "outputs": [
        {
          "output_type": "execute_result",
          "data": {
            "text/plain": [
              "5"
            ]
          },
          "metadata": {},
          "execution_count": 11
        }
      ]
    },
    {
      "cell_type": "code",
      "source": [
        "df"
      ],
      "metadata": {
        "id": "zwkK-D4AiJA0"
      },
      "execution_count": null,
      "outputs": []
    },
    {
      "cell_type": "code",
      "source": [
        "df['name'].nunique()"
      ],
      "metadata": {
        "colab": {
          "base_uri": "https://localhost:8080/"
        },
        "id": "8s8mLRvrW7n7",
        "outputId": "90a72170-8a7f-442c-becd-5c3f8cd701db"
      },
      "execution_count": null,
      "outputs": [
        {
          "output_type": "execute_result",
          "data": {
            "text/plain": [
              "13210"
            ]
          },
          "metadata": {},
          "execution_count": 13
        }
      ]
    },
    {
      "cell_type": "code",
      "source": [
        "df['nameupper'] = df['name'].str.upper()"
      ],
      "metadata": {
        "id": "EcOzT3LJW-pn"
      },
      "execution_count": null,
      "outputs": []
    },
    {
      "cell_type": "markdown",
      "source": [
        "* Number of unique disease"
      ],
      "metadata": {
        "id": "xhefwNgocAlI"
      }
    },
    {
      "cell_type": "code",
      "source": [
        "df['nameupper'].nunique()"
      ],
      "metadata": {
        "colab": {
          "base_uri": "https://localhost:8080/"
        },
        "id": "sQrT9TbOXCpK",
        "outputId": "fc2f0532-456a-492c-9ba7-ae0425ca302e"
      },
      "execution_count": null,
      "outputs": [
        {
          "output_type": "execute_result",
          "data": {
            "text/plain": [
              "13076"
            ]
          },
          "metadata": {},
          "execution_count": 15
        }
      ]
    },
    {
      "cell_type": "code",
      "source": [
        "df['namelower'] = df['name'].str.lower()"
      ],
      "metadata": {
        "id": "phcofkUcX8Ei"
      },
      "execution_count": null,
      "outputs": []
    },
    {
      "cell_type": "code",
      "source": [
        "df"
      ],
      "metadata": {
        "id": "PXM4ZR3QeFMO"
      },
      "execution_count": null,
      "outputs": []
    },
    {
      "cell_type": "markdown",
      "source": [
        "#Studing top 10 conditions in depth"
      ],
      "metadata": {
        "id": "vz3BQ892wvVE"
      }
    },
    {
      "cell_type": "markdown",
      "source": [
        "## Lymphoma"
      ],
      "metadata": {
        "id": "okLRrMAhpQBm"
      }
    },
    {
      "cell_type": "code",
      "source": [
        "lymphoma = df[df['namelower'].str.contains('lymphoma')]\n",
        "lymphoma_df = pd.DataFrame(lymphoma, columns = ['totalcount', 'namelower','document_type'])"
      ],
      "metadata": {
        "id": "K5SoCuTNeLkn"
      },
      "execution_count": null,
      "outputs": []
    },
    {
      "cell_type": "code",
      "source": [
        "Total = lymphoma_df['totalcount'].sum()\n",
        "print (Total)"
      ],
      "metadata": {
        "colab": {
          "base_uri": "https://localhost:8080/"
        },
        "id": "FXMpS0LUeOFV",
        "outputId": "31f4bd37-6013-4579-cace-c52a50ac123f"
      },
      "execution_count": null,
      "outputs": [
        {
          "output_type": "stream",
          "name": "stdout",
          "text": [
            "1112\n"
          ]
        }
      ]
    },
    {
      "cell_type": "code",
      "source": [
        "lymphoma_df.shape"
      ],
      "metadata": {
        "colab": {
          "base_uri": "https://localhost:8080/"
        },
        "id": "n8davwTXeQx9",
        "outputId": "6fbd6926-7a08-41fc-85dc-1306b27a364f"
      },
      "execution_count": null,
      "outputs": [
        {
          "output_type": "execute_result",
          "data": {
            "text/plain": [
              "(544, 3)"
            ]
          },
          "metadata": {},
          "execution_count": 20
        }
      ]
    },
    {
      "cell_type": "markdown",
      "source": [
        "##Cancer"
      ],
      "metadata": {
        "id": "gL6en0jVq_pJ"
      }
    },
    {
      "cell_type": "code",
      "source": [
        "cancer = df[df['namelower'].str.contains('cancer')]\n",
        "cancer_df = pd.DataFrame(cancer, columns = ['totalcount', 'namelower','document_type'])"
      ],
      "metadata": {
        "id": "hsdc4Xs-rBRm"
      },
      "execution_count": null,
      "outputs": []
    },
    {
      "cell_type": "code",
      "source": [
        "Total = cancer_df['totalcount'].sum()\n",
        "print (Total)"
      ],
      "metadata": {
        "colab": {
          "base_uri": "https://localhost:8080/"
        },
        "id": "NwyU06T4rL8U",
        "outputId": "54b779ae-15fd-426f-82c4-71b442014586"
      },
      "execution_count": null,
      "outputs": [
        {
          "output_type": "stream",
          "name": "stdout",
          "text": [
            "3038\n"
          ]
        }
      ]
    },
    {
      "cell_type": "code",
      "source": [
        "cancer_df.shape"
      ],
      "metadata": {
        "colab": {
          "base_uri": "https://localhost:8080/"
        },
        "id": "Ljs2PUrhrN6J",
        "outputId": "46fceae6-456c-49c5-b3f7-634a4ac1bbf0"
      },
      "execution_count": null,
      "outputs": [
        {
          "output_type": "execute_result",
          "data": {
            "text/plain": [
              "(1043, 3)"
            ]
          },
          "metadata": {},
          "execution_count": 24
        }
      ]
    },
    {
      "cell_type": "markdown",
      "source": [
        "##Pain"
      ],
      "metadata": {
        "id": "rjx8OXzRrQnz"
      }
    },
    {
      "cell_type": "code",
      "source": [
        "pain = df[df['namelower'].str.contains('pain')]\n",
        "pain_df = pd.DataFrame(pain, columns = ['totalcount', 'namelower','document_type'])"
      ],
      "metadata": {
        "id": "w8QBvbXerbfn"
      },
      "execution_count": null,
      "outputs": []
    },
    {
      "cell_type": "code",
      "source": [
        "Total = pain_df['totalcount'].sum()\n",
        "print (Total)"
      ],
      "metadata": {
        "colab": {
          "base_uri": "https://localhost:8080/"
        },
        "id": "8h9p2hizredA",
        "outputId": "f420c5bb-fefb-4dd7-e620-8f7e3012521b"
      },
      "execution_count": null,
      "outputs": [
        {
          "output_type": "stream",
          "name": "stdout",
          "text": [
            "947\n"
          ]
        }
      ]
    },
    {
      "cell_type": "code",
      "source": [
        "pain_df.shape"
      ],
      "metadata": {
        "colab": {
          "base_uri": "https://localhost:8080/"
        },
        "id": "u5EMA5S9rftM",
        "outputId": "a2595967-1192-4b76-a7e9-fe7e012b5d40"
      },
      "execution_count": null,
      "outputs": [
        {
          "output_type": "execute_result",
          "data": {
            "text/plain": [
              "(262, 3)"
            ]
          },
          "metadata": {},
          "execution_count": 27
        }
      ]
    },
    {
      "cell_type": "markdown",
      "source": [
        "##Diabetes"
      ],
      "metadata": {
        "id": "Sbujzswir4L5"
      }
    },
    {
      "cell_type": "code",
      "source": [
        "diabetes = df[df['namelower'].str.contains('diabetes')]\n",
        "\n",
        "diabetes_df = pd.DataFrame(diabetes, columns = ['totalcount', 'namelower','document_type'])"
      ],
      "metadata": {
        "id": "3OojFL_Lr-J_"
      },
      "execution_count": null,
      "outputs": []
    },
    {
      "cell_type": "code",
      "source": [
        "Total = diabetes_df['totalcount'].sum()\n",
        "print (Total)"
      ],
      "metadata": {
        "id": "SOS-z8OOs1qd"
      },
      "execution_count": null,
      "outputs": []
    },
    {
      "cell_type": "code",
      "source": [
        "diabetes_df.shape"
      ],
      "metadata": {
        "colab": {
          "base_uri": "https://localhost:8080/"
        },
        "id": "p2iu2RbVtAcg",
        "outputId": "21c9e1a3-d2eb-4510-8596-8b8eb4ed2fb6"
      },
      "execution_count": null,
      "outputs": [
        {
          "output_type": "execute_result",
          "data": {
            "text/plain": [
              "(129, 3)"
            ]
          },
          "metadata": {},
          "execution_count": 31
        }
      ]
    },
    {
      "cell_type": "markdown",
      "source": [
        "##Arthritis"
      ],
      "metadata": {
        "id": "aUttQxl0sObI"
      }
    },
    {
      "cell_type": "code",
      "source": [
        "arthritis = df[df['namelower'].str.contains('arthritis')]\n",
        "arthritis_df = pd.DataFrame(arthritis, columns = ['totalcount', 'namelower','document_type'])"
      ],
      "metadata": {
        "id": "URvpYUfCr_Wc"
      },
      "execution_count": null,
      "outputs": []
    },
    {
      "cell_type": "code",
      "source": [
        "Total = arthritis_df['totalcount'].sum()\n",
        "print (Total)"
      ],
      "metadata": {
        "colab": {
          "base_uri": "https://localhost:8080/"
        },
        "id": "ErZLMQHps3Yf",
        "outputId": "00d732e9-d331-4f13-8a14-2effbee85448"
      },
      "execution_count": null,
      "outputs": [
        {
          "output_type": "stream",
          "name": "stdout",
          "text": [
            "516\n"
          ]
        }
      ]
    },
    {
      "cell_type": "code",
      "source": [
        "arthritis_df.shape"
      ],
      "metadata": {
        "colab": {
          "base_uri": "https://localhost:8080/"
        },
        "id": "Ul0_RzwjtCNc",
        "outputId": "f2a9bb41-6de1-4c0d-8bb8-40ed0e0f4b88"
      },
      "execution_count": null,
      "outputs": [
        {
          "output_type": "execute_result",
          "data": {
            "text/plain": [
              "(123, 3)"
            ]
          },
          "metadata": {},
          "execution_count": 34
        }
      ]
    },
    {
      "cell_type": "markdown",
      "source": [
        "##HIV"
      ],
      "metadata": {
        "id": "57ZKCBcQ0cj8"
      }
    },
    {
      "cell_type": "code",
      "source": [
        "hiv = df[df['namelower'].str.contains('hiv')]\n",
        "hiv_df = pd.DataFrame(hiv, columns = ['totalcount', 'namelower','document_type'])"
      ],
      "metadata": {
        "id": "JXgI8NAasEhF"
      },
      "execution_count": null,
      "outputs": []
    },
    {
      "cell_type": "code",
      "source": [
        "Total = hiv_df['totalcount'].sum()\n",
        "print (Total)"
      ],
      "metadata": {
        "colab": {
          "base_uri": "https://localhost:8080/"
        },
        "id": "pkK8EN3ps5B9",
        "outputId": "7993eb1d-b75d-40c6-d1d8-82332fbc5bda"
      },
      "execution_count": null,
      "outputs": [
        {
          "output_type": "stream",
          "name": "stdout",
          "text": [
            "431\n"
          ]
        }
      ]
    },
    {
      "cell_type": "code",
      "source": [
        "hiv_df.shape"
      ],
      "metadata": {
        "colab": {
          "base_uri": "https://localhost:8080/"
        },
        "id": "oskqLFtItDXu",
        "outputId": "215b9e59-fc5c-4341-95f9-6add51809224"
      },
      "execution_count": null,
      "outputs": [
        {
          "output_type": "execute_result",
          "data": {
            "text/plain": [
              "(94, 3)"
            ]
          },
          "metadata": {},
          "execution_count": 37
        }
      ]
    },
    {
      "cell_type": "markdown",
      "source": [
        "##Obesity"
      ],
      "metadata": {
        "id": "yPj5JwZNsZJV"
      }
    },
    {
      "cell_type": "code",
      "source": [
        "obesity = df[df['namelower'].str.contains('obesity')]\n",
        "obesity_df = pd.DataFrame(obesity, columns = ['totalcount', 'namelower','document_type'])"
      ],
      "metadata": {
        "id": "h6A_TfBasFQO"
      },
      "execution_count": null,
      "outputs": []
    },
    {
      "cell_type": "code",
      "source": [
        "Total = obesity_df['totalcount'].sum()\n",
        "print (Total)"
      ],
      "metadata": {
        "colab": {
          "base_uri": "https://localhost:8080/"
        },
        "id": "kP9pCyCvs6Zy",
        "outputId": "56caf2d9-1310-4c13-fdf0-625ec7075cd6"
      },
      "execution_count": null,
      "outputs": [
        {
          "output_type": "stream",
          "name": "stdout",
          "text": [
            "373\n"
          ]
        }
      ]
    },
    {
      "cell_type": "code",
      "source": [
        "obesity_df.shape"
      ],
      "metadata": {
        "colab": {
          "base_uri": "https://localhost:8080/"
        },
        "id": "oYVcEY2StErW",
        "outputId": "b9d48b64-afd5-47c8-a225-c55fc5684f8b"
      },
      "execution_count": null,
      "outputs": [
        {
          "output_type": "execute_result",
          "data": {
            "text/plain": [
              "(56, 3)"
            ]
          },
          "metadata": {},
          "execution_count": 42
        }
      ]
    },
    {
      "cell_type": "markdown",
      "source": [
        "##Depression"
      ],
      "metadata": {
        "id": "NzAzTS9lsdhr"
      }
    },
    {
      "cell_type": "code",
      "source": [
        "depression = df[df['namelower'].str.contains('depression')]\n",
        "\n",
        "depression_df = pd.DataFrame(depression, columns = ['totalcount', 'namelower','document_type'])"
      ],
      "metadata": {
        "id": "wGovDw0NsGUt"
      },
      "execution_count": null,
      "outputs": []
    },
    {
      "cell_type": "code",
      "source": [
        "Total = depression_df['totalcount'].sum()\n",
        "print (Total)"
      ],
      "metadata": {
        "colab": {
          "base_uri": "https://localhost:8080/"
        },
        "id": "X57XsVJks7gr",
        "outputId": "00484784-4dda-4139-ede0-fbe074ef253f"
      },
      "execution_count": null,
      "outputs": [
        {
          "output_type": "stream",
          "name": "stdout",
          "text": [
            "306\n"
          ]
        }
      ]
    },
    {
      "cell_type": "code",
      "source": [
        "depression_df.shape"
      ],
      "metadata": {
        "colab": {
          "base_uri": "https://localhost:8080/"
        },
        "id": "2fK3-a6VtF0_",
        "outputId": "ff948125-deb3-430a-ade4-b6d10d404dfc"
      },
      "execution_count": null,
      "outputs": [
        {
          "output_type": "execute_result",
          "data": {
            "text/plain": [
              "(68, 3)"
            ]
          },
          "metadata": {},
          "execution_count": 45
        }
      ]
    },
    {
      "cell_type": "markdown",
      "source": [
        "##Myeloma"
      ],
      "metadata": {
        "id": "TDjsTbWqsglJ"
      }
    },
    {
      "cell_type": "code",
      "source": [
        "myeloma = df[df['namelower'].str.contains('myeloma')]\n",
        "\n",
        "myeloma_df = pd.DataFrame(myeloma, columns = ['totalcount', 'namelower','document_type'])"
      ],
      "metadata": {
        "id": "wbWlb9aJsG5y"
      },
      "execution_count": null,
      "outputs": []
    },
    {
      "cell_type": "code",
      "source": [
        "Total = myeloma_df['totalcount'].sum()\n",
        "print (Total)"
      ],
      "metadata": {
        "colab": {
          "base_uri": "https://localhost:8080/"
        },
        "id": "NyRh7rnxs8wO",
        "outputId": "a1885010-6b4d-47f7-d0c7-15775586c853"
      },
      "execution_count": null,
      "outputs": [
        {
          "output_type": "stream",
          "name": "stdout",
          "text": [
            "287\n"
          ]
        }
      ]
    },
    {
      "cell_type": "code",
      "source": [
        "myeloma_df.shape"
      ],
      "metadata": {
        "colab": {
          "base_uri": "https://localhost:8080/"
        },
        "id": "cyhnV1yltHCc",
        "outputId": "d2b07586-8684-4a7a-e6b4-32e87629cbf9"
      },
      "execution_count": null,
      "outputs": [
        {
          "output_type": "execute_result",
          "data": {
            "text/plain": [
              "(70, 3)"
            ]
          },
          "metadata": {},
          "execution_count": 48
        }
      ]
    },
    {
      "cell_type": "markdown",
      "source": [
        "##Stroke"
      ],
      "metadata": {
        "id": "Vz5RGDqEslZS"
      }
    },
    {
      "cell_type": "code",
      "source": [
        "stroke = df[df['namelower'].str.contains('stroke')]\n",
        "stroke_df = pd.DataFrame(stroke, columns = ['totalcount', 'namelower','document_type'])"
      ],
      "metadata": {
        "id": "8990ttESsHar"
      },
      "execution_count": null,
      "outputs": []
    },
    {
      "cell_type": "code",
      "source": [
        "Total = stroke_df['totalcount'].sum()\n",
        "print (Total)"
      ],
      "metadata": {
        "colab": {
          "base_uri": "https://localhost:8080/"
        },
        "id": "wVSuzmvUs90X",
        "outputId": "24dce966-b639-4319-bc5b-34e3f8826f5d"
      },
      "execution_count": null,
      "outputs": [
        {
          "output_type": "stream",
          "name": "stdout",
          "text": [
            "281\n"
          ]
        }
      ]
    },
    {
      "cell_type": "code",
      "source": [
        "stroke_df.shape"
      ],
      "metadata": {
        "colab": {
          "base_uri": "https://localhost:8080/"
        },
        "id": "Yld6yjiNtIR_",
        "outputId": "16bcdc36-abf7-42c6-8a59-22d6afa8ea1a"
      },
      "execution_count": null,
      "outputs": [
        {
          "output_type": "execute_result",
          "data": {
            "text/plain": [
              "(52, 3)"
            ]
          },
          "metadata": {},
          "execution_count": 53
        }
      ]
    },
    {
      "cell_type": "code",
      "source": [
        "frames= [stroke_df, myeloma_df, depression_df, obesity_df, hiv_df, arthritis_df, diabetes_df, pain_df, cancer_df, lymphoma_df]  \n",
        "result= pd.concat(frames)\n",
        "display(result)"
      ],
      "metadata": {
        "colab": {
          "base_uri": "https://localhost:8080/",
          "height": 424
        },
        "id": "_HQdfkW5zrd2",
        "outputId": "cfd35ee5-9442-4f63-e4a7-4ed80b33bcb0"
      },
      "execution_count": null,
      "outputs": [
        {
          "output_type": "display_data",
          "data": {
            "text/plain": [
              "       totalcount                                          namelower  \\\n",
              "7             106                                             stroke   \n",
              "38             58                                             stroke   \n",
              "288            14                                    ischemic stroke   \n",
              "346            13                                    ischemic stroke   \n",
              "446            10                                      stroke, acute   \n",
              "...           ...                                                ...   \n",
              "17064           1  ann arbor stage iv childhood non-hodgkin lymphoma   \n",
              "17065           1   ann arbor stage iv diffuse large b-cell lymphoma   \n",
              "17066           1     ann arbor stage iv grade 3 follicular lymphoma   \n",
              "17067           1  ann arbor stage iv indolent adult non-hodgkin ...   \n",
              "17068           1            ann arbor stage iv mantle cell lymphoma   \n",
              "\n",
              "                                      document_type  \n",
              "7      Study Protocol and Statistical Analysis Plan  \n",
              "38                                   Study Protocol  \n",
              "288    Study Protocol and Statistical Analysis Plan  \n",
              "346                                  Study Protocol  \n",
              "446    Study Protocol and Statistical Analysis Plan  \n",
              "...                                             ...  \n",
              "17064  Study Protocol and Statistical Analysis Plan  \n",
              "17065  Study Protocol and Statistical Analysis Plan  \n",
              "17066  Study Protocol and Statistical Analysis Plan  \n",
              "17067  Study Protocol and Statistical Analysis Plan  \n",
              "17068  Study Protocol and Statistical Analysis Plan  \n",
              "\n",
              "[2441 rows x 3 columns]"
            ],
            "text/html": [
              "\n",
              "  <div id=\"df-6d259313-7e5b-48c9-9a19-90af73d065e2\">\n",
              "    <div class=\"colab-df-container\">\n",
              "      <div>\n",
              "<style scoped>\n",
              "    .dataframe tbody tr th:only-of-type {\n",
              "        vertical-align: middle;\n",
              "    }\n",
              "\n",
              "    .dataframe tbody tr th {\n",
              "        vertical-align: top;\n",
              "    }\n",
              "\n",
              "    .dataframe thead th {\n",
              "        text-align: right;\n",
              "    }\n",
              "</style>\n",
              "<table border=\"1\" class=\"dataframe\">\n",
              "  <thead>\n",
              "    <tr style=\"text-align: right;\">\n",
              "      <th></th>\n",
              "      <th>totalcount</th>\n",
              "      <th>namelower</th>\n",
              "      <th>document_type</th>\n",
              "    </tr>\n",
              "  </thead>\n",
              "  <tbody>\n",
              "    <tr>\n",
              "      <th>7</th>\n",
              "      <td>106</td>\n",
              "      <td>stroke</td>\n",
              "      <td>Study Protocol and Statistical Analysis Plan</td>\n",
              "    </tr>\n",
              "    <tr>\n",
              "      <th>38</th>\n",
              "      <td>58</td>\n",
              "      <td>stroke</td>\n",
              "      <td>Study Protocol</td>\n",
              "    </tr>\n",
              "    <tr>\n",
              "      <th>288</th>\n",
              "      <td>14</td>\n",
              "      <td>ischemic stroke</td>\n",
              "      <td>Study Protocol and Statistical Analysis Plan</td>\n",
              "    </tr>\n",
              "    <tr>\n",
              "      <th>346</th>\n",
              "      <td>13</td>\n",
              "      <td>ischemic stroke</td>\n",
              "      <td>Study Protocol</td>\n",
              "    </tr>\n",
              "    <tr>\n",
              "      <th>446</th>\n",
              "      <td>10</td>\n",
              "      <td>stroke, acute</td>\n",
              "      <td>Study Protocol and Statistical Analysis Plan</td>\n",
              "    </tr>\n",
              "    <tr>\n",
              "      <th>...</th>\n",
              "      <td>...</td>\n",
              "      <td>...</td>\n",
              "      <td>...</td>\n",
              "    </tr>\n",
              "    <tr>\n",
              "      <th>17064</th>\n",
              "      <td>1</td>\n",
              "      <td>ann arbor stage iv childhood non-hodgkin lymphoma</td>\n",
              "      <td>Study Protocol and Statistical Analysis Plan</td>\n",
              "    </tr>\n",
              "    <tr>\n",
              "      <th>17065</th>\n",
              "      <td>1</td>\n",
              "      <td>ann arbor stage iv diffuse large b-cell lymphoma</td>\n",
              "      <td>Study Protocol and Statistical Analysis Plan</td>\n",
              "    </tr>\n",
              "    <tr>\n",
              "      <th>17066</th>\n",
              "      <td>1</td>\n",
              "      <td>ann arbor stage iv grade 3 follicular lymphoma</td>\n",
              "      <td>Study Protocol and Statistical Analysis Plan</td>\n",
              "    </tr>\n",
              "    <tr>\n",
              "      <th>17067</th>\n",
              "      <td>1</td>\n",
              "      <td>ann arbor stage iv indolent adult non-hodgkin ...</td>\n",
              "      <td>Study Protocol and Statistical Analysis Plan</td>\n",
              "    </tr>\n",
              "    <tr>\n",
              "      <th>17068</th>\n",
              "      <td>1</td>\n",
              "      <td>ann arbor stage iv mantle cell lymphoma</td>\n",
              "      <td>Study Protocol and Statistical Analysis Plan</td>\n",
              "    </tr>\n",
              "  </tbody>\n",
              "</table>\n",
              "<p>2441 rows × 3 columns</p>\n",
              "</div>\n",
              "      <button class=\"colab-df-convert\" onclick=\"convertToInteractive('df-6d259313-7e5b-48c9-9a19-90af73d065e2')\"\n",
              "              title=\"Convert this dataframe to an interactive table.\"\n",
              "              style=\"display:none;\">\n",
              "        \n",
              "  <svg xmlns=\"http://www.w3.org/2000/svg\" height=\"24px\"viewBox=\"0 0 24 24\"\n",
              "       width=\"24px\">\n",
              "    <path d=\"M0 0h24v24H0V0z\" fill=\"none\"/>\n",
              "    <path d=\"M18.56 5.44l.94 2.06.94-2.06 2.06-.94-2.06-.94-.94-2.06-.94 2.06-2.06.94zm-11 1L8.5 8.5l.94-2.06 2.06-.94-2.06-.94L8.5 2.5l-.94 2.06-2.06.94zm10 10l.94 2.06.94-2.06 2.06-.94-2.06-.94-.94-2.06-.94 2.06-2.06.94z\"/><path d=\"M17.41 7.96l-1.37-1.37c-.4-.4-.92-.59-1.43-.59-.52 0-1.04.2-1.43.59L10.3 9.45l-7.72 7.72c-.78.78-.78 2.05 0 2.83L4 21.41c.39.39.9.59 1.41.59.51 0 1.02-.2 1.41-.59l7.78-7.78 2.81-2.81c.8-.78.8-2.07 0-2.86zM5.41 20L4 18.59l7.72-7.72 1.47 1.35L5.41 20z\"/>\n",
              "  </svg>\n",
              "      </button>\n",
              "      \n",
              "  <style>\n",
              "    .colab-df-container {\n",
              "      display:flex;\n",
              "      flex-wrap:wrap;\n",
              "      gap: 12px;\n",
              "    }\n",
              "\n",
              "    .colab-df-convert {\n",
              "      background-color: #E8F0FE;\n",
              "      border: none;\n",
              "      border-radius: 50%;\n",
              "      cursor: pointer;\n",
              "      display: none;\n",
              "      fill: #1967D2;\n",
              "      height: 32px;\n",
              "      padding: 0 0 0 0;\n",
              "      width: 32px;\n",
              "    }\n",
              "\n",
              "    .colab-df-convert:hover {\n",
              "      background-color: #E2EBFA;\n",
              "      box-shadow: 0px 1px 2px rgba(60, 64, 67, 0.3), 0px 1px 3px 1px rgba(60, 64, 67, 0.15);\n",
              "      fill: #174EA6;\n",
              "    }\n",
              "\n",
              "    [theme=dark] .colab-df-convert {\n",
              "      background-color: #3B4455;\n",
              "      fill: #D2E3FC;\n",
              "    }\n",
              "\n",
              "    [theme=dark] .colab-df-convert:hover {\n",
              "      background-color: #434B5C;\n",
              "      box-shadow: 0px 1px 3px 1px rgba(0, 0, 0, 0.15);\n",
              "      filter: drop-shadow(0px 1px 2px rgba(0, 0, 0, 0.3));\n",
              "      fill: #FFFFFF;\n",
              "    }\n",
              "  </style>\n",
              "\n",
              "      <script>\n",
              "        const buttonEl =\n",
              "          document.querySelector('#df-6d259313-7e5b-48c9-9a19-90af73d065e2 button.colab-df-convert');\n",
              "        buttonEl.style.display =\n",
              "          google.colab.kernel.accessAllowed ? 'block' : 'none';\n",
              "\n",
              "        async function convertToInteractive(key) {\n",
              "          const element = document.querySelector('#df-6d259313-7e5b-48c9-9a19-90af73d065e2');\n",
              "          const dataTable =\n",
              "            await google.colab.kernel.invokeFunction('convertToInteractive',\n",
              "                                                     [key], {});\n",
              "          if (!dataTable) return;\n",
              "\n",
              "          const docLinkHtml = 'Like what you see? Visit the ' +\n",
              "            '<a target=\"_blank\" href=https://colab.research.google.com/notebooks/data_table.ipynb>data table notebook</a>'\n",
              "            + ' to learn more about interactive tables.';\n",
              "          element.innerHTML = '';\n",
              "          dataTable['output_type'] = 'display_data';\n",
              "          await google.colab.output.renderOutput(dataTable, element);\n",
              "          const docLink = document.createElement('div');\n",
              "          docLink.innerHTML = docLinkHtml;\n",
              "          element.appendChild(docLink);\n",
              "        }\n",
              "      </script>\n",
              "    </div>\n",
              "  </div>\n",
              "  "
            ]
          },
          "metadata": {}
        }
      ]
    },
    {
      "cell_type": "code",
      "source": [
        "disease = [['lymphoma', 1112],['cancer', 3038],['pain', 947],['diabetes', 920],['arthritis', 516],['hiv', 431],['obesity', 373],['depression', 306],['myeloma', 287],['stroke', 281]]\n"
      ],
      "metadata": {
        "id": "AsGVpr3a3RsX"
      },
      "execution_count": null,
      "outputs": []
    },
    {
      "cell_type": "code",
      "source": [
        "df_combine = pd.DataFrame(disease, columns=['Name', 'Count'])"
      ],
      "metadata": {
        "id": "Iw85rHeO6SFT"
      },
      "execution_count": null,
      "outputs": []
    },
    {
      "cell_type": "markdown",
      "source": [
        "#Top 10 disease"
      ],
      "metadata": {
        "id": "mYZ_7u9_xyyN"
      }
    },
    {
      "cell_type": "code",
      "source": [
        "df_combine.sort_values([\"Count\"], ascending=False)"
      ],
      "metadata": {
        "colab": {
          "base_uri": "https://localhost:8080/",
          "height": 363
        },
        "id": "HZHI5Vdm6Z5U",
        "outputId": "7ba0d599-51d6-429f-8a95-775f8ddae605"
      },
      "execution_count": null,
      "outputs": [
        {
          "output_type": "execute_result",
          "data": {
            "text/plain": [
              "         Name  Count\n",
              "1      cancer   3038\n",
              "0    lymphoma   1112\n",
              "2        pain    947\n",
              "3    diabetes    920\n",
              "4   arthritis    516\n",
              "5         hiv    431\n",
              "6     obesity    373\n",
              "7  depression    306\n",
              "8     myeloma    287\n",
              "9      stroke    281"
            ],
            "text/html": [
              "\n",
              "  <div id=\"df-745acdce-512a-46d3-be91-66971ed1a7b3\">\n",
              "    <div class=\"colab-df-container\">\n",
              "      <div>\n",
              "<style scoped>\n",
              "    .dataframe tbody tr th:only-of-type {\n",
              "        vertical-align: middle;\n",
              "    }\n",
              "\n",
              "    .dataframe tbody tr th {\n",
              "        vertical-align: top;\n",
              "    }\n",
              "\n",
              "    .dataframe thead th {\n",
              "        text-align: right;\n",
              "    }\n",
              "</style>\n",
              "<table border=\"1\" class=\"dataframe\">\n",
              "  <thead>\n",
              "    <tr style=\"text-align: right;\">\n",
              "      <th></th>\n",
              "      <th>Name</th>\n",
              "      <th>Count</th>\n",
              "    </tr>\n",
              "  </thead>\n",
              "  <tbody>\n",
              "    <tr>\n",
              "      <th>1</th>\n",
              "      <td>cancer</td>\n",
              "      <td>3038</td>\n",
              "    </tr>\n",
              "    <tr>\n",
              "      <th>0</th>\n",
              "      <td>lymphoma</td>\n",
              "      <td>1112</td>\n",
              "    </tr>\n",
              "    <tr>\n",
              "      <th>2</th>\n",
              "      <td>pain</td>\n",
              "      <td>947</td>\n",
              "    </tr>\n",
              "    <tr>\n",
              "      <th>3</th>\n",
              "      <td>diabetes</td>\n",
              "      <td>920</td>\n",
              "    </tr>\n",
              "    <tr>\n",
              "      <th>4</th>\n",
              "      <td>arthritis</td>\n",
              "      <td>516</td>\n",
              "    </tr>\n",
              "    <tr>\n",
              "      <th>5</th>\n",
              "      <td>hiv</td>\n",
              "      <td>431</td>\n",
              "    </tr>\n",
              "    <tr>\n",
              "      <th>6</th>\n",
              "      <td>obesity</td>\n",
              "      <td>373</td>\n",
              "    </tr>\n",
              "    <tr>\n",
              "      <th>7</th>\n",
              "      <td>depression</td>\n",
              "      <td>306</td>\n",
              "    </tr>\n",
              "    <tr>\n",
              "      <th>8</th>\n",
              "      <td>myeloma</td>\n",
              "      <td>287</td>\n",
              "    </tr>\n",
              "    <tr>\n",
              "      <th>9</th>\n",
              "      <td>stroke</td>\n",
              "      <td>281</td>\n",
              "    </tr>\n",
              "  </tbody>\n",
              "</table>\n",
              "</div>\n",
              "      <button class=\"colab-df-convert\" onclick=\"convertToInteractive('df-745acdce-512a-46d3-be91-66971ed1a7b3')\"\n",
              "              title=\"Convert this dataframe to an interactive table.\"\n",
              "              style=\"display:none;\">\n",
              "        \n",
              "  <svg xmlns=\"http://www.w3.org/2000/svg\" height=\"24px\"viewBox=\"0 0 24 24\"\n",
              "       width=\"24px\">\n",
              "    <path d=\"M0 0h24v24H0V0z\" fill=\"none\"/>\n",
              "    <path d=\"M18.56 5.44l.94 2.06.94-2.06 2.06-.94-2.06-.94-.94-2.06-.94 2.06-2.06.94zm-11 1L8.5 8.5l.94-2.06 2.06-.94-2.06-.94L8.5 2.5l-.94 2.06-2.06.94zm10 10l.94 2.06.94-2.06 2.06-.94-2.06-.94-.94-2.06-.94 2.06-2.06.94z\"/><path d=\"M17.41 7.96l-1.37-1.37c-.4-.4-.92-.59-1.43-.59-.52 0-1.04.2-1.43.59L10.3 9.45l-7.72 7.72c-.78.78-.78 2.05 0 2.83L4 21.41c.39.39.9.59 1.41.59.51 0 1.02-.2 1.41-.59l7.78-7.78 2.81-2.81c.8-.78.8-2.07 0-2.86zM5.41 20L4 18.59l7.72-7.72 1.47 1.35L5.41 20z\"/>\n",
              "  </svg>\n",
              "      </button>\n",
              "      \n",
              "  <style>\n",
              "    .colab-df-container {\n",
              "      display:flex;\n",
              "      flex-wrap:wrap;\n",
              "      gap: 12px;\n",
              "    }\n",
              "\n",
              "    .colab-df-convert {\n",
              "      background-color: #E8F0FE;\n",
              "      border: none;\n",
              "      border-radius: 50%;\n",
              "      cursor: pointer;\n",
              "      display: none;\n",
              "      fill: #1967D2;\n",
              "      height: 32px;\n",
              "      padding: 0 0 0 0;\n",
              "      width: 32px;\n",
              "    }\n",
              "\n",
              "    .colab-df-convert:hover {\n",
              "      background-color: #E2EBFA;\n",
              "      box-shadow: 0px 1px 2px rgba(60, 64, 67, 0.3), 0px 1px 3px 1px rgba(60, 64, 67, 0.15);\n",
              "      fill: #174EA6;\n",
              "    }\n",
              "\n",
              "    [theme=dark] .colab-df-convert {\n",
              "      background-color: #3B4455;\n",
              "      fill: #D2E3FC;\n",
              "    }\n",
              "\n",
              "    [theme=dark] .colab-df-convert:hover {\n",
              "      background-color: #434B5C;\n",
              "      box-shadow: 0px 1px 3px 1px rgba(0, 0, 0, 0.15);\n",
              "      filter: drop-shadow(0px 1px 2px rgba(0, 0, 0, 0.3));\n",
              "      fill: #FFFFFF;\n",
              "    }\n",
              "  </style>\n",
              "\n",
              "      <script>\n",
              "        const buttonEl =\n",
              "          document.querySelector('#df-745acdce-512a-46d3-be91-66971ed1a7b3 button.colab-df-convert');\n",
              "        buttonEl.style.display =\n",
              "          google.colab.kernel.accessAllowed ? 'block' : 'none';\n",
              "\n",
              "        async function convertToInteractive(key) {\n",
              "          const element = document.querySelector('#df-745acdce-512a-46d3-be91-66971ed1a7b3');\n",
              "          const dataTable =\n",
              "            await google.colab.kernel.invokeFunction('convertToInteractive',\n",
              "                                                     [key], {});\n",
              "          if (!dataTable) return;\n",
              "\n",
              "          const docLinkHtml = 'Like what you see? Visit the ' +\n",
              "            '<a target=\"_blank\" href=https://colab.research.google.com/notebooks/data_table.ipynb>data table notebook</a>'\n",
              "            + ' to learn more about interactive tables.';\n",
              "          element.innerHTML = '';\n",
              "          dataTable['output_type'] = 'display_data';\n",
              "          await google.colab.output.renderOutput(dataTable, element);\n",
              "          const docLink = document.createElement('div');\n",
              "          docLink.innerHTML = docLinkHtml;\n",
              "          element.appendChild(docLink);\n",
              "        }\n",
              "      </script>\n",
              "    </div>\n",
              "  </div>\n",
              "  "
            ]
          },
          "metadata": {},
          "execution_count": 60
        }
      ]
    },
    {
      "cell_type": "code",
      "source": [
        "disease = [['lymphoma', 1112],['cancer', 3038],['pain', 947],['diabetes', 920],['arthritis', 516],['hiv', 431],['obesity', 373],['depression', 306],['myeloma', 287],['stroke', 281]]\n",
        "dis = ['lymphoma','cancer','pain','diabetes','arthritis','hiv','obesity','depression', 'myeloma','stroke']\n",
        "count =  [ 1112, 3038, 947, 920, 516, 431, 373, 306, 287, 281]\n",
        "\n"
      ],
      "metadata": {
        "id": "CpIskfxNFm6c"
      },
      "execution_count": null,
      "outputs": []
    },
    {
      "cell_type": "code",
      "source": [
        "df = pd.DataFrame({'condition':['lymphoma','cancer','pain','diabetes','arthritis','hiv','obesity','depression', 'myeloma','stroke'], 'count':[ 1112, 3038, 947, 920, 516, 431, 373, 306, 287, 281]})\n",
        "ax = df.plot.bar(x='condition', y='count', rot=0)\n",
        "plt.title('Disease Count') \n",
        "plt.xlabel(\"Disease\")\n",
        "plt.ylabel(\"Count\")\n",
        "plt.xticks(rotation=30, horizontalalignment=\"center\")"
      ],
      "metadata": {
        "colab": {
          "base_uri": "https://localhost:8080/",
          "height": 356
        },
        "id": "wZTWybvfzSNm",
        "outputId": "83124a3e-e79d-48fe-9d23-623fbf491f5f"
      },
      "execution_count": null,
      "outputs": [
        {
          "output_type": "execute_result",
          "data": {
            "text/plain": [
              "(array([0, 1, 2, 3, 4, 5, 6, 7, 8, 9]),\n",
              " <a list of 10 Text major ticklabel objects>)"
            ]
          },
          "metadata": {},
          "execution_count": 68
        },
        {
          "output_type": "display_data",
          "data": {
            "text/plain": [
              "<Figure size 432x288 with 1 Axes>"
            ],
            "image/png": "[encoded data removed]"
          },
          "metadata": {
            "needs_background": "light"
          }
        }
      ]
    }
  ]
}