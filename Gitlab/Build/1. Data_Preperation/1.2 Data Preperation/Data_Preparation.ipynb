{
  "cells": [
    {
      "cell_type": "markdown",
      "source": [
        "#<font color='#3dc1d3'>  CLINICAL TRIAL - DATA PREPERATION\n",
        "\n",
        "#Outline\n",
        "---\n",
        "# <font color='#3dc1d3'>  \n",
        "1. Dataset- (Diabetes)\n",
        "2. Install required library, import and read Dataset\n",
        "3. Data Cleaning\n",
        "5. Save the cleaned dataset <br>\n"
      ],
      "metadata": {
        "id": "McbBypNPmK0b"
      },
      "id": "McbBypNPmK0b"
    },
    {
      "cell_type": "markdown",
      "source": [
        "#1. Importing necessary libraries\n"
      ],
      "metadata": {
        "id": "pj8e6lKLZDRF"
      },
      "id": "pj8e6lKLZDRF"
    },
    {
      "cell_type": "code",
      "execution_count": 5,
      "id": "2177f070",
      "metadata": {
        "colab": {
          "base_uri": "https://localhost:8080/"
        },
        "id": "2177f070",
        "outputId": "1e8d0e19-bc3b-4142-e9d5-f5cc7194c355"
      },
      "outputs": [
        {
          "output_type": "stream",
          "name": "stderr",
          "text": [
            "[nltk_data] Downloading package stopwords to /root/nltk_data...\n",
            "[nltk_data]   Package stopwords is already up-to-date!\n"
          ]
        }
      ],
      "source": [
        "import pandas as pd\n",
        "import numpy as np\n",
        "import nltk\n",
        "nltk.download('stopwords')\n",
        "from nltk.corpus import stopwords\n",
        "import string\n",
        "from nltk.tokenize import RegexpTokenizer\n",
        "import re\n",
        "import os"
      ]
    },
    {
      "cell_type": "code",
      "execution_count": 6,
      "id": "0ad9ca71",
      "metadata": {
        "colab": {
          "base_uri": "https://localhost:8080/"
        },
        "id": "0ad9ca71",
        "outputId": "94d6c92a-8ceb-4050-9e08-ba6e48490eb9"
      },
      "outputs": [
        {
          "output_type": "stream",
          "name": "stdout",
          "text": [
            "Drive already mounted at /content/drive; to attempt to forcibly remount, call drive.mount(\"/content/drive\", force_remount=True).\n"
          ]
        }
      ],
      "source": [
        "from google.colab import drive\n",
        "drive.mount('/content/drive')"
      ]
    },
    {
      "cell_type": "markdown",
      "source": [
        "#2. Reading the Diabetes Dataset"
      ],
      "metadata": {
        "id": "qpldY3xjZKEp"
      },
      "id": "qpldY3xjZKEp"
    },
    {
      "cell_type": "code",
      "execution_count": 7,
      "id": "a7907235",
      "metadata": {
        "colab": {
          "base_uri": "https://localhost:8080/",
          "height": 1000
        },
        "id": "a7907235",
        "outputId": "439d0e86-a544-4c37-9e3c-3a34c802b595"
      },
      "outputs": [
        {
          "output_type": "execute_result",
          "data": {
            "text/plain": [
              "   Rank   NCT Number                                              Title  \\\n",
              "0     1  NCT03763474  Euglyca Application in Children and Adolescent...   \n",
              "1     2  NCT05013294  Using mHealth (Mobile Health) to Optimize Glyc...   \n",
              "2     3  NCT03108521  SNP Study of DPP-4 and GLP-1R in Chinese Peopl...   \n",
              "3     4  NCT02928952  Mindful Stress Reduction in Diabetes Self-mana...   \n",
              "4     5  NCT05106231  Effectiveness of PICC Improving HBA1C and Know...   \n",
              "5     6  NCT02002130  The Use of Glutamic Acid Decarboxylase (GAD) a...   \n",
              "6     7  NCT02641522  Modulation of STAT3 Signaling With Siltuximab ...   \n",
              "7     8  NCT03224234  A Randomized Study to Evaluate the Efficacy of...   \n",
              "8     9  NCT03626909              Diabetes Treatment in Rural Guatemala   \n",
              "9    10  NCT02953262  Improving Diabetes Care Through Effective Pers...   \n",
              "\n",
              "       Status         Study Results                        Conditions  \\\n",
              "0   Completed  No Results Available         Diabetes Mellitus, Type 1   \n",
              "1   Completed  No Results Available                          Diabetes   \n",
              "2   Completed           Has Results                 Diabetes Mellitus   \n",
              "3   Completed           Has Results                 Diabetes Mellitus   \n",
              "4  Recruiting  No Results Available  Diabetes Mellitus|Type2 Diabetes   \n",
              "5   Completed  No Results Available                   Type I Diabetes   \n",
              "6   Completed           Has Results                   Type 1 Diabetes   \n",
              "7   Completed           Has Results                          Diabetes   \n",
              "8   Completed  No Results Available                          Diabetes   \n",
              "9   Completed           Has Results                 Diabetes Mellitus   \n",
              "\n",
              "                                       Interventions  \\\n",
              "0           Combination Product: Euglyca application   \n",
              "1                                Other: Intervention   \n",
              "2                                  Drug: Sitagliptin   \n",
              "3                            Behavioral: Mind-STRIDE   \n",
              "4       Behavioral: PICC Program|Behavioral: Control   \n",
              "5  Drug: Placebo GABA and Placebo GAD-alum|Drug: ...   \n",
              "6                                   Drug: Siltuximab   \n",
              "7  Device: Insulclock with feedback|Device: Insul...   \n",
              "8  Other: Primary visit and assessment|Other: Fol...   \n",
              "9  Behavioral: My HealtheVet Brochure|Behavioral:...   \n",
              "\n",
              "                               Sponsor/Collaborators  \\\n",
              "0               Aristotle University Of Thessaloniki   \n",
              "1  KU Leuven|Jomo Kenyatta University of Agricult...   \n",
              "2               Sichuan Provincial People's Hospital   \n",
              "3              VA Office of Research and Development   \n",
              "4  Clinical Research Centre, Malaysia|Ministry of...   \n",
              "5  University of Alabama at Birmingham|Diamyd Inc...   \n",
              "6  Carla Greenbaum, MD|Janssen Research & Develop...   \n",
              "7                    Emory University|Insulcoud S.L.   \n",
              "8  University of Wisconsin, Madison|Stanford Univ...   \n",
              "9              VA Office of Research and Development   \n",
              "\n",
              "                                           Age          Phases  \\\n",
              "0         6 Years to 18 Years   (Child, Adult)  Not Applicable   \n",
              "1                    Child, Adult, Older Adult  Not Applicable   \n",
              "2  18 Years to 70 Years   (Adult, Older Adult)         Phase 4   \n",
              "3    18 Years and older   (Adult, Older Adult)  Not Applicable   \n",
              "4    18 Years and older   (Adult, Older Adult)  Not Applicable   \n",
              "5         4 Years to 18 Years   (Child, Adult)         Phase 1   \n",
              "6               18 Years to 45 Years   (Adult)   Early Phase 1   \n",
              "7  18 Years to 80 Years   (Adult, Older Adult)  Not Applicable   \n",
              "8    18 Years and older   (Adult, Older Adult)             NaN   \n",
              "9  18 Years to 85 Years   (Adult, Older Adult)  Not Applicable   \n",
              "\n",
              "       Funded Bys      Study Type  \\\n",
              "0           Other  Interventional   \n",
              "1           Other  Interventional   \n",
              "2           Other  Interventional   \n",
              "3        U.S. Fed  Interventional   \n",
              "4           Other  Interventional   \n",
              "5  Other|Industry  Interventional   \n",
              "6  Other|Industry  Interventional   \n",
              "7           Other  Interventional   \n",
              "8           Other   Observational   \n",
              "9        U.S. Fed  Interventional   \n",
              "\n",
              "                                       Study Designs  \\\n",
              "0  Allocation: Randomized|Intervention Model: Par...   \n",
              "1  Allocation: Randomized|Intervention Model: Par...   \n",
              "2  Allocation: Non-Randomized|Intervention Model:...   \n",
              "3  Allocation: Randomized|Intervention Model: Par...   \n",
              "4  Allocation: Randomized|Intervention Model: Fac...   \n",
              "5  Allocation: Randomized|Intervention Model: Par...   \n",
              "6  Allocation: N/A|Intervention Model: Single Gro...   \n",
              "7  Allocation: Randomized|Intervention Model: Cro...   \n",
              "8  Observational Model: Cohort|Time Perspective: ...   \n",
              "9  Allocation: Randomized|Intervention Model: Par...   \n",
              "\n",
              "                                           Locations  \\\n",
              "0  Endocrine Unit of 3rd Department of Pediatrics...   \n",
              "1  Jomo Kenyatta University of Agriculture and Te...   \n",
              "2  Sichuan provincial people's hospital, Chengdu,...   \n",
              "3  VA Pittsburgh Healthcare System University Dri...   \n",
              "4  Klinik Kesihatan Daro, Daro, Sarawak, Malaysia...   \n",
              "5  Children's of Alabama, Birmingham, Alabama, Un...   \n",
              "6  Benaroya Research Institute, Seattle, Washingt...   \n",
              "7  Emory Clinic, Emory University Hospital (non-C...   \n",
              "8  Hospital Obras Sociales, San Lucas Tolimán, So...   \n",
              "9  Edith Nourse Rogers Memorial Veterans Hospital...   \n",
              "\n",
              "                                     Study Documents  \\\n",
              "0  \"Study Protocol and Statistical Analysis Plan\"...   \n",
              "1  \"Study Protocol\", https://ClinicalTrials.gov/P...   \n",
              "2  \"Study Protocol and Statistical Analysis Plan\"...   \n",
              "3  \"Study Protocol and Statistical Analysis Plan\"...   \n",
              "4  \"Study Protocol, Statistical Analysis Plan, an...   \n",
              "5  \"Study Protocol and Statistical Analysis Plan\"...   \n",
              "6  \"Study Protocol and Statistical Analysis Plan\"...   \n",
              "7  \"Study Protocol and Statistical Analysis Plan\"...   \n",
              "8  \"Study Protocol and Statistical Analysis Plan\"...   \n",
              "9  \"Study Protocol and Statistical Analysis Plan\"...   \n",
              "\n",
              "                                           URL  \n",
              "0  https://ClinicalTrials.gov/show/NCT03763474  \n",
              "1  https://ClinicalTrials.gov/show/NCT05013294  \n",
              "2  https://ClinicalTrials.gov/show/NCT03108521  \n",
              "3  https://ClinicalTrials.gov/show/NCT02928952  \n",
              "4  https://ClinicalTrials.gov/show/NCT05106231  \n",
              "5  https://ClinicalTrials.gov/show/NCT02002130  \n",
              "6  https://ClinicalTrials.gov/show/NCT02641522  \n",
              "7  https://ClinicalTrials.gov/show/NCT03224234  \n",
              "8  https://ClinicalTrials.gov/show/NCT03626909  \n",
              "9  https://ClinicalTrials.gov/show/NCT02953262  "
            ],
            "text/html": [
              "\n",
              "  <div id=\"df-8f733cfc-9615-4425-b741-10918c8893e4\">\n",
              "    <div class=\"colab-df-container\">\n",
              "      <div>\n",
              "<style scoped>\n",
              "    .dataframe tbody tr th:only-of-type {\n",
              "        vertical-align: middle;\n",
              "    }\n",
              "\n",
              "    .dataframe tbody tr th {\n",
              "        vertical-align: top;\n",
              "    }\n",
              "\n",
              "    .dataframe thead th {\n",
              "        text-align: right;\n",
              "    }\n",
              "</style>\n",
              "<table border=\"1\" class=\"dataframe\">\n",
              "  <thead>\n",
              "    <tr style=\"text-align: right;\">\n",
              "      <th></th>\n",
              "      <th>Rank</th>\n",
              "      <th>NCT Number</th>\n",
              "      <th>Title</th>\n",
              "      <th>Status</th>\n",
              "      <th>Study Results</th>\n",
              "      <th>Conditions</th>\n",
              "      <th>Interventions</th>\n",
              "      <th>Sponsor/Collaborators</th>\n",
              "      <th>Age</th>\n",
              "      <th>Phases</th>\n",
              "      <th>Funded Bys</th>\n",
              "      <th>Study Type</th>\n",
              "      <th>Study Designs</th>\n",
              "      <th>Locations</th>\n",
              "      <th>Study Documents</th>\n",
              "      <th>URL</th>\n",
              "    </tr>\n",
              "  </thead>\n",
              "  <tbody>\n",
              "    <tr>\n",
              "      <th>0</th>\n",
              "      <td>1</td>\n",
              "      <td>NCT03763474</td>\n",
              "      <td>Euglyca Application in Children and Adolescent...</td>\n",
              "      <td>Completed</td>\n",
              "      <td>No Results Available</td>\n",
              "      <td>Diabetes Mellitus, Type 1</td>\n",
              "      <td>Combination Product: Euglyca application</td>\n",
              "      <td>Aristotle University Of Thessaloniki</td>\n",
              "      <td>6 Years to 18 Years   (Child, Adult)</td>\n",
              "      <td>Not Applicable</td>\n",
              "      <td>Other</td>\n",
              "      <td>Interventional</td>\n",
              "      <td>Allocation: Randomized|Intervention Model: Par...</td>\n",
              "      <td>Endocrine Unit of 3rd Department of Pediatrics...</td>\n",
              "      <td>\"Study Protocol and Statistical Analysis Plan\"...</td>\n",
              "      <td>https://ClinicalTrials.gov/show/NCT03763474</td>\n",
              "    </tr>\n",
              "    <tr>\n",
              "      <th>1</th>\n",
              "      <td>2</td>\n",
              "      <td>NCT05013294</td>\n",
              "      <td>Using mHealth (Mobile Health) to Optimize Glyc...</td>\n",
              "      <td>Completed</td>\n",
              "      <td>No Results Available</td>\n",
              "      <td>Diabetes</td>\n",
              "      <td>Other: Intervention</td>\n",
              "      <td>KU Leuven|Jomo Kenyatta University of Agricult...</td>\n",
              "      <td>Child, Adult, Older Adult</td>\n",
              "      <td>Not Applicable</td>\n",
              "      <td>Other</td>\n",
              "      <td>Interventional</td>\n",
              "      <td>Allocation: Randomized|Intervention Model: Par...</td>\n",
              "      <td>Jomo Kenyatta University of Agriculture and Te...</td>\n",
              "      <td>\"Study Protocol\", https://ClinicalTrials.gov/P...</td>\n",
              "      <td>https://ClinicalTrials.gov/show/NCT05013294</td>\n",
              "    </tr>\n",
              "    <tr>\n",
              "      <th>2</th>\n",
              "      <td>3</td>\n",
              "      <td>NCT03108521</td>\n",
              "      <td>SNP Study of DPP-4 and GLP-1R in Chinese Peopl...</td>\n",
              "      <td>Completed</td>\n",
              "      <td>Has Results</td>\n",
              "      <td>Diabetes Mellitus</td>\n",
              "      <td>Drug: Sitagliptin</td>\n",
              "      <td>Sichuan Provincial People's Hospital</td>\n",
              "      <td>18 Years to 70 Years   (Adult, Older Adult)</td>\n",
              "      <td>Phase 4</td>\n",
              "      <td>Other</td>\n",
              "      <td>Interventional</td>\n",
              "      <td>Allocation: Non-Randomized|Intervention Model:...</td>\n",
              "      <td>Sichuan provincial people's hospital, Chengdu,...</td>\n",
              "      <td>\"Study Protocol and Statistical Analysis Plan\"...</td>\n",
              "      <td>https://ClinicalTrials.gov/show/NCT03108521</td>\n",
              "    </tr>\n",
              "    <tr>\n",
              "      <th>3</th>\n",
              "      <td>4</td>\n",
              "      <td>NCT02928952</td>\n",
              "      <td>Mindful Stress Reduction in Diabetes Self-mana...</td>\n",
              "      <td>Completed</td>\n",
              "      <td>Has Results</td>\n",
              "      <td>Diabetes Mellitus</td>\n",
              "      <td>Behavioral: Mind-STRIDE</td>\n",
              "      <td>VA Office of Research and Development</td>\n",
              "      <td>18 Years and older   (Adult, Older Adult)</td>\n",
              "      <td>Not Applicable</td>\n",
              "      <td>U.S. Fed</td>\n",
              "      <td>Interventional</td>\n",
              "      <td>Allocation: Randomized|Intervention Model: Par...</td>\n",
              "      <td>VA Pittsburgh Healthcare System University Dri...</td>\n",
              "      <td>\"Study Protocol and Statistical Analysis Plan\"...</td>\n",
              "      <td>https://ClinicalTrials.gov/show/NCT02928952</td>\n",
              "    </tr>\n",
              "    <tr>\n",
              "      <th>4</th>\n",
              "      <td>5</td>\n",
              "      <td>NCT05106231</td>\n",
              "      <td>Effectiveness of PICC Improving HBA1C and Know...</td>\n",
              "      <td>Recruiting</td>\n",
              "      <td>No Results Available</td>\n",
              "      <td>Diabetes Mellitus|Type2 Diabetes</td>\n",
              "      <td>Behavioral: PICC Program|Behavioral: Control</td>\n",
              "      <td>Clinical Research Centre, Malaysia|Ministry of...</td>\n",
              "      <td>18 Years and older   (Adult, Older Adult)</td>\n",
              "      <td>Not Applicable</td>\n",
              "      <td>Other</td>\n",
              "      <td>Interventional</td>\n",
              "      <td>Allocation: Randomized|Intervention Model: Fac...</td>\n",
              "      <td>Klinik Kesihatan Daro, Daro, Sarawak, Malaysia...</td>\n",
              "      <td>\"Study Protocol, Statistical Analysis Plan, an...</td>\n",
              "      <td>https://ClinicalTrials.gov/show/NCT05106231</td>\n",
              "    </tr>\n",
              "    <tr>\n",
              "      <th>5</th>\n",
              "      <td>6</td>\n",
              "      <td>NCT02002130</td>\n",
              "      <td>The Use of Glutamic Acid Decarboxylase (GAD) a...</td>\n",
              "      <td>Completed</td>\n",
              "      <td>No Results Available</td>\n",
              "      <td>Type I Diabetes</td>\n",
              "      <td>Drug: Placebo GABA and Placebo GAD-alum|Drug: ...</td>\n",
              "      <td>University of Alabama at Birmingham|Diamyd Inc...</td>\n",
              "      <td>4 Years to 18 Years   (Child, Adult)</td>\n",
              "      <td>Phase 1</td>\n",
              "      <td>Other|Industry</td>\n",
              "      <td>Interventional</td>\n",
              "      <td>Allocation: Randomized|Intervention Model: Par...</td>\n",
              "      <td>Children's of Alabama, Birmingham, Alabama, Un...</td>\n",
              "      <td>\"Study Protocol and Statistical Analysis Plan\"...</td>\n",
              "      <td>https://ClinicalTrials.gov/show/NCT02002130</td>\n",
              "    </tr>\n",
              "    <tr>\n",
              "      <th>6</th>\n",
              "      <td>7</td>\n",
              "      <td>NCT02641522</td>\n",
              "      <td>Modulation of STAT3 Signaling With Siltuximab ...</td>\n",
              "      <td>Completed</td>\n",
              "      <td>Has Results</td>\n",
              "      <td>Type 1 Diabetes</td>\n",
              "      <td>Drug: Siltuximab</td>\n",
              "      <td>Carla Greenbaum, MD|Janssen Research &amp; Develop...</td>\n",
              "      <td>18 Years to 45 Years   (Adult)</td>\n",
              "      <td>Early Phase 1</td>\n",
              "      <td>Other|Industry</td>\n",
              "      <td>Interventional</td>\n",
              "      <td>Allocation: N/A|Intervention Model: Single Gro...</td>\n",
              "      <td>Benaroya Research Institute, Seattle, Washingt...</td>\n",
              "      <td>\"Study Protocol and Statistical Analysis Plan\"...</td>\n",
              "      <td>https://ClinicalTrials.gov/show/NCT02641522</td>\n",
              "    </tr>\n",
              "    <tr>\n",
              "      <th>7</th>\n",
              "      <td>8</td>\n",
              "      <td>NCT03224234</td>\n",
              "      <td>A Randomized Study to Evaluate the Efficacy of...</td>\n",
              "      <td>Completed</td>\n",
              "      <td>Has Results</td>\n",
              "      <td>Diabetes</td>\n",
              "      <td>Device: Insulclock with feedback|Device: Insul...</td>\n",
              "      <td>Emory University|Insulcoud S.L.</td>\n",
              "      <td>18 Years to 80 Years   (Adult, Older Adult)</td>\n",
              "      <td>Not Applicable</td>\n",
              "      <td>Other</td>\n",
              "      <td>Interventional</td>\n",
              "      <td>Allocation: Randomized|Intervention Model: Cro...</td>\n",
              "      <td>Emory Clinic, Emory University Hospital (non-C...</td>\n",
              "      <td>\"Study Protocol and Statistical Analysis Plan\"...</td>\n",
              "      <td>https://ClinicalTrials.gov/show/NCT03224234</td>\n",
              "    </tr>\n",
              "    <tr>\n",
              "      <th>8</th>\n",
              "      <td>9</td>\n",
              "      <td>NCT03626909</td>\n",
              "      <td>Diabetes Treatment in Rural Guatemala</td>\n",
              "      <td>Completed</td>\n",
              "      <td>No Results Available</td>\n",
              "      <td>Diabetes</td>\n",
              "      <td>Other: Primary visit and assessment|Other: Fol...</td>\n",
              "      <td>University of Wisconsin, Madison|Stanford Univ...</td>\n",
              "      <td>18 Years and older   (Adult, Older Adult)</td>\n",
              "      <td>NaN</td>\n",
              "      <td>Other</td>\n",
              "      <td>Observational</td>\n",
              "      <td>Observational Model: Cohort|Time Perspective: ...</td>\n",
              "      <td>Hospital Obras Sociales, San Lucas Tolimán, So...</td>\n",
              "      <td>\"Study Protocol and Statistical Analysis Plan\"...</td>\n",
              "      <td>https://ClinicalTrials.gov/show/NCT03626909</td>\n",
              "    </tr>\n",
              "    <tr>\n",
              "      <th>9</th>\n",
              "      <td>10</td>\n",
              "      <td>NCT02953262</td>\n",
              "      <td>Improving Diabetes Care Through Effective Pers...</td>\n",
              "      <td>Completed</td>\n",
              "      <td>Has Results</td>\n",
              "      <td>Diabetes Mellitus</td>\n",
              "      <td>Behavioral: My HealtheVet Brochure|Behavioral:...</td>\n",
              "      <td>VA Office of Research and Development</td>\n",
              "      <td>18 Years to 85 Years   (Adult, Older Adult)</td>\n",
              "      <td>Not Applicable</td>\n",
              "      <td>U.S. Fed</td>\n",
              "      <td>Interventional</td>\n",
              "      <td>Allocation: Randomized|Intervention Model: Par...</td>\n",
              "      <td>Edith Nourse Rogers Memorial Veterans Hospital...</td>\n",
              "      <td>\"Study Protocol and Statistical Analysis Plan\"...</td>\n",
              "      <td>https://ClinicalTrials.gov/show/NCT02953262</td>\n",
              "    </tr>\n",
              "  </tbody>\n",
              "</table>\n",
              "</div>\n",
              "      <button class=\"colab-df-convert\" onclick=\"convertToInteractive('df-8f733cfc-9615-4425-b741-10918c8893e4')\"\n",
              "              title=\"Convert this dataframe to an interactive table.\"\n",
              "              style=\"display:none;\">\n",
              "        \n",
              "  <svg xmlns=\"http://www.w3.org/2000/svg\" height=\"24px\"viewBox=\"0 0 24 24\"\n",
              "       width=\"24px\">\n",
              "    <path d=\"M0 0h24v24H0V0z\" fill=\"none\"/>\n",
              "    <path d=\"M18.56 5.44l.94 2.06.94-2.06 2.06-.94-2.06-.94-.94-2.06-.94 2.06-2.06.94zm-11 1L8.5 8.5l.94-2.06 2.06-.94-2.06-.94L8.5 2.5l-.94 2.06-2.06.94zm10 10l.94 2.06.94-2.06 2.06-.94-2.06-.94-.94-2.06-.94 2.06-2.06.94z\"/><path d=\"M17.41 7.96l-1.37-1.37c-.4-.4-.92-.59-1.43-.59-.52 0-1.04.2-1.43.59L10.3 9.45l-7.72 7.72c-.78.78-.78 2.05 0 2.83L4 21.41c.39.39.9.59 1.41.59.51 0 1.02-.2 1.41-.59l7.78-7.78 2.81-2.81c.8-.78.8-2.07 0-2.86zM5.41 20L4 18.59l7.72-7.72 1.47 1.35L5.41 20z\"/>\n",
              "  </svg>\n",
              "      </button>\n",
              "      \n",
              "  <style>\n",
              "    .colab-df-container {\n",
              "      display:flex;\n",
              "      flex-wrap:wrap;\n",
              "      gap: 12px;\n",
              "    }\n",
              "\n",
              "    .colab-df-convert {\n",
              "      background-color: #E8F0FE;\n",
              "      border: none;\n",
              "      border-radius: 50%;\n",
              "      cursor: pointer;\n",
              "      display: none;\n",
              "      fill: #1967D2;\n",
              "      height: 32px;\n",
              "      padding: 0 0 0 0;\n",
              "      width: 32px;\n",
              "    }\n",
              "\n",
              "    .colab-df-convert:hover {\n",
              "      background-color: #E2EBFA;\n",
              "      box-shadow: 0px 1px 2px rgba(60, 64, 67, 0.3), 0px 1px 3px 1px rgba(60, 64, 67, 0.15);\n",
              "      fill: #174EA6;\n",
              "    }\n",
              "\n",
              "    [theme=dark] .colab-df-convert {\n",
              "      background-color: #3B4455;\n",
              "      fill: #D2E3FC;\n",
              "    }\n",
              "\n",
              "    [theme=dark] .colab-df-convert:hover {\n",
              "      background-color: #434B5C;\n",
              "      box-shadow: 0px 1px 3px 1px rgba(0, 0, 0, 0.15);\n",
              "      filter: drop-shadow(0px 1px 2px rgba(0, 0, 0, 0.3));\n",
              "      fill: #FFFFFF;\n",
              "    }\n",
              "  </style>\n",
              "\n",
              "      <script>\n",
              "        const buttonEl =\n",
              "          document.querySelector('#df-8f733cfc-9615-4425-b741-10918c8893e4 button.colab-df-convert');\n",
              "        buttonEl.style.display =\n",
              "          google.colab.kernel.accessAllowed ? 'block' : 'none';\n",
              "\n",
              "        async function convertToInteractive(key) {\n",
              "          const element = document.querySelector('#df-8f733cfc-9615-4425-b741-10918c8893e4');\n",
              "          const dataTable =\n",
              "            await google.colab.kernel.invokeFunction('convertToInteractive',\n",
              "                                                     [key], {});\n",
              "          if (!dataTable) return;\n",
              "\n",
              "          const docLinkHtml = 'Like what you see? Visit the ' +\n",
              "            '<a target=\"_blank\" href=https://colab.research.google.com/notebooks/data_table.ipynb>data table notebook</a>'\n",
              "            + ' to learn more about interactive tables.';\n",
              "          element.innerHTML = '';\n",
              "          dataTable['output_type'] = 'display_data';\n",
              "          await google.colab.output.renderOutput(dataTable, element);\n",
              "          const docLink = document.createElement('div');\n",
              "          docLink.innerHTML = docLinkHtml;\n",
              "          element.appendChild(docLink);\n",
              "        }\n",
              "      </script>\n",
              "    </div>\n",
              "  </div>\n",
              "  "
            ]
          },
          "metadata": {},
          "execution_count": 7
        }
      ],
      "source": [
        "data = pd.read_csv('/content/drive/MyDrive/Practicum/Final_folders/Submission/2.Data_preperation_done/clinical_trial - clinical_trial.csv')\n",
        "data.head(10)"
      ]
    },
    {
      "cell_type": "markdown",
      "id": "f1d7f7fe",
      "metadata": {
        "id": "f1d7f7fe"
      },
      "source": [
        "#3. Data Cleaning"
      ]
    },
    {
      "cell_type": "markdown",
      "source": [
        "###Check for null values"
      ],
      "metadata": {
        "id": "E2BSLE2IlJTk"
      },
      "id": "E2BSLE2IlJTk"
    },
    {
      "cell_type": "code",
      "execution_count": 8,
      "id": "2a274bc5",
      "metadata": {
        "colab": {
          "base_uri": "https://localhost:8080/"
        },
        "id": "2a274bc5",
        "outputId": "c9a74925-1f0b-4d8b-d4e7-348cb8398f30"
      },
      "outputs": [
        {
          "output_type": "execute_result",
          "data": {
            "text/plain": [
              "Rank                      0\n",
              "NCT Number                0\n",
              "Title                     0\n",
              "Status                    0\n",
              "Study Results             0\n",
              "Conditions                0\n",
              "Interventions            25\n",
              "Sponsor/Collaborators     0\n",
              "Age                       0\n",
              "Phases                   98\n",
              "Funded Bys                0\n",
              "Study Type                0\n",
              "Study Designs             0\n",
              "Locations                 0\n",
              "Study Documents           0\n",
              "URL                       0\n",
              "dtype: int64"
            ]
          },
          "metadata": {},
          "execution_count": 8
        }
      ],
      "source": [
        "data.isnull().sum()"
      ]
    },
    {
      "cell_type": "markdown",
      "source": [
        "1. Null values for locations \n",
        "   --> We imputed null values for loacations with sponsors\n",
        "2. Null values for intervention \n",
        "   --> Study can be either observational or Interventional. Thus the null values in interventions can be imputed\n",
        "3. Null values for phases we cannot impute without evidence"
      ],
      "metadata": {
        "id": "cGPwr2otVANu"
      },
      "id": "cGPwr2otVANu"
    },
    {
      "cell_type": "markdown",
      "source": [
        "##Column Transformations"
      ],
      "metadata": {
        "id": "8c_zn9C7ZaAF"
      },
      "id": "8c_zn9C7ZaAF"
    },
    {
      "cell_type": "markdown",
      "source": [
        "### Status\n",
        "\n",
        "*   We are choosing the Status column to be our target variable because it determines the present status of the experiment\n",
        "*   It has 11 values, which we will be transform into Completed & Not Completed so that we can treat our problem as binary classification. \n",
        "*   As a result, all remaining entries except 'completed' are changed to 'not completed'\n",
        "*   Status column has no missing data.\n",
        "\n",
        "\n",
        "\n",
        "\n",
        "\n"
      ],
      "metadata": {
        "id": "91zKZQWGXhj1"
      },
      "id": "91zKZQWGXhj1"
    },
    {
      "cell_type": "code",
      "source": [
        "data['Status'].unique()"
      ],
      "metadata": {
        "colab": {
          "base_uri": "https://localhost:8080/"
        },
        "id": "xTWBCmdrXl9l",
        "outputId": "bb3f5017-84dd-462c-8df6-fe843b6c3f2a"
      },
      "id": "xTWBCmdrXl9l",
      "execution_count": 9,
      "outputs": [
        {
          "output_type": "execute_result",
          "data": {
            "text/plain": [
              "array(['Completed', 'Recruiting', 'Active, not recruiting', 'Terminated',\n",
              "       'Unknown status', 'Not yet recruiting', 'Enrolling by invitation',\n",
              "       'Withdrawn', 'Suspended'], dtype=object)"
            ]
          },
          "metadata": {},
          "execution_count": 9
        }
      ]
    },
    {
      "cell_type": "code",
      "source": [
        "data['Status'] = data['Status'].replace({\n",
        "        'Recruiting': 'Not Completed',\n",
        "        'Unknown status': 'Not Completed',\n",
        "        'Terminated': 'Not Completed',\n",
        "        'Active, not recruiting': 'Not Completed',\n",
        "        'Not yet recruiting': 'Not Completed',\n",
        "        'Withdrawn': 'Not Completed',\n",
        "        'Enrolling by invitation': 'Not Completed',\n",
        "        'Suspended': 'Not Completed',\n",
        "        'Available': 'Not Completed',\n",
        "        'No longer available': 'Not Completed',\n",
        "})"
      ],
      "metadata": {
        "id": "6Y_oDdZpXrM-"
      },
      "id": "6Y_oDdZpXrM-",
      "execution_count": 10,
      "outputs": []
    },
    {
      "cell_type": "markdown",
      "source": [
        "### Interventions\n",
        "\n",
        "*   A process or action that is the focus of a clinical study. Interventions include drugs, medical devices, procedures, vaccines, and other products that are either investigational or already available. \n",
        "*   There are 733 missing values in the column Interventions. For these rows, the study type is Observational. Hence, we will replace NaN with 'No interventions' category. \n",
        "*   From the interventions column, we can derive a new column which is Intervention_type. \n",
        "\n"
      ],
      "metadata": {
        "id": "6B677yV0Fk5G"
      },
      "id": "6B677yV0Fk5G"
    },
    {
      "cell_type": "code",
      "source": [
        "data['Study Type'].unique()"
      ],
      "metadata": {
        "colab": {
          "base_uri": "https://localhost:8080/"
        },
        "id": "UGBcLcqmFkQQ",
        "outputId": "94a9eb80-54ba-4f1b-9de9-afab3115813f"
      },
      "id": "UGBcLcqmFkQQ",
      "execution_count": 11,
      "outputs": [
        {
          "output_type": "execute_result",
          "data": {
            "text/plain": [
              "array(['Interventional', 'Observational'], dtype=object)"
            ]
          },
          "metadata": {},
          "execution_count": 11
        }
      ]
    },
    {
      "cell_type": "code",
      "source": [
        "interventions_na_df = data[data['Interventions'].isna()]"
      ],
      "metadata": {
        "id": "9Xf3IX8WFq2Z"
      },
      "id": "9Xf3IX8WFq2Z",
      "execution_count": 12,
      "outputs": []
    },
    {
      "cell_type": "code",
      "source": [
        "interventions_na_df['Study Type'].value_counts()\n",
        "data.Interventions = data.Interventions.fillna('No Interventions')\n",
        "interventions_na_df = data[data['Interventions'].isna()]\n",
        "data['Intervention_type'] = data['Interventions'].str.split(':').str[0]"
      ],
      "metadata": {
        "id": "5-3fsNJBFszK"
      },
      "id": "5-3fsNJBFszK",
      "execution_count": 13,
      "outputs": []
    },
    {
      "cell_type": "code",
      "source": [
        "data.isnull().sum()"
      ],
      "metadata": {
        "colab": {
          "base_uri": "https://localhost:8080/"
        },
        "id": "odcj6JH1ND1Y",
        "outputId": "b5aa2c5e-02f3-43f8-bde7-83f5ce4400f8"
      },
      "id": "odcj6JH1ND1Y",
      "execution_count": 14,
      "outputs": [
        {
          "output_type": "execute_result",
          "data": {
            "text/plain": [
              "Rank                      0\n",
              "NCT Number                0\n",
              "Title                     0\n",
              "Status                    0\n",
              "Study Results             0\n",
              "Conditions                0\n",
              "Interventions             0\n",
              "Sponsor/Collaborators     0\n",
              "Age                       0\n",
              "Phases                   98\n",
              "Funded Bys                0\n",
              "Study Type                0\n",
              "Study Designs             0\n",
              "Locations                 0\n",
              "Study Documents           0\n",
              "URL                       0\n",
              "Intervention_type         0\n",
              "dtype: int64"
            ]
          },
          "metadata": {},
          "execution_count": 14
        }
      ]
    },
    {
      "cell_type": "markdown",
      "source": [
        "###Extracted pdf links from document column"
      ],
      "metadata": {
        "id": "GV9_-3rBV0o8"
      },
      "id": "GV9_-3rBV0o8"
    },
    {
      "cell_type": "code",
      "source": [
        "data[\"Study Documents\"]=data[\"Study Documents\"].astype(str)\n",
        "pattern = r'(https?:\\/\\/(?:www\\.)?[-a-zA-Z0-9@:%._+~#=]{1,256}\\.[a-zA-Z0-9()]{1,6}[-a-zA-Z0-9()@:%_+.~#?&/=]*)' \n",
        "data['links'] = ''\n",
        "data['links']= data[\"Study Documents\"].str.extract(pattern, expand=True)"
      ],
      "metadata": {
        "id": "ZoNIOhs8EUgM"
      },
      "id": "ZoNIOhs8EUgM",
      "execution_count": 15,
      "outputs": []
    },
    {
      "cell_type": "code",
      "source": [
        "data= data[['NCT Number','Status','Conditions','Sponsor/Collaborators','Age','Funded Bys','Study Designs','Locations','links']]"
      ],
      "metadata": {
        "id": "CjhcPrR_DSsl"
      },
      "id": "CjhcPrR_DSsl",
      "execution_count": 16,
      "outputs": []
    },
    {
      "cell_type": "code",
      "source": [
        "data.head(2)"
      ],
      "metadata": {
        "colab": {
          "base_uri": "https://localhost:8080/",
          "height": 384
        },
        "id": "fQCtPDGsEhjx",
        "outputId": "b8611f30-5961-47d4-fc80-7318fc6ba4e9"
      },
      "id": "fQCtPDGsEhjx",
      "execution_count": 17,
      "outputs": [
        {
          "output_type": "execute_result",
          "data": {
            "text/plain": [
              "    NCT Number     Status                 Conditions  \\\n",
              "0  NCT03763474  Completed  Diabetes Mellitus, Type 1   \n",
              "1  NCT05013294  Completed                   Diabetes   \n",
              "\n",
              "                               Sponsor/Collaborators  \\\n",
              "0               Aristotle University Of Thessaloniki   \n",
              "1  KU Leuven|Jomo Kenyatta University of Agricult...   \n",
              "\n",
              "                                    Age Funded Bys  \\\n",
              "0  6 Years to 18 Years   (Child, Adult)      Other   \n",
              "1             Child, Adult, Older Adult      Other   \n",
              "\n",
              "                                       Study Designs  \\\n",
              "0  Allocation: Randomized|Intervention Model: Par...   \n",
              "1  Allocation: Randomized|Intervention Model: Par...   \n",
              "\n",
              "                                           Locations  \\\n",
              "0  Endocrine Unit of 3rd Department of Pediatrics...   \n",
              "1  Jomo Kenyatta University of Agriculture and Te...   \n",
              "\n",
              "                                               links  \n",
              "0  https://ClinicalTrials.gov/ProvidedDocs/74/NCT...  \n",
              "1  https://ClinicalTrials.gov/ProvidedDocs/94/NCT...  "
            ],
            "text/html": [
              "\n",
              "  <div id=\"df-342781b1-2b07-4d72-8589-4f9527605c50\">\n",
              "    <div class=\"colab-df-container\">\n",
              "      <div>\n",
              "<style scoped>\n",
              "    .dataframe tbody tr th:only-of-type {\n",
              "        vertical-align: middle;\n",
              "    }\n",
              "\n",
              "    .dataframe tbody tr th {\n",
              "        vertical-align: top;\n",
              "    }\n",
              "\n",
              "    .dataframe thead th {\n",
              "        text-align: right;\n",
              "    }\n",
              "</style>\n",
              "<table border=\"1\" class=\"dataframe\">\n",
              "  <thead>\n",
              "    <tr style=\"text-align: right;\">\n",
              "      <th></th>\n",
              "      <th>NCT Number</th>\n",
              "      <th>Status</th>\n",
              "      <th>Conditions</th>\n",
              "      <th>Sponsor/Collaborators</th>\n",
              "      <th>Age</th>\n",
              "      <th>Funded Bys</th>\n",
              "      <th>Study Designs</th>\n",
              "      <th>Locations</th>\n",
              "      <th>links</th>\n",
              "    </tr>\n",
              "  </thead>\n",
              "  <tbody>\n",
              "    <tr>\n",
              "      <th>0</th>\n",
              "      <td>NCT03763474</td>\n",
              "      <td>Completed</td>\n",
              "      <td>Diabetes Mellitus, Type 1</td>\n",
              "      <td>Aristotle University Of Thessaloniki</td>\n",
              "      <td>6 Years to 18 Years   (Child, Adult)</td>\n",
              "      <td>Other</td>\n",
              "      <td>Allocation: Randomized|Intervention Model: Par...</td>\n",
              "      <td>Endocrine Unit of 3rd Department of Pediatrics...</td>\n",
              "      <td>https://ClinicalTrials.gov/ProvidedDocs/74/NCT...</td>\n",
              "    </tr>\n",
              "    <tr>\n",
              "      <th>1</th>\n",
              "      <td>NCT05013294</td>\n",
              "      <td>Completed</td>\n",
              "      <td>Diabetes</td>\n",
              "      <td>KU Leuven|Jomo Kenyatta University of Agricult...</td>\n",
              "      <td>Child, Adult, Older Adult</td>\n",
              "      <td>Other</td>\n",
              "      <td>Allocation: Randomized|Intervention Model: Par...</td>\n",
              "      <td>Jomo Kenyatta University of Agriculture and Te...</td>\n",
              "      <td>https://ClinicalTrials.gov/ProvidedDocs/94/NCT...</td>\n",
              "    </tr>\n",
              "  </tbody>\n",
              "</table>\n",
              "</div>\n",
              "      <button class=\"colab-df-convert\" onclick=\"convertToInteractive('df-342781b1-2b07-4d72-8589-4f9527605c50')\"\n",
              "              title=\"Convert this dataframe to an interactive table.\"\n",
              "              style=\"display:none;\">\n",
              "        \n",
              "  <svg xmlns=\"http://www.w3.org/2000/svg\" height=\"24px\"viewBox=\"0 0 24 24\"\n",
              "       width=\"24px\">\n",
              "    <path d=\"M0 0h24v24H0V0z\" fill=\"none\"/>\n",
              "    <path d=\"M18.56 5.44l.94 2.06.94-2.06 2.06-.94-2.06-.94-.94-2.06-.94 2.06-2.06.94zm-11 1L8.5 8.5l.94-2.06 2.06-.94-2.06-.94L8.5 2.5l-.94 2.06-2.06.94zm10 10l.94 2.06.94-2.06 2.06-.94-2.06-.94-.94-2.06-.94 2.06-2.06.94z\"/><path d=\"M17.41 7.96l-1.37-1.37c-.4-.4-.92-.59-1.43-.59-.52 0-1.04.2-1.43.59L10.3 9.45l-7.72 7.72c-.78.78-.78 2.05 0 2.83L4 21.41c.39.39.9.59 1.41.59.51 0 1.02-.2 1.41-.59l7.78-7.78 2.81-2.81c.8-.78.8-2.07 0-2.86zM5.41 20L4 18.59l7.72-7.72 1.47 1.35L5.41 20z\"/>\n",
              "  </svg>\n",
              "      </button>\n",
              "      \n",
              "  <style>\n",
              "    .colab-df-container {\n",
              "      display:flex;\n",
              "      flex-wrap:wrap;\n",
              "      gap: 12px;\n",
              "    }\n",
              "\n",
              "    .colab-df-convert {\n",
              "      background-color: #E8F0FE;\n",
              "      border: none;\n",
              "      border-radius: 50%;\n",
              "      cursor: pointer;\n",
              "      display: none;\n",
              "      fill: #1967D2;\n",
              "      height: 32px;\n",
              "      padding: 0 0 0 0;\n",
              "      width: 32px;\n",
              "    }\n",
              "\n",
              "    .colab-df-convert:hover {\n",
              "      background-color: #E2EBFA;\n",
              "      box-shadow: 0px 1px 2px rgba(60, 64, 67, 0.3), 0px 1px 3px 1px rgba(60, 64, 67, 0.15);\n",
              "      fill: #174EA6;\n",
              "    }\n",
              "\n",
              "    [theme=dark] .colab-df-convert {\n",
              "      background-color: #3B4455;\n",
              "      fill: #D2E3FC;\n",
              "    }\n",
              "\n",
              "    [theme=dark] .colab-df-convert:hover {\n",
              "      background-color: #434B5C;\n",
              "      box-shadow: 0px 1px 3px 1px rgba(0, 0, 0, 0.15);\n",
              "      filter: drop-shadow(0px 1px 2px rgba(0, 0, 0, 0.3));\n",
              "      fill: #FFFFFF;\n",
              "    }\n",
              "  </style>\n",
              "\n",
              "      <script>\n",
              "        const buttonEl =\n",
              "          document.querySelector('#df-342781b1-2b07-4d72-8589-4f9527605c50 button.colab-df-convert');\n",
              "        buttonEl.style.display =\n",
              "          google.colab.kernel.accessAllowed ? 'block' : 'none';\n",
              "\n",
              "        async function convertToInteractive(key) {\n",
              "          const element = document.querySelector('#df-342781b1-2b07-4d72-8589-4f9527605c50');\n",
              "          const dataTable =\n",
              "            await google.colab.kernel.invokeFunction('convertToInteractive',\n",
              "                                                     [key], {});\n",
              "          if (!dataTable) return;\n",
              "\n",
              "          const docLinkHtml = 'Like what you see? Visit the ' +\n",
              "            '<a target=\"_blank\" href=https://colab.research.google.com/notebooks/data_table.ipynb>data table notebook</a>'\n",
              "            + ' to learn more about interactive tables.';\n",
              "          element.innerHTML = '';\n",
              "          dataTable['output_type'] = 'display_data';\n",
              "          await google.colab.output.renderOutput(dataTable, element);\n",
              "          const docLink = document.createElement('div');\n",
              "          docLink.innerHTML = docLinkHtml;\n",
              "          element.appendChild(docLink);\n",
              "        }\n",
              "      </script>\n",
              "    </div>\n",
              "  </div>\n",
              "  "
            ]
          },
          "metadata": {},
          "execution_count": 17
        }
      ]
    },
    {
      "cell_type": "code",
      "source": [
        "data.isnull().sum()"
      ],
      "metadata": {
        "colab": {
          "base_uri": "https://localhost:8080/"
        },
        "id": "vukHfN9BNLH3",
        "outputId": "506ba64f-7793-4c28-e5f4-9a563a20844f"
      },
      "id": "vukHfN9BNLH3",
      "execution_count": 18,
      "outputs": [
        {
          "output_type": "execute_result",
          "data": {
            "text/plain": [
              "NCT Number               0\n",
              "Status                   0\n",
              "Conditions               0\n",
              "Sponsor/Collaborators    0\n",
              "Age                      0\n",
              "Funded Bys               0\n",
              "Study Designs            0\n",
              "Locations                0\n",
              "links                    0\n",
              "dtype: int64"
            ]
          },
          "metadata": {},
          "execution_count": 18
        }
      ]
    },
    {
      "cell_type": "code",
      "execution_count": 19,
      "id": "29634da7",
      "metadata": {
        "colab": {
          "base_uri": "https://localhost:8080/",
          "height": 36
        },
        "id": "29634da7",
        "outputId": "f5fcd4d9-909f-4f68-c176-48e333d3aebb"
      },
      "outputs": [
        {
          "output_type": "execute_result",
          "data": {
            "text/plain": [
              "'Diabetes Mellitus, Type 1'"
            ],
            "application/vnd.google.colaboratory.intrinsic+json": {
              "type": "string"
            }
          },
          "metadata": {},
          "execution_count": 19
        }
      ],
      "source": [
        "data.Conditions[0]"
      ]
    },
    {
      "cell_type": "code",
      "source": [
        "data= data.rename(columns = {'Sponsor/Collaborators':'Sponsor','Funded Bys': 'Funded_Bys','Study Designs':'Study_Designs'})"
      ],
      "metadata": {
        "id": "StYFsP22Pw00"
      },
      "id": "StYFsP22Pw00",
      "execution_count": 20,
      "outputs": []
    },
    {
      "cell_type": "markdown",
      "source": [
        "###Text cleaning"
      ],
      "metadata": {
        "id": "vd31KT8YWURB"
      },
      "id": "vd31KT8YWURB"
    },
    {
      "cell_type": "code",
      "source": [
        "#Removed single pipe and brackets\n",
        "def listToStringWithoutBrackets(text):\n",
        "    return str(text).replace('[',' ').replace(']',' ')\n",
        "\n",
        "def listToStringWithoutpipe(text):\n",
        "    return str(text).replace('|',' ').replace('||',' ')"
      ],
      "metadata": {
        "id": "CCCVIWVkOEAQ"
      },
      "id": "CCCVIWVkOEAQ",
      "execution_count": 21,
      "outputs": []
    },
    {
      "cell_type": "code",
      "source": [
        "data[\"Conditions\"] = data.Conditions.apply(func = listToStringWithoutBrackets)\n",
        "data[\"Conditions\"] = data.Conditions.apply(func = listToStringWithoutpipe)\n",
        "\n",
        "data[\"Sponsor\"] = data.Sponsor.apply(func = listToStringWithoutBrackets)\n",
        "data[\"Sponsor\"] = data.Sponsor.apply(func = listToStringWithoutpipe)\n",
        "\n",
        "data[\"Age\"] = data.Age.apply(func = listToStringWithoutBrackets)\n",
        "data[\"Age\"] = data.Age.apply(func = listToStringWithoutpipe)\n",
        "\n",
        "data[\"Funded_Bys\"] = data.Funded_Bys.apply(func = listToStringWithoutBrackets)\n",
        "data[\"Funded_Bys\"] = data.Funded_Bys.apply(func = listToStringWithoutpipe)\n",
        "\n",
        "data[\"Study_Designs\"] = data.Study_Designs.apply(func = listToStringWithoutBrackets)\n",
        "data[\"Study_Designs\"] = data.Study_Designs.apply(func = listToStringWithoutpipe)\n",
        "\n",
        "data[\"Locations\"] = data.Locations.apply(func = listToStringWithoutBrackets)\n",
        "data[\"Locations\"] = data.Locations.apply(func = listToStringWithoutpipe)"
      ],
      "metadata": {
        "id": "i3tNZCwvXwM2"
      },
      "id": "i3tNZCwvXwM2",
      "execution_count": 22,
      "outputs": []
    },
    {
      "cell_type": "code",
      "source": [
        "#removed hyper links \n",
        "data[\"Conditions\"] = data[\"Conditions\"].apply(lambda x: re.sub(r'https?:\\/\\/.*?[\\s+]', '', x.replace(\"|\",\" \") + \" \"))\n",
        "data[\"Sponsor\"] = data[\"Sponsor\"].apply(lambda x: re.sub(r'https?:\\/\\/.*?[\\s+]', '', x.replace(\"|\",\" \") + \" \"))\n",
        "data[\"Age\"] = data[\"Age\"].apply(lambda x: re.sub(r'https?:\\/\\/.*?[\\s+]', '', x.replace(\"|\",\" \") + \" \"))\n",
        "data[\"Funded_Bys\"] = data[\"Funded_Bys\"].apply(lambda x: re.sub(r'https?:\\/\\/.*?[\\s+]', '', x.replace(\"|\",\" \") + \" \"))\n",
        "data[\"Study_Designs\"] = data[\"Study_Designs\"].apply(lambda x: re.sub(r'https?:\\/\\/.*?[\\s+]', '', x.replace(\"|\",\" \") + \" \"))\n",
        "data[\"Locations\"] = data[\"Locations\"].apply(lambda x: re.sub(r'https?:\\/\\/.*?[\\s+]', '', x.replace(\"|\",\" \") + \" \"))\n",
        "\n",
        "#Strip Punctation\n",
        "data[\"Conditions\"] = data[\"Conditions\"].apply(lambda x: re.sub(r'[\\.+]', \".\",x))\n",
        "data[\"Sponsor\"] = data[\"Sponsor\"].apply(lambda x: re.sub(r'[\\.+]', \".\",x))\n",
        "data[\"Age\"] = data[\"Age\"].apply(lambda x: re.sub(r'[\\.+]', \".\",x))\n",
        "data[\"Funded_Bys\"] = data[\"Funded_Bys\"].apply(lambda x: re.sub(r'[\\.+]', \".\",x))\n",
        "data[\"Study_Designs\"] = data[\"Study_Designs\"].apply(lambda x: re.sub(r'[\\.+]', \".\",x))\n",
        "data[\"Locations\"] = data[\"Locations\"].apply(lambda x: re.sub(r'[\\.+]', \".\",x))\n",
        "\n",
        "#Remove multiple fullstops\n",
        "data[\"Conditions\"] = data[\"Conditions\"].apply(lambda x: re.sub(r'[^\\w\\s]','',x))\n",
        "data[\"Sponsor\"] = data[\"Sponsor\"].apply(lambda x: re.sub(r'[^\\w\\s]','',x))\n",
        "data[\"Age\"] = data[\"Age\"].apply(lambda x: re.sub(r'[^\\w\\s]','',x))\n",
        "data[\"Funded_Bys\"] = data[\"Funded_Bys\"].apply(lambda x: re.sub(r'[^\\w\\s]','',x))\n",
        "data[\"Study_Designs\"] = data[\"Study_Designs\"].apply(lambda x: re.sub(r'[^\\w\\s]','',x))\n",
        "data[\"Locations\"] = data[\"Locations\"].apply(lambda x: re.sub(r'[^\\w\\s]','',x))\n",
        "\n",
        "#Remove Non-words\n",
        "#data[\"Conditions\"] = data[\"Conditions\"].apply(lambda x: re.sub(r'[^a-zA-Z\\s]','',x))\n",
        "data[\"Sponsor\"] = data[\"Sponsor\"].apply(lambda x: re.sub(r'[^a-zA-Z\\s]','',x))\n",
        "data[\"Age\"] = data[\"Age\"].apply(lambda x: re.sub(r'[^a-zA-Z\\s]','',x))\n",
        "data[\"Funded_Bys\"] = data[\"Funded_Bys\"].apply(lambda x: re.sub(r'[^a-zA-Z\\s]','',x))\n",
        "data[\"Study_Designs\"] = data[\"Study_Designs\"].apply(lambda x: re.sub(r'[^a-zA-Z\\s]','',x))\n",
        "data[\"Locations\"] = data[\"Locations\"].apply(lambda x: re.sub(r'[^a-zA-Z\\s]','',x))\n",
        "\n",
        "#Convert posts to lowercase\n",
        "data[\"Conditions\"] = data[\"Conditions\"].apply(lambda x: x.lower())\n",
        "data[\"Sponsor\"] = data[\"Sponsor\"].apply(lambda x: x.lower())\n",
        "data[\"Age\"] = data[\"Age\"].apply(lambda x: x.lower())\n",
        "data[\"Funded_Bys\"] = data[\"Funded_Bys\"].apply(lambda x: x.lower())\n",
        "data[\"Study_Designs\"] = data[\"Study_Designs\"].apply(lambda x: x.lower())\n",
        "data[\"Locations\"] = data[\"Locations\"].apply(lambda x: x.lower())\n",
        "\n",
        "#Remove multiple letter repeating words\n",
        "data[\"Conditions\"] = data[\"Conditions\"].apply(lambda x: re.sub(r'([a-z])\\1{2,}[\\s|\\w]*','',x)) \n",
        "data[\"Sponsor\"] = data[\"Sponsor\"].apply(lambda x: re.sub(r'([a-z])\\1{2,}[\\s|\\w]*','',x)) \n",
        "data[\"Age\"] = data[\"Age\"].apply(lambda x: re.sub(r'([a-z])\\1{2,}[\\s|\\w]*','',x)) \n",
        "data[\"Funded_Bys\"] = data[\"Funded_Bys\"].apply(lambda x: re.sub(r'([a-z])\\1{2,}[\\s|\\w]*','',x)) \n",
        "data[\"Study_Designs\"] = data[\"Study_Designs\"].apply(lambda x: re.sub(r'([a-z])\\1{2,}[\\s|\\w]*','',x)) \n",
        "data[\"Locations\"] = data[\"Locations\"].apply(lambda x: re.sub(r'([a-z])\\1{2,}[\\s|\\w]*','',x)) "
      ],
      "metadata": {
        "id": "QuA0ruiIOhvU"
      },
      "id": "QuA0ruiIOhvU",
      "execution_count": 23,
      "outputs": []
    },
    {
      "cell_type": "code",
      "source": [
        "data.isnull().sum()"
      ],
      "metadata": {
        "colab": {
          "base_uri": "https://localhost:8080/"
        },
        "id": "an4yZUzOTc9W",
        "outputId": "73a116fa-b293-4e91-f10f-d0d5bb5becab"
      },
      "id": "an4yZUzOTc9W",
      "execution_count": 24,
      "outputs": [
        {
          "output_type": "execute_result",
          "data": {
            "text/plain": [
              "NCT Number       0\n",
              "Status           0\n",
              "Conditions       0\n",
              "Sponsor          0\n",
              "Age              0\n",
              "Funded_Bys       0\n",
              "Study_Designs    0\n",
              "Locations        0\n",
              "links            0\n",
              "dtype: int64"
            ]
          },
          "metadata": {},
          "execution_count": 24
        }
      ]
    },
    {
      "cell_type": "code",
      "execution_count": 25,
      "id": "3c9c23c2",
      "metadata": {
        "colab": {
          "base_uri": "https://localhost:8080/",
          "height": 649
        },
        "id": "3c9c23c2",
        "outputId": "19eb98cb-dc45-442e-9063-97deb621198d"
      },
      "outputs": [
        {
          "output_type": "execute_result",
          "data": {
            "text/plain": [
              "    NCT Number         Status                         Conditions  \\\n",
              "0  NCT03763474      Completed          diabetes mellitus type 1    \n",
              "1  NCT05013294      Completed                          diabetes    \n",
              "2  NCT03108521      Completed                 diabetes mellitus    \n",
              "3  NCT02928952      Completed                 diabetes mellitus    \n",
              "4  NCT05106231  Not Completed  diabetes mellitus type2 diabetes    \n",
              "\n",
              "                                             Sponsor  \\\n",
              "0              aristotle university of thessaloniki    \n",
              "1  ku leuven jomo kenyatta university of agricult...   \n",
              "2               sichuan provincial peoples hospital    \n",
              "3             va office of research and development    \n",
              "4  clinical research centre malaysia ministry of ...   \n",
              "\n",
              "                                     Age Funded_Bys  \\\n",
              "0         years to  years   child adult      other    \n",
              "1               child adult older adult      other    \n",
              "2   years to  years   adult older adult      other    \n",
              "3   years and older   adult older adult     us fed    \n",
              "4   years and older   adult older adult      other    \n",
              "\n",
              "                                       Study_Designs  \\\n",
              "0  allocation randomized intervention model paral...   \n",
              "1  allocation randomized intervention model paral...   \n",
              "2  allocation nonrandomized intervention model pa...   \n",
              "3  allocation randomized intervention model paral...   \n",
              "4  allocation randomized intervention model facto...   \n",
              "\n",
              "                                           Locations  \\\n",
              "0  endocrine unit of rd department of pediatrics ...   \n",
              "1  jomo kenyatta university of agriculture and te...   \n",
              "2  sichuan provincial peoples hospital chengdu si...   \n",
              "3  va pittsburgh healthcare system university dri...   \n",
              "4  klinik kesihatan daro daro sarawak malaysia kl...   \n",
              "\n",
              "                                               links  \n",
              "0  https://ClinicalTrials.gov/ProvidedDocs/74/NCT...  \n",
              "1  https://ClinicalTrials.gov/ProvidedDocs/94/NCT...  \n",
              "2  https://ClinicalTrials.gov/ProvidedDocs/21/NCT...  \n",
              "3  https://ClinicalTrials.gov/ProvidedDocs/52/NCT...  \n",
              "4  https://ClinicalTrials.gov/ProvidedDocs/31/NCT...  "
            ],
            "text/html": [
              "\n",
              "  <div id=\"df-88372d4b-6283-42e6-82a2-52d07e034e0f\">\n",
              "    <div class=\"colab-df-container\">\n",
              "      <div>\n",
              "<style scoped>\n",
              "    .dataframe tbody tr th:only-of-type {\n",
              "        vertical-align: middle;\n",
              "    }\n",
              "\n",
              "    .dataframe tbody tr th {\n",
              "        vertical-align: top;\n",
              "    }\n",
              "\n",
              "    .dataframe thead th {\n",
              "        text-align: right;\n",
              "    }\n",
              "</style>\n",
              "<table border=\"1\" class=\"dataframe\">\n",
              "  <thead>\n",
              "    <tr style=\"text-align: right;\">\n",
              "      <th></th>\n",
              "      <th>NCT Number</th>\n",
              "      <th>Status</th>\n",
              "      <th>Conditions</th>\n",
              "      <th>Sponsor</th>\n",
              "      <th>Age</th>\n",
              "      <th>Funded_Bys</th>\n",
              "      <th>Study_Designs</th>\n",
              "      <th>Locations</th>\n",
              "      <th>links</th>\n",
              "    </tr>\n",
              "  </thead>\n",
              "  <tbody>\n",
              "    <tr>\n",
              "      <th>0</th>\n",
              "      <td>NCT03763474</td>\n",
              "      <td>Completed</td>\n",
              "      <td>diabetes mellitus type 1</td>\n",
              "      <td>aristotle university of thessaloniki</td>\n",
              "      <td>years to  years   child adult</td>\n",
              "      <td>other</td>\n",
              "      <td>allocation randomized intervention model paral...</td>\n",
              "      <td>endocrine unit of rd department of pediatrics ...</td>\n",
              "      <td>https://ClinicalTrials.gov/ProvidedDocs/74/NCT...</td>\n",
              "    </tr>\n",
              "    <tr>\n",
              "      <th>1</th>\n",
              "      <td>NCT05013294</td>\n",
              "      <td>Completed</td>\n",
              "      <td>diabetes</td>\n",
              "      <td>ku leuven jomo kenyatta university of agricult...</td>\n",
              "      <td>child adult older adult</td>\n",
              "      <td>other</td>\n",
              "      <td>allocation randomized intervention model paral...</td>\n",
              "      <td>jomo kenyatta university of agriculture and te...</td>\n",
              "      <td>https://ClinicalTrials.gov/ProvidedDocs/94/NCT...</td>\n",
              "    </tr>\n",
              "    <tr>\n",
              "      <th>2</th>\n",
              "      <td>NCT03108521</td>\n",
              "      <td>Completed</td>\n",
              "      <td>diabetes mellitus</td>\n",
              "      <td>sichuan provincial peoples hospital</td>\n",
              "      <td>years to  years   adult older adult</td>\n",
              "      <td>other</td>\n",
              "      <td>allocation nonrandomized intervention model pa...</td>\n",
              "      <td>sichuan provincial peoples hospital chengdu si...</td>\n",
              "      <td>https://ClinicalTrials.gov/ProvidedDocs/21/NCT...</td>\n",
              "    </tr>\n",
              "    <tr>\n",
              "      <th>3</th>\n",
              "      <td>NCT02928952</td>\n",
              "      <td>Completed</td>\n",
              "      <td>diabetes mellitus</td>\n",
              "      <td>va office of research and development</td>\n",
              "      <td>years and older   adult older adult</td>\n",
              "      <td>us fed</td>\n",
              "      <td>allocation randomized intervention model paral...</td>\n",
              "      <td>va pittsburgh healthcare system university dri...</td>\n",
              "      <td>https://ClinicalTrials.gov/ProvidedDocs/52/NCT...</td>\n",
              "    </tr>\n",
              "    <tr>\n",
              "      <th>4</th>\n",
              "      <td>NCT05106231</td>\n",
              "      <td>Not Completed</td>\n",
              "      <td>diabetes mellitus type2 diabetes</td>\n",
              "      <td>clinical research centre malaysia ministry of ...</td>\n",
              "      <td>years and older   adult older adult</td>\n",
              "      <td>other</td>\n",
              "      <td>allocation randomized intervention model facto...</td>\n",
              "      <td>klinik kesihatan daro daro sarawak malaysia kl...</td>\n",
              "      <td>https://ClinicalTrials.gov/ProvidedDocs/31/NCT...</td>\n",
              "    </tr>\n",
              "  </tbody>\n",
              "</table>\n",
              "</div>\n",
              "      <button class=\"colab-df-convert\" onclick=\"convertToInteractive('df-88372d4b-6283-42e6-82a2-52d07e034e0f')\"\n",
              "              title=\"Convert this dataframe to an interactive table.\"\n",
              "              style=\"display:none;\">\n",
              "        \n",
              "  <svg xmlns=\"http://www.w3.org/2000/svg\" height=\"24px\"viewBox=\"0 0 24 24\"\n",
              "       width=\"24px\">\n",
              "    <path d=\"M0 0h24v24H0V0z\" fill=\"none\"/>\n",
              "    <path d=\"M18.56 5.44l.94 2.06.94-2.06 2.06-.94-2.06-.94-.94-2.06-.94 2.06-2.06.94zm-11 1L8.5 8.5l.94-2.06 2.06-.94-2.06-.94L8.5 2.5l-.94 2.06-2.06.94zm10 10l.94 2.06.94-2.06 2.06-.94-2.06-.94-.94-2.06-.94 2.06-2.06.94z\"/><path d=\"M17.41 7.96l-1.37-1.37c-.4-.4-.92-.59-1.43-.59-.52 0-1.04.2-1.43.59L10.3 9.45l-7.72 7.72c-.78.78-.78 2.05 0 2.83L4 21.41c.39.39.9.59 1.41.59.51 0 1.02-.2 1.41-.59l7.78-7.78 2.81-2.81c.8-.78.8-2.07 0-2.86zM5.41 20L4 18.59l7.72-7.72 1.47 1.35L5.41 20z\"/>\n",
              "  </svg>\n",
              "      </button>\n",
              "      \n",
              "  <style>\n",
              "    .colab-df-container {\n",
              "      display:flex;\n",
              "      flex-wrap:wrap;\n",
              "      gap: 12px;\n",
              "    }\n",
              "\n",
              "    .colab-df-convert {\n",
              "      background-color: #E8F0FE;\n",
              "      border: none;\n",
              "      border-radius: 50%;\n",
              "      cursor: pointer;\n",
              "      display: none;\n",
              "      fill: #1967D2;\n",
              "      height: 32px;\n",
              "      padding: 0 0 0 0;\n",
              "      width: 32px;\n",
              "    }\n",
              "\n",
              "    .colab-df-convert:hover {\n",
              "      background-color: #E2EBFA;\n",
              "      box-shadow: 0px 1px 2px rgba(60, 64, 67, 0.3), 0px 1px 3px 1px rgba(60, 64, 67, 0.15);\n",
              "      fill: #174EA6;\n",
              "    }\n",
              "\n",
              "    [theme=dark] .colab-df-convert {\n",
              "      background-color: #3B4455;\n",
              "      fill: #D2E3FC;\n",
              "    }\n",
              "\n",
              "    [theme=dark] .colab-df-convert:hover {\n",
              "      background-color: #434B5C;\n",
              "      box-shadow: 0px 1px 3px 1px rgba(0, 0, 0, 0.15);\n",
              "      filter: drop-shadow(0px 1px 2px rgba(0, 0, 0, 0.3));\n",
              "      fill: #FFFFFF;\n",
              "    }\n",
              "  </style>\n",
              "\n",
              "      <script>\n",
              "        const buttonEl =\n",
              "          document.querySelector('#df-88372d4b-6283-42e6-82a2-52d07e034e0f button.colab-df-convert');\n",
              "        buttonEl.style.display =\n",
              "          google.colab.kernel.accessAllowed ? 'block' : 'none';\n",
              "\n",
              "        async function convertToInteractive(key) {\n",
              "          const element = document.querySelector('#df-88372d4b-6283-42e6-82a2-52d07e034e0f');\n",
              "          const dataTable =\n",
              "            await google.colab.kernel.invokeFunction('convertToInteractive',\n",
              "                                                     [key], {});\n",
              "          if (!dataTable) return;\n",
              "\n",
              "          const docLinkHtml = 'Like what you see? Visit the ' +\n",
              "            '<a target=\"_blank\" href=https://colab.research.google.com/notebooks/data_table.ipynb>data table notebook</a>'\n",
              "            + ' to learn more about interactive tables.';\n",
              "          element.innerHTML = '';\n",
              "          dataTable['output_type'] = 'display_data';\n",
              "          await google.colab.output.renderOutput(dataTable, element);\n",
              "          const docLink = document.createElement('div');\n",
              "          docLink.innerHTML = docLinkHtml;\n",
              "          element.appendChild(docLink);\n",
              "        }\n",
              "      </script>\n",
              "    </div>\n",
              "  </div>\n",
              "  "
            ]
          },
          "metadata": {},
          "execution_count": 25
        }
      ],
      "source": [
        "data.head(5)"
      ]
    },
    {
      "cell_type": "markdown",
      "source": [
        "#5. Save the transformed file"
      ],
      "metadata": {
        "id": "1--EoxjiZt2m"
      },
      "id": "1--EoxjiZt2m"
    },
    {
      "cell_type": "code",
      "source": [
        "os.chdir('/content/drive/MyDrive/Practicum/Final_folders/Submission/2.Data_preperation_done/')\n",
        "data.to_csv('data_cleaned_clinical_trial.csv')\n"
      ],
      "metadata": {
        "id": "Xjv6npEPWgPi"
      },
      "id": "Xjv6npEPWgPi",
      "execution_count": 27,
      "outputs": []
    }
  ],
  "metadata": {
    "kernelspec": {
      "display_name": "Python 3",
      "language": "python",
      "name": "python3"
    },
    "language_info": {
      "codemirror_mode": {
        "name": "ipython",
        "version": 3
      },
      "file_extension": ".py",
      "mimetype": "text/x-python",
      "name": "python",
      "nbconvert_exporter": "python",
      "pygments_lexer": "ipython3",
      "version": "3.8.8"
    },
    "colab": {
      "name": "Data_Cleaning.ipynb",
      "provenance": [],
      "collapsed_sections": [],
      "toc_visible": true
    },
    "accelerator": "GPU"
  },
  "nbformat": 4,
  "nbformat_minor": 5
}