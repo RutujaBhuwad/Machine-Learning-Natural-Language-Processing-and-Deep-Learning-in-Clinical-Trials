{
  "nbformat": 4,
  "nbformat_minor": 0,
  "metadata": {
    "colab": {
      "name": "Modeling.ipynb",
      "provenance": [],
      "collapsed_sections": [],
      "toc_visible": true
    },
    "kernelspec": {
      "name": "python3",
      "display_name": "Python 3"
    },
    "language_info": {
      "name": "python"
    }
  },
  "cells": [
    {
      "cell_type": "markdown",
      "source": [
        "#<font color='#3dc1d3'>  CLINICAL TRIAL - Machine Learning Model\n",
        "\n",
        "#Outline\n",
        "---\n",
        "# <font color='#3dc1d3'>  \n",
        "1. Install required library, import and read Dataset\n",
        "2. Combine attributes and rename the Feature and Target column\n",
        "3. Pre-Processing:\n",
        "    - Tokenize sentences\n",
        "    - Load pretrained genism Doc2Vec model\n",
        "    - Convert all text into lowercase and apply the doc2vec model to vectorize the column text\n",
        "4. Machine learning modelling:\n",
        "    > Spliting data into training and validation\n",
        "    \n",
        "    > k-fold: Cross Validation\n",
        "\n",
        "    > List of models : \n",
        "    - DecisionTreeClassifier, \n",
        "    - RandomForestClassifier, \n",
        "    - SVC\n",
        "    - LogisticRegression\n",
        "\n",
        "5. Result<br>\n",
        "    - Accuracy\n",
        "    - Precision\n",
        "    - Recall\n",
        "    - F1"
      ],
      "metadata": {
        "id": "usfKI4e8zunY"
      }
    },
    {
      "cell_type": "markdown",
      "source": [
        "#Install required library, import and read Dataset"
      ],
      "metadata": {
        "id": "Tf7AU41WDFHi"
      }
    },
    {
      "cell_type": "code",
      "execution_count": null,
      "metadata": {
        "id": "ZDhWPopDUJE9",
        "colab": {
          "base_uri": "https://localhost:8080/"
        },
        "outputId": "fcbdb5f3-6ad6-42aa-82fc-5d282051de69"
      },
      "outputs": [
        {
          "output_type": "stream",
          "name": "stderr",
          "text": [
            "[nltk_data] Downloading package punkt to /root/nltk_data...\n",
            "[nltk_data]   Package punkt is already up-to-date!\n"
          ]
        }
      ],
      "source": [
        "#Libraries\n",
        "import pandas as pd\n",
        "import nltk\n",
        "nltk.download('punkt')\n",
        "from nltk.tokenize import word_tokenize\n",
        "import numpy as np\n",
        "from sklearn.model_selection import train_test_split\n",
        "from sklearn.tree import DecisionTreeClassifier\n",
        "from sklearn.ensemble import RandomForestClassifier\n",
        "from sklearn.linear_model import LogisticRegression\n",
        "from sklearn.svm import SVC\n",
        "from sklearn.metrics import accuracy_score\n",
        "from sklearn.metrics import classification_report\n",
        "from sklearn.model_selection import cross_val_score\n",
        "from sklearn.model_selection import StratifiedKFold\n",
        "from sklearn.metrics import classification_report\n",
        "from sklearn.metrics import confusion_matrix"
      ]
    },
    {
      "cell_type": "code",
      "source": [
        "from google.colab import drive\n",
        "drive.mount('/content/drive')"
      ],
      "metadata": {
        "colab": {
          "base_uri": "https://localhost:8080/"
        },
        "id": "yY1Ny3ZwIZ4q",
        "outputId": "843b74b3-e0b5-438c-e036-d1c4960b33b2"
      },
      "execution_count": null,
      "outputs": [
        {
          "output_type": "stream",
          "name": "stdout",
          "text": [
            "Drive already mounted at /content/drive; to attempt to forcibly remount, call drive.mount(\"/content/drive\", force_remount=True).\n"
          ]
        }
      ]
    },
    {
      "cell_type": "code",
      "source": [
        "df= pd.read_csv(\"/content/drive/MyDrive/Practicum/Final_folders/Submission/modelling_ML/Full_dataset.csv\")\n",
        "df.head(2)"
      ],
      "metadata": {
        "id": "k3wMqW9oUWlB",
        "colab": {
          "base_uri": "https://localhost:8080/",
          "height": 367
        },
        "outputId": "813c3efe-d14e-4bca-da2e-f5c1c6514343"
      },
      "execution_count": null,
      "outputs": [
        {
          "output_type": "execute_result",
          "data": {
            "text/plain": [
              "   Unnamed: 0   NCT Number     Status                 Conditions  \\\n",
              "0           0  NCT03763474  Completed  diabetes mellitus type 1    \n",
              "1           1  NCT05013294  Completed                  diabetes    \n",
              "\n",
              "                                             Sponsor  \\\n",
              "0              aristotle university of thessaloniki    \n",
              "1  ku leuven jomo kenyatta university of agricult...   \n",
              "\n",
              "                               Age Funded_Bys  \\\n",
              "0   years to  years   child adult      other    \n",
              "1         child adult older adult      other    \n",
              "\n",
              "                                       Study_Designs  \\\n",
              "0  allocation randomized intervention model paral...   \n",
              "1  allocation randomized intervention model paral...   \n",
              "\n",
              "                                           Locations  \\\n",
              "0  endocrine unit of rd department of pediatrics ...   \n",
              "1  jomo kenyatta university of agriculture and te...   \n",
              "\n",
              "                    Summerised_pdf_based_on_keywords  \\\n",
              "0   -The former England captain is among the most...   \n",
              "1   The former England captain is among the most ...   \n",
              "\n",
              "                                               links  \n",
              "0  https://ClinicalTrials.gov/ProvidedDocs/74/NCT...  \n",
              "1  https://ClinicalTrials.gov/ProvidedDocs/94/NCT...  "
            ],
            "text/html": [
              "\n",
              "  <div id=\"df-788be898-dba8-4cde-aaf6-32e321c1bf8e\">\n",
              "    <div class=\"colab-df-container\">\n",
              "      <div>\n",
              "<style scoped>\n",
              "    .dataframe tbody tr th:only-of-type {\n",
              "        vertical-align: middle;\n",
              "    }\n",
              "\n",
              "    .dataframe tbody tr th {\n",
              "        vertical-align: top;\n",
              "    }\n",
              "\n",
              "    .dataframe thead th {\n",
              "        text-align: right;\n",
              "    }\n",
              "</style>\n",
              "<table border=\"1\" class=\"dataframe\">\n",
              "  <thead>\n",
              "    <tr style=\"text-align: right;\">\n",
              "      <th></th>\n",
              "      <th>Unnamed: 0</th>\n",
              "      <th>NCT Number</th>\n",
              "      <th>Status</th>\n",
              "      <th>Conditions</th>\n",
              "      <th>Sponsor</th>\n",
              "      <th>Age</th>\n",
              "      <th>Funded_Bys</th>\n",
              "      <th>Study_Designs</th>\n",
              "      <th>Locations</th>\n",
              "      <th>Summerised_pdf_based_on_keywords</th>\n",
              "      <th>links</th>\n",
              "    </tr>\n",
              "  </thead>\n",
              "  <tbody>\n",
              "    <tr>\n",
              "      <th>0</th>\n",
              "      <td>0</td>\n",
              "      <td>NCT03763474</td>\n",
              "      <td>Completed</td>\n",
              "      <td>diabetes mellitus type 1</td>\n",
              "      <td>aristotle university of thessaloniki</td>\n",
              "      <td>years to  years   child adult</td>\n",
              "      <td>other</td>\n",
              "      <td>allocation randomized intervention model paral...</td>\n",
              "      <td>endocrine unit of rd department of pediatrics ...</td>\n",
              "      <td>-The former England captain is among the most...</td>\n",
              "      <td>https://ClinicalTrials.gov/ProvidedDocs/74/NCT...</td>\n",
              "    </tr>\n",
              "    <tr>\n",
              "      <th>1</th>\n",
              "      <td>1</td>\n",
              "      <td>NCT05013294</td>\n",
              "      <td>Completed</td>\n",
              "      <td>diabetes</td>\n",
              "      <td>ku leuven jomo kenyatta university of agricult...</td>\n",
              "      <td>child adult older adult</td>\n",
              "      <td>other</td>\n",
              "      <td>allocation randomized intervention model paral...</td>\n",
              "      <td>jomo kenyatta university of agriculture and te...</td>\n",
              "      <td>The former England captain is among the most ...</td>\n",
              "      <td>https://ClinicalTrials.gov/ProvidedDocs/94/NCT...</td>\n",
              "    </tr>\n",
              "  </tbody>\n",
              "</table>\n",
              "</div>\n",
              "      <button class=\"colab-df-convert\" onclick=\"convertToInteractive('df-788be898-dba8-4cde-aaf6-32e321c1bf8e')\"\n",
              "              title=\"Convert this dataframe to an interactive table.\"\n",
              "              style=\"display:none;\">\n",
              "        \n",
              "  <svg xmlns=\"http://www.w3.org/2000/svg\" height=\"24px\"viewBox=\"0 0 24 24\"\n",
              "       width=\"24px\">\n",
              "    <path d=\"M0 0h24v24H0V0z\" fill=\"none\"/>\n",
              "    <path d=\"M18.56 5.44l.94 2.06.94-2.06 2.06-.94-2.06-.94-.94-2.06-.94 2.06-2.06.94zm-11 1L8.5 8.5l.94-2.06 2.06-.94-2.06-.94L8.5 2.5l-.94 2.06-2.06.94zm10 10l.94 2.06.94-2.06 2.06-.94-2.06-.94-.94-2.06-.94 2.06-2.06.94z\"/><path d=\"M17.41 7.96l-1.37-1.37c-.4-.4-.92-.59-1.43-.59-.52 0-1.04.2-1.43.59L10.3 9.45l-7.72 7.72c-.78.78-.78 2.05 0 2.83L4 21.41c.39.39.9.59 1.41.59.51 0 1.02-.2 1.41-.59l7.78-7.78 2.81-2.81c.8-.78.8-2.07 0-2.86zM5.41 20L4 18.59l7.72-7.72 1.47 1.35L5.41 20z\"/>\n",
              "  </svg>\n",
              "      </button>\n",
              "      \n",
              "  <style>\n",
              "    .colab-df-container {\n",
              "      display:flex;\n",
              "      flex-wrap:wrap;\n",
              "      gap: 12px;\n",
              "    }\n",
              "\n",
              "    .colab-df-convert {\n",
              "      background-color: #E8F0FE;\n",
              "      border: none;\n",
              "      border-radius: 50%;\n",
              "      cursor: pointer;\n",
              "      display: none;\n",
              "      fill: #1967D2;\n",
              "      height: 32px;\n",
              "      padding: 0 0 0 0;\n",
              "      width: 32px;\n",
              "    }\n",
              "\n",
              "    .colab-df-convert:hover {\n",
              "      background-color: #E2EBFA;\n",
              "      box-shadow: 0px 1px 2px rgba(60, 64, 67, 0.3), 0px 1px 3px 1px rgba(60, 64, 67, 0.15);\n",
              "      fill: #174EA6;\n",
              "    }\n",
              "\n",
              "    [theme=dark] .colab-df-convert {\n",
              "      background-color: #3B4455;\n",
              "      fill: #D2E3FC;\n",
              "    }\n",
              "\n",
              "    [theme=dark] .colab-df-convert:hover {\n",
              "      background-color: #434B5C;\n",
              "      box-shadow: 0px 1px 3px 1px rgba(0, 0, 0, 0.15);\n",
              "      filter: drop-shadow(0px 1px 2px rgba(0, 0, 0, 0.3));\n",
              "      fill: #FFFFFF;\n",
              "    }\n",
              "  </style>\n",
              "\n",
              "      <script>\n",
              "        const buttonEl =\n",
              "          document.querySelector('#df-788be898-dba8-4cde-aaf6-32e321c1bf8e button.colab-df-convert');\n",
              "        buttonEl.style.display =\n",
              "          google.colab.kernel.accessAllowed ? 'block' : 'none';\n",
              "\n",
              "        async function convertToInteractive(key) {\n",
              "          const element = document.querySelector('#df-788be898-dba8-4cde-aaf6-32e321c1bf8e');\n",
              "          const dataTable =\n",
              "            await google.colab.kernel.invokeFunction('convertToInteractive',\n",
              "                                                     [key], {});\n",
              "          if (!dataTable) return;\n",
              "\n",
              "          const docLinkHtml = 'Like what you see? Visit the ' +\n",
              "            '<a target=\"_blank\" href=https://colab.research.google.com/notebooks/data_table.ipynb>data table notebook</a>'\n",
              "            + ' to learn more about interactive tables.';\n",
              "          element.innerHTML = '';\n",
              "          dataTable['output_type'] = 'display_data';\n",
              "          await google.colab.output.renderOutput(dataTable, element);\n",
              "          const docLink = document.createElement('div');\n",
              "          docLink.innerHTML = docLinkHtml;\n",
              "          element.appendChild(docLink);\n",
              "        }\n",
              "      </script>\n",
              "    </div>\n",
              "  </div>\n",
              "  "
            ]
          },
          "metadata": {},
          "execution_count": 57
        }
      ]
    },
    {
      "cell_type": "markdown",
      "source": [
        "#Required column from dataframe:\n",
        "- Transform into feature vector column as text and target vector column as status for each NCT_Number that is for each clinical trial."
      ],
      "metadata": {
        "id": "1enAFA539Ibf"
      }
    },
    {
      "cell_type": "code",
      "source": [
        "df[\"text\"] = df[[\"Conditions\", \"Sponsor\",\"Age\",\"Funded_Bys\",\"Study_Designs\",\"Locations\",\"Summerised_pdf_based_on_keywords\"]].apply(\"-\".join, axis=1)\n",
        "dataframe= df[['NCT Number','text','Status']]\n",
        "dataframe= dataframe.rename(columns ={'NCT Number':\"NCT_Number\"})\n",
        "dataframe.head(2)"
      ],
      "metadata": {
        "colab": {
          "base_uri": "https://localhost:8080/",
          "height": 112
        },
        "id": "C00mSSkYUnKS",
        "outputId": "cd0ff73a-f5d2-4dd3-e16c-fbf2f1b47b01"
      },
      "execution_count": null,
      "outputs": [
        {
          "output_type": "execute_result",
          "data": {
            "text/plain": [
              "    NCT_Number                                               text     Status\n",
              "0  NCT03763474  diabetes mellitus type 1 -aristotle university...  Completed\n",
              "1  NCT05013294  diabetes -ku leuven jomo kenyatta university o...  Completed"
            ],
            "text/html": [
              "\n",
              "  <div id=\"df-54b199f7-d12a-417a-8e96-1039480ac643\">\n",
              "    <div class=\"colab-df-container\">\n",
              "      <div>\n",
              "<style scoped>\n",
              "    .dataframe tbody tr th:only-of-type {\n",
              "        vertical-align: middle;\n",
              "    }\n",
              "\n",
              "    .dataframe tbody tr th {\n",
              "        vertical-align: top;\n",
              "    }\n",
              "\n",
              "    .dataframe thead th {\n",
              "        text-align: right;\n",
              "    }\n",
              "</style>\n",
              "<table border=\"1\" class=\"dataframe\">\n",
              "  <thead>\n",
              "    <tr style=\"text-align: right;\">\n",
              "      <th></th>\n",
              "      <th>NCT_Number</th>\n",
              "      <th>text</th>\n",
              "      <th>Status</th>\n",
              "    </tr>\n",
              "  </thead>\n",
              "  <tbody>\n",
              "    <tr>\n",
              "      <th>0</th>\n",
              "      <td>NCT03763474</td>\n",
              "      <td>diabetes mellitus type 1 -aristotle university...</td>\n",
              "      <td>Completed</td>\n",
              "    </tr>\n",
              "    <tr>\n",
              "      <th>1</th>\n",
              "      <td>NCT05013294</td>\n",
              "      <td>diabetes -ku leuven jomo kenyatta university o...</td>\n",
              "      <td>Completed</td>\n",
              "    </tr>\n",
              "  </tbody>\n",
              "</table>\n",
              "</div>\n",
              "      <button class=\"colab-df-convert\" onclick=\"convertToInteractive('df-54b199f7-d12a-417a-8e96-1039480ac643')\"\n",
              "              title=\"Convert this dataframe to an interactive table.\"\n",
              "              style=\"display:none;\">\n",
              "        \n",
              "  <svg xmlns=\"http://www.w3.org/2000/svg\" height=\"24px\"viewBox=\"0 0 24 24\"\n",
              "       width=\"24px\">\n",
              "    <path d=\"M0 0h24v24H0V0z\" fill=\"none\"/>\n",
              "    <path d=\"M18.56 5.44l.94 2.06.94-2.06 2.06-.94-2.06-.94-.94-2.06-.94 2.06-2.06.94zm-11 1L8.5 8.5l.94-2.06 2.06-.94-2.06-.94L8.5 2.5l-.94 2.06-2.06.94zm10 10l.94 2.06.94-2.06 2.06-.94-2.06-.94-.94-2.06-.94 2.06-2.06.94z\"/><path d=\"M17.41 7.96l-1.37-1.37c-.4-.4-.92-.59-1.43-.59-.52 0-1.04.2-1.43.59L10.3 9.45l-7.72 7.72c-.78.78-.78 2.05 0 2.83L4 21.41c.39.39.9.59 1.41.59.51 0 1.02-.2 1.41-.59l7.78-7.78 2.81-2.81c.8-.78.8-2.07 0-2.86zM5.41 20L4 18.59l7.72-7.72 1.47 1.35L5.41 20z\"/>\n",
              "  </svg>\n",
              "      </button>\n",
              "      \n",
              "  <style>\n",
              "    .colab-df-container {\n",
              "      display:flex;\n",
              "      flex-wrap:wrap;\n",
              "      gap: 12px;\n",
              "    }\n",
              "\n",
              "    .colab-df-convert {\n",
              "      background-color: #E8F0FE;\n",
              "      border: none;\n",
              "      border-radius: 50%;\n",
              "      cursor: pointer;\n",
              "      display: none;\n",
              "      fill: #1967D2;\n",
              "      height: 32px;\n",
              "      padding: 0 0 0 0;\n",
              "      width: 32px;\n",
              "    }\n",
              "\n",
              "    .colab-df-convert:hover {\n",
              "      background-color: #E2EBFA;\n",
              "      box-shadow: 0px 1px 2px rgba(60, 64, 67, 0.3), 0px 1px 3px 1px rgba(60, 64, 67, 0.15);\n",
              "      fill: #174EA6;\n",
              "    }\n",
              "\n",
              "    [theme=dark] .colab-df-convert {\n",
              "      background-color: #3B4455;\n",
              "      fill: #D2E3FC;\n",
              "    }\n",
              "\n",
              "    [theme=dark] .colab-df-convert:hover {\n",
              "      background-color: #434B5C;\n",
              "      box-shadow: 0px 1px 3px 1px rgba(0, 0, 0, 0.15);\n",
              "      filter: drop-shadow(0px 1px 2px rgba(0, 0, 0, 0.3));\n",
              "      fill: #FFFFFF;\n",
              "    }\n",
              "  </style>\n",
              "\n",
              "      <script>\n",
              "        const buttonEl =\n",
              "          document.querySelector('#df-54b199f7-d12a-417a-8e96-1039480ac643 button.colab-df-convert');\n",
              "        buttonEl.style.display =\n",
              "          google.colab.kernel.accessAllowed ? 'block' : 'none';\n",
              "\n",
              "        async function convertToInteractive(key) {\n",
              "          const element = document.querySelector('#df-54b199f7-d12a-417a-8e96-1039480ac643');\n",
              "          const dataTable =\n",
              "            await google.colab.kernel.invokeFunction('convertToInteractive',\n",
              "                                                     [key], {});\n",
              "          if (!dataTable) return;\n",
              "\n",
              "          const docLinkHtml = 'Like what you see? Visit the ' +\n",
              "            '<a target=\"_blank\" href=https://colab.research.google.com/notebooks/data_table.ipynb>data table notebook</a>'\n",
              "            + ' to learn more about interactive tables.';\n",
              "          element.innerHTML = '';\n",
              "          dataTable['output_type'] = 'display_data';\n",
              "          await google.colab.output.renderOutput(dataTable, element);\n",
              "          const docLink = document.createElement('div');\n",
              "          docLink.innerHTML = docLinkHtml;\n",
              "          element.appendChild(docLink);\n",
              "        }\n",
              "      </script>\n",
              "    </div>\n",
              "  </div>\n",
              "  "
            ]
          },
          "metadata": {},
          "execution_count": 58
        }
      ]
    },
    {
      "cell_type": "code",
      "source": [
        "dataframe['Status'] = dataframe['Status'].map({'Completed': 1, 'Not Completed': 0})"
      ],
      "metadata": {
        "id": "2_VhoztKwpMG"
      },
      "execution_count": null,
      "outputs": []
    },
    {
      "cell_type": "markdown",
      "source": [
        "#Modelling"
      ],
      "metadata": {
        "id": "XlRLhhgqDKcI"
      }
    },
    {
      "cell_type": "markdown",
      "source": [
        "##Tokenize sentences"
      ],
      "metadata": {
        "id": "wZ1S0bnw6lPD"
      }
    },
    {
      "cell_type": "code",
      "source": [
        "sentences=dataframe['text'].tolist()\n",
        "tok_sent = []\n",
        "for s in sentences:\n",
        "    tok_sent.append(word_tokenize(s.lower()))"
      ],
      "metadata": {
        "id": "RwkwXV1xVNgS"
      },
      "execution_count": null,
      "outputs": []
    },
    {
      "cell_type": "markdown",
      "source": [
        "##Load pretrained genism Doc2Vec model"
      ],
      "metadata": {
        "id": "gvgwNiA66sTt"
      }
    },
    {
      "cell_type": "code",
      "source": [
        "from gensim.models.doc2vec import Doc2Vec, TaggedDocument\n",
        "tagged_data = [TaggedDocument(d, [i]) for i, d in enumerate(tok_sent)]"
      ],
      "metadata": {
        "id": "1snTHcO8VVio"
      },
      "execution_count": null,
      "outputs": []
    },
    {
      "cell_type": "code",
      "source": [
        "model = Doc2Vec(tagged_data, vector_size = 5, window = 2, min_count = 1, epochs = 1000)"
      ],
      "metadata": {
        "id": "EPjJJYGFVZc4"
      },
      "execution_count": null,
      "outputs": []
    },
    {
      "cell_type": "markdown",
      "source": [
        "##Convert all text into lowercase and apply the doc2vec model to vectorize the column text"
      ],
      "metadata": {
        "id": "8mtoFUfn7HeP"
      }
    },
    {
      "cell_type": "code",
      "source": [
        "sentence=dataframe['text'][0]\n",
        "\n",
        "test_doc = word_tokenize(sentence.lower())\n",
        "test_doc_vector = model.infer_vector(test_doc)\n",
        "\n",
        "def text_to_array(df: pd.DataFrame):\n",
        "    text_list=[]\n",
        "    for _,row in df.iterrows():\n",
        "        text_vector=model.infer_vector(word_tokenize(row['text'].lower()))\n",
        "        text_list.append(text_vector)\n",
        "    return(np.array(text_list))"
      ],
      "metadata": {
        "id": "L1blc4OJVdY7"
      },
      "execution_count": null,
      "outputs": []
    },
    {
      "cell_type": "markdown",
      "source": [
        "# Obtained vector for text data using Doc2Vec "
      ],
      "metadata": {
        "id": "xvNgoxftNZ6T"
      }
    },
    {
      "cell_type": "code",
      "source": [
        "text_array= text_to_array(dataframe)"
      ],
      "metadata": {
        "id": "H8J4A5QRV5r-"
      },
      "execution_count": null,
      "outputs": []
    },
    {
      "cell_type": "code",
      "source": [
        "X = text_array\n",
        "Y=dataframe['Status'].to_numpy()"
      ],
      "metadata": {
        "colab": {
          "base_uri": "https://localhost:8080/"
        },
        "id": "sN3tboHuWAac",
        "outputId": "70c172eb-bb63-45d1-da2f-69a605c6224f"
      },
      "execution_count": null,
      "outputs": [
        {
          "output_type": "stream",
          "name": "stdout",
          "text": [
            "(363, 5)\n",
            "(363,)\n"
          ]
        }
      ]
    },
    {
      "cell_type": "code",
      "source": [
        "print(X)\n",
        "print(Y)"
      ],
      "metadata": {
        "colab": {
          "base_uri": "https://localhost:8080/"
        },
        "id": "Ca0bLGglaFal",
        "outputId": "a6498af5-049f-4003-f956-9e413d0c0bda"
      },
      "execution_count": null,
      "outputs": [
        {
          "output_type": "stream",
          "name": "stdout",
          "text": [
            "[[ 1.497994    1.1934664   1.9280154   1.1846226   0.13251962]\n",
            " [ 1.0638301   2.3907447   2.0549786   0.7462042  -0.2883812 ]\n",
            " [ 0.9122217   2.0932562   4.236477    0.80196506 -0.17591155]\n",
            " ...\n",
            " [ 0.858576    1.4652501   0.7683924   1.5630264  -0.74809825]\n",
            " [ 1.8869973   0.44585297 -0.13334319  1.7142289  -0.04603564]\n",
            " [-0.33040267  2.256687    2.2843857   1.2810794  -0.43557316]]\n",
            "['Completed' 'Completed' 'Completed' 'Not Completed' 'Completed'\n",
            " 'Completed' 'Completed' 'Completed' 'Completed' 'Completed'\n",
            " 'Not Completed' 'Completed' 'Completed' 'Completed' 'Completed'\n",
            " 'Completed' 'Completed' 'Completed' 'Completed' 'Completed'\n",
            " 'Not Completed' 'Completed' 'Not Completed' 'Not Completed'\n",
            " 'Not Completed' 'Not Completed' 'Not Completed' 'Not Completed'\n",
            " 'Completed' 'Not Completed' 'Completed' 'Not Completed' 'Not Completed'\n",
            " 'Completed' 'Completed' 'Completed' 'Completed' 'Completed' 'Completed'\n",
            " 'Completed' 'Completed' 'Completed' 'Completed' 'Completed' 'Completed'\n",
            " 'Completed' 'Completed' 'Completed' 'Completed' 'Not Completed'\n",
            " 'Not Completed' 'Not Completed' 'Completed' 'Not Completed' 'Completed'\n",
            " 'Completed' 'Completed' 'Completed' 'Completed' 'Completed' 'Completed'\n",
            " 'Completed' 'Completed' 'Not Completed' 'Not Completed' 'Completed'\n",
            " 'Not Completed' 'Completed' 'Completed' 'Completed' 'Completed'\n",
            " 'Completed' 'Completed' 'Completed' 'Completed' 'Completed'\n",
            " 'Not Completed' 'Not Completed' 'Not Completed' 'Not Completed'\n",
            " 'Completed' 'Completed' 'Completed' 'Completed' 'Completed' 'Completed'\n",
            " 'Not Completed' 'Not Completed' 'Not Completed' 'Not Completed'\n",
            " 'Completed' 'Completed' 'Completed' 'Completed' 'Completed' 'Completed'\n",
            " 'Completed' 'Completed' 'Completed' 'Completed' 'Completed' 'Completed'\n",
            " 'Completed' 'Completed' 'Completed' 'Completed' 'Completed' 'Completed'\n",
            " 'Completed' 'Completed' 'Not Completed' 'Not Completed' 'Completed'\n",
            " 'Completed' 'Completed' 'Completed' 'Completed' 'Completed'\n",
            " 'Not Completed' 'Not Completed' 'Completed' 'Completed' 'Completed'\n",
            " 'Completed' 'Completed' 'Completed' 'Completed' 'Completed' 'Completed'\n",
            " 'Completed' 'Completed' 'Completed' 'Completed' 'Completed' 'Completed'\n",
            " 'Completed' 'Completed' 'Completed' 'Completed' 'Completed' 'Completed'\n",
            " 'Completed' 'Completed' 'Completed' 'Completed' 'Completed' 'Completed'\n",
            " 'Completed' 'Completed' 'Completed' 'Completed' 'Completed' 'Completed'\n",
            " 'Completed' 'Completed' 'Completed' 'Completed' 'Completed' 'Completed'\n",
            " 'Completed' 'Completed' 'Not Completed' 'Not Completed' 'Completed'\n",
            " 'Completed' 'Not Completed' 'Not Completed' 'Completed' 'Completed'\n",
            " 'Completed' 'Completed' 'Not Completed' 'Not Completed' 'Completed'\n",
            " 'Completed' 'Not Completed' 'Not Completed' 'Completed' 'Completed'\n",
            " 'Completed' 'Completed' 'Completed' 'Not Completed' 'Not Completed'\n",
            " 'Completed' 'Completed' 'Completed' 'Completed' 'Completed' 'Completed'\n",
            " 'Completed' 'Completed' 'Completed' 'Completed' 'Not Completed'\n",
            " 'Not Completed' 'Completed' 'Completed' 'Completed' 'Completed'\n",
            " 'Completed' 'Completed' 'Not Completed' 'Not Completed' 'Completed'\n",
            " 'Not Completed' 'Completed' 'Completed' 'Not Completed' 'Completed'\n",
            " 'Completed' 'Completed' 'Completed' 'Completed' 'Completed' 'Completed'\n",
            " 'Completed' 'Completed' 'Completed' 'Completed' 'Completed' 'Completed'\n",
            " 'Not Completed' 'Completed' 'Completed' 'Completed' 'Completed'\n",
            " 'Completed' 'Completed' 'Completed' 'Completed' 'Completed' 'Completed'\n",
            " 'Not Completed' 'Completed' 'Completed' 'Completed' 'Completed'\n",
            " 'Completed' 'Completed' 'Completed' 'Not Completed' 'Completed'\n",
            " 'Not Completed' 'Not Completed' 'Not Completed' 'Not Completed'\n",
            " 'Not Completed' 'Not Completed' 'Not Completed' 'Not Completed'\n",
            " 'Not Completed' 'Not Completed' 'Not Completed' 'Not Completed'\n",
            " 'Not Completed' 'Not Completed' 'Not Completed' 'Not Completed'\n",
            " 'Not Completed' 'Not Completed' 'Not Completed' 'Not Completed'\n",
            " 'Not Completed' 'Not Completed' 'Not Completed' 'Not Completed'\n",
            " 'Not Completed' 'Not Completed' 'Not Completed' 'Not Completed'\n",
            " 'Not Completed' 'Not Completed' 'Not Completed' 'Not Completed'\n",
            " 'Not Completed' 'Not Completed' 'Not Completed' 'Not Completed'\n",
            " 'Not Completed' 'Not Completed' 'Not Completed' 'Not Completed'\n",
            " 'Not Completed' 'Not Completed' 'Not Completed' 'Not Completed'\n",
            " 'Not Completed' 'Not Completed' 'Not Completed' 'Not Completed'\n",
            " 'Not Completed' 'Not Completed' 'Not Completed' 'Not Completed'\n",
            " 'Not Completed' 'Not Completed' 'Not Completed' 'Not Completed'\n",
            " 'Not Completed' 'Not Completed' 'Not Completed' 'Not Completed'\n",
            " 'Not Completed' 'Not Completed' 'Not Completed' 'Not Completed'\n",
            " 'Not Completed' 'Not Completed' 'Not Completed' 'Not Completed'\n",
            " 'Not Completed' 'Not Completed' 'Not Completed' 'Not Completed'\n",
            " 'Not Completed' 'Not Completed' 'Not Completed' 'Not Completed'\n",
            " 'Not Completed' 'Not Completed' 'Not Completed' 'Not Completed'\n",
            " 'Not Completed' 'Not Completed' 'Not Completed' 'Not Completed'\n",
            " 'Not Completed' 'Not Completed' 'Not Completed' 'Not Completed'\n",
            " 'Not Completed' 'Not Completed' 'Not Completed' 'Not Completed'\n",
            " 'Not Completed' 'Not Completed' 'Not Completed' 'Not Completed'\n",
            " 'Not Completed' 'Not Completed' 'Not Completed' 'Not Completed'\n",
            " 'Not Completed' 'Not Completed' 'Not Completed' 'Not Completed'\n",
            " 'Not Completed' 'Not Completed' 'Not Completed' 'Not Completed'\n",
            " 'Not Completed' 'Not Completed' 'Not Completed' 'Not Completed'\n",
            " 'Not Completed' 'Not Completed' 'Not Completed' 'Not Completed'\n",
            " 'Not Completed' 'Not Completed' 'Not Completed' 'Not Completed']\n"
          ]
        }
      ]
    },
    {
      "cell_type": "markdown",
      "source": [
        "#Modelling Steps"
      ],
      "metadata": {
        "id": "4Ud-6HenD6r5"
      }
    },
    {
      "cell_type": "markdown",
      "source": [
        "##Separating data into training and test"
      ],
      "metadata": {
        "id": "MgMHMY9OCc96"
      }
    },
    {
      "cell_type": "code",
      "source": [
        "X_train, X_validation, Y_train, Y_validation = train_test_split(X, Y, test_size=0.20, random_state=1)"
      ],
      "metadata": {
        "id": "BPdeTEjxINwn"
      },
      "execution_count": null,
      "outputs": []
    },
    {
      "cell_type": "markdown",
      "source": [
        "#Machine Learning Algorithms"
      ],
      "metadata": {
        "id": "n9p-5C65noYS"
      }
    },
    {
      "cell_type": "code",
      "source": [
        "#Algorithms\n",
        "models = []\n",
        "models.append(('LR', LogisticRegression(solver='liblinear', multi_class='ovr')))\n",
        "models.append(('CART', DecisionTreeClassifier()))\n",
        "models.append(('SVM', SVC(gamma='auto')))\n",
        "models.append(('RandomForest', RandomForestClassifier()))\n",
        "# evaluate each model in turn\n",
        "results = []\n",
        "names = []\n",
        "for name, model in models:\n",
        "\tkfold = StratifiedKFold(n_splits=10, random_state=1, shuffle=True)\n",
        "\tcv_results = cross_val_score(model, X_train, Y_train, cv=kfold, scoring='accuracy')\n",
        "\tresults.append(cv_results)\n",
        "\tnames.append(name)"
      ],
      "metadata": {
        "id": "njE-2TtYIB6C"
      },
      "execution_count": null,
      "outputs": []
    },
    {
      "cell_type": "markdown",
      "source": [
        "##1. SVC"
      ],
      "metadata": {
        "id": "MYhVskH4MYa6"
      }
    },
    {
      "cell_type": "code",
      "source": [
        "# make predictions\n",
        "model = SVC(gamma='auto')\n",
        "model.fit(X_train, Y_train)\n",
        "predictions = model.predict(X_validation)\n",
        "# Evaluate predictions\n",
        "print(accuracy_score(Y_validation, predictions))\n",
        "print(confusion_matrix(Y_validation, predictions))\n",
        "print(classification_report(Y_validation, predictions))"
      ],
      "metadata": {
        "colab": {
          "base_uri": "https://localhost:8080/"
        },
        "id": "_le24NZtJudY",
        "outputId": "2306218e-c683-4988-c36a-c5f34792295a"
      },
      "execution_count": null,
      "outputs": [
        {
          "output_type": "stream",
          "name": "stdout",
          "text": [
            "0.6027397260273972\n",
            "[[19 21]\n",
            " [ 8 25]]\n",
            "               precision    recall  f1-score   support\n",
            "\n",
            "    Completed       0.70      0.47      0.57        40\n",
            "Not Completed       0.54      0.76      0.63        33\n",
            "\n",
            "     accuracy                           0.60        73\n",
            "    macro avg       0.62      0.62      0.60        73\n",
            " weighted avg       0.63      0.60      0.60        73\n",
            "\n"
          ]
        }
      ]
    },
    {
      "cell_type": "markdown",
      "source": [
        "## 2. logistic Regression"
      ],
      "metadata": {
        "id": "vOkiNMUWMas_"
      }
    },
    {
      "cell_type": "code",
      "source": [
        "#make prediction\n",
        "model = LogisticRegression()\n",
        "model.fit(X_train, Y_train)\n",
        "predictions = model.predict(X_validation)\n",
        "# Evaluate predictions\n",
        "print(accuracy_score(Y_validation, predictions))\n",
        "print(confusion_matrix(Y_validation, predictions))\n",
        "print(classification_report(Y_validation, predictions))"
      ],
      "metadata": {
        "colab": {
          "base_uri": "https://localhost:8080/"
        },
        "id": "BA7dVVLgKQ_-",
        "outputId": "fa4fbe07-bb23-4a0e-bcf6-716c0665621b"
      },
      "execution_count": null,
      "outputs": [
        {
          "output_type": "stream",
          "name": "stdout",
          "text": [
            "0.5616438356164384\n",
            "[[24 16]\n",
            " [16 17]]\n",
            "               precision    recall  f1-score   support\n",
            "\n",
            "    Completed       0.60      0.60      0.60        40\n",
            "Not Completed       0.52      0.52      0.52        33\n",
            "\n",
            "     accuracy                           0.56        73\n",
            "    macro avg       0.56      0.56      0.56        73\n",
            " weighted avg       0.56      0.56      0.56        73\n",
            "\n"
          ]
        }
      ]
    },
    {
      "cell_type": "markdown",
      "source": [
        "## 3. Decision Tree Classifier"
      ],
      "metadata": {
        "id": "KYn5XYwkMiiw"
      }
    },
    {
      "cell_type": "code",
      "source": [
        "# make predictions\n",
        "model = DecisionTreeClassifier()\n",
        "model.fit(X_train, Y_train)\n",
        "predictions = model.predict(X_validation)\n",
        "# Evaluate predictions\n",
        "print(accuracy_score(Y_validation, predictions))\n",
        "print(confusion_matrix(Y_validation, predictions))\n",
        "print(classification_report(Y_validation, predictions))"
      ],
      "metadata": {
        "colab": {
          "base_uri": "https://localhost:8080/"
        },
        "id": "BCwV9hhcJU7b",
        "outputId": "08256843-a637-416f-8bf7-7445bb89e8e3"
      },
      "execution_count": null,
      "outputs": [
        {
          "output_type": "stream",
          "name": "stdout",
          "text": [
            "0.5342465753424658\n",
            "[[20 20]\n",
            " [14 19]]\n",
            "               precision    recall  f1-score   support\n",
            "\n",
            "    Completed       0.59      0.50      0.54        40\n",
            "Not Completed       0.49      0.58      0.53        33\n",
            "\n",
            "     accuracy                           0.53        73\n",
            "    macro avg       0.54      0.54      0.53        73\n",
            " weighted avg       0.54      0.53      0.53        73\n",
            "\n"
          ]
        }
      ]
    },
    {
      "cell_type": "markdown",
      "source": [
        "## 4. Random Forest Classifier"
      ],
      "metadata": {
        "id": "l90TkkqYMrG-"
      }
    },
    {
      "cell_type": "code",
      "source": [
        "# make predictions\n",
        "model = RandomForestClassifier()\n",
        "model.fit(X_train, Y_train)\n",
        "predictions = model.predict(X_validation)\n",
        "# Evaluate predictions\n",
        "print(accuracy_score(Y_validation, predictions))\n",
        "print(confusion_matrix(Y_validation, predictions))\n",
        "print(classification_report(Y_validation, predictions))"
      ],
      "metadata": {
        "colab": {
          "base_uri": "https://localhost:8080/"
        },
        "id": "bIJgewb3Joh4",
        "outputId": "2ac198a4-da9b-4bb3-b272-3d6771b339e3"
      },
      "execution_count": null,
      "outputs": [
        {
          "output_type": "stream",
          "name": "stdout",
          "text": [
            "0.6438356164383562\n",
            "[[26 14]\n",
            " [12 21]]\n",
            "               precision    recall  f1-score   support\n",
            "\n",
            "    Completed       0.68      0.65      0.67        40\n",
            "Not Completed       0.60      0.64      0.62        33\n",
            "\n",
            "     accuracy                           0.64        73\n",
            "    macro avg       0.64      0.64      0.64        73\n",
            " weighted avg       0.65      0.64      0.64        73\n",
            "\n"
          ]
        }
      ]
    },
    {
      "cell_type": "markdown",
      "source": [
        "#Results\n",
        "\n",
        "Models | Accuracy(%) \n",
        "--- | --- \n",
        "Random Forest Classifier | 64.38 \n",
        "Logistic Regression |  56.16\n",
        "Decision Tree Classifier | 53.42 \n",
        "SVC | 60.27\n",
        "\n",
        "\n",
        "Out of all the models, Random Forest classifier had the highest accuracy, at 64.38 percent. The lowest accuracy was provided by the Decision Tree classifier, which was 53.42 percent. While Support Vector Classifier and Logistic Regression both provided results of 60.27 percent and 56.16 percent, respectively."
      ],
      "metadata": {
        "id": "3OCevcxsObGG"
      }
    }
  ]
}