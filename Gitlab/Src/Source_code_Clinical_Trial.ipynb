{
  "cells": [
    {
      "cell_type": "markdown",
      "source": [
        "#<font color='#3dc1d3'>  NLP to summarize the Protocol Document and ML to predict the trial's completion\n",
        "#Outline\n",
        "---\n",
        "# <font color='#3dc1d3'>  \n",
        "#<font color='#3dc1d3'>  Section 1:\n",
        "1.1. Exploratory Data Analysis\n",
        "\n",
        "1.2. Data Preparation\n",
        "#<font color='#3dc1d3'>  Section 2:\n",
        "2.1. Information Extraction\n",
        "\n",
        "2.2. Text Summarization using longformer\n",
        "#<font color='#3dc1d3'>  Section 3:\n",
        "3.1 Modelling\n",
        "\n",
        "3.2 Results <br>\n"
      ],
      "metadata": {
        "id": "2_ghaiA1Sexi"
      }
    },
    {
      "cell_type": "markdown",
      "metadata": {
        "id": "qnMZwHxpU0FB"
      },
      "source": [
        "# Section 1\n"
      ]
    },
    {
      "cell_type": "markdown",
      "source": [
        "##<font color='#3dc1d3'> 1.1 EXPLORATORY DATA ANALYSIS\n",
        "\n",
        "#Outline\n",
        "---\n",
        "# <font color='#3dc1d3'>  \n",
        "1. Importing necessary libraries\n",
        "2. Regarding the Dataset\n",
        "3. Studying the top 10 conditions in depth\n",
        "5. Top 10 disease <br>"
      ],
      "metadata": {
        "id": "7YpLdthbTgTw"
      }
    },
    {
      "cell_type": "markdown",
      "metadata": {
        "id": "F3_hWL6dVFFS"
      },
      "source": [
        "###1. Importing necessary libraries"
      ]
    },
    {
      "cell_type": "code",
      "execution_count": null,
      "metadata": {
        "id": "4XRMGw59Znzq"
      },
      "outputs": [],
      "source": [
        "import pandas as pd\n",
        "import numpy as np\n",
        "import seaborn as sns\n",
        "import matplotlib.pyplot as plt\n",
        "import matplotlib.pyplot as plt\n",
        "import seaborn as sns"
      ]
    },
    {
      "cell_type": "code",
      "execution_count": null,
      "metadata": {
        "colab": {
          "base_uri": "https://localhost:8080/"
        },
        "id": "UXzv9dEJVQ80",
        "outputId": "6a387ce8-ed3b-4c63-dcbe-62fc697cef04"
      },
      "outputs": [
        {
          "name": "stdout",
          "output_type": "stream",
          "text": [
            "Mounted at /content/drive\n"
          ]
        }
      ],
      "source": [
        "from google.colab import drive\n",
        "drive.mount('/content/drive')"
      ]
    },
    {
      "cell_type": "markdown",
      "metadata": {
        "id": "60JoacTjbRA8"
      },
      "source": [
        "### Regarding the Dataset\n",
        "\n",
        "*   The data below reflects each disease's total number of unique documents.\n",
        "*   Detailed EDA performed to understand the dataset regarding the protocol document."
      ]
    },
    {
      "cell_type": "code",
      "execution_count": null,
      "metadata": {
        "colab": {
          "base_uri": "https://localhost:8080/",
          "height": 206
        },
        "id": "fscEi03WWHWn",
        "outputId": "221c5058-24ac-4d25-d134-0fb1fd767bf9"
      },
      "outputs": [
        {
          "data": {
            "text/html": [
              "\n",
              "  <div id=\"df-07be490b-0269-4d65-817b-68efb96d9616\">\n",
              "    <div class=\"colab-df-container\">\n",
              "      <div>\n",
              "<style scoped>\n",
              "    .dataframe tbody tr th:only-of-type {\n",
              "        vertical-align: middle;\n",
              "    }\n",
              "\n",
              "    .dataframe tbody tr th {\n",
              "        vertical-align: top;\n",
              "    }\n",
              "\n",
              "    .dataframe thead th {\n",
              "        text-align: right;\n",
              "    }\n",
              "</style>\n",
              "<table border=\"1\" class=\"dataframe\">\n",
              "  <thead>\n",
              "    <tr style=\"text-align: right;\">\n",
              "      <th></th>\n",
              "      <th>totalcount</th>\n",
              "      <th>document_type</th>\n",
              "      <th>name</th>\n",
              "    </tr>\n",
              "  </thead>\n",
              "  <tbody>\n",
              "    <tr>\n",
              "      <th>0</th>\n",
              "      <td>205</td>\n",
              "      <td>Study Protocol and Statistical Analysis Plan</td>\n",
              "      <td>Breast Cancer</td>\n",
              "    </tr>\n",
              "    <tr>\n",
              "      <th>1</th>\n",
              "      <td>177</td>\n",
              "      <td>Study Protocol and Statistical Analysis Plan</td>\n",
              "      <td>Obesity</td>\n",
              "    </tr>\n",
              "    <tr>\n",
              "      <th>2</th>\n",
              "      <td>144</td>\n",
              "      <td>Study Protocol and Statistical Analysis Plan</td>\n",
              "      <td>Depression</td>\n",
              "    </tr>\n",
              "    <tr>\n",
              "      <th>3</th>\n",
              "      <td>136</td>\n",
              "      <td>Study Protocol and Statistical Analysis Plan</td>\n",
              "      <td>Prostate Cancer</td>\n",
              "    </tr>\n",
              "    <tr>\n",
              "      <th>4</th>\n",
              "      <td>116</td>\n",
              "      <td>Study Protocol</td>\n",
              "      <td>Asthma</td>\n",
              "    </tr>\n",
              "  </tbody>\n",
              "</table>\n",
              "</div>\n",
              "      <button class=\"colab-df-convert\" onclick=\"convertToInteractive('df-07be490b-0269-4d65-817b-68efb96d9616')\"\n",
              "              title=\"Convert this dataframe to an interactive table.\"\n",
              "              style=\"display:none;\">\n",
              "        \n",
              "  <svg xmlns=\"http://www.w3.org/2000/svg\" height=\"24px\"viewBox=\"0 0 24 24\"\n",
              "       width=\"24px\">\n",
              "    <path d=\"M0 0h24v24H0V0z\" fill=\"none\"/>\n",
              "    <path d=\"M18.56 5.44l.94 2.06.94-2.06 2.06-.94-2.06-.94-.94-2.06-.94 2.06-2.06.94zm-11 1L8.5 8.5l.94-2.06 2.06-.94-2.06-.94L8.5 2.5l-.94 2.06-2.06.94zm10 10l.94 2.06.94-2.06 2.06-.94-2.06-.94-.94-2.06-.94 2.06-2.06.94z\"/><path d=\"M17.41 7.96l-1.37-1.37c-.4-.4-.92-.59-1.43-.59-.52 0-1.04.2-1.43.59L10.3 9.45l-7.72 7.72c-.78.78-.78 2.05 0 2.83L4 21.41c.39.39.9.59 1.41.59.51 0 1.02-.2 1.41-.59l7.78-7.78 2.81-2.81c.8-.78.8-2.07 0-2.86zM5.41 20L4 18.59l7.72-7.72 1.47 1.35L5.41 20z\"/>\n",
              "  </svg>\n",
              "      </button>\n",
              "      \n",
              "  <style>\n",
              "    .colab-df-container {\n",
              "      display:flex;\n",
              "      flex-wrap:wrap;\n",
              "      gap: 12px;\n",
              "    }\n",
              "\n",
              "    .colab-df-convert {\n",
              "      background-color: #E8F0FE;\n",
              "      border: none;\n",
              "      border-radius: 50%;\n",
              "      cursor: pointer;\n",
              "      display: none;\n",
              "      fill: #1967D2;\n",
              "      height: 32px;\n",
              "      padding: 0 0 0 0;\n",
              "      width: 32px;\n",
              "    }\n",
              "\n",
              "    .colab-df-convert:hover {\n",
              "      background-color: #E2EBFA;\n",
              "      box-shadow: 0px 1px 2px rgba(60, 64, 67, 0.3), 0px 1px 3px 1px rgba(60, 64, 67, 0.15);\n",
              "      fill: #174EA6;\n",
              "    }\n",
              "\n",
              "    [theme=dark] .colab-df-convert {\n",
              "      background-color: #3B4455;\n",
              "      fill: #D2E3FC;\n",
              "    }\n",
              "\n",
              "    [theme=dark] .colab-df-convert:hover {\n",
              "      background-color: #434B5C;\n",
              "      box-shadow: 0px 1px 3px 1px rgba(0, 0, 0, 0.15);\n",
              "      filter: drop-shadow(0px 1px 2px rgba(0, 0, 0, 0.3));\n",
              "      fill: #FFFFFF;\n",
              "    }\n",
              "  </style>\n",
              "\n",
              "      <script>\n",
              "        const buttonEl =\n",
              "          document.querySelector('#df-07be490b-0269-4d65-817b-68efb96d9616 button.colab-df-convert');\n",
              "        buttonEl.style.display =\n",
              "          google.colab.kernel.accessAllowed ? 'block' : 'none';\n",
              "\n",
              "        async function convertToInteractive(key) {\n",
              "          const element = document.querySelector('#df-07be490b-0269-4d65-817b-68efb96d9616');\n",
              "          const dataTable =\n",
              "            await google.colab.kernel.invokeFunction('convertToInteractive',\n",
              "                                                     [key], {});\n",
              "          if (!dataTable) return;\n",
              "\n",
              "          const docLinkHtml = 'Like what you see? Visit the ' +\n",
              "            '<a target=\"_blank\" href=https://colab.research.google.com/notebooks/data_table.ipynb>data table notebook</a>'\n",
              "            + ' to learn more about interactive tables.';\n",
              "          element.innerHTML = '';\n",
              "          dataTable['output_type'] = 'display_data';\n",
              "          await google.colab.output.renderOutput(dataTable, element);\n",
              "          const docLink = document.createElement('div');\n",
              "          docLink.innerHTML = docLinkHtml;\n",
              "          element.appendChild(docLink);\n",
              "        }\n",
              "      </script>\n",
              "    </div>\n",
              "  </div>\n",
              "  "
            ],
            "text/plain": [
              "   totalcount                                 document_type             name\n",
              "0         205  Study Protocol and Statistical Analysis Plan    Breast Cancer\n",
              "1         177  Study Protocol and Statistical Analysis Plan          Obesity\n",
              "2         144  Study Protocol and Statistical Analysis Plan       Depression\n",
              "3         136  Study Protocol and Statistical Analysis Plan  Prostate Cancer\n",
              "4         116                                Study Protocol           Asthma"
            ]
          },
          "execution_count": 3,
          "metadata": {},
          "output_type": "execute_result"
        }
      ],
      "source": [
        "df = pd.read_csv('/content/drive/MyDrive/Practicum Final/2. Exploratory Data Analysis/Code/count_protocol_conditions.csv')\n",
        "df.head(5)\n"
      ]
    },
    {
      "cell_type": "code",
      "execution_count": null,
      "metadata": {
        "colab": {
          "base_uri": "https://localhost:8080/"
        },
        "id": "c15zb0OfWRgf",
        "outputId": "7520c72e-5054-4a8c-a94c-528d4a837b4d"
      },
      "outputs": [
        {
          "data": {
            "text/plain": [
              "(17069, 3)"
            ]
          },
          "execution_count": 4,
          "metadata": {},
          "output_type": "execute_result"
        }
      ],
      "source": [
        "df.shape"
      ]
    },
    {
      "cell_type": "code",
      "execution_count": null,
      "metadata": {
        "colab": {
          "base_uri": "https://localhost:8080/"
        },
        "id": "OYGyclLfWn5O",
        "outputId": "03adc59e-a47d-4136-a6da-b5820d872b76"
      },
      "outputs": [
        {
          "data": {
            "text/plain": [
              "totalcount       0\n",
              "document_type    0\n",
              "name             0\n",
              "dtype: int64"
            ]
          },
          "execution_count": 5,
          "metadata": {},
          "output_type": "execute_result"
        }
      ],
      "source": [
        "df.isnull().sum()"
      ]
    },
    {
      "cell_type": "code",
      "execution_count": null,
      "metadata": {
        "colab": {
          "base_uri": "https://localhost:8080/"
        },
        "id": "Hk_8YswsgOEx",
        "outputId": "bf6e0d00-1fdb-43eb-d42d-44ab6c362537"
      },
      "outputs": [
        {
          "data": {
            "text/plain": [
              "array(['Study Protocol and Statistical Analysis Plan', 'Study Protocol',\n",
              "       'Study Protocol, Statistical Analysis Plan, and Informed Consent Form',\n",
              "       'Study Protocol: Original', 'Study Protocol: Amendment 1',\n",
              "       'Study Protocol: Amendment 2',\n",
              "       'Study Protocol and Informed Consent Form',\n",
              "       'Study Protocol: Version 5', 'Study Protocol: Protocol',\n",
              "       'Study Protocol: Protocol Cover Page', 'Study Protocol: Version 6',\n",
              "       'Study Protocol: Amendment 3', 'Study Protocol: Amendment 4',\n",
              "       'Study Protocol: Amendment 5', 'Study Protocol: Amendment 6',\n",
              "       'Study Protocol: Version 4',\n",
              "       'Study Protocol: and Statistical Analysis Plan',\n",
              "       'Study Protocol and Statistical Analysis Plan: 9. Statistical Considerations',\n",
              "       'Study Protocol and Statistical Analysis Plan: Addendum Study Protocol for COVID-19',\n",
              "       'Study Protocol and Statistical Analysis Plan: Amended Protocol V7 approved by Ethics Board on Oct 9, 2018',\n",
              "       'Study Protocol and Statistical Analysis Plan: Ann Arbor',\n",
              "       'Study Protocol and Statistical Analysis Plan: APPROVED STUDY PROTOCOL, TRANSLATED FROM HEBREW',\n",
              "       'Study Protocol and Statistical Analysis Plan: BABY HUG Follow-up Study I',\n",
              "       'Study Protocol and Statistical Analysis Plan: BABY HUG Randomized Control Trial',\n",
              "       'Study Protocol and Statistical Analysis Plan: Battle Creek',\n",
              "       'Study Protocol and Statistical Analysis Plan: Brief overview',\n",
              "       \"Study Protocol and Statistical Analysis Plan: Brigham and Women's Hospital Site\",\n",
              "       'Study Protocol and Statistical Analysis Plan: Canada',\n",
              "       'Study Protocol and Statistical Analysis Plan: CIP CAMSEN AI-5770',\n",
              "       'Study Protocol and Statistical Analysis Plan: Corrected according to Advisory Issues',\n",
              "       'Study Protocol and Statistical Analysis Plan: cover page',\n",
              "       'Study Protocol and Statistical Analysis Plan: CS0172-001',\n",
              "       'Study Protocol and Statistical Analysis Plan: CS0172-002',\n",
              "       'Study Protocol and Statistical Analysis Plan: CSP-025-05 rev DE protocol and SAP 05-16-2019_Redacted',\n",
              "       'Study Protocol and Statistical Analysis Plan: CSP-025 rev 5 UK protocol and SAP 05-16-2019_Redacted',\n",
              "       'Study Protocol and Statistical Analysis Plan: Final protocol',\n",
              "       'Study Protocol and Statistical Analysis Plan: Former trial design',\n",
              "       'Study Protocol and Statistical Analysis Plan: Full protocol',\n",
              "       'Study Protocol and Statistical Analysis Plan: Full Protocol',\n",
              "       'Study Protocol and Statistical Analysis Plan: Initial Protocol',\n",
              "       'Study Protocol and Statistical Analysis Plan: Initial version',\n",
              "       'Study Protocol and Statistical Analysis Plan: IRB Application',\n",
              "       'Study Protocol and Statistical Analysis Plan: Last Amended version',\n",
              "       'Study Protocol and Statistical Analysis Plan: Latest study protocol with baclofen',\n",
              "       'Study Protocol and Statistical Analysis Plan: Main protocol',\n",
              "       'Study Protocol and Statistical Analysis Plan: Main Study',\n",
              "       'Study Protocol and Statistical Analysis Plan: Mount Sinai School of Medicine Site',\n",
              "       'Study Protocol and Statistical Analysis Plan: Multiple Dose Protocol',\n",
              "       'Study Protocol and Statistical Analysis Plan: NICHE-BMT/Pediatrics',\n",
              "       'Study Protocol and Statistical Analysis Plan: NICHE-Leukemia/MDS/Lymphoma/BD',\n",
              "       'Study Protocol and Statistical Analysis Plan: original',\n",
              "       'Study Protocol and Statistical Analysis Plan: Original cohort prenatal-48 months',\n",
              "       'Study Protocol and Statistical Analysis Plan: Original Prototocol',\n",
              "       'Study Protocol and Statistical Analysis Plan: Original RCT: Health Care Hotspotting Analysis Plan',\n",
              "       'Study Protocol and Statistical Analysis Plan: Pre-modifications related to enrollment exceptions',\n",
              "       'Study Protocol and Statistical Analysis Plan: Previous study protocol with original arms',\n",
              "       'Study Protocol and Statistical Analysis Plan: Protocol',\n",
              "       'Study Protocol and Statistical Analysis Plan: Protocol Amendment 1',\n",
              "       'Study Protocol and Statistical Analysis Plan: Protocol and SAP',\n",
              "       'Study Protocol and Statistical Analysis Plan: Protocol and statistical analysis plan',\n",
              "       'Study Protocol and Statistical Analysis Plan: Protocol v1.0',\n",
              "       'Study Protocol and Statistical Analysis Plan: Protocol v2.0 (Amendment 1)',\n",
              "       'Study Protocol and Statistical Analysis Plan: Protocol v3.0 (Amendment 2)',\n",
              "       'Study Protocol and Statistical Analysis Plan: Protocol v4.0 (Amendment 3)',\n",
              "       'Study Protocol and Statistical Analysis Plan: Protocol V6 approved by Ethics Board on May 30, 2018',\n",
              "       'Study Protocol and Statistical Analysis Plan: Result of the study',\n",
              "       'Study Protocol and Statistical Analysis Plan: Results',\n",
              "       'Study Protocol and Statistical Analysis Plan: Results of the study',\n",
              "       'Study Protocol and Statistical Analysis Plan: Single Dose Protocol',\n",
              "       'Study Protocol and Statistical Analysis Plan: Statistical Analysis',\n",
              "       'Study Protocol and Statistical Analysis Plan: Statistical Analysis Plan only',\n",
              "       'Study Protocol and Statistical Analysis Plan: Stat Plan',\n",
              "       'Study Protocol and Statistical Analysis Plan: Study protocol',\n",
              "       'Study Protocol and Statistical Analysis Plan: Study Protocol',\n",
              "       'Study Protocol and Statistical Analysis Plan: Study Protocol and SAP',\n",
              "       'Study Protocol and Statistical Analysis Plan: Study protocol and statistical analysis plan',\n",
              "       'Study Protocol and Statistical Analysis Plan: Study Protocol and Statistical Analysis Plan',\n",
              "       'Study Protocol and Statistical Analysis Plan: Study Protocol Document with SAP',\n",
              "       'Study Protocol and Statistical Analysis Plan: Study Protocol (English Translation)',\n",
              "       'Study Protocol and Statistical Analysis Plan: Study Protocol including Statistical Analysis Plan',\n",
              "       'Study Protocol and Statistical Analysis Plan: Study Protocols and Statistical Analysis Plan',\n",
              "       'Study Protocol and Statistical Analysis Plan: Study Protocol, Statistical Analysis Plan',\n",
              "       'Study Protocol and Statistical Analysis Plan: Study Protocol Synopsis',\n",
              "       'Study Protocol and Statistical Analysis Plan: Study Protocol version 1.2 without Statistical Analysis Plan',\n",
              "       'Study Protocol and Statistical Analysis Plan: Study protocol with analysis plan',\n",
              "       'Study Protocol and Statistical Analysis Plan: Study Protocol with Statistical Analysis',\n",
              "       'Study Protocol and Statistical Analysis Plan: Study Protocol with Statistical Analysis Plan',\n",
              "       'Study Protocol and Statistical Analysis Plan: Study Protocol with summarized SAP',\n",
              "       'Study Protocol and Statistical Analysis Plan: Sub-Protocol',\n",
              "       'Study Protocol and Statistical Analysis Plan: Trial design changed',\n",
              "       'Study Protocol and Statistical Analysis Plan: United States',\n",
              "       'Study Protocol and Statistical Analysis Plan: Updated protocol',\n",
              "       'Study Protocol and Statistical Analysis Plan: Updated Protocol and SAP',\n",
              "       'Study Protocol and Statistical Analysis Plan: v. 0.0 - Initial',\n",
              "       'Study Protocol and Statistical Analysis Plan: v. 0.1',\n",
              "       'Study Protocol and Statistical Analysis Plan: v 1.0',\n",
              "       'Study Protocol and Statistical Analysis Plan: v. 1.0',\n",
              "       'Study Protocol and Statistical Analysis Plan: v 1.1',\n",
              "       'Study Protocol and Statistical Analysis Plan: v 1.2',\n",
              "       'Study Protocol and Statistical Analysis Plan: v 1.3',\n",
              "       'Study Protocol and Statistical Analysis Plan: v. 2.0',\n",
              "       'Study Protocol and Statistical Analysis Plan: version 1.0',\n",
              "       'Study Protocol and Statistical Analysis Plan: Version 1.0',\n",
              "       'Study Protocol and Statistical Analysis Plan: version 1.1',\n",
              "       'Study Protocol and Statistical Analysis Plan: version 6',\n",
              "       'Study Protocol and Statistical Analysis Plan: version 7',\n",
              "       'Study Protocol and Statistical Analysis Plan: Version for USA',\n",
              "       'Study Protocol and Statistical Analysis Plan: w/o statistical comment',\n",
              "       'Study Protocol and Statistical Analysis Plan: Zucker Hillside Hospital Site',\n",
              "       'Study Protocol: Annex 1: Grant Application Form',\n",
              "       'Study Protocol: Annex 24 Hours Parental Diary Form',\n",
              "       'Study Protocol: Annex 2: Data Delivery Agreement',\n",
              "       'Study Protocol: Annex Patient Assessment Sheet Day 0',\n",
              "       'Study Protocol: Appendix 1 security data protocol',\n",
              "       'Study Protocol: Appendix (Data Forms)',\n",
              "       'Study Protocol: aur-vos-2017-01-protocol-v1_Redacted',\n",
              "       'Study Protocol: aur-vos-2017-01-protocol-v2_Redacted',\n",
              "       'Study Protocol: aur-vos-2017-01-protocol-v3_Redacted',\n",
              "       'Study Protocol: Brazil Cohort',\n",
              "       'Study Protocol: CC-486-NPC-001.01.protocolAM1_RedactedOctober2014',\n",
              "       'Study Protocol: CC-486-NPC-001_original protocol_Redacted.11July2014',\n",
              "       'Study Protocol: CC-486-NPC-001_protocolAM2_Redacted.03April2015',\n",
              "       'Study Protocol: CC-486-NPC-001_protocolAM3_Redacted.23September2016',\n",
              "       'Study Protocol: CC-486-NSCL-001_original protocol_Redacted.15May2015',\n",
              "       'Study Protocol: CC-486-NSCL-001.ProtocolAM1.14December 2015',\n",
              "       'Study Protocol: CGAP (1) Protocol Addendum',\n",
              "       'Study Protocol: CGAP Protocol',\n",
              "       'Study Protocol: Changes to protocol',\n",
              "       'Study Protocol: CIP version 1.0',\n",
              "       'Study Protocol: CIP version 3.0',\n",
              "       'Study Protocol: CIP version 4.0',\n",
              "       'Study Protocol: CIP version 5.0',\n",
              "       'Study Protocol: Clinical Investigation Plan',\n",
              "       'Study Protocol: Clinical Investigation Plan Note to File',\n",
              "       'Study Protocol: Clinical Investigation Plan Version 4',\n",
              "       'Study Protocol: Clinical Investigation Plan Version 5',\n",
              "       'Study Protocol: Clinical Investigation Plan Version 6',\n",
              "       'Study Protocol: Clinical Protocol ORA-D N01',\n",
              "       'Study Protocol: Clinical Study Protocol',\n",
              "       'Study Protocol: Clinical Study Protocol Addendum Version (1)',\n",
              "       'Study Protocol: Clinical Study Protocol Amendment Version (a)',\n",
              "       'Study Protocol: Clinical Trial Protocol (including amendments 1-4)',\n",
              "       'Study Protocol: Consort',\n",
              "       'Study Protocol: Consort Diagram and tables',\n",
              "       'Study Protocol: Cover letter EC',\n",
              "       'Study Protocol: COWS questionnaire and Brief Substance Cravings scale',\n",
              "       'Study Protocol: EC application', 'Study Protocol: EC Form',\n",
              "       'Study Protocol: Effects of Simethicone and Multilac Baby in Infantile Colic',\n",
              "       'Study Protocol: Enrolment _log', 'Study Protocol: EpxCogScreen',\n",
              "       'Study Protocol: Ethical Clearance', 'Study Protocol: EU protocol',\n",
              "       'Study Protocol: European Cohort',\n",
              "       'Study Protocol: Expanded access protocol',\n",
              "       'Study Protocol: Figures and tables', 'Study Protocol: Final',\n",
              "       'Study Protocol: Final Protocol', 'Study Protocol: Full protocol',\n",
              "       'Study Protocol: Full Study Protocol Updated 21/09/2020',\n",
              "       'Study Protocol: GBGE (a) Protocol',\n",
              "       'Study Protocol: GBGE (b) Protocol',\n",
              "       'Study Protocol: General Protocols',\n",
              "       'Study Protocol: GSEA Protocol',\n",
              "       'Study Protocol: GSEA Protocol (a)',\n",
              "       'Study Protocol: Hydroxychloroquine and Azithromycin arms',\n",
              "       'Study Protocol: HYPNOANALGESIA IN PEDIATRIC DERMATOLOGICAL SURGERY',\n",
              "       'Study Protocol: I1F-MC-RHCD(2.1) Clinical Protocol Addendum',\n",
              "       'Study Protocol: ID_NCT04184336',\n",
              "       'Study Protocol: Image Acquisition - CCF',\n",
              "       'Study Protocol: IMPAACT 2010 Protocol V2.0_Letter of Amendment 1',\n",
              "       'Study Protocol: IMPAACT 2010 Protocol V2.0_Letter of Amendment 2',\n",
              "       'Study Protocol: IMPAACT 2010 Protocol V2.0_Letter of Amendment 3',\n",
              "       'Study Protocol: India specific protocol',\n",
              "       'Study Protocol: IRB Approval Letter',\n",
              "       'Study Protocol: JPBL 05 Protocol (a)_Redacted',\n",
              "       'Study Protocol: JPBL 05 Protocol (b)_Redacted',\n",
              "       'Study Protocol: JPBL 05 Protocol (c)_Redacted',\n",
              "       'Study Protocol: JPBL 05 Protocol (d)_Redacted',\n",
              "       'Study Protocol: JPBL 05 Protocol_Redacted',\n",
              "       'Study Protocol: JPBM Protocol',\n",
              "       'Study Protocol: JPBM Protocol (a)',\n",
              "       'Study Protocol: JPBM Protocol (b)',\n",
              "       'Study Protocol: LAHX 05 Protocol',\n",
              "       'Study Protocol: LAHX Protocol Addendum (1.1)',\n",
              "       'Study Protocol: Last Amendment N 4 - Description and Approval Letter',\n",
              "       'Study Protocol: Letter of Amendment 1',\n",
              "       'Study Protocol: Letter of Amendment #1',\n",
              "       'Study Protocol: Letter of Amendment 2',\n",
              "       'Study Protocol: Letter of Amendment #2',\n",
              "       'Study Protocol: Letter of Amendment #3',\n",
              "       'Study Protocol: Letter of Amendment to Study Protocol Version 3.1',\n",
              "       'Study Protocol: List of Publications',\n",
              "       'Study Protocol: Local Protocols',\n",
              "       'Study Protocol: Lopinavir-Ritonavir arm',\n",
              "       'Study Protocol: main document', 'Study Protocol: Master-Protocol',\n",
              "       'Study Protocol: MEDEA Protocol for AF patients',\n",
              "       'Study Protocol: MEDEA Protocol for Asthmatic Children',\n",
              "       'Study Protocol: Meeting_minutes_template',\n",
              "       'Study Protocol: NCT02201277 References',\n",
              "       'Study Protocol: New protocol', 'Study Protocol: NICHE-AA',\n",
              "       'Study Protocol: NICHE-AML', 'Study Protocol: NICHE-Hemophilia',\n",
              "       'Study Protocol: NICHE-MM',\n",
              "       'Study Protocol: Non-substantial amendment 1 dated 8 Mar 17',\n",
              "       'Study Protocol: original', 'Study Protocol: Original Protocol',\n",
              "       'Study Protocol: Part 1', 'Study Protocol: Part 2',\n",
              "       'Study Protocol: Pharmaceutical care',\n",
              "       'Study Protocol: Primary VAP Prevention Study',\n",
              "       'Study Protocol: Protocol 17-34 TN',\n",
              "       'Study Protocol: Protocol 17-96', 'Study Protocol: Protocol (a)',\n",
              "       'Study Protocol: Protocol addendum',\n",
              "       'Study Protocol: Protocol Addendum',\n",
              "       'Study Protocol: Protocol Addendum I4T-MC-JVCY(9)',\n",
              "       'Study Protocol: Protocol Amendment 1',\n",
              "       'Study Protocol: Protocol Amendment 2',\n",
              "       'Study Protocol: Protocol Amendment 2 Signature page',\n",
              "       'Study Protocol: Protocol Amendment 3',\n",
              "       'Study Protocol: Protocol Amendment 4',\n",
              "       'Study Protocol: Protocol Amendment 5',\n",
              "       'Study Protocol: Protocol Amendment 6',\n",
              "       'Study Protocol: Protocol Amendment 7',\n",
              "       'Study Protocol: Protocol Amendment (a)',\n",
              "       'Study Protocol: Protocol Amendment (b)',\n",
              "       'Study Protocol: Protocol Amendment (c)',\n",
              "       'Study Protocol: Protocol Amendment (d)',\n",
              "       'Study Protocol: Protocol (b)', 'Study Protocol: Protocol (e)',\n",
              "       'Study Protocol: Protocol excluding mainland China',\n",
              "       'Study Protocol: Protocol I4T-MC-JVCY(f)',\n",
              "       'Study Protocol: Protocol Original',\n",
              "       'Study Protocol: Protocol specific for mainland China',\n",
              "       'Study Protocol: Protocol v1.0',\n",
              "       'Study Protocol: Protocol V1.0 01Dec2016',\n",
              "       'Study Protocol: Protocol V2.0 04May2017',\n",
              "       'Study Protocol: Protocol V2.0_Letter of Amendment 1',\n",
              "       'Study Protocol: Protocol V2.0_Letter of Amendment 2',\n",
              "       'Study Protocol: Protocol V2.0_Letter of Amendment 3',\n",
              "       'Study Protocol: Protocol V2.0_Letter of Amendment 4',\n",
              "       'Study Protocol: Protocol_v.3.0_25.12.2107_Germany',\n",
              "       'Study Protocol: Protocol V5.0',\n",
              "       'Study Protocol: Protocol V5.0_Letter of Amendment 1',\n",
              "       'Study Protocol: Protocol Version 3.1',\n",
              "       'Study Protocol: Protocol Version 4 dated 8 Mar 2017',\n",
              "       'Study Protocol: Redacted Protocol Part 1',\n",
              "       'Study Protocol: Redacted Protocol Part 2',\n",
              "       'Study Protocol: Redacted Protocol Part 3',\n",
              "       'Study Protocol: Revision C', 'Study Protocol: Revision D',\n",
              "       'Study Protocol: Revision E', 'Study Protocol: Revision F',\n",
              "       'Study Protocol: Revision G', 'Study Protocol: Revision H',\n",
              "       'Study Protocol: Revision I', 'Study Protocol: Rev K',\n",
              "       'Study Protocol: Rev M',\n",
              "       'Study Protocol: RHCD 05 Protocol (b)_Redacted',\n",
              "       'Study Protocol: Screening_log',\n",
              "       'Study Protocol: Second Sub-Protocol',\n",
              "       'Study Protocol: Site-specific VAP Treatment Sub-study',\n",
              "       'Study Protocol: SP OM85adenoid',\n",
              "       'Study Protocol, Statistical Analysis Plan, and Informed Consent Form: Consent form',\n",
              "       'Study Protocol, Statistical Analysis Plan, and Informed Consent Form: Consent Form',\n",
              "       'Study Protocol, Statistical Analysis Plan, and Informed Consent Form: English version 2020 NCT02957305',\n",
              "       'Study Protocol, Statistical Analysis Plan, and Informed Consent Form: Indonesia specific protocol + ICF',\n",
              "       'Study Protocol, Statistical Analysis Plan, and Informed Consent Form: Informed Consent Form',\n",
              "       'Study Protocol, Statistical Analysis Plan, and Informed Consent Form: Protocol after Amendment 2',\n",
              "       'Study Protocol, Statistical Analysis Plan, and Informed Consent Form: Protocol after Amendment 2.1',\n",
              "       'Study Protocol, Statistical Analysis Plan, and Informed Consent Form: Protocol and Analysis Plan',\n",
              "       'Study Protocol, Statistical Analysis Plan, and Informed Consent Form: Protocol and Consent and SAP',\n",
              "       'Study Protocol, Statistical Analysis Plan, and Informed Consent Form: Protocol and statistical analysis',\n",
              "       'Study Protocol, Statistical Analysis Plan, and Informed Consent Form: Protocol in force at beginning of enrollment',\n",
              "       'Study Protocol, Statistical Analysis Plan, and Informed Consent Form: Protocol_v.7.0_28.09.2017_Russia + SAP + ICF',\n",
              "       'Study Protocol, Statistical Analysis Plan, and Informed Consent Form: Study Protocol',\n",
              "       'Study Protocol, Statistical Analysis Plan, and Informed Consent Form: Study protocol and statistical Analysis Plan',\n",
              "       'Study Protocol, Statistical Analysis Plan, and Informed Consent Form: Study Protocol and Statistical Analysis Plan',\n",
              "       'Study Protocol, Statistical Analysis Plan, and Informed Consent Form: Study Protocole, SAP and ICF',\n",
              "       'Study Protocol, Statistical Analysis Plan, and Informed Consent Form: Study protocol, Statistical Analysis',\n",
              "       'Study Protocol, Statistical Analysis Plan, and Informed Consent Form: Study Protocol, Statistical Analysis Plan',\n",
              "       'Study Protocol, Statistical Analysis Plan, and Informed Consent Form: SUM OM85adenoid',\n",
              "       'Study Protocol: Study ACP-103-054 protocol (NCT03999918)',\n",
              "       'Study Protocol: Study ACP-103-059 protocol (NCT03968159)',\n",
              "       'Study Protocol: Study protocol', 'Study Protocol: Study Protocol',\n",
              "       'Study Protocol: Study Protocol (a)',\n",
              "       'Study Protocol: Study Protocol Addendum',\n",
              "       'Study Protocol: Study Protocol (approved November 20, 2020)',\n",
              "       'Study Protocol: Study Protocol Chart',\n",
              "       'Study Protocol: Study Protocol (d)',\n",
              "       'Study Protocol: Study Protocol Summary Abstract',\n",
              "       'Study Protocol: Study Protocol v.1.0',\n",
              "       'Study Protocol: Study Protocol v.2.0',\n",
              "       'Study Protocol: Study Protocol without Cover letter wo Application wo Form',\n",
              "       'Study Protocol: Summary of Protocol Changes',\n",
              "       'Study Protocol: Supplementary assessment points for table 1',\n",
              "       'Study Protocol: Telephone_Contact_Log',\n",
              "       'Study Protocol: US and Canada', 'Study Protocol: US only',\n",
              "       'Study Protocol: US protocol', 'Study Protocol: Version 1',\n",
              "       'Study Protocol: Version 1.0', 'Study Protocol: Version 2',\n",
              "       'Study Protocol: Version 20', 'Study Protocol: Version 2.0',\n",
              "       'Study Protocol: Version 3', 'Study Protocol: Version 3.0',\n",
              "       'Study Protocol: Version 7', 'Study Protocol: Version 8',\n",
              "       'Study Protocol: Version for all countries except Germany',\n",
              "       'Informed Consent Form: Original Protocol',\n",
              "       'Study Protocol: Withdrawal_log',\n",
              "       'Informed Consent Form: Verbal Consent - Phone Protocol',\n",
              "       'Study Protocol: 38705 SSc Registry Trial',\n",
              "       'Study Protocol: 40212 (12 patients)',\n",
              "       'Study Protocol: 60 months amendment',\n",
              "       'Study Protocol: 72 months amendment',\n",
              "       'Study Protocol: ABI-007-NSCL-003.OriginalProtocolRedacted.27September2013',\n",
              "       'Study Protocol: ABI-007-NSCL-003_protocol_AM1_Redacted 28 October 2014',\n",
              "       'Study Protocol: ABI-007-NSCL-003_protocol_AM2_Redacted.27May2015',\n",
              "       'Study Protocol: ABI-007-NSCL-003_protocol_AM3_Redacted.13March2017',\n",
              "       'Study Protocol: ABI-007-NSCL-004.OriginalProtocolRedacted11Aug2014',\n",
              "       'Study Protocol: ABI-007-NSCL-004ProtocolAm1RedactedFinal.12Jan 2015',\n",
              "       'Study Protocol: ABI-007-NSCL-005_Original_Redacted.06 March2014',\n",
              "       'Study Protocol: ABI-007-NSCL-005_PA1_Redacted.09April2014',\n",
              "       'Study Protocol: ABI-007-NSCL-005_PA2_Redacted.05 December 2014',\n",
              "       'Study Protocol: ABI-007-NSCL-005_PA3_Redacted.17 March 2016',\n",
              "       'Study Protocol: ABI-007-NSCL-006_Protocol_AM4_Redacted.31May2016',\n",
              "       'Study Protocol: ABI_007-NSCL_Protocol_AM1_Redacted_24 June 2014',\n",
              "       'Study Protocol: ABI_007-NSCL_Protocol_AM2_Redacted_18July2014',\n",
              "       'Study Protocol: ABI_007-NSCL_Protocol_AM3_Redacted_14 April 2016',\n",
              "       'Study Protocol: ABI_007-NSCL_Protocol_AM5_Redacted_09December 2016',\n",
              "       'Study Protocol: ABI_007-NSCL_Protocol_Original_Redacted_29May2014',\n",
              "       'Study Protocol: AFT with cover page',\n",
              "       'Study Protocol: AMAN 05 ME2 Protocol Addenda (5)_Redacted',\n",
              "       'Study Protocol: AMAN 05 Protocol (a)_Redacted',\n",
              "       'Study Protocol: Amemdment 2', 'Study Protocol: Amemdment 3',\n",
              "       'Study Protocol: amendment', 'Study Protocol: Amendment',\n",
              "       'Study Protocol: Amendment1',\n",
              "       'Study Protocol: Amendment 10 (Version 9.0)',\n",
              "       'Study Protocol: Amendment2', 'Study Protocol: Amendment 2.1',\n",
              "       'Study Protocol: Amendment3', 'Study Protocol: Amendment 3.1',\n",
              "       'Study Protocol: Amendment4',\n",
              "       'Study Protocol: Amendment 5 (Amendment 4 not implemented)',\n",
              "       'Study Protocol: Amendment 7', 'Study Protocol: Amendment 8',\n",
              "       'Study Protocol: Amendment 9', 'Study Protocol: Amendment history',\n",
              "       'Study Protocol: Amendment Summary of Changes',\n",
              "       'Study Protocol and Informed Consent Form: Haiti specific protocol + ICF',\n",
              "       'Study Protocol and Informed Consent Form: IMPAACT 2010 Protocol V2.0',\n",
              "       'Study Protocol and Informed Consent Form: Inform consent',\n",
              "       'Study Protocol and Informed Consent Form: Informed Consent Form',\n",
              "       'Study Protocol and Informed Consent Form: Papua New Guinea specific protocol + ICF',\n",
              "       'Study Protocol and Informed Consent Form: Protocol V2.0'],\n",
              "      dtype=object)"
            ]
          },
          "execution_count": 6,
          "metadata": {},
          "output_type": "execute_result"
        }
      ],
      "source": [
        "df['document_type'].unique()"
      ]
    },
    {
      "cell_type": "code",
      "execution_count": null,
      "metadata": {
        "colab": {
          "base_uri": "https://localhost:8080/"
        },
        "id": "0U9v3RO6idtW",
        "outputId": "e957d9b8-10ae-42a9-c721-b6dc30275ebd"
      },
      "outputs": [
        {
          "data": {
            "text/plain": [
              "363"
            ]
          },
          "execution_count": 7,
          "metadata": {},
          "output_type": "execute_result"
        }
      ],
      "source": [
        "df['document_type'].nunique()"
      ]
    },
    {
      "cell_type": "code",
      "execution_count": null,
      "metadata": {
        "id": "KMKO9-JahccC"
      },
      "outputs": [],
      "source": [
        "df['document_type_new'] = df['document_type'].str.split(':').str[0]"
      ]
    },
    {
      "cell_type": "code",
      "execution_count": null,
      "metadata": {
        "colab": {
          "base_uri": "https://localhost:8080/"
        },
        "id": "WvBMSmSGgVH0",
        "outputId": "fbece563-766f-4b90-b37a-ffec9216cbea"
      },
      "outputs": [
        {
          "data": {
            "text/plain": [
              "0        Study Protocol and Statistical Analysis Plan\n",
              "1        Study Protocol and Statistical Analysis Plan\n",
              "2        Study Protocol and Statistical Analysis Plan\n",
              "3        Study Protocol and Statistical Analysis Plan\n",
              "4                                      Study Protocol\n",
              "                             ...                     \n",
              "17064    Study Protocol and Statistical Analysis Plan\n",
              "17065    Study Protocol and Statistical Analysis Plan\n",
              "17066    Study Protocol and Statistical Analysis Plan\n",
              "17067    Study Protocol and Statistical Analysis Plan\n",
              "17068    Study Protocol and Statistical Analysis Plan\n",
              "Name: document_type_new, Length: 17069, dtype: object"
            ]
          },
          "execution_count": 9,
          "metadata": {},
          "output_type": "execute_result"
        }
      ],
      "source": [
        "df['document_type_new']"
      ]
    },
    {
      "cell_type": "code",
      "execution_count": null,
      "metadata": {
        "colab": {
          "base_uri": "https://localhost:8080/"
        },
        "id": "oosWvJ1whviv",
        "outputId": "6554b6e8-5813-4499-f087-6ed76939ca45"
      },
      "outputs": [
        {
          "data": {
            "text/plain": [
              "array(['Study Protocol and Statistical Analysis Plan', 'Study Protocol',\n",
              "       'Study Protocol, Statistical Analysis Plan, and Informed Consent Form',\n",
              "       'Study Protocol and Informed Consent Form',\n",
              "       'Informed Consent Form'], dtype=object)"
            ]
          },
          "execution_count": 10,
          "metadata": {},
          "output_type": "execute_result"
        }
      ],
      "source": [
        "df['document_type_new'].unique()"
      ]
    },
    {
      "cell_type": "markdown",
      "metadata": {
        "id": "yvHSiAn_m_VL"
      },
      "source": [
        "* 5 unique types of document"
      ]
    },
    {
      "cell_type": "code",
      "execution_count": null,
      "metadata": {
        "colab": {
          "base_uri": "https://localhost:8080/"
        },
        "id": "nnTNUoFIm66t",
        "outputId": "c5af030d-9621-4cb2-e59c-2d613833ffc3"
      },
      "outputs": [
        {
          "data": {
            "text/plain": [
              "5"
            ]
          },
          "execution_count": 11,
          "metadata": {},
          "output_type": "execute_result"
        }
      ],
      "source": [
        "df['document_type_new'].nunique()"
      ]
    },
    {
      "cell_type": "code",
      "execution_count": null,
      "metadata": {
        "id": "zwkK-D4AiJA0"
      },
      "outputs": [],
      "source": [
        "df"
      ]
    },
    {
      "cell_type": "code",
      "execution_count": null,
      "metadata": {
        "colab": {
          "base_uri": "https://localhost:8080/"
        },
        "id": "8s8mLRvrW7n7",
        "outputId": "90a72170-8a7f-442c-becd-5c3f8cd701db"
      },
      "outputs": [
        {
          "data": {
            "text/plain": [
              "13210"
            ]
          },
          "execution_count": 13,
          "metadata": {},
          "output_type": "execute_result"
        }
      ],
      "source": [
        "df['name'].nunique()"
      ]
    },
    {
      "cell_type": "code",
      "execution_count": null,
      "metadata": {
        "id": "EcOzT3LJW-pn"
      },
      "outputs": [],
      "source": [
        "df['nameupper'] = df['name'].str.upper()"
      ]
    },
    {
      "cell_type": "markdown",
      "metadata": {
        "id": "xhefwNgocAlI"
      },
      "source": [
        "* Number of unique disease"
      ]
    },
    {
      "cell_type": "code",
      "execution_count": null,
      "metadata": {
        "colab": {
          "base_uri": "https://localhost:8080/"
        },
        "id": "sQrT9TbOXCpK",
        "outputId": "fc2f0532-456a-492c-9ba7-ae0425ca302e"
      },
      "outputs": [
        {
          "data": {
            "text/plain": [
              "13076"
            ]
          },
          "execution_count": 15,
          "metadata": {},
          "output_type": "execute_result"
        }
      ],
      "source": [
        "df['nameupper'].nunique()"
      ]
    },
    {
      "cell_type": "code",
      "execution_count": null,
      "metadata": {
        "id": "phcofkUcX8Ei"
      },
      "outputs": [],
      "source": [
        "df['namelower'] = df['name'].str.lower()"
      ]
    },
    {
      "cell_type": "code",
      "execution_count": null,
      "metadata": {
        "id": "PXM4ZR3QeFMO"
      },
      "outputs": [],
      "source": [
        "df"
      ]
    },
    {
      "cell_type": "markdown",
      "metadata": {
        "id": "vz3BQ892wvVE"
      },
      "source": [
        "###Studying the top 10 conditions in depth"
      ]
    },
    {
      "cell_type": "markdown",
      "metadata": {
        "id": "okLRrMAhpQBm"
      },
      "source": [
        "#### Lymphoma"
      ]
    },
    {
      "cell_type": "code",
      "execution_count": null,
      "metadata": {
        "id": "K5SoCuTNeLkn"
      },
      "outputs": [],
      "source": [
        "lymphoma = df[df['namelower'].str.contains('lymphoma')]\n",
        "lymphoma_df = pd.DataFrame(lymphoma, columns = ['totalcount', 'namelower','document_type'])"
      ]
    },
    {
      "cell_type": "code",
      "execution_count": null,
      "metadata": {
        "colab": {
          "base_uri": "https://localhost:8080/"
        },
        "id": "FXMpS0LUeOFV",
        "outputId": "31f4bd37-6013-4579-cace-c52a50ac123f"
      },
      "outputs": [
        {
          "name": "stdout",
          "output_type": "stream",
          "text": [
            "1112\n"
          ]
        }
      ],
      "source": [
        "Total = lymphoma_df['totalcount'].sum()\n",
        "print (Total)"
      ]
    },
    {
      "cell_type": "code",
      "execution_count": null,
      "metadata": {
        "colab": {
          "base_uri": "https://localhost:8080/"
        },
        "id": "n8davwTXeQx9",
        "outputId": "6fbd6926-7a08-41fc-85dc-1306b27a364f"
      },
      "outputs": [
        {
          "data": {
            "text/plain": [
              "(544, 3)"
            ]
          },
          "execution_count": 20,
          "metadata": {},
          "output_type": "execute_result"
        }
      ],
      "source": [
        "lymphoma_df.shape"
      ]
    },
    {
      "cell_type": "markdown",
      "metadata": {
        "id": "gL6en0jVq_pJ"
      },
      "source": [
        "####Cancer"
      ]
    },
    {
      "cell_type": "code",
      "execution_count": null,
      "metadata": {
        "id": "hsdc4Xs-rBRm"
      },
      "outputs": [],
      "source": [
        "cancer = df[df['namelower'].str.contains('cancer')]\n",
        "cancer_df = pd.DataFrame(cancer, columns = ['totalcount', 'namelower','document_type'])"
      ]
    },
    {
      "cell_type": "code",
      "execution_count": null,
      "metadata": {
        "colab": {
          "base_uri": "https://localhost:8080/"
        },
        "id": "NwyU06T4rL8U",
        "outputId": "54b779ae-15fd-426f-82c4-71b442014586"
      },
      "outputs": [
        {
          "name": "stdout",
          "output_type": "stream",
          "text": [
            "3038\n"
          ]
        }
      ],
      "source": [
        "Total = cancer_df['totalcount'].sum()\n",
        "print (Total)"
      ]
    },
    {
      "cell_type": "code",
      "execution_count": null,
      "metadata": {
        "colab": {
          "base_uri": "https://localhost:8080/"
        },
        "id": "Ljs2PUrhrN6J",
        "outputId": "46fceae6-456c-49c5-b3f7-634a4ac1bbf0"
      },
      "outputs": [
        {
          "data": {
            "text/plain": [
              "(1043, 3)"
            ]
          },
          "execution_count": 24,
          "metadata": {},
          "output_type": "execute_result"
        }
      ],
      "source": [
        "cancer_df.shape"
      ]
    },
    {
      "cell_type": "markdown",
      "metadata": {
        "id": "rjx8OXzRrQnz"
      },
      "source": [
        "####Pain"
      ]
    },
    {
      "cell_type": "code",
      "execution_count": null,
      "metadata": {
        "id": "w8QBvbXerbfn"
      },
      "outputs": [],
      "source": [
        "pain = df[df['namelower'].str.contains('pain')]\n",
        "pain_df = pd.DataFrame(pain, columns = ['totalcount', 'namelower','document_type'])"
      ]
    },
    {
      "cell_type": "code",
      "execution_count": null,
      "metadata": {
        "colab": {
          "base_uri": "https://localhost:8080/"
        },
        "id": "8h9p2hizredA",
        "outputId": "f420c5bb-fefb-4dd7-e620-8f7e3012521b"
      },
      "outputs": [
        {
          "name": "stdout",
          "output_type": "stream",
          "text": [
            "947\n"
          ]
        }
      ],
      "source": [
        "Total = pain_df['totalcount'].sum()\n",
        "print (Total)"
      ]
    },
    {
      "cell_type": "code",
      "execution_count": null,
      "metadata": {
        "colab": {
          "base_uri": "https://localhost:8080/"
        },
        "id": "u5EMA5S9rftM",
        "outputId": "a2595967-1192-4b76-a7e9-fe7e012b5d40"
      },
      "outputs": [
        {
          "data": {
            "text/plain": [
              "(262, 3)"
            ]
          },
          "execution_count": 27,
          "metadata": {},
          "output_type": "execute_result"
        }
      ],
      "source": [
        "pain_df.shape"
      ]
    },
    {
      "cell_type": "markdown",
      "metadata": {
        "id": "Sbujzswir4L5"
      },
      "source": [
        "####Diabetes"
      ]
    },
    {
      "cell_type": "code",
      "execution_count": null,
      "metadata": {
        "id": "3OojFL_Lr-J_"
      },
      "outputs": [],
      "source": [
        "diabetes = df[df['namelower'].str.contains('diabetes')]\n",
        "\n",
        "diabetes_df = pd.DataFrame(diabetes, columns = ['totalcount', 'namelower','document_type'])"
      ]
    },
    {
      "cell_type": "code",
      "execution_count": null,
      "metadata": {
        "id": "SOS-z8OOs1qd"
      },
      "outputs": [],
      "source": [
        "Total = diabetes_df['totalcount'].sum()\n",
        "print (Total)"
      ]
    },
    {
      "cell_type": "code",
      "execution_count": null,
      "metadata": {
        "colab": {
          "base_uri": "https://localhost:8080/"
        },
        "id": "p2iu2RbVtAcg",
        "outputId": "21c9e1a3-d2eb-4510-8596-8b8eb4ed2fb6"
      },
      "outputs": [
        {
          "data": {
            "text/plain": [
              "(129, 3)"
            ]
          },
          "execution_count": 31,
          "metadata": {},
          "output_type": "execute_result"
        }
      ],
      "source": [
        "diabetes_df.shape"
      ]
    },
    {
      "cell_type": "markdown",
      "metadata": {
        "id": "aUttQxl0sObI"
      },
      "source": [
        "####Arthritis"
      ]
    },
    {
      "cell_type": "code",
      "execution_count": null,
      "metadata": {
        "id": "URvpYUfCr_Wc"
      },
      "outputs": [],
      "source": [
        "arthritis = df[df['namelower'].str.contains('arthritis')]\n",
        "arthritis_df = pd.DataFrame(arthritis, columns = ['totalcount', 'namelower','document_type'])"
      ]
    },
    {
      "cell_type": "code",
      "execution_count": null,
      "metadata": {
        "colab": {
          "base_uri": "https://localhost:8080/"
        },
        "id": "ErZLMQHps3Yf",
        "outputId": "00d732e9-d331-4f13-8a14-2effbee85448"
      },
      "outputs": [
        {
          "name": "stdout",
          "output_type": "stream",
          "text": [
            "516\n"
          ]
        }
      ],
      "source": [
        "Total = arthritis_df['totalcount'].sum()\n",
        "print (Total)"
      ]
    },
    {
      "cell_type": "code",
      "execution_count": null,
      "metadata": {
        "colab": {
          "base_uri": "https://localhost:8080/"
        },
        "id": "Ul0_RzwjtCNc",
        "outputId": "f2a9bb41-6de1-4c0d-8bb8-40ed0e0f4b88"
      },
      "outputs": [
        {
          "data": {
            "text/plain": [
              "(123, 3)"
            ]
          },
          "execution_count": 34,
          "metadata": {},
          "output_type": "execute_result"
        }
      ],
      "source": [
        "arthritis_df.shape"
      ]
    },
    {
      "cell_type": "markdown",
      "metadata": {
        "id": "57ZKCBcQ0cj8"
      },
      "source": [
        "####HIV"
      ]
    },
    {
      "cell_type": "code",
      "execution_count": null,
      "metadata": {
        "id": "JXgI8NAasEhF"
      },
      "outputs": [],
      "source": [
        "hiv = df[df['namelower'].str.contains('hiv')]\n",
        "hiv_df = pd.DataFrame(hiv, columns = ['totalcount', 'namelower','document_type'])"
      ]
    },
    {
      "cell_type": "code",
      "execution_count": null,
      "metadata": {
        "colab": {
          "base_uri": "https://localhost:8080/"
        },
        "id": "pkK8EN3ps5B9",
        "outputId": "7993eb1d-b75d-40c6-d1d8-82332fbc5bda"
      },
      "outputs": [
        {
          "name": "stdout",
          "output_type": "stream",
          "text": [
            "431\n"
          ]
        }
      ],
      "source": [
        "Total = hiv_df['totalcount'].sum()\n",
        "print (Total)"
      ]
    },
    {
      "cell_type": "code",
      "execution_count": null,
      "metadata": {
        "colab": {
          "base_uri": "https://localhost:8080/"
        },
        "id": "oskqLFtItDXu",
        "outputId": "215b9e59-fc5c-4341-95f9-6add51809224"
      },
      "outputs": [
        {
          "data": {
            "text/plain": [
              "(94, 3)"
            ]
          },
          "execution_count": 37,
          "metadata": {},
          "output_type": "execute_result"
        }
      ],
      "source": [
        "hiv_df.shape"
      ]
    },
    {
      "cell_type": "markdown",
      "metadata": {
        "id": "yPj5JwZNsZJV"
      },
      "source": [
        "####Obesity"
      ]
    },
    {
      "cell_type": "code",
      "execution_count": null,
      "metadata": {
        "id": "h6A_TfBasFQO"
      },
      "outputs": [],
      "source": [
        "obesity = df[df['namelower'].str.contains('obesity')]\n",
        "obesity_df = pd.DataFrame(obesity, columns = ['totalcount', 'namelower','document_type'])"
      ]
    },
    {
      "cell_type": "code",
      "execution_count": null,
      "metadata": {
        "colab": {
          "base_uri": "https://localhost:8080/"
        },
        "id": "kP9pCyCvs6Zy",
        "outputId": "56caf2d9-1310-4c13-fdf0-625ec7075cd6"
      },
      "outputs": [
        {
          "name": "stdout",
          "output_type": "stream",
          "text": [
            "373\n"
          ]
        }
      ],
      "source": [
        "Total = obesity_df['totalcount'].sum()\n",
        "print (Total)"
      ]
    },
    {
      "cell_type": "code",
      "execution_count": null,
      "metadata": {
        "colab": {
          "base_uri": "https://localhost:8080/"
        },
        "id": "oYVcEY2StErW",
        "outputId": "b9d48b64-afd5-47c8-a225-c55fc5684f8b"
      },
      "outputs": [
        {
          "data": {
            "text/plain": [
              "(56, 3)"
            ]
          },
          "execution_count": 42,
          "metadata": {},
          "output_type": "execute_result"
        }
      ],
      "source": [
        "obesity_df.shape"
      ]
    },
    {
      "cell_type": "markdown",
      "metadata": {
        "id": "NzAzTS9lsdhr"
      },
      "source": [
        "####Depression"
      ]
    },
    {
      "cell_type": "code",
      "execution_count": null,
      "metadata": {
        "id": "wGovDw0NsGUt"
      },
      "outputs": [],
      "source": [
        "depression = df[df['namelower'].str.contains('depression')]\n",
        "\n",
        "depression_df = pd.DataFrame(depression, columns = ['totalcount', 'namelower','document_type'])"
      ]
    },
    {
      "cell_type": "code",
      "execution_count": null,
      "metadata": {
        "colab": {
          "base_uri": "https://localhost:8080/"
        },
        "id": "X57XsVJks7gr",
        "outputId": "00484784-4dda-4139-ede0-fbe074ef253f"
      },
      "outputs": [
        {
          "name": "stdout",
          "output_type": "stream",
          "text": [
            "306\n"
          ]
        }
      ],
      "source": [
        "Total = depression_df['totalcount'].sum()\n",
        "print (Total)"
      ]
    },
    {
      "cell_type": "code",
      "execution_count": null,
      "metadata": {
        "colab": {
          "base_uri": "https://localhost:8080/"
        },
        "id": "2fK3-a6VtF0_",
        "outputId": "ff948125-deb3-430a-ade4-b6d10d404dfc"
      },
      "outputs": [
        {
          "data": {
            "text/plain": [
              "(68, 3)"
            ]
          },
          "execution_count": 45,
          "metadata": {},
          "output_type": "execute_result"
        }
      ],
      "source": [
        "depression_df.shape"
      ]
    },
    {
      "cell_type": "markdown",
      "metadata": {
        "id": "TDjsTbWqsglJ"
      },
      "source": [
        "####Myeloma"
      ]
    },
    {
      "cell_type": "code",
      "execution_count": null,
      "metadata": {
        "id": "wbWlb9aJsG5y"
      },
      "outputs": [],
      "source": [
        "myeloma = df[df['namelower'].str.contains('myeloma')]\n",
        "\n",
        "myeloma_df = pd.DataFrame(myeloma, columns = ['totalcount', 'namelower','document_type'])"
      ]
    },
    {
      "cell_type": "code",
      "execution_count": null,
      "metadata": {
        "colab": {
          "base_uri": "https://localhost:8080/"
        },
        "id": "NyRh7rnxs8wO",
        "outputId": "a1885010-6b4d-47f7-d0c7-15775586c853"
      },
      "outputs": [
        {
          "name": "stdout",
          "output_type": "stream",
          "text": [
            "287\n"
          ]
        }
      ],
      "source": [
        "Total = myeloma_df['totalcount'].sum()\n",
        "print (Total)"
      ]
    },
    {
      "cell_type": "code",
      "execution_count": null,
      "metadata": {
        "colab": {
          "base_uri": "https://localhost:8080/"
        },
        "id": "cyhnV1yltHCc",
        "outputId": "d2b07586-8684-4a7a-e6b4-32e87629cbf9"
      },
      "outputs": [
        {
          "data": {
            "text/plain": [
              "(70, 3)"
            ]
          },
          "execution_count": 48,
          "metadata": {},
          "output_type": "execute_result"
        }
      ],
      "source": [
        "myeloma_df.shape"
      ]
    },
    {
      "cell_type": "markdown",
      "metadata": {
        "id": "Vz5RGDqEslZS"
      },
      "source": [
        "####Stroke"
      ]
    },
    {
      "cell_type": "code",
      "execution_count": null,
      "metadata": {
        "id": "8990ttESsHar"
      },
      "outputs": [],
      "source": [
        "stroke = df[df['namelower'].str.contains('stroke')]\n",
        "stroke_df = pd.DataFrame(stroke, columns = ['totalcount', 'namelower','document_type'])"
      ]
    },
    {
      "cell_type": "code",
      "execution_count": null,
      "metadata": {
        "colab": {
          "base_uri": "https://localhost:8080/"
        },
        "id": "wVSuzmvUs90X",
        "outputId": "24dce966-b639-4319-bc5b-34e3f8826f5d"
      },
      "outputs": [
        {
          "name": "stdout",
          "output_type": "stream",
          "text": [
            "281\n"
          ]
        }
      ],
      "source": [
        "Total = stroke_df['totalcount'].sum()\n",
        "print (Total)"
      ]
    },
    {
      "cell_type": "code",
      "execution_count": null,
      "metadata": {
        "colab": {
          "base_uri": "https://localhost:8080/"
        },
        "id": "Yld6yjiNtIR_",
        "outputId": "16bcdc36-abf7-42c6-8a59-22d6afa8ea1a"
      },
      "outputs": [
        {
          "data": {
            "text/plain": [
              "(52, 3)"
            ]
          },
          "execution_count": 53,
          "metadata": {},
          "output_type": "execute_result"
        }
      ],
      "source": [
        "stroke_df.shape"
      ]
    },
    {
      "cell_type": "code",
      "execution_count": null,
      "metadata": {
        "colab": {
          "base_uri": "https://localhost:8080/",
          "height": 424
        },
        "id": "_HQdfkW5zrd2",
        "outputId": "cfd35ee5-9442-4f63-e4a7-4ed80b33bcb0"
      },
      "outputs": [
        {
          "data": {
            "text/html": [
              "\n",
              "  <div id=\"df-6d259313-7e5b-48c9-9a19-90af73d065e2\">\n",
              "    <div class=\"colab-df-container\">\n",
              "      <div>\n",
              "<style scoped>\n",
              "    .dataframe tbody tr th:only-of-type {\n",
              "        vertical-align: middle;\n",
              "    }\n",
              "\n",
              "    .dataframe tbody tr th {\n",
              "        vertical-align: top;\n",
              "    }\n",
              "\n",
              "    .dataframe thead th {\n",
              "        text-align: right;\n",
              "    }\n",
              "</style>\n",
              "<table border=\"1\" class=\"dataframe\">\n",
              "  <thead>\n",
              "    <tr style=\"text-align: right;\">\n",
              "      <th></th>\n",
              "      <th>totalcount</th>\n",
              "      <th>namelower</th>\n",
              "      <th>document_type</th>\n",
              "    </tr>\n",
              "  </thead>\n",
              "  <tbody>\n",
              "    <tr>\n",
              "      <th>7</th>\n",
              "      <td>106</td>\n",
              "      <td>stroke</td>\n",
              "      <td>Study Protocol and Statistical Analysis Plan</td>\n",
              "    </tr>\n",
              "    <tr>\n",
              "      <th>38</th>\n",
              "      <td>58</td>\n",
              "      <td>stroke</td>\n",
              "      <td>Study Protocol</td>\n",
              "    </tr>\n",
              "    <tr>\n",
              "      <th>288</th>\n",
              "      <td>14</td>\n",
              "      <td>ischemic stroke</td>\n",
              "      <td>Study Protocol and Statistical Analysis Plan</td>\n",
              "    </tr>\n",
              "    <tr>\n",
              "      <th>346</th>\n",
              "      <td>13</td>\n",
              "      <td>ischemic stroke</td>\n",
              "      <td>Study Protocol</td>\n",
              "    </tr>\n",
              "    <tr>\n",
              "      <th>446</th>\n",
              "      <td>10</td>\n",
              "      <td>stroke, acute</td>\n",
              "      <td>Study Protocol and Statistical Analysis Plan</td>\n",
              "    </tr>\n",
              "    <tr>\n",
              "      <th>...</th>\n",
              "      <td>...</td>\n",
              "      <td>...</td>\n",
              "      <td>...</td>\n",
              "    </tr>\n",
              "    <tr>\n",
              "      <th>17064</th>\n",
              "      <td>1</td>\n",
              "      <td>ann arbor stage iv childhood non-hodgkin lymphoma</td>\n",
              "      <td>Study Protocol and Statistical Analysis Plan</td>\n",
              "    </tr>\n",
              "    <tr>\n",
              "      <th>17065</th>\n",
              "      <td>1</td>\n",
              "      <td>ann arbor stage iv diffuse large b-cell lymphoma</td>\n",
              "      <td>Study Protocol and Statistical Analysis Plan</td>\n",
              "    </tr>\n",
              "    <tr>\n",
              "      <th>17066</th>\n",
              "      <td>1</td>\n",
              "      <td>ann arbor stage iv grade 3 follicular lymphoma</td>\n",
              "      <td>Study Protocol and Statistical Analysis Plan</td>\n",
              "    </tr>\n",
              "    <tr>\n",
              "      <th>17067</th>\n",
              "      <td>1</td>\n",
              "      <td>ann arbor stage iv indolent adult non-hodgkin ...</td>\n",
              "      <td>Study Protocol and Statistical Analysis Plan</td>\n",
              "    </tr>\n",
              "    <tr>\n",
              "      <th>17068</th>\n",
              "      <td>1</td>\n",
              "      <td>ann arbor stage iv mantle cell lymphoma</td>\n",
              "      <td>Study Protocol and Statistical Analysis Plan</td>\n",
              "    </tr>\n",
              "  </tbody>\n",
              "</table>\n",
              "<p>2441 rows � 3 columns</p>\n",
              "</div>\n",
              "      <button class=\"colab-df-convert\" onclick=\"convertToInteractive('df-6d259313-7e5b-48c9-9a19-90af73d065e2')\"\n",
              "              title=\"Convert this dataframe to an interactive table.\"\n",
              "              style=\"display:none;\">\n",
              "        \n",
              "  <svg xmlns=\"http://www.w3.org/2000/svg\" height=\"24px\"viewBox=\"0 0 24 24\"\n",
              "       width=\"24px\">\n",
              "    <path d=\"M0 0h24v24H0V0z\" fill=\"none\"/>\n",
              "    <path d=\"M18.56 5.44l.94 2.06.94-2.06 2.06-.94-2.06-.94-.94-2.06-.94 2.06-2.06.94zm-11 1L8.5 8.5l.94-2.06 2.06-.94-2.06-.94L8.5 2.5l-.94 2.06-2.06.94zm10 10l.94 2.06.94-2.06 2.06-.94-2.06-.94-.94-2.06-.94 2.06-2.06.94z\"/><path d=\"M17.41 7.96l-1.37-1.37c-.4-.4-.92-.59-1.43-.59-.52 0-1.04.2-1.43.59L10.3 9.45l-7.72 7.72c-.78.78-.78 2.05 0 2.83L4 21.41c.39.39.9.59 1.41.59.51 0 1.02-.2 1.41-.59l7.78-7.78 2.81-2.81c.8-.78.8-2.07 0-2.86zM5.41 20L4 18.59l7.72-7.72 1.47 1.35L5.41 20z\"/>\n",
              "  </svg>\n",
              "      </button>\n",
              "      \n",
              "  <style>\n",
              "    .colab-df-container {\n",
              "      display:flex;\n",
              "      flex-wrap:wrap;\n",
              "      gap: 12px;\n",
              "    }\n",
              "\n",
              "    .colab-df-convert {\n",
              "      background-color: #E8F0FE;\n",
              "      border: none;\n",
              "      border-radius: 50%;\n",
              "      cursor: pointer;\n",
              "      display: none;\n",
              "      fill: #1967D2;\n",
              "      height: 32px;\n",
              "      padding: 0 0 0 0;\n",
              "      width: 32px;\n",
              "    }\n",
              "\n",
              "    .colab-df-convert:hover {\n",
              "      background-color: #E2EBFA;\n",
              "      box-shadow: 0px 1px 2px rgba(60, 64, 67, 0.3), 0px 1px 3px 1px rgba(60, 64, 67, 0.15);\n",
              "      fill: #174EA6;\n",
              "    }\n",
              "\n",
              "    [theme=dark] .colab-df-convert {\n",
              "      background-color: #3B4455;\n",
              "      fill: #D2E3FC;\n",
              "    }\n",
              "\n",
              "    [theme=dark] .colab-df-convert:hover {\n",
              "      background-color: #434B5C;\n",
              "      box-shadow: 0px 1px 3px 1px rgba(0, 0, 0, 0.15);\n",
              "      filter: drop-shadow(0px 1px 2px rgba(0, 0, 0, 0.3));\n",
              "      fill: #FFFFFF;\n",
              "    }\n",
              "  </style>\n",
              "\n",
              "      <script>\n",
              "        const buttonEl =\n",
              "          document.querySelector('#df-6d259313-7e5b-48c9-9a19-90af73d065e2 button.colab-df-convert');\n",
              "        buttonEl.style.display =\n",
              "          google.colab.kernel.accessAllowed ? 'block' : 'none';\n",
              "\n",
              "        async function convertToInteractive(key) {\n",
              "          const element = document.querySelector('#df-6d259313-7e5b-48c9-9a19-90af73d065e2');\n",
              "          const dataTable =\n",
              "            await google.colab.kernel.invokeFunction('convertToInteractive',\n",
              "                                                     [key], {});\n",
              "          if (!dataTable) return;\n",
              "\n",
              "          const docLinkHtml = 'Like what you see? Visit the ' +\n",
              "            '<a target=\"_blank\" href=https://colab.research.google.com/notebooks/data_table.ipynb>data table notebook</a>'\n",
              "            + ' to learn more about interactive tables.';\n",
              "          element.innerHTML = '';\n",
              "          dataTable['output_type'] = 'display_data';\n",
              "          await google.colab.output.renderOutput(dataTable, element);\n",
              "          const docLink = document.createElement('div');\n",
              "          docLink.innerHTML = docLinkHtml;\n",
              "          element.appendChild(docLink);\n",
              "        }\n",
              "      </script>\n",
              "    </div>\n",
              "  </div>\n",
              "  "
            ],
            "text/plain": [
              "       totalcount                                          namelower  \\\n",
              "7             106                                             stroke   \n",
              "38             58                                             stroke   \n",
              "288            14                                    ischemic stroke   \n",
              "346            13                                    ischemic stroke   \n",
              "446            10                                      stroke, acute   \n",
              "...           ...                                                ...   \n",
              "17064           1  ann arbor stage iv childhood non-hodgkin lymphoma   \n",
              "17065           1   ann arbor stage iv diffuse large b-cell lymphoma   \n",
              "17066           1     ann arbor stage iv grade 3 follicular lymphoma   \n",
              "17067           1  ann arbor stage iv indolent adult non-hodgkin ...   \n",
              "17068           1            ann arbor stage iv mantle cell lymphoma   \n",
              "\n",
              "                                      document_type  \n",
              "7      Study Protocol and Statistical Analysis Plan  \n",
              "38                                   Study Protocol  \n",
              "288    Study Protocol and Statistical Analysis Plan  \n",
              "346                                  Study Protocol  \n",
              "446    Study Protocol and Statistical Analysis Plan  \n",
              "...                                             ...  \n",
              "17064  Study Protocol and Statistical Analysis Plan  \n",
              "17065  Study Protocol and Statistical Analysis Plan  \n",
              "17066  Study Protocol and Statistical Analysis Plan  \n",
              "17067  Study Protocol and Statistical Analysis Plan  \n",
              "17068  Study Protocol and Statistical Analysis Plan  \n",
              "\n",
              "[2441 rows x 3 columns]"
            ]
          },
          "metadata": {},
          "output_type": "display_data"
        }
      ],
      "source": [
        "frames= [stroke_df, myeloma_df, depression_df, obesity_df, hiv_df, arthritis_df, diabetes_df, pain_df, cancer_df, lymphoma_df]  \n",
        "result= pd.concat(frames)\n",
        "display(result)"
      ]
    },
    {
      "cell_type": "code",
      "execution_count": null,
      "metadata": {
        "id": "AsGVpr3a3RsX"
      },
      "outputs": [],
      "source": [
        "disease = [['lymphoma', 1112],['cancer', 3038],['pain', 947],['diabetes', 920],['arthritis', 516],['hiv', 431],['obesity', 373],['depression', 306],['myeloma', 287],['stroke', 281]]\n"
      ]
    },
    {
      "cell_type": "code",
      "execution_count": null,
      "metadata": {
        "id": "Iw85rHeO6SFT"
      },
      "outputs": [],
      "source": [
        "df_combine = pd.DataFrame(disease, columns=['Name', 'Count'])"
      ]
    },
    {
      "cell_type": "markdown",
      "metadata": {
        "id": "mYZ_7u9_xyyN"
      },
      "source": [
        "###Top 10 disease"
      ]
    },
    {
      "cell_type": "code",
      "execution_count": null,
      "metadata": {
        "colab": {
          "base_uri": "https://localhost:8080/",
          "height": 363
        },
        "id": "HZHI5Vdm6Z5U",
        "outputId": "7ba0d599-51d6-429f-8a95-775f8ddae605"
      },
      "outputs": [
        {
          "data": {
            "text/html": [
              "\n",
              "  <div id=\"df-745acdce-512a-46d3-be91-66971ed1a7b3\">\n",
              "    <div class=\"colab-df-container\">\n",
              "      <div>\n",
              "<style scoped>\n",
              "    .dataframe tbody tr th:only-of-type {\n",
              "        vertical-align: middle;\n",
              "    }\n",
              "\n",
              "    .dataframe tbody tr th {\n",
              "        vertical-align: top;\n",
              "    }\n",
              "\n",
              "    .dataframe thead th {\n",
              "        text-align: right;\n",
              "    }\n",
              "</style>\n",
              "<table border=\"1\" class=\"dataframe\">\n",
              "  <thead>\n",
              "    <tr style=\"text-align: right;\">\n",
              "      <th></th>\n",
              "      <th>Name</th>\n",
              "      <th>Count</th>\n",
              "    </tr>\n",
              "  </thead>\n",
              "  <tbody>\n",
              "    <tr>\n",
              "      <th>1</th>\n",
              "      <td>cancer</td>\n",
              "      <td>3038</td>\n",
              "    </tr>\n",
              "    <tr>\n",
              "      <th>0</th>\n",
              "      <td>lymphoma</td>\n",
              "      <td>1112</td>\n",
              "    </tr>\n",
              "    <tr>\n",
              "      <th>2</th>\n",
              "      <td>pain</td>\n",
              "      <td>947</td>\n",
              "    </tr>\n",
              "    <tr>\n",
              "      <th>3</th>\n",
              "      <td>diabetes</td>\n",
              "      <td>920</td>\n",
              "    </tr>\n",
              "    <tr>\n",
              "      <th>4</th>\n",
              "      <td>arthritis</td>\n",
              "      <td>516</td>\n",
              "    </tr>\n",
              "    <tr>\n",
              "      <th>5</th>\n",
              "      <td>hiv</td>\n",
              "      <td>431</td>\n",
              "    </tr>\n",
              "    <tr>\n",
              "      <th>6</th>\n",
              "      <td>obesity</td>\n",
              "      <td>373</td>\n",
              "    </tr>\n",
              "    <tr>\n",
              "      <th>7</th>\n",
              "      <td>depression</td>\n",
              "      <td>306</td>\n",
              "    </tr>\n",
              "    <tr>\n",
              "      <th>8</th>\n",
              "      <td>myeloma</td>\n",
              "      <td>287</td>\n",
              "    </tr>\n",
              "    <tr>\n",
              "      <th>9</th>\n",
              "      <td>stroke</td>\n",
              "      <td>281</td>\n",
              "    </tr>\n",
              "  </tbody>\n",
              "</table>\n",
              "</div>\n",
              "      <button class=\"colab-df-convert\" onclick=\"convertToInteractive('df-745acdce-512a-46d3-be91-66971ed1a7b3')\"\n",
              "              title=\"Convert this dataframe to an interactive table.\"\n",
              "              style=\"display:none;\">\n",
              "        \n",
              "  <svg xmlns=\"http://www.w3.org/2000/svg\" height=\"24px\"viewBox=\"0 0 24 24\"\n",
              "       width=\"24px\">\n",
              "    <path d=\"M0 0h24v24H0V0z\" fill=\"none\"/>\n",
              "    <path d=\"M18.56 5.44l.94 2.06.94-2.06 2.06-.94-2.06-.94-.94-2.06-.94 2.06-2.06.94zm-11 1L8.5 8.5l.94-2.06 2.06-.94-2.06-.94L8.5 2.5l-.94 2.06-2.06.94zm10 10l.94 2.06.94-2.06 2.06-.94-2.06-.94-.94-2.06-.94 2.06-2.06.94z\"/><path d=\"M17.41 7.96l-1.37-1.37c-.4-.4-.92-.59-1.43-.59-.52 0-1.04.2-1.43.59L10.3 9.45l-7.72 7.72c-.78.78-.78 2.05 0 2.83L4 21.41c.39.39.9.59 1.41.59.51 0 1.02-.2 1.41-.59l7.78-7.78 2.81-2.81c.8-.78.8-2.07 0-2.86zM5.41 20L4 18.59l7.72-7.72 1.47 1.35L5.41 20z\"/>\n",
              "  </svg>\n",
              "      </button>\n",
              "      \n",
              "  <style>\n",
              "    .colab-df-container {\n",
              "      display:flex;\n",
              "      flex-wrap:wrap;\n",
              "      gap: 12px;\n",
              "    }\n",
              "\n",
              "    .colab-df-convert {\n",
              "      background-color: #E8F0FE;\n",
              "      border: none;\n",
              "      border-radius: 50%;\n",
              "      cursor: pointer;\n",
              "      display: none;\n",
              "      fill: #1967D2;\n",
              "      height: 32px;\n",
              "      padding: 0 0 0 0;\n",
              "      width: 32px;\n",
              "    }\n",
              "\n",
              "    .colab-df-convert:hover {\n",
              "      background-color: #E2EBFA;\n",
              "      box-shadow: 0px 1px 2px rgba(60, 64, 67, 0.3), 0px 1px 3px 1px rgba(60, 64, 67, 0.15);\n",
              "      fill: #174EA6;\n",
              "    }\n",
              "\n",
              "    [theme=dark] .colab-df-convert {\n",
              "      background-color: #3B4455;\n",
              "      fill: #D2E3FC;\n",
              "    }\n",
              "\n",
              "    [theme=dark] .colab-df-convert:hover {\n",
              "      background-color: #434B5C;\n",
              "      box-shadow: 0px 1px 3px 1px rgba(0, 0, 0, 0.15);\n",
              "      filter: drop-shadow(0px 1px 2px rgba(0, 0, 0, 0.3));\n",
              "      fill: #FFFFFF;\n",
              "    }\n",
              "  </style>\n",
              "\n",
              "      <script>\n",
              "        const buttonEl =\n",
              "          document.querySelector('#df-745acdce-512a-46d3-be91-66971ed1a7b3 button.colab-df-convert');\n",
              "        buttonEl.style.display =\n",
              "          google.colab.kernel.accessAllowed ? 'block' : 'none';\n",
              "\n",
              "        async function convertToInteractive(key) {\n",
              "          const element = document.querySelector('#df-745acdce-512a-46d3-be91-66971ed1a7b3');\n",
              "          const dataTable =\n",
              "            await google.colab.kernel.invokeFunction('convertToInteractive',\n",
              "                                                     [key], {});\n",
              "          if (!dataTable) return;\n",
              "\n",
              "          const docLinkHtml = 'Like what you see? Visit the ' +\n",
              "            '<a target=\"_blank\" href=https://colab.research.google.com/notebooks/data_table.ipynb>data table notebook</a>'\n",
              "            + ' to learn more about interactive tables.';\n",
              "          element.innerHTML = '';\n",
              "          dataTable['output_type'] = 'display_data';\n",
              "          await google.colab.output.renderOutput(dataTable, element);\n",
              "          const docLink = document.createElement('div');\n",
              "          docLink.innerHTML = docLinkHtml;\n",
              "          element.appendChild(docLink);\n",
              "        }\n",
              "      </script>\n",
              "    </div>\n",
              "  </div>\n",
              "  "
            ],
            "text/plain": [
              "         Name  Count\n",
              "1      cancer   3038\n",
              "0    lymphoma   1112\n",
              "2        pain    947\n",
              "3    diabetes    920\n",
              "4   arthritis    516\n",
              "5         hiv    431\n",
              "6     obesity    373\n",
              "7  depression    306\n",
              "8     myeloma    287\n",
              "9      stroke    281"
            ]
          },
          "execution_count": 60,
          "metadata": {},
          "output_type": "execute_result"
        }
      ],
      "source": [
        "df_combine.sort_values([\"Count\"], ascending=False)"
      ]
    },
    {
      "cell_type": "code",
      "execution_count": null,
      "metadata": {
        "id": "CpIskfxNFm6c"
      },
      "outputs": [],
      "source": [
        "disease = [['lymphoma', 1112],['cancer', 3038],['pain', 947],['diabetes', 920],['arthritis', 516],['hiv', 431],['obesity', 373],['depression', 306],['myeloma', 287],['stroke', 281]]\n",
        "dis = ['lymphoma','cancer','pain','diabetes','arthritis','hiv','obesity','depression', 'myeloma','stroke']\n",
        "count =  [ 1112, 3038, 947, 920, 516, 431, 373, 306, 287, 281]\n",
        "\n"
      ]
    },
    {
      "cell_type": "code",
      "execution_count": null,
      "metadata": {
        "colab": {
          "base_uri": "https://localhost:8080/",
          "height": 356
        },
        "id": "wZTWybvfzSNm",
        "outputId": "83124a3e-e79d-48fe-9d23-623fbf491f5f"
      },
      "outputs": [
        {
          "data": {
            "text/plain": [
              "(array([0, 1, 2, 3, 4, 5, 6, 7, 8, 9]),\n",
              " <a list of 10 Text major ticklabel objects>)"
            ]
          },
          "execution_count": 68,
          "metadata": {},
          "output_type": "execute_result"
        },
        {
          "data": {
            "image/png": "[encoded data removed]",
            "text/plain": [
              "<Figure size 432x288 with 1 Axes>"
            ]
          },
          "metadata": {
            "needs_background": "light"
          },
          "output_type": "display_data"
        }
      ],
      "source": [
        "df = pd.DataFrame({'condition':['lymphoma','cancer','pain','diabetes','arthritis','hiv','obesity','depression', 'myeloma','stroke'], 'count':[ 1112, 3038, 947, 920, 516, 431, 373, 306, 287, 281]})\n",
        "ax = df.plot.bar(x='condition', y='count', rot=0)\n",
        "plt.title('Disease Count') \n",
        "plt.xlabel(\"Disease\")\n",
        "plt.ylabel(\"Count\")\n",
        "plt.xticks(rotation=30, horizontalalignment=\"center\")"
      ]
    },
    {
      "cell_type": "markdown",
      "source": [
        "From the above graph, we can conclude that cancer has the maximum number of protocol documents compared to others, but processing these many documents would be challenging and require a bigger processor. Diabetes shows a decent number of records that could be used for research. Also, diabetes, one of the most common diseases worldwide, will have more variety and variation.\n",
        "Thus, we are proceeding with the diabetes data."
      ],
      "metadata": {
        "id": "rbqCF22dbDFk"
      }
    },
    {
      "cell_type": "markdown",
      "metadata": {
        "id": "McbBypNPmK0b"
      },
      "source": [
        "##<font color='#3dc1d3'> 1.2 DATA PREPARATION\n",
        "\n",
        "#Outline\n",
        "---\n",
        "# <font color='#3dc1d3'>  \n",
        "1. Dataset- (Diabetes)\n",
        "2. Install the required library, import and read dataset\n",
        "3. Data cleaning\n",
        "5. Save the cleaned dataset <br>\n"
      ]
    },
    {
      "cell_type": "markdown",
      "metadata": {
        "id": "pj8e6lKLZDRF"
      },
      "source": [
        "### Importing necessary libraries\n"
      ]
    },
    {
      "cell_type": "code",
      "execution_count": null,
      "metadata": {
        "colab": {
          "base_uri": "https://localhost:8080/"
        },
        "id": "2177f070",
        "outputId": "1e8d0e19-bc3b-4142-e9d5-f5cc7194c355"
      },
      "outputs": [
        {
          "name": "stderr",
          "output_type": "stream",
          "text": [
            "[nltk_data] Downloading package stopwords to /root/nltk_data...\n",
            "[nltk_data]   Package stopwords is already up-to-date!\n"
          ]
        }
      ],
      "source": [
        "import pandas as pd\n",
        "import numpy as np\n",
        "import nltk\n",
        "nltk.download('stopwords')\n",
        "from nltk.corpus import stopwords\n",
        "import string\n",
        "from nltk.tokenize import RegexpTokenizer\n",
        "import re\n",
        "import os"
      ]
    },
    {
      "cell_type": "code",
      "execution_count": null,
      "metadata": {
        "colab": {
          "base_uri": "https://localhost:8080/"
        },
        "id": "0ad9ca71",
        "outputId": "94d6c92a-8ceb-4050-9e08-ba6e48490eb9"
      },
      "outputs": [
        {
          "name": "stdout",
          "output_type": "stream",
          "text": [
            "Drive already mounted at /content/drive; to attempt to forcibly remount, call drive.mount(\"/content/drive\", force_remount=True).\n"
          ]
        }
      ],
      "source": [
        "from google.colab import drive\n",
        "drive.mount('/content/drive')"
      ]
    },
    {
      "cell_type": "markdown",
      "metadata": {
        "id": "qpldY3xjZKEp"
      },
      "source": [
        "### Reading the diabetes dataset"
      ]
    },
    {
      "cell_type": "code",
      "execution_count": null,
      "metadata": {
        "colab": {
          "base_uri": "https://localhost:8080/",
          "height": 1000
        },
        "id": "a7907235",
        "outputId": "439d0e86-a544-4c37-9e3c-3a34c802b595"
      },
      "outputs": [
        {
          "data": {
            "text/html": [
              "\n",
              "  <div id=\"df-8f733cfc-9615-4425-b741-10918c8893e4\">\n",
              "    <div class=\"colab-df-container\">\n",
              "      <div>\n",
              "<style scoped>\n",
              "    .dataframe tbody tr th:only-of-type {\n",
              "        vertical-align: middle;\n",
              "    }\n",
              "\n",
              "    .dataframe tbody tr th {\n",
              "        vertical-align: top;\n",
              "    }\n",
              "\n",
              "    .dataframe thead th {\n",
              "        text-align: right;\n",
              "    }\n",
              "</style>\n",
              "<table border=\"1\" class=\"dataframe\">\n",
              "  <thead>\n",
              "    <tr style=\"text-align: right;\">\n",
              "      <th></th>\n",
              "      <th>Rank</th>\n",
              "      <th>NCT Number</th>\n",
              "      <th>Title</th>\n",
              "      <th>Status</th>\n",
              "      <th>Study Results</th>\n",
              "      <th>Conditions</th>\n",
              "      <th>Interventions</th>\n",
              "      <th>Sponsor/Collaborators</th>\n",
              "      <th>Age</th>\n",
              "      <th>Phases</th>\n",
              "      <th>Funded Bys</th>\n",
              "      <th>Study Type</th>\n",
              "      <th>Study Designs</th>\n",
              "      <th>Locations</th>\n",
              "      <th>Study Documents</th>\n",
              "      <th>URL</th>\n",
              "    </tr>\n",
              "  </thead>\n",
              "  <tbody>\n",
              "    <tr>\n",
              "      <th>0</th>\n",
              "      <td>1</td>\n",
              "      <td>NCT03763474</td>\n",
              "      <td>Euglyca Application in Children and Adolescent...</td>\n",
              "      <td>Completed</td>\n",
              "      <td>No Results Available</td>\n",
              "      <td>Diabetes Mellitus, Type 1</td>\n",
              "      <td>Combination Product: Euglyca application</td>\n",
              "      <td>Aristotle University Of Thessaloniki</td>\n",
              "      <td>6 Years to 18 Years � (Child, Adult)</td>\n",
              "      <td>Not Applicable</td>\n",
              "      <td>Other</td>\n",
              "      <td>Interventional</td>\n",
              "      <td>Allocation: Randomized|Intervention Model: Par...</td>\n",
              "      <td>Endocrine Unit of 3rd Department of Pediatrics...</td>\n",
              "      <td>\"Study Protocol and Statistical Analysis Plan\"...</td>\n",
              "      <td>https://ClinicalTrials.gov/show/NCT03763474</td>\n",
              "    </tr>\n",
              "    <tr>\n",
              "      <th>1</th>\n",
              "      <td>2</td>\n",
              "      <td>NCT05013294</td>\n",
              "      <td>Using mHealth (Mobile Health) to Optimize Glyc...</td>\n",
              "      <td>Completed</td>\n",
              "      <td>No Results Available</td>\n",
              "      <td>Diabetes</td>\n",
              "      <td>Other: Intervention</td>\n",
              "      <td>KU Leuven|Jomo Kenyatta University of Agricult...</td>\n",
              "      <td>Child, Adult, Older Adult</td>\n",
              "      <td>Not Applicable</td>\n",
              "      <td>Other</td>\n",
              "      <td>Interventional</td>\n",
              "      <td>Allocation: Randomized|Intervention Model: Par...</td>\n",
              "      <td>Jomo Kenyatta University of Agriculture and Te...</td>\n",
              "      <td>\"Study Protocol\", https://ClinicalTrials.gov/P...</td>\n",
              "      <td>https://ClinicalTrials.gov/show/NCT05013294</td>\n",
              "    </tr>\n",
              "    <tr>\n",
              "      <th>2</th>\n",
              "      <td>3</td>\n",
              "      <td>NCT03108521</td>\n",
              "      <td>SNP Study of DPP-4 and GLP-1R in Chinese Peopl...</td>\n",
              "      <td>Completed</td>\n",
              "      <td>Has Results</td>\n",
              "      <td>Diabetes Mellitus</td>\n",
              "      <td>Drug: Sitagliptin</td>\n",
              "      <td>Sichuan Provincial People's Hospital</td>\n",
              "      <td>18 Years to 70 Years � (Adult, Older Adult)</td>\n",
              "      <td>Phase 4</td>\n",
              "      <td>Other</td>\n",
              "      <td>Interventional</td>\n",
              "      <td>Allocation: Non-Randomized|Intervention Model:...</td>\n",
              "      <td>Sichuan provincial people's hospital, Chengdu,...</td>\n",
              "      <td>\"Study Protocol and Statistical Analysis Plan\"...</td>\n",
              "      <td>https://ClinicalTrials.gov/show/NCT03108521</td>\n",
              "    </tr>\n",
              "    <tr>\n",
              "      <th>3</th>\n",
              "      <td>4</td>\n",
              "      <td>NCT02928952</td>\n",
              "      <td>Mindful Stress Reduction in Diabetes Self-mana...</td>\n",
              "      <td>Completed</td>\n",
              "      <td>Has Results</td>\n",
              "      <td>Diabetes Mellitus</td>\n",
              "      <td>Behavioral: Mind-STRIDE</td>\n",
              "      <td>VA Office of Research and Development</td>\n",
              "      <td>18 Years and older � (Adult, Older Adult)</td>\n",
              "      <td>Not Applicable</td>\n",
              "      <td>U.S. Fed</td>\n",
              "      <td>Interventional</td>\n",
              "      <td>Allocation: Randomized|Intervention Model: Par...</td>\n",
              "      <td>VA Pittsburgh Healthcare System University Dri...</td>\n",
              "      <td>\"Study Protocol and Statistical Analysis Plan\"...</td>\n",
              "      <td>https://ClinicalTrials.gov/show/NCT02928952</td>\n",
              "    </tr>\n",
              "    <tr>\n",
              "      <th>4</th>\n",
              "      <td>5</td>\n",
              "      <td>NCT05106231</td>\n",
              "      <td>Effectiveness of PICC Improving HBA1C and Know...</td>\n",
              "      <td>Recruiting</td>\n",
              "      <td>No Results Available</td>\n",
              "      <td>Diabetes Mellitus|Type2 Diabetes</td>\n",
              "      <td>Behavioral: PICC Program|Behavioral: Control</td>\n",
              "      <td>Clinical Research Centre, Malaysia|Ministry of...</td>\n",
              "      <td>18 Years and older � (Adult, Older Adult)</td>\n",
              "      <td>Not Applicable</td>\n",
              "      <td>Other</td>\n",
              "      <td>Interventional</td>\n",
              "      <td>Allocation: Randomized|Intervention Model: Fac...</td>\n",
              "      <td>Klinik Kesihatan Daro, Daro, Sarawak, Malaysia...</td>\n",
              "      <td>\"Study Protocol, Statistical Analysis Plan, an...</td>\n",
              "      <td>https://ClinicalTrials.gov/show/NCT05106231</td>\n",
              "    </tr>\n",
              "    <tr>\n",
              "      <th>5</th>\n",
              "      <td>6</td>\n",
              "      <td>NCT02002130</td>\n",
              "      <td>The Use of Glutamic Acid Decarboxylase (GAD) a...</td>\n",
              "      <td>Completed</td>\n",
              "      <td>No Results Available</td>\n",
              "      <td>Type I Diabetes</td>\n",
              "      <td>Drug: Placebo GABA and Placebo GAD-alum|Drug: ...</td>\n",
              "      <td>University of Alabama at Birmingham|Diamyd Inc...</td>\n",
              "      <td>4 Years to 18 Years � (Child, Adult)</td>\n",
              "      <td>Phase 1</td>\n",
              "      <td>Other|Industry</td>\n",
              "      <td>Interventional</td>\n",
              "      <td>Allocation: Randomized|Intervention Model: Par...</td>\n",
              "      <td>Children's of Alabama, Birmingham, Alabama, Un...</td>\n",
              "      <td>\"Study Protocol and Statistical Analysis Plan\"...</td>\n",
              "      <td>https://ClinicalTrials.gov/show/NCT02002130</td>\n",
              "    </tr>\n",
              "    <tr>\n",
              "      <th>6</th>\n",
              "      <td>7</td>\n",
              "      <td>NCT02641522</td>\n",
              "      <td>Modulation of STAT3 Signaling With Siltuximab ...</td>\n",
              "      <td>Completed</td>\n",
              "      <td>Has Results</td>\n",
              "      <td>Type 1 Diabetes</td>\n",
              "      <td>Drug: Siltuximab</td>\n",
              "      <td>Carla Greenbaum, MD|Janssen Research &amp; Develop...</td>\n",
              "      <td>18 Years to 45 Years � (Adult)</td>\n",
              "      <td>Early Phase 1</td>\n",
              "      <td>Other|Industry</td>\n",
              "      <td>Interventional</td>\n",
              "      <td>Allocation: N/A|Intervention Model: Single Gro...</td>\n",
              "      <td>Benaroya Research Institute, Seattle, Washingt...</td>\n",
              "      <td>\"Study Protocol and Statistical Analysis Plan\"...</td>\n",
              "      <td>https://ClinicalTrials.gov/show/NCT02641522</td>\n",
              "    </tr>\n",
              "    <tr>\n",
              "      <th>7</th>\n",
              "      <td>8</td>\n",
              "      <td>NCT03224234</td>\n",
              "      <td>A Randomized Study to Evaluate the Efficacy of...</td>\n",
              "      <td>Completed</td>\n",
              "      <td>Has Results</td>\n",
              "      <td>Diabetes</td>\n",
              "      <td>Device: Insulclock with feedback|Device: Insul...</td>\n",
              "      <td>Emory University|Insulcoud S.L.</td>\n",
              "      <td>18 Years to 80 Years � (Adult, Older Adult)</td>\n",
              "      <td>Not Applicable</td>\n",
              "      <td>Other</td>\n",
              "      <td>Interventional</td>\n",
              "      <td>Allocation: Randomized|Intervention Model: Cro...</td>\n",
              "      <td>Emory Clinic, Emory University Hospital (non-C...</td>\n",
              "      <td>\"Study Protocol and Statistical Analysis Plan\"...</td>\n",
              "      <td>https://ClinicalTrials.gov/show/NCT03224234</td>\n",
              "    </tr>\n",
              "    <tr>\n",
              "      <th>8</th>\n",
              "      <td>9</td>\n",
              "      <td>NCT03626909</td>\n",
              "      <td>Diabetes Treatment in Rural Guatemala</td>\n",
              "      <td>Completed</td>\n",
              "      <td>No Results Available</td>\n",
              "      <td>Diabetes</td>\n",
              "      <td>Other: Primary visit and assessment|Other: Fol...</td>\n",
              "      <td>University of Wisconsin, Madison|Stanford Univ...</td>\n",
              "      <td>18 Years and older � (Adult, Older Adult)</td>\n",
              "      <td>NaN</td>\n",
              "      <td>Other</td>\n",
              "      <td>Observational</td>\n",
              "      <td>Observational Model: Cohort|Time Perspective: ...</td>\n",
              "      <td>Hospital Obras Sociales, San Lucas Tolim�n, So...</td>\n",
              "      <td>\"Study Protocol and Statistical Analysis Plan\"...</td>\n",
              "      <td>https://ClinicalTrials.gov/show/NCT03626909</td>\n",
              "    </tr>\n",
              "    <tr>\n",
              "      <th>9</th>\n",
              "      <td>10</td>\n",
              "      <td>NCT02953262</td>\n",
              "      <td>Improving Diabetes Care Through Effective Pers...</td>\n",
              "      <td>Completed</td>\n",
              "      <td>Has Results</td>\n",
              "      <td>Diabetes Mellitus</td>\n",
              "      <td>Behavioral: My HealtheVet Brochure|Behavioral:...</td>\n",
              "      <td>VA Office of Research and Development</td>\n",
              "      <td>18 Years to 85 Years � (Adult, Older Adult)</td>\n",
              "      <td>Not Applicable</td>\n",
              "      <td>U.S. Fed</td>\n",
              "      <td>Interventional</td>\n",
              "      <td>Allocation: Randomized|Intervention Model: Par...</td>\n",
              "      <td>Edith Nourse Rogers Memorial Veterans Hospital...</td>\n",
              "      <td>\"Study Protocol and Statistical Analysis Plan\"...</td>\n",
              "      <td>https://ClinicalTrials.gov/show/NCT02953262</td>\n",
              "    </tr>\n",
              "  </tbody>\n",
              "</table>\n",
              "</div>\n",
              "      <button class=\"colab-df-convert\" onclick=\"convertToInteractive('df-8f733cfc-9615-4425-b741-10918c8893e4')\"\n",
              "              title=\"Convert this dataframe to an interactive table.\"\n",
              "              style=\"display:none;\">\n",
              "        \n",
              "  <svg xmlns=\"http://www.w3.org/2000/svg\" height=\"24px\"viewBox=\"0 0 24 24\"\n",
              "       width=\"24px\">\n",
              "    <path d=\"M0 0h24v24H0V0z\" fill=\"none\"/>\n",
              "    <path d=\"M18.56 5.44l.94 2.06.94-2.06 2.06-.94-2.06-.94-.94-2.06-.94 2.06-2.06.94zm-11 1L8.5 8.5l.94-2.06 2.06-.94-2.06-.94L8.5 2.5l-.94 2.06-2.06.94zm10 10l.94 2.06.94-2.06 2.06-.94-2.06-.94-.94-2.06-.94 2.06-2.06.94z\"/><path d=\"M17.41 7.96l-1.37-1.37c-.4-.4-.92-.59-1.43-.59-.52 0-1.04.2-1.43.59L10.3 9.45l-7.72 7.72c-.78.78-.78 2.05 0 2.83L4 21.41c.39.39.9.59 1.41.59.51 0 1.02-.2 1.41-.59l7.78-7.78 2.81-2.81c.8-.78.8-2.07 0-2.86zM5.41 20L4 18.59l7.72-7.72 1.47 1.35L5.41 20z\"/>\n",
              "  </svg>\n",
              "      </button>\n",
              "      \n",
              "  <style>\n",
              "    .colab-df-container {\n",
              "      display:flex;\n",
              "      flex-wrap:wrap;\n",
              "      gap: 12px;\n",
              "    }\n",
              "\n",
              "    .colab-df-convert {\n",
              "      background-color: #E8F0FE;\n",
              "      border: none;\n",
              "      border-radius: 50%;\n",
              "      cursor: pointer;\n",
              "      display: none;\n",
              "      fill: #1967D2;\n",
              "      height: 32px;\n",
              "      padding: 0 0 0 0;\n",
              "      width: 32px;\n",
              "    }\n",
              "\n",
              "    .colab-df-convert:hover {\n",
              "      background-color: #E2EBFA;\n",
              "      box-shadow: 0px 1px 2px rgba(60, 64, 67, 0.3), 0px 1px 3px 1px rgba(60, 64, 67, 0.15);\n",
              "      fill: #174EA6;\n",
              "    }\n",
              "\n",
              "    [theme=dark] .colab-df-convert {\n",
              "      background-color: #3B4455;\n",
              "      fill: #D2E3FC;\n",
              "    }\n",
              "\n",
              "    [theme=dark] .colab-df-convert:hover {\n",
              "      background-color: #434B5C;\n",
              "      box-shadow: 0px 1px 3px 1px rgba(0, 0, 0, 0.15);\n",
              "      filter: drop-shadow(0px 1px 2px rgba(0, 0, 0, 0.3));\n",
              "      fill: #FFFFFF;\n",
              "    }\n",
              "  </style>\n",
              "\n",
              "      <script>\n",
              "        const buttonEl =\n",
              "          document.querySelector('#df-8f733cfc-9615-4425-b741-10918c8893e4 button.colab-df-convert');\n",
              "        buttonEl.style.display =\n",
              "          google.colab.kernel.accessAllowed ? 'block' : 'none';\n",
              "\n",
              "        async function convertToInteractive(key) {\n",
              "          const element = document.querySelector('#df-8f733cfc-9615-4425-b741-10918c8893e4');\n",
              "          const dataTable =\n",
              "            await google.colab.kernel.invokeFunction('convertToInteractive',\n",
              "                                                     [key], {});\n",
              "          if (!dataTable) return;\n",
              "\n",
              "          const docLinkHtml = 'Like what you see? Visit the ' +\n",
              "            '<a target=\"_blank\" href=https://colab.research.google.com/notebooks/data_table.ipynb>data table notebook</a>'\n",
              "            + ' to learn more about interactive tables.';\n",
              "          element.innerHTML = '';\n",
              "          dataTable['output_type'] = 'display_data';\n",
              "          await google.colab.output.renderOutput(dataTable, element);\n",
              "          const docLink = document.createElement('div');\n",
              "          docLink.innerHTML = docLinkHtml;\n",
              "          element.appendChild(docLink);\n",
              "        }\n",
              "      </script>\n",
              "    </div>\n",
              "  </div>\n",
              "  "
            ],
            "text/plain": [
              "   Rank   NCT Number                                              Title  \\\n",
              "0     1  NCT03763474  Euglyca Application in Children and Adolescent...   \n",
              "1     2  NCT05013294  Using mHealth (Mobile Health) to Optimize Glyc...   \n",
              "2     3  NCT03108521  SNP Study of DPP-4 and GLP-1R in Chinese Peopl...   \n",
              "3     4  NCT02928952  Mindful Stress Reduction in Diabetes Self-mana...   \n",
              "4     5  NCT05106231  Effectiveness of PICC Improving HBA1C and Know...   \n",
              "5     6  NCT02002130  The Use of Glutamic Acid Decarboxylase (GAD) a...   \n",
              "6     7  NCT02641522  Modulation of STAT3 Signaling With Siltuximab ...   \n",
              "7     8  NCT03224234  A Randomized Study to Evaluate the Efficacy of...   \n",
              "8     9  NCT03626909              Diabetes Treatment in Rural Guatemala   \n",
              "9    10  NCT02953262  Improving Diabetes Care Through Effective Pers...   \n",
              "\n",
              "       Status         Study Results                        Conditions  \\\n",
              "0   Completed  No Results Available         Diabetes Mellitus, Type 1   \n",
              "1   Completed  No Results Available                          Diabetes   \n",
              "2   Completed           Has Results                 Diabetes Mellitus   \n",
              "3   Completed           Has Results                 Diabetes Mellitus   \n",
              "4  Recruiting  No Results Available  Diabetes Mellitus|Type2 Diabetes   \n",
              "5   Completed  No Results Available                   Type I Diabetes   \n",
              "6   Completed           Has Results                   Type 1 Diabetes   \n",
              "7   Completed           Has Results                          Diabetes   \n",
              "8   Completed  No Results Available                          Diabetes   \n",
              "9   Completed           Has Results                 Diabetes Mellitus   \n",
              "\n",
              "                                       Interventions  \\\n",
              "0           Combination Product: Euglyca application   \n",
              "1                                Other: Intervention   \n",
              "2                                  Drug: Sitagliptin   \n",
              "3                            Behavioral: Mind-STRIDE   \n",
              "4       Behavioral: PICC Program|Behavioral: Control   \n",
              "5  Drug: Placebo GABA and Placebo GAD-alum|Drug: ...   \n",
              "6                                   Drug: Siltuximab   \n",
              "7  Device: Insulclock with feedback|Device: Insul...   \n",
              "8  Other: Primary visit and assessment|Other: Fol...   \n",
              "9  Behavioral: My HealtheVet Brochure|Behavioral:...   \n",
              "\n",
              "                               Sponsor/Collaborators  \\\n",
              "0               Aristotle University Of Thessaloniki   \n",
              "1  KU Leuven|Jomo Kenyatta University of Agricult...   \n",
              "2               Sichuan Provincial People's Hospital   \n",
              "3              VA Office of Research and Development   \n",
              "4  Clinical Research Centre, Malaysia|Ministry of...   \n",
              "5  University of Alabama at Birmingham|Diamyd Inc...   \n",
              "6  Carla Greenbaum, MD|Janssen Research & Develop...   \n",
              "7                    Emory University|Insulcoud S.L.   \n",
              "8  University of Wisconsin, Madison|Stanford Univ...   \n",
              "9              VA Office of Research and Development   \n",
              "\n",
              "                                           Age          Phases  \\\n",
              "0         6 Years to 18 Years � (Child, Adult)  Not Applicable   \n",
              "1                    Child, Adult, Older Adult  Not Applicable   \n",
              "2  18 Years to 70 Years � (Adult, Older Adult)         Phase 4   \n",
              "3    18 Years and older � (Adult, Older Adult)  Not Applicable   \n",
              "4    18 Years and older � (Adult, Older Adult)  Not Applicable   \n",
              "5         4 Years to 18 Years � (Child, Adult)         Phase 1   \n",
              "6               18 Years to 45 Years � (Adult)   Early Phase 1   \n",
              "7  18 Years to 80 Years � (Adult, Older Adult)  Not Applicable   \n",
              "8    18 Years and older � (Adult, Older Adult)             NaN   \n",
              "9  18 Years to 85 Years � (Adult, Older Adult)  Not Applicable   \n",
              "\n",
              "       Funded Bys      Study Type  \\\n",
              "0           Other  Interventional   \n",
              "1           Other  Interventional   \n",
              "2           Other  Interventional   \n",
              "3        U.S. Fed  Interventional   \n",
              "4           Other  Interventional   \n",
              "5  Other|Industry  Interventional   \n",
              "6  Other|Industry  Interventional   \n",
              "7           Other  Interventional   \n",
              "8           Other   Observational   \n",
              "9        U.S. Fed  Interventional   \n",
              "\n",
              "                                       Study Designs  \\\n",
              "0  Allocation: Randomized|Intervention Model: Par...   \n",
              "1  Allocation: Randomized|Intervention Model: Par...   \n",
              "2  Allocation: Non-Randomized|Intervention Model:...   \n",
              "3  Allocation: Randomized|Intervention Model: Par...   \n",
              "4  Allocation: Randomized|Intervention Model: Fac...   \n",
              "5  Allocation: Randomized|Intervention Model: Par...   \n",
              "6  Allocation: N/A|Intervention Model: Single Gro...   \n",
              "7  Allocation: Randomized|Intervention Model: Cro...   \n",
              "8  Observational Model: Cohort|Time Perspective: ...   \n",
              "9  Allocation: Randomized|Intervention Model: Par...   \n",
              "\n",
              "                                           Locations  \\\n",
              "0  Endocrine Unit of 3rd Department of Pediatrics...   \n",
              "1  Jomo Kenyatta University of Agriculture and Te...   \n",
              "2  Sichuan provincial people's hospital, Chengdu,...   \n",
              "3  VA Pittsburgh Healthcare System University Dri...   \n",
              "4  Klinik Kesihatan Daro, Daro, Sarawak, Malaysia...   \n",
              "5  Children's of Alabama, Birmingham, Alabama, Un...   \n",
              "6  Benaroya Research Institute, Seattle, Washingt...   \n",
              "7  Emory Clinic, Emory University Hospital (non-C...   \n",
              "8  Hospital Obras Sociales, San Lucas Tolim�n, So...   \n",
              "9  Edith Nourse Rogers Memorial Veterans Hospital...   \n",
              "\n",
              "                                     Study Documents  \\\n",
              "0  \"Study Protocol and Statistical Analysis Plan\"...   \n",
              "1  \"Study Protocol\", https://ClinicalTrials.gov/P...   \n",
              "2  \"Study Protocol and Statistical Analysis Plan\"...   \n",
              "3  \"Study Protocol and Statistical Analysis Plan\"...   \n",
              "4  \"Study Protocol, Statistical Analysis Plan, an...   \n",
              "5  \"Study Protocol and Statistical Analysis Plan\"...   \n",
              "6  \"Study Protocol and Statistical Analysis Plan\"...   \n",
              "7  \"Study Protocol and Statistical Analysis Plan\"...   \n",
              "8  \"Study Protocol and Statistical Analysis Plan\"...   \n",
              "9  \"Study Protocol and Statistical Analysis Plan\"...   \n",
              "\n",
              "                                           URL  \n",
              "0  https://ClinicalTrials.gov/show/NCT03763474  \n",
              "1  https://ClinicalTrials.gov/show/NCT05013294  \n",
              "2  https://ClinicalTrials.gov/show/NCT03108521  \n",
              "3  https://ClinicalTrials.gov/show/NCT02928952  \n",
              "4  https://ClinicalTrials.gov/show/NCT05106231  \n",
              "5  https://ClinicalTrials.gov/show/NCT02002130  \n",
              "6  https://ClinicalTrials.gov/show/NCT02641522  \n",
              "7  https://ClinicalTrials.gov/show/NCT03224234  \n",
              "8  https://ClinicalTrials.gov/show/NCT03626909  \n",
              "9  https://ClinicalTrials.gov/show/NCT02953262  "
            ]
          },
          "execution_count": 7,
          "metadata": {},
          "output_type": "execute_result"
        }
      ],
      "source": [
        "data = pd.read_csv('/content/drive/MyDrive/Practicum/Final_folders/Submission/2.Data_preperation_done/clinical_trial - clinical_trial.csv')\n",
        "data.head(10)"
      ]
    },
    {
      "cell_type": "markdown",
      "metadata": {
        "id": "f1d7f7fe"
      },
      "source": [
        "### Data cleaning"
      ]
    },
    {
      "cell_type": "markdown",
      "metadata": {
        "id": "E2BSLE2IlJTk"
      },
      "source": [
        "###Check for null values"
      ]
    },
    {
      "cell_type": "code",
      "execution_count": null,
      "metadata": {
        "colab": {
          "base_uri": "https://localhost:8080/"
        },
        "id": "2a274bc5",
        "outputId": "c9a74925-1f0b-4d8b-d4e7-348cb8398f30"
      },
      "outputs": [
        {
          "data": {
            "text/plain": [
              "Rank                      0\n",
              "NCT Number                0\n",
              "Title                     0\n",
              "Status                    0\n",
              "Study Results             0\n",
              "Conditions                0\n",
              "Interventions            25\n",
              "Sponsor/Collaborators     0\n",
              "Age                       0\n",
              "Phases                   98\n",
              "Funded Bys                0\n",
              "Study Type                0\n",
              "Study Designs             0\n",
              "Locations                 0\n",
              "Study Documents           0\n",
              "URL                       0\n",
              "dtype: int64"
            ]
          },
          "execution_count": 8,
          "metadata": {},
          "output_type": "execute_result"
        }
      ],
      "source": [
        "data.isnull().sum()"
      ]
    },
    {
      "cell_type": "markdown",
      "metadata": {
        "id": "cGPwr2otVANu"
      },
      "source": [
        "1. Null values for locations --> We imputed null values for locations with sponsors\n",
        "2. Null values for intervention --> Studies can be either observational or interventional. Thus, the null values in interventions can be imputed.\n",
        "3. Null values for phases we cannot impute without evidence."
      ]
    },
    {
      "cell_type": "markdown",
      "metadata": {
        "id": "8c_zn9C7ZaAF"
      },
      "source": [
        "###Column transformations"
      ]
    },
    {
      "cell_type": "markdown",
      "metadata": {
        "id": "91zKZQWGXhj1"
      },
      "source": [
        "#### Status\n",
        "\n",
        "*   We are choosing the status column to be our target variable because it determines the present status of the experiment.\n",
        "*   It has 11 values, which we will transform into \"Completed\" & \"Not Completed\" to treat our problem as a binary classification. \n",
        "*   As a result, all remaining entries except \"Completed\" are changed to \"Not Completed\"\n",
        "*  The status column has no missing data.\n",
        "\n",
        "\n",
        "\n",
        "\n",
        "\n"
      ]
    },
    {
      "cell_type": "code",
      "execution_count": null,
      "metadata": {
        "colab": {
          "base_uri": "https://localhost:8080/"
        },
        "id": "xTWBCmdrXl9l",
        "outputId": "bb3f5017-84dd-462c-8df6-fe843b6c3f2a"
      },
      "outputs": [
        {
          "data": {
            "text/plain": [
              "array(['Completed', 'Recruiting', 'Active, not recruiting', 'Terminated',\n",
              "       'Unknown status', 'Not yet recruiting', 'Enrolling by invitation',\n",
              "       'Withdrawn', 'Suspended'], dtype=object)"
            ]
          },
          "execution_count": 9,
          "metadata": {},
          "output_type": "execute_result"
        }
      ],
      "source": [
        "data['Status'].unique()"
      ]
    },
    {
      "cell_type": "code",
      "execution_count": null,
      "metadata": {
        "id": "6Y_oDdZpXrM-"
      },
      "outputs": [],
      "source": [
        "data['Status'] = data['Status'].replace({\n",
        "        'Recruiting': 'Not Completed',\n",
        "        'Unknown status': 'Not Completed',\n",
        "        'Terminated': 'Not Completed',\n",
        "        'Active, not recruiting': 'Not Completed',\n",
        "        'Not yet recruiting': 'Not Completed',\n",
        "        'Withdrawn': 'Not Completed',\n",
        "        'Enrolling by invitation': 'Not Completed',\n",
        "        'Suspended': 'Not Completed',\n",
        "        'Available': 'Not Completed',\n",
        "        'No longer available': 'Not Completed',\n",
        "})"
      ]
    },
    {
      "cell_type": "markdown",
      "metadata": {
        "id": "6B677yV0Fk5G"
      },
      "source": [
        "#### Interventions\n",
        "\n",
        "*   A process or action that is the focus of a clinical study. Interventions include drugs, medical devices, procedures, vaccines, and other products that are either investigational or already available. \n",
        "*   There are 733 missing values in the intervention column. For these rows, the study type is observational. Hence, we will replace NaN with the 'No Interventions' category. \n",
        "*   From the interventions column, we can derive a new column which is intervention_type. \n",
        "\n"
      ]
    },
    {
      "cell_type": "code",
      "execution_count": null,
      "metadata": {
        "colab": {
          "base_uri": "https://localhost:8080/"
        },
        "id": "UGBcLcqmFkQQ",
        "outputId": "94a9eb80-54ba-4f1b-9de9-afab3115813f"
      },
      "outputs": [
        {
          "data": {
            "text/plain": [
              "array(['Interventional', 'Observational'], dtype=object)"
            ]
          },
          "execution_count": 11,
          "metadata": {},
          "output_type": "execute_result"
        }
      ],
      "source": [
        "data['Study Type'].unique()"
      ]
    },
    {
      "cell_type": "code",
      "execution_count": null,
      "metadata": {
        "id": "9Xf3IX8WFq2Z"
      },
      "outputs": [],
      "source": [
        "interventions_na_df = data[data['Interventions'].isna()]"
      ]
    },
    {
      "cell_type": "code",
      "execution_count": null,
      "metadata": {
        "id": "5-3fsNJBFszK"
      },
      "outputs": [],
      "source": [
        "interventions_na_df['Study Type'].value_counts()\n",
        "data.Interventions = data.Interventions.fillna('No Interventions')\n",
        "interventions_na_df = data[data['Interventions'].isna()]\n",
        "data['Intervention_type'] = data['Interventions'].str.split(':').str[0]"
      ]
    },
    {
      "cell_type": "code",
      "execution_count": null,
      "metadata": {
        "colab": {
          "base_uri": "https://localhost:8080/"
        },
        "id": "odcj6JH1ND1Y",
        "outputId": "b5aa2c5e-02f3-43f8-bde7-83f5ce4400f8"
      },
      "outputs": [
        {
          "data": {
            "text/plain": [
              "Rank                      0\n",
              "NCT Number                0\n",
              "Title                     0\n",
              "Status                    0\n",
              "Study Results             0\n",
              "Conditions                0\n",
              "Interventions             0\n",
              "Sponsor/Collaborators     0\n",
              "Age                       0\n",
              "Phases                   98\n",
              "Funded Bys                0\n",
              "Study Type                0\n",
              "Study Designs             0\n",
              "Locations                 0\n",
              "Study Documents           0\n",
              "URL                       0\n",
              "Intervention_type         0\n",
              "dtype: int64"
            ]
          },
          "execution_count": 14,
          "metadata": {},
          "output_type": "execute_result"
        }
      ],
      "source": [
        "data.isnull().sum()"
      ]
    },
    {
      "cell_type": "markdown",
      "metadata": {
        "id": "GV9_-3rBV0o8"
      },
      "source": [
        "####Extracted pdf links from document column"
      ]
    },
    {
      "cell_type": "code",
      "execution_count": null,
      "metadata": {
        "id": "ZoNIOhs8EUgM"
      },
      "outputs": [],
      "source": [
        "data[\"Study Documents\"]=data[\"Study Documents\"].astype(str)\n",
        "pattern = r'(https?:\\/\\/(?:www\\.)?[-a-zA-Z0-9@:%._+~#=]{1,256}\\.[a-zA-Z0-9()]{1,6}[-a-zA-Z0-9()@:%_+.~#?&/=]*)' \n",
        "data['links'] = ''\n",
        "data['links']= data[\"Study Documents\"].str.extract(pattern, expand=True)"
      ]
    },
    {
      "cell_type": "code",
      "execution_count": null,
      "metadata": {
        "id": "CjhcPrR_DSsl"
      },
      "outputs": [],
      "source": [
        "data= data[['NCT Number','Status','Conditions','Sponsor/Collaborators','Age','Funded Bys','Study Designs','Locations','links']]"
      ]
    },
    {
      "cell_type": "code",
      "execution_count": null,
      "metadata": {
        "colab": {
          "base_uri": "https://localhost:8080/",
          "height": 384
        },
        "id": "fQCtPDGsEhjx",
        "outputId": "b8611f30-5961-47d4-fc80-7318fc6ba4e9"
      },
      "outputs": [
        {
          "data": {
            "text/html": [
              "\n",
              "  <div id=\"df-342781b1-2b07-4d72-8589-4f9527605c50\">\n",
              "    <div class=\"colab-df-container\">\n",
              "      <div>\n",
              "<style scoped>\n",
              "    .dataframe tbody tr th:only-of-type {\n",
              "        vertical-align: middle;\n",
              "    }\n",
              "\n",
              "    .dataframe tbody tr th {\n",
              "        vertical-align: top;\n",
              "    }\n",
              "\n",
              "    .dataframe thead th {\n",
              "        text-align: right;\n",
              "    }\n",
              "</style>\n",
              "<table border=\"1\" class=\"dataframe\">\n",
              "  <thead>\n",
              "    <tr style=\"text-align: right;\">\n",
              "      <th></th>\n",
              "      <th>NCT Number</th>\n",
              "      <th>Status</th>\n",
              "      <th>Conditions</th>\n",
              "      <th>Sponsor/Collaborators</th>\n",
              "      <th>Age</th>\n",
              "      <th>Funded Bys</th>\n",
              "      <th>Study Designs</th>\n",
              "      <th>Locations</th>\n",
              "      <th>links</th>\n",
              "    </tr>\n",
              "  </thead>\n",
              "  <tbody>\n",
              "    <tr>\n",
              "      <th>0</th>\n",
              "      <td>NCT03763474</td>\n",
              "      <td>Completed</td>\n",
              "      <td>Diabetes Mellitus, Type 1</td>\n",
              "      <td>Aristotle University Of Thessaloniki</td>\n",
              "      <td>6 Years to 18 Years � (Child, Adult)</td>\n",
              "      <td>Other</td>\n",
              "      <td>Allocation: Randomized|Intervention Model: Par...</td>\n",
              "      <td>Endocrine Unit of 3rd Department of Pediatrics...</td>\n",
              "      <td>https://ClinicalTrials.gov/ProvidedDocs/74/NCT...</td>\n",
              "    </tr>\n",
              "    <tr>\n",
              "      <th>1</th>\n",
              "      <td>NCT05013294</td>\n",
              "      <td>Completed</td>\n",
              "      <td>Diabetes</td>\n",
              "      <td>KU Leuven|Jomo Kenyatta University of Agricult...</td>\n",
              "      <td>Child, Adult, Older Adult</td>\n",
              "      <td>Other</td>\n",
              "      <td>Allocation: Randomized|Intervention Model: Par...</td>\n",
              "      <td>Jomo Kenyatta University of Agriculture and Te...</td>\n",
              "      <td>https://ClinicalTrials.gov/ProvidedDocs/94/NCT...</td>\n",
              "    </tr>\n",
              "  </tbody>\n",
              "</table>\n",
              "</div>\n",
              "      <button class=\"colab-df-convert\" onclick=\"convertToInteractive('df-342781b1-2b07-4d72-8589-4f9527605c50')\"\n",
              "              title=\"Convert this dataframe to an interactive table.\"\n",
              "              style=\"display:none;\">\n",
              "        \n",
              "  <svg xmlns=\"http://www.w3.org/2000/svg\" height=\"24px\"viewBox=\"0 0 24 24\"\n",
              "       width=\"24px\">\n",
              "    <path d=\"M0 0h24v24H0V0z\" fill=\"none\"/>\n",
              "    <path d=\"M18.56 5.44l.94 2.06.94-2.06 2.06-.94-2.06-.94-.94-2.06-.94 2.06-2.06.94zm-11 1L8.5 8.5l.94-2.06 2.06-.94-2.06-.94L8.5 2.5l-.94 2.06-2.06.94zm10 10l.94 2.06.94-2.06 2.06-.94-2.06-.94-.94-2.06-.94 2.06-2.06.94z\"/><path d=\"M17.41 7.96l-1.37-1.37c-.4-.4-.92-.59-1.43-.59-.52 0-1.04.2-1.43.59L10.3 9.45l-7.72 7.72c-.78.78-.78 2.05 0 2.83L4 21.41c.39.39.9.59 1.41.59.51 0 1.02-.2 1.41-.59l7.78-7.78 2.81-2.81c.8-.78.8-2.07 0-2.86zM5.41 20L4 18.59l7.72-7.72 1.47 1.35L5.41 20z\"/>\n",
              "  </svg>\n",
              "      </button>\n",
              "      \n",
              "  <style>\n",
              "    .colab-df-container {\n",
              "      display:flex;\n",
              "      flex-wrap:wrap;\n",
              "      gap: 12px;\n",
              "    }\n",
              "\n",
              "    .colab-df-convert {\n",
              "      background-color: #E8F0FE;\n",
              "      border: none;\n",
              "      border-radius: 50%;\n",
              "      cursor: pointer;\n",
              "      display: none;\n",
              "      fill: #1967D2;\n",
              "      height: 32px;\n",
              "      padding: 0 0 0 0;\n",
              "      width: 32px;\n",
              "    }\n",
              "\n",
              "    .colab-df-convert:hover {\n",
              "      background-color: #E2EBFA;\n",
              "      box-shadow: 0px 1px 2px rgba(60, 64, 67, 0.3), 0px 1px 3px 1px rgba(60, 64, 67, 0.15);\n",
              "      fill: #174EA6;\n",
              "    }\n",
              "\n",
              "    [theme=dark] .colab-df-convert {\n",
              "      background-color: #3B4455;\n",
              "      fill: #D2E3FC;\n",
              "    }\n",
              "\n",
              "    [theme=dark] .colab-df-convert:hover {\n",
              "      background-color: #434B5C;\n",
              "      box-shadow: 0px 1px 3px 1px rgba(0, 0, 0, 0.15);\n",
              "      filter: drop-shadow(0px 1px 2px rgba(0, 0, 0, 0.3));\n",
              "      fill: #FFFFFF;\n",
              "    }\n",
              "  </style>\n",
              "\n",
              "      <script>\n",
              "        const buttonEl =\n",
              "          document.querySelector('#df-342781b1-2b07-4d72-8589-4f9527605c50 button.colab-df-convert');\n",
              "        buttonEl.style.display =\n",
              "          google.colab.kernel.accessAllowed ? 'block' : 'none';\n",
              "\n",
              "        async function convertToInteractive(key) {\n",
              "          const element = document.querySelector('#df-342781b1-2b07-4d72-8589-4f9527605c50');\n",
              "          const dataTable =\n",
              "            await google.colab.kernel.invokeFunction('convertToInteractive',\n",
              "                                                     [key], {});\n",
              "          if (!dataTable) return;\n",
              "\n",
              "          const docLinkHtml = 'Like what you see? Visit the ' +\n",
              "            '<a target=\"_blank\" href=https://colab.research.google.com/notebooks/data_table.ipynb>data table notebook</a>'\n",
              "            + ' to learn more about interactive tables.';\n",
              "          element.innerHTML = '';\n",
              "          dataTable['output_type'] = 'display_data';\n",
              "          await google.colab.output.renderOutput(dataTable, element);\n",
              "          const docLink = document.createElement('div');\n",
              "          docLink.innerHTML = docLinkHtml;\n",
              "          element.appendChild(docLink);\n",
              "        }\n",
              "      </script>\n",
              "    </div>\n",
              "  </div>\n",
              "  "
            ],
            "text/plain": [
              "    NCT Number     Status                 Conditions  \\\n",
              "0  NCT03763474  Completed  Diabetes Mellitus, Type 1   \n",
              "1  NCT05013294  Completed                   Diabetes   \n",
              "\n",
              "                               Sponsor/Collaborators  \\\n",
              "0               Aristotle University Of Thessaloniki   \n",
              "1  KU Leuven|Jomo Kenyatta University of Agricult...   \n",
              "\n",
              "                                    Age Funded Bys  \\\n",
              "0  6 Years to 18 Years � (Child, Adult)      Other   \n",
              "1             Child, Adult, Older Adult      Other   \n",
              "\n",
              "                                       Study Designs  \\\n",
              "0  Allocation: Randomized|Intervention Model: Par...   \n",
              "1  Allocation: Randomized|Intervention Model: Par...   \n",
              "\n",
              "                                           Locations  \\\n",
              "0  Endocrine Unit of 3rd Department of Pediatrics...   \n",
              "1  Jomo Kenyatta University of Agriculture and Te...   \n",
              "\n",
              "                                               links  \n",
              "0  https://ClinicalTrials.gov/ProvidedDocs/74/NCT...  \n",
              "1  https://ClinicalTrials.gov/ProvidedDocs/94/NCT...  "
            ]
          },
          "execution_count": 17,
          "metadata": {},
          "output_type": "execute_result"
        }
      ],
      "source": [
        "data.head(2)"
      ]
    },
    {
      "cell_type": "code",
      "execution_count": null,
      "metadata": {
        "colab": {
          "base_uri": "https://localhost:8080/"
        },
        "id": "vukHfN9BNLH3",
        "outputId": "506ba64f-7793-4c28-e5f4-9a563a20844f"
      },
      "outputs": [
        {
          "data": {
            "text/plain": [
              "NCT Number               0\n",
              "Status                   0\n",
              "Conditions               0\n",
              "Sponsor/Collaborators    0\n",
              "Age                      0\n",
              "Funded Bys               0\n",
              "Study Designs            0\n",
              "Locations                0\n",
              "links                    0\n",
              "dtype: int64"
            ]
          },
          "execution_count": 18,
          "metadata": {},
          "output_type": "execute_result"
        }
      ],
      "source": [
        "data.isnull().sum()"
      ]
    },
    {
      "cell_type": "code",
      "execution_count": null,
      "metadata": {
        "colab": {
          "base_uri": "https://localhost:8080/",
          "height": 36
        },
        "id": "29634da7",
        "outputId": "f5fcd4d9-909f-4f68-c176-48e333d3aebb"
      },
      "outputs": [
        {
          "data": {
            "application/vnd.google.colaboratory.intrinsic+json": {
              "type": "string"
            },
            "text/plain": [
              "'Diabetes Mellitus, Type 1'"
            ]
          },
          "execution_count": 19,
          "metadata": {},
          "output_type": "execute_result"
        }
      ],
      "source": [
        "data.Conditions[0]"
      ]
    },
    {
      "cell_type": "code",
      "execution_count": null,
      "metadata": {
        "id": "StYFsP22Pw00"
      },
      "outputs": [],
      "source": [
        "data= data.rename(columns = {'Sponsor/Collaborators':'Sponsor','Funded Bys': 'Funded_Bys','Study Designs':'Study_Designs'})"
      ]
    },
    {
      "cell_type": "markdown",
      "metadata": {
        "id": "vd31KT8YWURB"
      },
      "source": [
        "###Text cleaning"
      ]
    },
    {
      "cell_type": "code",
      "execution_count": null,
      "metadata": {
        "id": "CCCVIWVkOEAQ"
      },
      "outputs": [],
      "source": [
        "#Removed single pipe and brackets\n",
        "def listToStringWithoutBrackets(text):\n",
        "    return str(text).replace('[',' ').replace(']',' ')\n",
        "\n",
        "def listToStringWithoutpipe(text):\n",
        "    return str(text).replace('|',' ').replace('||',' ')"
      ]
    },
    {
      "cell_type": "code",
      "execution_count": null,
      "metadata": {
        "id": "i3tNZCwvXwM2"
      },
      "outputs": [],
      "source": [
        "data[\"Conditions\"] = data.Conditions.apply(func = listToStringWithoutBrackets)\n",
        "data[\"Conditions\"] = data.Conditions.apply(func = listToStringWithoutpipe)\n",
        "\n",
        "data[\"Sponsor\"] = data.Sponsor.apply(func = listToStringWithoutBrackets)\n",
        "data[\"Sponsor\"] = data.Sponsor.apply(func = listToStringWithoutpipe)\n",
        "\n",
        "data[\"Age\"] = data.Age.apply(func = listToStringWithoutBrackets)\n",
        "data[\"Age\"] = data.Age.apply(func = listToStringWithoutpipe)\n",
        "\n",
        "data[\"Funded_Bys\"] = data.Funded_Bys.apply(func = listToStringWithoutBrackets)\n",
        "data[\"Funded_Bys\"] = data.Funded_Bys.apply(func = listToStringWithoutpipe)\n",
        "\n",
        "data[\"Study_Designs\"] = data.Study_Designs.apply(func = listToStringWithoutBrackets)\n",
        "data[\"Study_Designs\"] = data.Study_Designs.apply(func = listToStringWithoutpipe)\n",
        "\n",
        "data[\"Locations\"] = data.Locations.apply(func = listToStringWithoutBrackets)\n",
        "data[\"Locations\"] = data.Locations.apply(func = listToStringWithoutpipe)"
      ]
    },
    {
      "cell_type": "code",
      "execution_count": null,
      "metadata": {
        "id": "QuA0ruiIOhvU"
      },
      "outputs": [],
      "source": [
        "#removed hyper links \n",
        "data[\"Conditions\"] = data[\"Conditions\"].apply(lambda x: re.sub(r'https?:\\/\\/.*?[\\s+]', '', x.replace(\"|\",\" \") + \" \"))\n",
        "data[\"Sponsor\"] = data[\"Sponsor\"].apply(lambda x: re.sub(r'https?:\\/\\/.*?[\\s+]', '', x.replace(\"|\",\" \") + \" \"))\n",
        "data[\"Age\"] = data[\"Age\"].apply(lambda x: re.sub(r'https?:\\/\\/.*?[\\s+]', '', x.replace(\"|\",\" \") + \" \"))\n",
        "data[\"Funded_Bys\"] = data[\"Funded_Bys\"].apply(lambda x: re.sub(r'https?:\\/\\/.*?[\\s+]', '', x.replace(\"|\",\" \") + \" \"))\n",
        "data[\"Study_Designs\"] = data[\"Study_Designs\"].apply(lambda x: re.sub(r'https?:\\/\\/.*?[\\s+]', '', x.replace(\"|\",\" \") + \" \"))\n",
        "data[\"Locations\"] = data[\"Locations\"].apply(lambda x: re.sub(r'https?:\\/\\/.*?[\\s+]', '', x.replace(\"|\",\" \") + \" \"))\n",
        "\n",
        "#Strip Punctation\n",
        "data[\"Conditions\"] = data[\"Conditions\"].apply(lambda x: re.sub(r'[\\.+]', \".\",x))\n",
        "data[\"Sponsor\"] = data[\"Sponsor\"].apply(lambda x: re.sub(r'[\\.+]', \".\",x))\n",
        "data[\"Age\"] = data[\"Age\"].apply(lambda x: re.sub(r'[\\.+]', \".\",x))\n",
        "data[\"Funded_Bys\"] = data[\"Funded_Bys\"].apply(lambda x: re.sub(r'[\\.+]', \".\",x))\n",
        "data[\"Study_Designs\"] = data[\"Study_Designs\"].apply(lambda x: re.sub(r'[\\.+]', \".\",x))\n",
        "data[\"Locations\"] = data[\"Locations\"].apply(lambda x: re.sub(r'[\\.+]', \".\",x))\n",
        "\n",
        "#Remove multiple fullstops\n",
        "data[\"Conditions\"] = data[\"Conditions\"].apply(lambda x: re.sub(r'[^\\w\\s]','',x))\n",
        "data[\"Sponsor\"] = data[\"Sponsor\"].apply(lambda x: re.sub(r'[^\\w\\s]','',x))\n",
        "data[\"Age\"] = data[\"Age\"].apply(lambda x: re.sub(r'[^\\w\\s]','',x))\n",
        "data[\"Funded_Bys\"] = data[\"Funded_Bys\"].apply(lambda x: re.sub(r'[^\\w\\s]','',x))\n",
        "data[\"Study_Designs\"] = data[\"Study_Designs\"].apply(lambda x: re.sub(r'[^\\w\\s]','',x))\n",
        "data[\"Locations\"] = data[\"Locations\"].apply(lambda x: re.sub(r'[^\\w\\s]','',x))\n",
        "\n",
        "#Remove Non-words\n",
        "#data[\"Conditions\"] = data[\"Conditions\"].apply(lambda x: re.sub(r'[^a-zA-Z\\s]','',x))\n",
        "data[\"Sponsor\"] = data[\"Sponsor\"].apply(lambda x: re.sub(r'[^a-zA-Z\\s]','',x))\n",
        "data[\"Age\"] = data[\"Age\"].apply(lambda x: re.sub(r'[^a-zA-Z\\s]','',x))\n",
        "data[\"Funded_Bys\"] = data[\"Funded_Bys\"].apply(lambda x: re.sub(r'[^a-zA-Z\\s]','',x))\n",
        "data[\"Study_Designs\"] = data[\"Study_Designs\"].apply(lambda x: re.sub(r'[^a-zA-Z\\s]','',x))\n",
        "data[\"Locations\"] = data[\"Locations\"].apply(lambda x: re.sub(r'[^a-zA-Z\\s]','',x))\n",
        "\n",
        "#Convert posts to lowercase\n",
        "data[\"Conditions\"] = data[\"Conditions\"].apply(lambda x: x.lower())\n",
        "data[\"Sponsor\"] = data[\"Sponsor\"].apply(lambda x: x.lower())\n",
        "data[\"Age\"] = data[\"Age\"].apply(lambda x: x.lower())\n",
        "data[\"Funded_Bys\"] = data[\"Funded_Bys\"].apply(lambda x: x.lower())\n",
        "data[\"Study_Designs\"] = data[\"Study_Designs\"].apply(lambda x: x.lower())\n",
        "data[\"Locations\"] = data[\"Locations\"].apply(lambda x: x.lower())\n",
        "\n",
        "#Remove multiple letter repeating words\n",
        "data[\"Conditions\"] = data[\"Conditions\"].apply(lambda x: re.sub(r'([a-z])\\1{2,}[\\s|\\w]*','',x)) \n",
        "data[\"Sponsor\"] = data[\"Sponsor\"].apply(lambda x: re.sub(r'([a-z])\\1{2,}[\\s|\\w]*','',x)) \n",
        "data[\"Age\"] = data[\"Age\"].apply(lambda x: re.sub(r'([a-z])\\1{2,}[\\s|\\w]*','',x)) \n",
        "data[\"Funded_Bys\"] = data[\"Funded_Bys\"].apply(lambda x: re.sub(r'([a-z])\\1{2,}[\\s|\\w]*','',x)) \n",
        "data[\"Study_Designs\"] = data[\"Study_Designs\"].apply(lambda x: re.sub(r'([a-z])\\1{2,}[\\s|\\w]*','',x)) \n",
        "data[\"Locations\"] = data[\"Locations\"].apply(lambda x: re.sub(r'([a-z])\\1{2,}[\\s|\\w]*','',x)) "
      ]
    },
    {
      "cell_type": "code",
      "execution_count": null,
      "metadata": {
        "colab": {
          "base_uri": "https://localhost:8080/"
        },
        "id": "an4yZUzOTc9W",
        "outputId": "73a116fa-b293-4e91-f10f-d0d5bb5becab"
      },
      "outputs": [
        {
          "data": {
            "text/plain": [
              "NCT Number       0\n",
              "Status           0\n",
              "Conditions       0\n",
              "Sponsor          0\n",
              "Age              0\n",
              "Funded_Bys       0\n",
              "Study_Designs    0\n",
              "Locations        0\n",
              "links            0\n",
              "dtype: int64"
            ]
          },
          "execution_count": 24,
          "metadata": {},
          "output_type": "execute_result"
        }
      ],
      "source": [
        "data.isnull().sum()"
      ]
    },
    {
      "cell_type": "code",
      "execution_count": null,
      "metadata": {
        "colab": {
          "base_uri": "https://localhost:8080/",
          "height": 649
        },
        "id": "3c9c23c2",
        "outputId": "19eb98cb-dc45-442e-9063-97deb621198d"
      },
      "outputs": [
        {
          "data": {
            "text/html": [
              "\n",
              "  <div id=\"df-88372d4b-6283-42e6-82a2-52d07e034e0f\">\n",
              "    <div class=\"colab-df-container\">\n",
              "      <div>\n",
              "<style scoped>\n",
              "    .dataframe tbody tr th:only-of-type {\n",
              "        vertical-align: middle;\n",
              "    }\n",
              "\n",
              "    .dataframe tbody tr th {\n",
              "        vertical-align: top;\n",
              "    }\n",
              "\n",
              "    .dataframe thead th {\n",
              "        text-align: right;\n",
              "    }\n",
              "</style>\n",
              "<table border=\"1\" class=\"dataframe\">\n",
              "  <thead>\n",
              "    <tr style=\"text-align: right;\">\n",
              "      <th></th>\n",
              "      <th>NCT Number</th>\n",
              "      <th>Status</th>\n",
              "      <th>Conditions</th>\n",
              "      <th>Sponsor</th>\n",
              "      <th>Age</th>\n",
              "      <th>Funded_Bys</th>\n",
              "      <th>Study_Designs</th>\n",
              "      <th>Locations</th>\n",
              "      <th>links</th>\n",
              "    </tr>\n",
              "  </thead>\n",
              "  <tbody>\n",
              "    <tr>\n",
              "      <th>0</th>\n",
              "      <td>NCT03763474</td>\n",
              "      <td>Completed</td>\n",
              "      <td>diabetes mellitus type 1</td>\n",
              "      <td>aristotle university of thessaloniki</td>\n",
              "      <td>years to  years � child adult</td>\n",
              "      <td>other</td>\n",
              "      <td>allocation randomized intervention model paral...</td>\n",
              "      <td>endocrine unit of rd department of pediatrics ...</td>\n",
              "      <td>https://ClinicalTrials.gov/ProvidedDocs/74/NCT...</td>\n",
              "    </tr>\n",
              "    <tr>\n",
              "      <th>1</th>\n",
              "      <td>NCT05013294</td>\n",
              "      <td>Completed</td>\n",
              "      <td>diabetes</td>\n",
              "      <td>ku leuven jomo kenyatta university of agricult...</td>\n",
              "      <td>child adult older adult</td>\n",
              "      <td>other</td>\n",
              "      <td>allocation randomized intervention model paral...</td>\n",
              "      <td>jomo kenyatta university of agriculture and te...</td>\n",
              "      <td>https://ClinicalTrials.gov/ProvidedDocs/94/NCT...</td>\n",
              "    </tr>\n",
              "    <tr>\n",
              "      <th>2</th>\n",
              "      <td>NCT03108521</td>\n",
              "      <td>Completed</td>\n",
              "      <td>diabetes mellitus</td>\n",
              "      <td>sichuan provincial peoples hospital</td>\n",
              "      <td>years to  years � adult older adult</td>\n",
              "      <td>other</td>\n",
              "      <td>allocation nonrandomized intervention model pa...</td>\n",
              "      <td>sichuan provincial peoples hospital chengdu si...</td>\n",
              "      <td>https://ClinicalTrials.gov/ProvidedDocs/21/NCT...</td>\n",
              "    </tr>\n",
              "    <tr>\n",
              "      <th>3</th>\n",
              "      <td>NCT02928952</td>\n",
              "      <td>Completed</td>\n",
              "      <td>diabetes mellitus</td>\n",
              "      <td>va office of research and development</td>\n",
              "      <td>years and older � adult older adult</td>\n",
              "      <td>us fed</td>\n",
              "      <td>allocation randomized intervention model paral...</td>\n",
              "      <td>va pittsburgh healthcare system university dri...</td>\n",
              "      <td>https://ClinicalTrials.gov/ProvidedDocs/52/NCT...</td>\n",
              "    </tr>\n",
              "    <tr>\n",
              "      <th>4</th>\n",
              "      <td>NCT05106231</td>\n",
              "      <td>Not Completed</td>\n",
              "      <td>diabetes mellitus type2 diabetes</td>\n",
              "      <td>clinical research centre malaysia ministry of ...</td>\n",
              "      <td>years and older � adult older adult</td>\n",
              "      <td>other</td>\n",
              "      <td>allocation randomized intervention model facto...</td>\n",
              "      <td>klinik kesihatan daro daro sarawak malaysia kl...</td>\n",
              "      <td>https://ClinicalTrials.gov/ProvidedDocs/31/NCT...</td>\n",
              "    </tr>\n",
              "  </tbody>\n",
              "</table>\n",
              "</div>\n",
              "      <button class=\"colab-df-convert\" onclick=\"convertToInteractive('df-88372d4b-6283-42e6-82a2-52d07e034e0f')\"\n",
              "              title=\"Convert this dataframe to an interactive table.\"\n",
              "              style=\"display:none;\">\n",
              "        \n",
              "  <svg xmlns=\"http://www.w3.org/2000/svg\" height=\"24px\"viewBox=\"0 0 24 24\"\n",
              "       width=\"24px\">\n",
              "    <path d=\"M0 0h24v24H0V0z\" fill=\"none\"/>\n",
              "    <path d=\"M18.56 5.44l.94 2.06.94-2.06 2.06-.94-2.06-.94-.94-2.06-.94 2.06-2.06.94zm-11 1L8.5 8.5l.94-2.06 2.06-.94-2.06-.94L8.5 2.5l-.94 2.06-2.06.94zm10 10l.94 2.06.94-2.06 2.06-.94-2.06-.94-.94-2.06-.94 2.06-2.06.94z\"/><path d=\"M17.41 7.96l-1.37-1.37c-.4-.4-.92-.59-1.43-.59-.52 0-1.04.2-1.43.59L10.3 9.45l-7.72 7.72c-.78.78-.78 2.05 0 2.83L4 21.41c.39.39.9.59 1.41.59.51 0 1.02-.2 1.41-.59l7.78-7.78 2.81-2.81c.8-.78.8-2.07 0-2.86zM5.41 20L4 18.59l7.72-7.72 1.47 1.35L5.41 20z\"/>\n",
              "  </svg>\n",
              "      </button>\n",
              "      \n",
              "  <style>\n",
              "    .colab-df-container {\n",
              "      display:flex;\n",
              "      flex-wrap:wrap;\n",
              "      gap: 12px;\n",
              "    }\n",
              "\n",
              "    .colab-df-convert {\n",
              "      background-color: #E8F0FE;\n",
              "      border: none;\n",
              "      border-radius: 50%;\n",
              "      cursor: pointer;\n",
              "      display: none;\n",
              "      fill: #1967D2;\n",
              "      height: 32px;\n",
              "      padding: 0 0 0 0;\n",
              "      width: 32px;\n",
              "    }\n",
              "\n",
              "    .colab-df-convert:hover {\n",
              "      background-color: #E2EBFA;\n",
              "      box-shadow: 0px 1px 2px rgba(60, 64, 67, 0.3), 0px 1px 3px 1px rgba(60, 64, 67, 0.15);\n",
              "      fill: #174EA6;\n",
              "    }\n",
              "\n",
              "    [theme=dark] .colab-df-convert {\n",
              "      background-color: #3B4455;\n",
              "      fill: #D2E3FC;\n",
              "    }\n",
              "\n",
              "    [theme=dark] .colab-df-convert:hover {\n",
              "      background-color: #434B5C;\n",
              "      box-shadow: 0px 1px 3px 1px rgba(0, 0, 0, 0.15);\n",
              "      filter: drop-shadow(0px 1px 2px rgba(0, 0, 0, 0.3));\n",
              "      fill: #FFFFFF;\n",
              "    }\n",
              "  </style>\n",
              "\n",
              "      <script>\n",
              "        const buttonEl =\n",
              "          document.querySelector('#df-88372d4b-6283-42e6-82a2-52d07e034e0f button.colab-df-convert');\n",
              "        buttonEl.style.display =\n",
              "          google.colab.kernel.accessAllowed ? 'block' : 'none';\n",
              "\n",
              "        async function convertToInteractive(key) {\n",
              "          const element = document.querySelector('#df-88372d4b-6283-42e6-82a2-52d07e034e0f');\n",
              "          const dataTable =\n",
              "            await google.colab.kernel.invokeFunction('convertToInteractive',\n",
              "                                                     [key], {});\n",
              "          if (!dataTable) return;\n",
              "\n",
              "          const docLinkHtml = 'Like what you see? Visit the ' +\n",
              "            '<a target=\"_blank\" href=https://colab.research.google.com/notebooks/data_table.ipynb>data table notebook</a>'\n",
              "            + ' to learn more about interactive tables.';\n",
              "          element.innerHTML = '';\n",
              "          dataTable['output_type'] = 'display_data';\n",
              "          await google.colab.output.renderOutput(dataTable, element);\n",
              "          const docLink = document.createElement('div');\n",
              "          docLink.innerHTML = docLinkHtml;\n",
              "          element.appendChild(docLink);\n",
              "        }\n",
              "      </script>\n",
              "    </div>\n",
              "  </div>\n",
              "  "
            ],
            "text/plain": [
              "    NCT Number         Status                         Conditions  \\\n",
              "0  NCT03763474      Completed          diabetes mellitus type 1    \n",
              "1  NCT05013294      Completed                          diabetes    \n",
              "2  NCT03108521      Completed                 diabetes mellitus    \n",
              "3  NCT02928952      Completed                 diabetes mellitus    \n",
              "4  NCT05106231  Not Completed  diabetes mellitus type2 diabetes    \n",
              "\n",
              "                                             Sponsor  \\\n",
              "0              aristotle university of thessaloniki    \n",
              "1  ku leuven jomo kenyatta university of agricult...   \n",
              "2               sichuan provincial peoples hospital    \n",
              "3             va office of research and development    \n",
              "4  clinical research centre malaysia ministry of ...   \n",
              "\n",
              "                                     Age Funded_Bys  \\\n",
              "0         years to  years � child adult      other    \n",
              "1               child adult older adult      other    \n",
              "2   years to  years � adult older adult      other    \n",
              "3   years and older � adult older adult     us fed    \n",
              "4   years and older � adult older adult      other    \n",
              "\n",
              "                                       Study_Designs  \\\n",
              "0  allocation randomized intervention model paral...   \n",
              "1  allocation randomized intervention model paral...   \n",
              "2  allocation nonrandomized intervention model pa...   \n",
              "3  allocation randomized intervention model paral...   \n",
              "4  allocation randomized intervention model facto...   \n",
              "\n",
              "                                           Locations  \\\n",
              "0  endocrine unit of rd department of pediatrics ...   \n",
              "1  jomo kenyatta university of agriculture and te...   \n",
              "2  sichuan provincial peoples hospital chengdu si...   \n",
              "3  va pittsburgh healthcare system university dri...   \n",
              "4  klinik kesihatan daro daro sarawak malaysia kl...   \n",
              "\n",
              "                                               links  \n",
              "0  https://ClinicalTrials.gov/ProvidedDocs/74/NCT...  \n",
              "1  https://ClinicalTrials.gov/ProvidedDocs/94/NCT...  \n",
              "2  https://ClinicalTrials.gov/ProvidedDocs/21/NCT...  \n",
              "3  https://ClinicalTrials.gov/ProvidedDocs/52/NCT...  \n",
              "4  https://ClinicalTrials.gov/ProvidedDocs/31/NCT...  "
            ]
          },
          "execution_count": 25,
          "metadata": {},
          "output_type": "execute_result"
        }
      ],
      "source": [
        "data.head(5)"
      ]
    },
    {
      "cell_type": "markdown",
      "metadata": {
        "id": "1--EoxjiZt2m"
      },
      "source": [
        "### Save the transformed file"
      ]
    },
    {
      "cell_type": "code",
      "execution_count": null,
      "metadata": {
        "id": "Xjv6npEPWgPi"
      },
      "outputs": [],
      "source": [
        "os.chdir('/content/drive/MyDrive/Practicum/Final_folders/Submission/2.Data_preperation_done/')\n",
        "data.to_csv('data_cleaned_clinical_trial.csv')\n"
      ]
    },
    {
      "cell_type": "markdown",
      "source": [
        "# Section 2"
      ],
      "metadata": {
        "id": "d1XgMQZVXGfU"
      }
    },
    {
      "cell_type": "markdown",
      "metadata": {
        "id": "cwdyzt3UwiaY"
      },
      "source": [
        "##<font color='#3dc1d3'>2.1  TEXT EXTRACTION BASED ON KEYWORD SEARCH\n",
        "\n",
        "#Outline\n",
        "---\n",
        "# <font color='#3dc1d3'>  \n",
        "1. Install the required library, import and read the dataset.\n",
        "2. Pipeline:\n",
        "    - Search keywords list\n",
        "    - Extract pdf document using URL\n",
        "    - Search for the keyword in the pdf and look for the pdf page with the maximum search word count.\n",
        "    - Extract the text for maximum search count\n",
        "    - Call the main function and apply the above functions on the dataframe\n",
        "    \n",
        "3. Save the information extracted dataset<br>\n"
      ]
    },
    {
      "cell_type": "markdown",
      "metadata": {
        "id": "91CHVsfwOgU8"
      },
      "source": [
        "###1. Install necessary packages"
      ]
    },
    {
      "cell_type": "code",
      "execution_count": null,
      "metadata": {
        "colab": {
          "base_uri": "https://localhost:8080/"
        },
        "id": "DOhZx0UpknHa",
        "outputId": "4da9bc53-de4c-404c-e94d-691241376a4d"
      },
      "outputs": [
        {
          "name": "stdout",
          "output_type": "stream",
          "text": [
            "Looking in indexes: https://pypi.org/simple, https://us-python.pkg.dev/colab-wheels/public/simple/\n",
            "Requirement already satisfied: PyPDF2 in /usr/local/lib/python3.7/dist-packages (2.8.1)\n",
            "Requirement already satisfied: typing-extensions in /usr/local/lib/python3.7/dist-packages (from PyPDF2) (4.1.1)\n",
            "Looking in indexes: https://pypi.org/simple, https://us-python.pkg.dev/colab-wheels/public/simple/\n",
            "Requirement already satisfied: simpletransformers in /usr/local/lib/python3.7/dist-packages (0.63.7)\n",
            "Requirement already satisfied: datasets in /usr/local/lib/python3.7/dist-packages (from simpletransformers) (2.4.0)\n",
            "Requirement already satisfied: numpy in /usr/local/lib/python3.7/dist-packages (from simpletransformers) (1.21.6)\n",
            "Requirement already satisfied: tqdm>=4.47.0 in /usr/local/lib/python3.7/dist-packages (from simpletransformers) (4.64.0)\n",
            "Requirement already satisfied: tensorboard in /usr/local/lib/python3.7/dist-packages (from simpletransformers) (2.8.0)\n",
            "Requirement already satisfied: tokenizers in /usr/local/lib/python3.7/dist-packages (from simpletransformers) (0.12.1)\n",
            "Requirement already satisfied: requests in /usr/local/lib/python3.7/dist-packages (from simpletransformers) (2.23.0)\n",
            "Requirement already satisfied: wandb>=0.10.32 in /usr/local/lib/python3.7/dist-packages (from simpletransformers) (0.12.21)\n",
            "Requirement already satisfied: pandas in /usr/local/lib/python3.7/dist-packages (from simpletransformers) (1.3.5)\n",
            "Requirement already satisfied: sentencepiece in /usr/local/lib/python3.7/dist-packages (from simpletransformers) (0.1.96)\n",
            "Requirement already satisfied: transformers>=4.6.0 in /usr/local/lib/python3.7/dist-packages (from simpletransformers) (4.21.0)\n",
            "Requirement already satisfied: regex in /usr/local/lib/python3.7/dist-packages (from simpletransformers) (2022.6.2)\n",
            "Requirement already satisfied: scipy in /usr/local/lib/python3.7/dist-packages (from simpletransformers) (1.7.3)\n",
            "Requirement already satisfied: seqeval in /usr/local/lib/python3.7/dist-packages (from simpletransformers) (1.2.2)\n",
            "Requirement already satisfied: streamlit in /usr/local/lib/python3.7/dist-packages (from simpletransformers) (1.11.1)\n",
            "Requirement already satisfied: scikit-learn in /usr/local/lib/python3.7/dist-packages (from simpletransformers) (1.0.2)\n",
            "Requirement already satisfied: importlib-metadata in /usr/local/lib/python3.7/dist-packages (from transformers>=4.6.0->simpletransformers) (4.12.0)\n",
            "Requirement already satisfied: filelock in /usr/local/lib/python3.7/dist-packages (from transformers>=4.6.0->simpletransformers) (3.7.1)\n",
            "Requirement already satisfied: huggingface-hub<1.0,>=0.1.0 in /usr/local/lib/python3.7/dist-packages (from transformers>=4.6.0->simpletransformers) (0.8.1)\n",
            "Requirement already satisfied: packaging>=20.0 in /usr/local/lib/python3.7/dist-packages (from transformers>=4.6.0->simpletransformers) (21.3)\n",
            "Requirement already satisfied: pyyaml>=5.1 in /usr/local/lib/python3.7/dist-packages (from transformers>=4.6.0->simpletransformers) (6.0)\n",
            "Requirement already satisfied: typing-extensions>=3.7.4.3 in /usr/local/lib/python3.7/dist-packages (from huggingface-hub<1.0,>=0.1.0->transformers>=4.6.0->simpletransformers) (4.1.1)\n",
            "Requirement already satisfied: pyparsing!=3.0.5,>=2.0.2 in /usr/local/lib/python3.7/dist-packages (from packaging>=20.0->transformers>=4.6.0->simpletransformers) (3.0.9)\n",
            "Requirement already satisfied: six>=1.13.0 in /usr/local/lib/python3.7/dist-packages (from wandb>=0.10.32->simpletransformers) (1.15.0)\n",
            "Requirement already satisfied: setuptools in /usr/local/lib/python3.7/dist-packages (from wandb>=0.10.32->simpletransformers) (57.4.0)\n",
            "Requirement already satisfied: pathtools in /usr/local/lib/python3.7/dist-packages (from wandb>=0.10.32->simpletransformers) (0.1.2)\n",
            "Requirement already satisfied: protobuf<4.0dev,>=3.12.0 in /usr/local/lib/python3.7/dist-packages (from wandb>=0.10.32->simpletransformers) (3.17.3)\n",
            "Requirement already satisfied: shortuuid>=0.5.0 in /usr/local/lib/python3.7/dist-packages (from wandb>=0.10.32->simpletransformers) (1.0.9)\n",
            "Requirement already satisfied: psutil>=5.0.0 in /usr/local/lib/python3.7/dist-packages (from wandb>=0.10.32->simpletransformers) (5.4.8)\n",
            "Requirement already satisfied: docker-pycreds>=0.4.0 in /usr/local/lib/python3.7/dist-packages (from wandb>=0.10.32->simpletransformers) (0.4.0)\n",
            "Requirement already satisfied: promise<3,>=2.0 in /usr/local/lib/python3.7/dist-packages (from wandb>=0.10.32->simpletransformers) (2.3)\n",
            "Requirement already satisfied: sentry-sdk>=1.0.0 in /usr/local/lib/python3.7/dist-packages (from wandb>=0.10.32->simpletransformers) (1.9.0)\n",
            "Requirement already satisfied: Click!=8.0.0,>=7.0 in /usr/local/lib/python3.7/dist-packages (from wandb>=0.10.32->simpletransformers) (7.1.2)\n",
            "Requirement already satisfied: setproctitle in /usr/local/lib/python3.7/dist-packages (from wandb>=0.10.32->simpletransformers) (1.3.0)\n",
            "Requirement already satisfied: GitPython>=1.0.0 in /usr/local/lib/python3.7/dist-packages (from wandb>=0.10.32->simpletransformers) (3.1.27)\n",
            "Requirement already satisfied: gitdb<5,>=4.0.1 in /usr/local/lib/python3.7/dist-packages (from GitPython>=1.0.0->wandb>=0.10.32->simpletransformers) (4.0.9)\n",
            "Requirement already satisfied: smmap<6,>=3.0.1 in /usr/local/lib/python3.7/dist-packages (from gitdb<5,>=4.0.1->GitPython>=1.0.0->wandb>=0.10.32->simpletransformers) (5.0.0)\n",
            "Requirement already satisfied: chardet<4,>=3.0.2 in /usr/local/lib/python3.7/dist-packages (from requests->simpletransformers) (3.0.4)\n",
            "Requirement already satisfied: urllib3!=1.25.0,!=1.25.1,<1.26,>=1.21.1 in /usr/local/lib/python3.7/dist-packages (from requests->simpletransformers) (1.25.11)\n",
            "Requirement already satisfied: certifi>=2017.4.17 in /usr/local/lib/python3.7/dist-packages (from requests->simpletransformers) (2022.6.15)\n",
            "Requirement already satisfied: idna<3,>=2.5 in /usr/local/lib/python3.7/dist-packages (from requests->simpletransformers) (2.10)\n",
            "Requirement already satisfied: xxhash in /usr/local/lib/python3.7/dist-packages (from datasets->simpletransformers) (3.0.0)\n",
            "Requirement already satisfied: multiprocess in /usr/local/lib/python3.7/dist-packages (from datasets->simpletransformers) (0.70.13)\n",
            "Requirement already satisfied: fsspec[http]>=2021.11.1 in /usr/local/lib/python3.7/dist-packages (from datasets->simpletransformers) (2022.7.1)\n",
            "Requirement already satisfied: responses<0.19 in /usr/local/lib/python3.7/dist-packages (from datasets->simpletransformers) (0.18.0)\n",
            "Requirement already satisfied: aiohttp in /usr/local/lib/python3.7/dist-packages (from datasets->simpletransformers) (3.8.1)\n",
            "Requirement already satisfied: pyarrow>=6.0.0 in /usr/local/lib/python3.7/dist-packages (from datasets->simpletransformers) (6.0.1)\n",
            "Requirement already satisfied: dill<0.3.6 in /usr/local/lib/python3.7/dist-packages (from datasets->simpletransformers) (0.3.5.1)\n",
            "Requirement already satisfied: async-timeout<5.0,>=4.0.0a3 in /usr/local/lib/python3.7/dist-packages (from aiohttp->datasets->simpletransformers) (4.0.2)\n",
            "Requirement already satisfied: yarl<2.0,>=1.0 in /usr/local/lib/python3.7/dist-packages (from aiohttp->datasets->simpletransformers) (1.7.2)\n",
            "Requirement already satisfied: asynctest==0.13.0 in /usr/local/lib/python3.7/dist-packages (from aiohttp->datasets->simpletransformers) (0.13.0)\n",
            "Requirement already satisfied: multidict<7.0,>=4.5 in /usr/local/lib/python3.7/dist-packages (from aiohttp->datasets->simpletransformers) (6.0.2)\n",
            "Requirement already satisfied: attrs>=17.3.0 in /usr/local/lib/python3.7/dist-packages (from aiohttp->datasets->simpletransformers) (21.4.0)\n",
            "Requirement already satisfied: aiosignal>=1.1.2 in /usr/local/lib/python3.7/dist-packages (from aiohttp->datasets->simpletransformers) (1.2.0)\n",
            "Requirement already satisfied: charset-normalizer<3.0,>=2.0 in /usr/local/lib/python3.7/dist-packages (from aiohttp->datasets->simpletransformers) (2.1.0)\n",
            "Requirement already satisfied: frozenlist>=1.1.1 in /usr/local/lib/python3.7/dist-packages (from aiohttp->datasets->simpletransformers) (1.3.0)\n",
            "Requirement already satisfied: zipp>=0.5 in /usr/local/lib/python3.7/dist-packages (from importlib-metadata->transformers>=4.6.0->simpletransformers) (3.8.1)\n",
            "Requirement already satisfied: pytz>=2017.3 in /usr/local/lib/python3.7/dist-packages (from pandas->simpletransformers) (2022.1)\n",
            "Requirement already satisfied: python-dateutil>=2.7.3 in /usr/local/lib/python3.7/dist-packages (from pandas->simpletransformers) (2.8.2)\n",
            "Requirement already satisfied: joblib>=0.11 in /usr/local/lib/python3.7/dist-packages (from scikit-learn->simpletransformers) (1.1.0)\n",
            "Requirement already satisfied: threadpoolctl>=2.0.0 in /usr/local/lib/python3.7/dist-packages (from scikit-learn->simpletransformers) (3.1.0)\n",
            "Requirement already satisfied: altair>=3.2.0 in /usr/local/lib/python3.7/dist-packages (from streamlit->simpletransformers) (4.2.0)\n",
            "Requirement already satisfied: semver in /usr/local/lib/python3.7/dist-packages (from streamlit->simpletransformers) (2.13.0)\n",
            "Requirement already satisfied: validators>=0.2 in /usr/local/lib/python3.7/dist-packages (from streamlit->simpletransformers) (0.20.0)\n",
            "Requirement already satisfied: pydeck>=0.1.dev5 in /usr/local/lib/python3.7/dist-packages (from streamlit->simpletransformers) (0.7.1)\n",
            "Requirement already satisfied: tornado>=5.0 in /usr/local/lib/python3.7/dist-packages (from streamlit->simpletransformers) (6.2)\n",
            "Requirement already satisfied: watchdog in /usr/local/lib/python3.7/dist-packages (from streamlit->simpletransformers) (2.1.9)\n",
            "Requirement already satisfied: pillow>=6.2.0 in /usr/local/lib/python3.7/dist-packages (from streamlit->simpletransformers) (7.1.2)\n",
            "Requirement already satisfied: rich>=10.11.0 in /usr/local/lib/python3.7/dist-packages (from streamlit->simpletransformers) (12.5.1)\n",
            "Requirement already satisfied: tzlocal>=1.1 in /usr/local/lib/python3.7/dist-packages (from streamlit->simpletransformers) (1.5.1)\n",
            "Requirement already satisfied: blinker>=1.0.0 in /usr/local/lib/python3.7/dist-packages (from streamlit->simpletransformers) (1.5)\n",
            "Requirement already satisfied: pympler>=0.9 in /usr/local/lib/python3.7/dist-packages (from streamlit->simpletransformers) (1.0.1)\n",
            "Requirement already satisfied: toml in /usr/local/lib/python3.7/dist-packages (from streamlit->simpletransformers) (0.10.2)\n",
            "Requirement already satisfied: cachetools>=4.0 in /usr/local/lib/python3.7/dist-packages (from streamlit->simpletransformers) (4.2.4)\n",
            "Requirement already satisfied: entrypoints in /usr/local/lib/python3.7/dist-packages (from altair>=3.2.0->streamlit->simpletransformers) (0.4)\n",
            "Requirement already satisfied: jinja2 in /usr/local/lib/python3.7/dist-packages (from altair>=3.2.0->streamlit->simpletransformers) (2.11.3)\n",
            "Requirement already satisfied: jsonschema>=3.0 in /usr/local/lib/python3.7/dist-packages (from altair>=3.2.0->streamlit->simpletransformers) (4.3.3)\n",
            "Requirement already satisfied: toolz in /usr/local/lib/python3.7/dist-packages (from altair>=3.2.0->streamlit->simpletransformers) (0.12.0)\n",
            "Requirement already satisfied: pyrsistent!=0.17.0,!=0.17.1,!=0.17.2,>=0.14.0 in /usr/local/lib/python3.7/dist-packages (from jsonschema>=3.0->altair>=3.2.0->streamlit->simpletransformers) (0.18.1)\n",
            "Requirement already satisfied: importlib-resources>=1.4.0 in /usr/local/lib/python3.7/dist-packages (from jsonschema>=3.0->altair>=3.2.0->streamlit->simpletransformers) (5.9.0)\n",
            "Requirement already satisfied: ipykernel>=5.1.2 in /usr/local/lib/python3.7/dist-packages (from pydeck>=0.1.dev5->streamlit->simpletransformers) (6.15.1)\n",
            "Requirement already satisfied: ipywidgets>=7.0.0 in /usr/local/lib/python3.7/dist-packages (from pydeck>=0.1.dev5->streamlit->simpletransformers) (7.7.1)\n",
            "Requirement already satisfied: traitlets>=4.3.2 in /usr/local/lib/python3.7/dist-packages (from pydeck>=0.1.dev5->streamlit->simpletransformers) (5.1.1)\n",
            "Requirement already satisfied: ipython>=7.23.1 in /usr/local/lib/python3.7/dist-packages (from ipykernel>=5.1.2->pydeck>=0.1.dev5->streamlit->simpletransformers) (7.34.0)\n",
            "Requirement already satisfied: jupyter-client>=6.1.12 in /usr/local/lib/python3.7/dist-packages (from ipykernel>=5.1.2->pydeck>=0.1.dev5->streamlit->simpletransformers) (7.3.4)\n",
            "Requirement already satisfied: debugpy>=1.0 in /usr/local/lib/python3.7/dist-packages (from ipykernel>=5.1.2->pydeck>=0.1.dev5->streamlit->simpletransformers) (1.0.0)\n",
            "Requirement already satisfied: pyzmq>=17 in /usr/local/lib/python3.7/dist-packages (from ipykernel>=5.1.2->pydeck>=0.1.dev5->streamlit->simpletransformers) (23.2.0)\n",
            "Requirement already satisfied: matplotlib-inline>=0.1 in /usr/local/lib/python3.7/dist-packages (from ipykernel>=5.1.2->pydeck>=0.1.dev5->streamlit->simpletransformers) (0.1.3)\n",
            "Requirement already satisfied: nest-asyncio in /usr/local/lib/python3.7/dist-packages (from ipykernel>=5.1.2->pydeck>=0.1.dev5->streamlit->simpletransformers) (1.5.5)\n",
            "Requirement already satisfied: pexpect>4.3 in /usr/local/lib/python3.7/dist-packages (from ipython>=7.23.1->ipykernel>=5.1.2->pydeck>=0.1.dev5->streamlit->simpletransformers) (4.8.0)\n",
            "Requirement already satisfied: jedi>=0.16 in /usr/local/lib/python3.7/dist-packages (from ipython>=7.23.1->ipykernel>=5.1.2->pydeck>=0.1.dev5->streamlit->simpletransformers) (0.18.1)\n",
            "Requirement already satisfied: pygments in /usr/local/lib/python3.7/dist-packages (from ipython>=7.23.1->ipykernel>=5.1.2->pydeck>=0.1.dev5->streamlit->simpletransformers) (2.6.1)\n",
            "Requirement already satisfied: prompt-toolkit!=3.0.0,!=3.0.1,<3.1.0,>=2.0.0 in /usr/local/lib/python3.7/dist-packages (from ipython>=7.23.1->ipykernel>=5.1.2->pydeck>=0.1.dev5->streamlit->simpletransformers) (3.0.30)\n",
            "Requirement already satisfied: backcall in /usr/local/lib/python3.7/dist-packages (from ipython>=7.23.1->ipykernel>=5.1.2->pydeck>=0.1.dev5->streamlit->simpletransformers) (0.2.0)\n",
            "Requirement already satisfied: pickleshare in /usr/local/lib/python3.7/dist-packages (from ipython>=7.23.1->ipykernel>=5.1.2->pydeck>=0.1.dev5->streamlit->simpletransformers) (0.7.5)\n",
            "Requirement already satisfied: decorator in /usr/local/lib/python3.7/dist-packages (from ipython>=7.23.1->ipykernel>=5.1.2->pydeck>=0.1.dev5->streamlit->simpletransformers) (4.4.2)\n",
            "Requirement already satisfied: widgetsnbextension~=3.6.0 in /usr/local/lib/python3.7/dist-packages (from ipywidgets>=7.0.0->pydeck>=0.1.dev5->streamlit->simpletransformers) (3.6.1)\n",
            "Requirement already satisfied: jupyterlab-widgets>=1.0.0 in /usr/local/lib/python3.7/dist-packages (from ipywidgets>=7.0.0->pydeck>=0.1.dev5->streamlit->simpletransformers) (1.1.1)\n",
            "Requirement already satisfied: ipython-genutils~=0.2.0 in /usr/local/lib/python3.7/dist-packages (from ipywidgets>=7.0.0->pydeck>=0.1.dev5->streamlit->simpletransformers) (0.2.0)\n",
            "Requirement already satisfied: parso<0.9.0,>=0.8.0 in /usr/local/lib/python3.7/dist-packages (from jedi>=0.16->ipython>=7.23.1->ipykernel>=5.1.2->pydeck>=0.1.dev5->streamlit->simpletransformers) (0.8.3)\n",
            "Requirement already satisfied: MarkupSafe>=0.23 in /usr/local/lib/python3.7/dist-packages (from jinja2->altair>=3.2.0->streamlit->simpletransformers) (2.0.1)\n",
            "Requirement already satisfied: jupyter-core>=4.9.2 in /usr/local/lib/python3.7/dist-packages (from jupyter-client>=6.1.12->ipykernel>=5.1.2->pydeck>=0.1.dev5->streamlit->simpletransformers) (4.11.1)\n",
            "Requirement already satisfied: ptyprocess>=0.5 in /usr/local/lib/python3.7/dist-packages (from pexpect>4.3->ipython>=7.23.1->ipykernel>=5.1.2->pydeck>=0.1.dev5->streamlit->simpletransformers) (0.7.0)\n",
            "Requirement already satisfied: wcwidth in /usr/local/lib/python3.7/dist-packages (from prompt-toolkit!=3.0.0,!=3.0.1,<3.1.0,>=2.0.0->ipython>=7.23.1->ipykernel>=5.1.2->pydeck>=0.1.dev5->streamlit->simpletransformers) (0.2.5)\n",
            "Requirement already satisfied: commonmark<0.10.0,>=0.9.0 in /usr/local/lib/python3.7/dist-packages (from rich>=10.11.0->streamlit->simpletransformers) (0.9.1)\n",
            "Requirement already satisfied: notebook>=4.4.1 in /usr/local/lib/python3.7/dist-packages (from widgetsnbextension~=3.6.0->ipywidgets>=7.0.0->pydeck>=0.1.dev5->streamlit->simpletransformers) (5.3.1)\n",
            "Requirement already satisfied: nbconvert in /usr/local/lib/python3.7/dist-packages (from notebook>=4.4.1->widgetsnbextension~=3.6.0->ipywidgets>=7.0.0->pydeck>=0.1.dev5->streamlit->simpletransformers) (5.6.1)\n",
            "Requirement already satisfied: nbformat in /usr/local/lib/python3.7/dist-packages (from notebook>=4.4.1->widgetsnbextension~=3.6.0->ipywidgets>=7.0.0->pydeck>=0.1.dev5->streamlit->simpletransformers) (5.4.0)\n",
            "Requirement already satisfied: terminado>=0.8.1 in /usr/local/lib/python3.7/dist-packages (from notebook>=4.4.1->widgetsnbextension~=3.6.0->ipywidgets>=7.0.0->pydeck>=0.1.dev5->streamlit->simpletransformers) (0.13.3)\n",
            "Requirement already satisfied: Send2Trash in /usr/local/lib/python3.7/dist-packages (from notebook>=4.4.1->widgetsnbextension~=3.6.0->ipywidgets>=7.0.0->pydeck>=0.1.dev5->streamlit->simpletransformers) (1.8.0)\n",
            "Requirement already satisfied: pandocfilters>=1.4.1 in /usr/local/lib/python3.7/dist-packages (from nbconvert->notebook>=4.4.1->widgetsnbextension~=3.6.0->ipywidgets>=7.0.0->pydeck>=0.1.dev5->streamlit->simpletransformers) (1.5.0)\n",
            "Requirement already satisfied: testpath in /usr/local/lib/python3.7/dist-packages (from nbconvert->notebook>=4.4.1->widgetsnbextension~=3.6.0->ipywidgets>=7.0.0->pydeck>=0.1.dev5->streamlit->simpletransformers) (0.6.0)\n",
            "Requirement already satisfied: mistune<2,>=0.8.1 in /usr/local/lib/python3.7/dist-packages (from nbconvert->notebook>=4.4.1->widgetsnbextension~=3.6.0->ipywidgets>=7.0.0->pydeck>=0.1.dev5->streamlit->simpletransformers) (0.8.4)\n",
            "Requirement already satisfied: bleach in /usr/local/lib/python3.7/dist-packages (from nbconvert->notebook>=4.4.1->widgetsnbextension~=3.6.0->ipywidgets>=7.0.0->pydeck>=0.1.dev5->streamlit->simpletransformers) (5.0.1)\n",
            "Requirement already satisfied: defusedxml in /usr/local/lib/python3.7/dist-packages (from nbconvert->notebook>=4.4.1->widgetsnbextension~=3.6.0->ipywidgets>=7.0.0->pydeck>=0.1.dev5->streamlit->simpletransformers) (0.7.1)\n",
            "Requirement already satisfied: fastjsonschema in /usr/local/lib/python3.7/dist-packages (from nbformat->notebook>=4.4.1->widgetsnbextension~=3.6.0->ipywidgets>=7.0.0->pydeck>=0.1.dev5->streamlit->simpletransformers) (2.16.1)\n",
            "Requirement already satisfied: webencodings in /usr/local/lib/python3.7/dist-packages (from bleach->nbconvert->notebook>=4.4.1->widgetsnbextension~=3.6.0->ipywidgets>=7.0.0->pydeck>=0.1.dev5->streamlit->simpletransformers) (0.5.1)\n",
            "Requirement already satisfied: absl-py>=0.4 in /usr/local/lib/python3.7/dist-packages (from tensorboard->simpletransformers) (1.2.0)\n",
            "Requirement already satisfied: tensorboard-data-server<0.7.0,>=0.6.0 in /usr/local/lib/python3.7/dist-packages (from tensorboard->simpletransformers) (0.6.1)\n",
            "Requirement already satisfied: wheel>=0.26 in /usr/local/lib/python3.7/dist-packages (from tensorboard->simpletransformers) (0.37.1)\n",
            "Requirement already satisfied: werkzeug>=0.11.15 in /usr/local/lib/python3.7/dist-packages (from tensorboard->simpletransformers) (1.0.1)\n",
            "Requirement already satisfied: google-auth-oauthlib<0.5,>=0.4.1 in /usr/local/lib/python3.7/dist-packages (from tensorboard->simpletransformers) (0.4.6)\n",
            "Requirement already satisfied: google-auth<3,>=1.6.3 in /usr/local/lib/python3.7/dist-packages (from tensorboard->simpletransformers) (1.35.0)\n",
            "Requirement already satisfied: markdown>=2.6.8 in /usr/local/lib/python3.7/dist-packages (from tensorboard->simpletransformers) (3.4.1)\n",
            "Requirement already satisfied: tensorboard-plugin-wit>=1.6.0 in /usr/local/lib/python3.7/dist-packages (from tensorboard->simpletransformers) (1.8.1)\n",
            "Requirement already satisfied: grpcio>=1.24.3 in /usr/local/lib/python3.7/dist-packages (from tensorboard->simpletransformers) (1.47.0)\n",
            "Requirement already satisfied: rsa<5,>=3.1.4 in /usr/local/lib/python3.7/dist-packages (from google-auth<3,>=1.6.3->tensorboard->simpletransformers) (4.9)\n",
            "Requirement already satisfied: pyasn1-modules>=0.2.1 in /usr/local/lib/python3.7/dist-packages (from google-auth<3,>=1.6.3->tensorboard->simpletransformers) (0.2.8)\n",
            "Requirement already satisfied: requests-oauthlib>=0.7.0 in /usr/local/lib/python3.7/dist-packages (from google-auth-oauthlib<0.5,>=0.4.1->tensorboard->simpletransformers) (1.3.1)\n",
            "Requirement already satisfied: pyasn1<0.5.0,>=0.4.6 in /usr/local/lib/python3.7/dist-packages (from pyasn1-modules>=0.2.1->google-auth<3,>=1.6.3->tensorboard->simpletransformers) (0.4.8)\n",
            "Requirement already satisfied: oauthlib>=3.0.0 in /usr/local/lib/python3.7/dist-packages (from requests-oauthlib>=0.7.0->google-auth-oauthlib<0.5,>=0.4.1->tensorboard->simpletransformers) (3.2.0)\n",
            "Looking in indexes: https://pypi.org/simple, https://us-python.pkg.dev/colab-wheels/public/simple/\n",
            "\u001b[31mERROR: Could not find a version that satisfies the requirement PdfFileReader (from versions: none)\u001b[0m\n",
            "\u001b[31mERROR: No matching distribution found for PdfFileReader\u001b[0m\n",
            "Looking in indexes: https://pypi.org/simple, https://us-python.pkg.dev/colab-wheels/public/simple/\n",
            "\u001b[31mERROR: Could not find a version that satisfies the requirement re (from versions: none)\u001b[0m\n",
            "\u001b[31mERROR: No matching distribution found for re\u001b[0m\n",
            "Looking in indexes: https://pypi.org/simple, https://us-python.pkg.dev/colab-wheels/public/simple/\n",
            "Requirement already satisfied: transformers in /usr/local/lib/python3.7/dist-packages (4.21.0)\n",
            "Requirement already satisfied: pyyaml>=5.1 in /usr/local/lib/python3.7/dist-packages (from transformers) (6.0)\n",
            "Requirement already satisfied: tokenizers!=0.11.3,<0.13,>=0.11.1 in /usr/local/lib/python3.7/dist-packages (from transformers) (0.12.1)\n",
            "Requirement already satisfied: numpy>=1.17 in /usr/local/lib/python3.7/dist-packages (from transformers) (1.21.6)\n",
            "Requirement already satisfied: tqdm>=4.27 in /usr/local/lib/python3.7/dist-packages (from transformers) (4.64.0)\n",
            "Requirement already satisfied: requests in /usr/local/lib/python3.7/dist-packages (from transformers) (2.23.0)\n",
            "Requirement already satisfied: importlib-metadata in /usr/local/lib/python3.7/dist-packages (from transformers) (4.12.0)\n",
            "Requirement already satisfied: huggingface-hub<1.0,>=0.1.0 in /usr/local/lib/python3.7/dist-packages (from transformers) (0.8.1)\n",
            "Requirement already satisfied: filelock in /usr/local/lib/python3.7/dist-packages (from transformers) (3.7.1)\n",
            "Requirement already satisfied: regex!=2019.12.17 in /usr/local/lib/python3.7/dist-packages (from transformers) (2022.6.2)\n",
            "Requirement already satisfied: packaging>=20.0 in /usr/local/lib/python3.7/dist-packages (from transformers) (21.3)\n",
            "Requirement already satisfied: typing-extensions>=3.7.4.3 in /usr/local/lib/python3.7/dist-packages (from huggingface-hub<1.0,>=0.1.0->transformers) (4.1.1)\n",
            "Requirement already satisfied: pyparsing!=3.0.5,>=2.0.2 in /usr/local/lib/python3.7/dist-packages (from packaging>=20.0->transformers) (3.0.9)\n",
            "Requirement already satisfied: zipp>=0.5 in /usr/local/lib/python3.7/dist-packages (from importlib-metadata->transformers) (3.8.1)\n",
            "Requirement already satisfied: urllib3!=1.25.0,!=1.25.1,<1.26,>=1.21.1 in /usr/local/lib/python3.7/dist-packages (from requests->transformers) (1.25.11)\n",
            "Requirement already satisfied: certifi>=2017.4.17 in /usr/local/lib/python3.7/dist-packages (from requests->transformers) (2022.6.15)\n",
            "Requirement already satisfied: idna<3,>=2.5 in /usr/local/lib/python3.7/dist-packages (from requests->transformers) (2.10)\n",
            "Requirement already satisfied: chardet<4,>=3.0.2 in /usr/local/lib/python3.7/dist-packages (from requests->transformers) (3.0.4)\n",
            "Looking in indexes: https://pypi.org/simple, https://us-python.pkg.dev/colab-wheels/public/simple/\n",
            "Requirement already satisfied: tqdm in /usr/local/lib/python3.7/dist-packages (4.64.0)\n",
            "Looking in indexes: https://pypi.org/simple, https://us-python.pkg.dev/colab-wheels/public/simple/\n",
            "\u001b[31mERROR: Could not find a version that satisfies the requirement time (from versions: none)\u001b[0m\n",
            "\u001b[31mERROR: No matching distribution found for time\u001b[0m\n"
          ]
        }
      ],
      "source": [
        "!pip install PyPDF2\n",
        "!pip install simpletransformers\n",
        "!pip install PdfFileReader\n",
        "!pip install re\n",
        "!pip install transformers\n",
        "!pip install tqdm\n",
        "!pip install time"
      ]
    },
    {
      "cell_type": "code",
      "execution_count": null,
      "metadata": {
        "colab": {
          "base_uri": "https://localhost:8080/"
        },
        "id": "Oq4fnt9KP-fs",
        "outputId": "c3b8c8df-60e8-4e54-f655-61b163ce5582"
      },
      "outputs": [
        {
          "name": "stdout",
          "output_type": "stream",
          "text": [
            "Found GPU at: /device:GPU:0\n"
          ]
        }
      ],
      "source": [
        "%tensorflow_version 2.x\n",
        "import tensorflow as tf\n",
        "device_name = tf.test.gpu_device_name()\n",
        "if device_name != '/device:GPU:0':\n",
        "  raise SystemError('GPU device not found')\n",
        "print('Found GPU at: {}'.format(device_name))"
      ]
    },
    {
      "cell_type": "code",
      "execution_count": null,
      "metadata": {
        "colab": {
          "base_uri": "https://localhost:8080/"
        },
        "id": "GeXCmu0Yjx5a",
        "outputId": "43a966c4-97e5-44fe-e7c4-02f4cc1acbc5"
      },
      "outputs": [
        {
          "name": "stderr",
          "output_type": "stream",
          "text": [
            "[nltk_data] Downloading package stopwords to /root/nltk_data...\n",
            "[nltk_data]   Package stopwords is already up-to-date!\n"
          ]
        }
      ],
      "source": [
        "import json\n",
        "import PyPDF2\n",
        "import pandas as pd\n",
        "import urllib3\n",
        "import io\n",
        "from collections import defaultdict\n",
        "import re\n",
        "import nltk\n",
        "nltk.download('stopwords')\n",
        "from nltk.corpus import stopwords\n",
        "import string\n",
        "from nltk.tokenize import RegexpTokenizer\n",
        "from tqdm import tqdm\n",
        "import time"
      ]
    },
    {
      "cell_type": "code",
      "execution_count": null,
      "metadata": {
        "colab": {
          "base_uri": "https://localhost:8080/"
        },
        "id": "SZtXW3ICHOC0",
        "outputId": "a7f2983d-436c-45e4-c328-3104e87d6a99"
      },
      "outputs": [
        {
          "name": "stdout",
          "output_type": "stream",
          "text": [
            "Drive already mounted at /content/drive; to attempt to forcibly remount, call drive.mount(\"/content/drive\", force_remount=True).\n"
          ]
        }
      ],
      "source": [
        "from google.colab import drive\n",
        "drive.mount('/content/drive')"
      ]
    },
    {
      "cell_type": "markdown",
      "metadata": {
        "id": "FZCJ66sIOrA3"
      },
      "source": [
        "###Read dataset"
      ]
    },
    {
      "cell_type": "code",
      "execution_count": null,
      "metadata": {
        "colab": {
          "base_uri": "https://localhost:8080/",
          "height": 208
        },
        "id": "RKLA0QmKhoBx",
        "outputId": "9008a5ca-74af-45f6-d699-52df98f2ec8b"
      },
      "outputs": [
        {
          "data": {
            "text/html": [
              "\n",
              "  <div id=\"df-87b7d1d2-9def-4774-9767-4c0a1466969b\">\n",
              "    <div class=\"colab-df-container\">\n",
              "      <div>\n",
              "<style scoped>\n",
              "    .dataframe tbody tr th:only-of-type {\n",
              "        vertical-align: middle;\n",
              "    }\n",
              "\n",
              "    .dataframe tbody tr th {\n",
              "        vertical-align: top;\n",
              "    }\n",
              "\n",
              "    .dataframe thead th {\n",
              "        text-align: right;\n",
              "    }\n",
              "</style>\n",
              "<table border=\"1\" class=\"dataframe\">\n",
              "  <thead>\n",
              "    <tr style=\"text-align: right;\">\n",
              "      <th></th>\n",
              "      <th>Unnamed: 0</th>\n",
              "      <th>Unnamed: 0.1</th>\n",
              "      <th>NCT Number</th>\n",
              "      <th>Status</th>\n",
              "      <th>Conditions</th>\n",
              "      <th>Sponsor</th>\n",
              "      <th>Age</th>\n",
              "      <th>Funded_Bys</th>\n",
              "      <th>Study_Designs</th>\n",
              "      <th>Locations</th>\n",
              "      <th>links</th>\n",
              "    </tr>\n",
              "  </thead>\n",
              "  <tbody>\n",
              "    <tr>\n",
              "      <th>0</th>\n",
              "      <td>0</td>\n",
              "      <td>0</td>\n",
              "      <td>NCT03763474</td>\n",
              "      <td>Completed</td>\n",
              "      <td>diabetes mellitus type 1</td>\n",
              "      <td>aristotle university of thessaloniki</td>\n",
              "      <td>years to  years � child adult</td>\n",
              "      <td>other</td>\n",
              "      <td>allocation randomized intervention model paral...</td>\n",
              "      <td>endocrine unit of rd department of pediatrics ...</td>\n",
              "      <td>https://ClinicalTrials.gov/ProvidedDocs/74/NCT...</td>\n",
              "    </tr>\n",
              "    <tr>\n",
              "      <th>1</th>\n",
              "      <td>1</td>\n",
              "      <td>1</td>\n",
              "      <td>NCT05013294</td>\n",
              "      <td>Completed</td>\n",
              "      <td>diabetes</td>\n",
              "      <td>ku leuven jomo kenyatta university of agricult...</td>\n",
              "      <td>child adult older adult</td>\n",
              "      <td>other</td>\n",
              "      <td>allocation randomized intervention model paral...</td>\n",
              "      <td>jomo kenyatta university of agriculture and te...</td>\n",
              "      <td>https://ClinicalTrials.gov/ProvidedDocs/94/NCT...</td>\n",
              "    </tr>\n",
              "  </tbody>\n",
              "</table>\n",
              "</div>\n",
              "      <button class=\"colab-df-convert\" onclick=\"convertToInteractive('df-87b7d1d2-9def-4774-9767-4c0a1466969b')\"\n",
              "              title=\"Convert this dataframe to an interactive table.\"\n",
              "              style=\"display:none;\">\n",
              "        \n",
              "  <svg xmlns=\"http://www.w3.org/2000/svg\" height=\"24px\"viewBox=\"0 0 24 24\"\n",
              "       width=\"24px\">\n",
              "    <path d=\"M0 0h24v24H0V0z\" fill=\"none\"/>\n",
              "    <path d=\"M18.56 5.44l.94 2.06.94-2.06 2.06-.94-2.06-.94-.94-2.06-.94 2.06-2.06.94zm-11 1L8.5 8.5l.94-2.06 2.06-.94-2.06-.94L8.5 2.5l-.94 2.06-2.06.94zm10 10l.94 2.06.94-2.06 2.06-.94-2.06-.94-.94-2.06-.94 2.06-2.06.94z\"/><path d=\"M17.41 7.96l-1.37-1.37c-.4-.4-.92-.59-1.43-.59-.52 0-1.04.2-1.43.59L10.3 9.45l-7.72 7.72c-.78.78-.78 2.05 0 2.83L4 21.41c.39.39.9.59 1.41.59.51 0 1.02-.2 1.41-.59l7.78-7.78 2.81-2.81c.8-.78.8-2.07 0-2.86zM5.41 20L4 18.59l7.72-7.72 1.47 1.35L5.41 20z\"/>\n",
              "  </svg>\n",
              "      </button>\n",
              "      \n",
              "  <style>\n",
              "    .colab-df-container {\n",
              "      display:flex;\n",
              "      flex-wrap:wrap;\n",
              "      gap: 12px;\n",
              "    }\n",
              "\n",
              "    .colab-df-convert {\n",
              "      background-color: #E8F0FE;\n",
              "      border: none;\n",
              "      border-radius: 50%;\n",
              "      cursor: pointer;\n",
              "      display: none;\n",
              "      fill: #1967D2;\n",
              "      height: 32px;\n",
              "      padding: 0 0 0 0;\n",
              "      width: 32px;\n",
              "    }\n",
              "\n",
              "    .colab-df-convert:hover {\n",
              "      background-color: #E2EBFA;\n",
              "      box-shadow: 0px 1px 2px rgba(60, 64, 67, 0.3), 0px 1px 3px 1px rgba(60, 64, 67, 0.15);\n",
              "      fill: #174EA6;\n",
              "    }\n",
              "\n",
              "    [theme=dark] .colab-df-convert {\n",
              "      background-color: #3B4455;\n",
              "      fill: #D2E3FC;\n",
              "    }\n",
              "\n",
              "    [theme=dark] .colab-df-convert:hover {\n",
              "      background-color: #434B5C;\n",
              "      box-shadow: 0px 1px 3px 1px rgba(0, 0, 0, 0.15);\n",
              "      filter: drop-shadow(0px 1px 2px rgba(0, 0, 0, 0.3));\n",
              "      fill: #FFFFFF;\n",
              "    }\n",
              "  </style>\n",
              "\n",
              "      <script>\n",
              "        const buttonEl =\n",
              "          document.querySelector('#df-87b7d1d2-9def-4774-9767-4c0a1466969b button.colab-df-convert');\n",
              "        buttonEl.style.display =\n",
              "          google.colab.kernel.accessAllowed ? 'block' : 'none';\n",
              "\n",
              "        async function convertToInteractive(key) {\n",
              "          const element = document.querySelector('#df-87b7d1d2-9def-4774-9767-4c0a1466969b');\n",
              "          const dataTable =\n",
              "            await google.colab.kernel.invokeFunction('convertToInteractive',\n",
              "                                                     [key], {});\n",
              "          if (!dataTable) return;\n",
              "\n",
              "          const docLinkHtml = 'Like what you see? Visit the ' +\n",
              "            '<a target=\"_blank\" href=https://colab.research.google.com/notebooks/data_table.ipynb>data table notebook</a>'\n",
              "            + ' to learn more about interactive tables.';\n",
              "          element.innerHTML = '';\n",
              "          dataTable['output_type'] = 'display_data';\n",
              "          await google.colab.output.renderOutput(dataTable, element);\n",
              "          const docLink = document.createElement('div');\n",
              "          docLink.innerHTML = docLinkHtml;\n",
              "          element.appendChild(docLink);\n",
              "        }\n",
              "      </script>\n",
              "    </div>\n",
              "  </div>\n",
              "  "
            ],
            "text/plain": [
              "   Unnamed: 0  Unnamed: 0.1   NCT Number     Status                Conditions  \\\n",
              "0           0             0  NCT03763474  Completed  diabetes mellitus type 1   \n",
              "1           1             1  NCT05013294  Completed                  diabetes   \n",
              "\n",
              "                                             Sponsor  \\\n",
              "0               aristotle university of thessaloniki   \n",
              "1  ku leuven jomo kenyatta university of agricult...   \n",
              "\n",
              "                             Age Funded_Bys  \\\n",
              "0  years to  years � child adult      other   \n",
              "1        child adult older adult      other   \n",
              "\n",
              "                                       Study_Designs  \\\n",
              "0  allocation randomized intervention model paral...   \n",
              "1  allocation randomized intervention model paral...   \n",
              "\n",
              "                                           Locations  \\\n",
              "0  endocrine unit of rd department of pediatrics ...   \n",
              "1  jomo kenyatta university of agriculture and te...   \n",
              "\n",
              "                                               links  \n",
              "0  https://ClinicalTrials.gov/ProvidedDocs/74/NCT...  \n",
              "1  https://ClinicalTrials.gov/ProvidedDocs/94/NCT...  "
            ]
          },
          "execution_count": 16,
          "metadata": {},
          "output_type": "execute_result"
        }
      ],
      "source": [
        "df= pd.read_csv('/content/drive/MyDrive/Clinical Trial/balanced - balanced.csv')\n",
        "df.head(2)"
      ]
    },
    {
      "cell_type": "code",
      "execution_count": null,
      "metadata": {
        "colab": {
          "base_uri": "https://localhost:8080/"
        },
        "id": "mdnisQxQc72z",
        "outputId": "07c73efa-7599-4b6c-b8a4-7d62290d5eb0"
      },
      "outputs": [
        {
          "data": {
            "text/plain": [
              "(370, 11)"
            ]
          },
          "execution_count": 17,
          "metadata": {},
          "output_type": "execute_result"
        }
      ],
      "source": [
        "df.shape"
      ]
    },
    {
      "cell_type": "code",
      "execution_count": null,
      "metadata": {
        "colab": {
          "base_uri": "https://localhost:8080/"
        },
        "id": "vK310EPCg8QK",
        "outputId": "5cdeda04-5709-4e2b-cabf-41f8bda5efca"
      },
      "outputs": [
        {
          "data": {
            "text/plain": [
              "Completed        193\n",
              "Not Completed    177\n",
              "Name: Status, dtype: int64"
            ]
          },
          "execution_count": 18,
          "metadata": {},
          "output_type": "execute_result"
        }
      ],
      "source": [
        "df['Status'].value_counts()"
      ]
    },
    {
      "cell_type": "markdown",
      "metadata": {
        "id": "XPzue8Aic-6j"
      },
      "source": [
        "###2. Information extraction"
      ]
    },
    {
      "cell_type": "markdown",
      "metadata": {
        "id": "lkTueG34OxF6"
      },
      "source": [
        "####2.1 Search keywords list"
      ]
    },
    {
      "cell_type": "code",
      "execution_count": null,
      "metadata": {
        "id": "qXWkQEskmaTD"
      },
      "outputs": [],
      "source": [
        "search_list = {'objectives', 'Objectives','Purpose', 'purpose','Statistics', 'treatment', 'Treatment','assessment','Assessment', 'Adverse events', 'adverse','ethics','Ethics','summary','Summary' ,'risk','Risk', 'procedure','Procedure','statistics',  'Regulatory', 'Regulatory','ethical','Protocol'}"
      ]
    },
    {
      "cell_type": "markdown",
      "metadata": {
        "id": "56c1ftQmO0Vi"
      },
      "source": [
        "####2.2 Extract pdf document using URL"
      ]
    },
    {
      "cell_type": "code",
      "execution_count": null,
      "metadata": {
        "id": "j9bVGi1UiD1P"
      },
      "outputs": [],
      "source": [
        "def extract_pdf_by_url(url):\n",
        "\n",
        "    http = urllib3.PoolManager()\n",
        "    temp = io.BytesIO()\n",
        "    temp.write(http.request(\"GET\", url).data)\n",
        "    #result=[]\n",
        "    #with pdfplumber.open(temp) as pdf:\n",
        "    doc = PyPDF2.PdfFileReader(temp)\n",
        "    extracted_text =  search_keyword(doc)\n",
        "    return extracted_text\n"
      ]
    },
    {
      "cell_type": "markdown",
      "metadata": {
        "id": "KgxW-lfIO8K1"
      },
      "source": [
        "####2.3 Search the keyword in the pdf and look for the pdf page with maximum search word count"
      ]
    },
    {
      "cell_type": "code",
      "execution_count": null,
      "metadata": {
        "id": "rDpnJJuvfX6S"
      },
      "outputs": [],
      "source": [
        "from collections import defaultdict\n",
        "\n",
        "def search_keyword(doc):\n",
        "          new_results=[]\n",
        "          \n",
        "          page_num = []\n",
        "          occu = []\n",
        "          new_=[]\n",
        "          pages = doc.getNumPages()\n",
        "          #print(pages)\n",
        "        \n",
        "          my_dict = {}\n",
        "          for search in search_list:\n",
        "            \n",
        "            list_pages = []\n",
        "            #print(search)\n",
        "\n",
        "            for i in range(pages):\n",
        "\n",
        "              current_page = doc.getPage(i)\n",
        "              text = current_page.extractText()\n",
        "\n",
        "              if (re.findall(search,text)):\n",
        "\n",
        "                count_page = len(re.findall(search.lower(),text.lower()))\n",
        "              \n",
        "\n",
        "                list_pages.append((count_page,i))\n",
        "                page_num.append(i)\n",
        "                occu.append(count_page)\n",
        "\n",
        "            if len(list_pages)==0:\n",
        "                x=\"not found\"\n",
        "                #d=\"o\"\n",
        "\n",
        "            else:\n",
        "                x=\"word found\"\n",
        "                max_value = max(list_pages)\n",
        "                #print('Maximum value:', max_value)\n",
        "                page_needs_to_extract = max_value[1]\n",
        "                #print(page_needs_to_extract)\n",
        "                #print(list_pages)\n",
        "                all_text_for_search = extract_text_from_pdf(doc,page_needs_to_extract)\n",
        "\n",
        "                my_dict.update({search : all_text_for_search , \"page_found\" : max_value})\n",
        "\n",
        "            new_.append(my_dict.copy())\n",
        "\n",
        "\n",
        "\n",
        "          filter(None, new_)\n",
        "          new_=[i for i in new_ if i]\n",
        "\n",
        "\n",
        "          dd = defaultdict(list)\n",
        "\n",
        "          for d in (new_): # you can list as many input dicts as you want here\n",
        "            for key, value in d.items():\n",
        "                dd[key].append(value)\n",
        "\n",
        "          dfk=dict(dd)\n",
        "          new_d = {a:list(set(b)) for a, b in dfk.items()}\n",
        "          #print(new_d)\n",
        "\n",
        "          new_match={}\n",
        "          new_match={\n",
        "                                          \n",
        "                                          'links': row,\n",
        "                                          'pages': pages,\n",
        "                                          'all_text_for_search':new_d\n",
        "                        }\n",
        "          new_results.append(new_match.copy()) \n",
        "          #print(\"new result\", new_results)\n",
        "          return new_results"
      ]
    },
    {
      "cell_type": "markdown",
      "metadata": {
        "id": "y_JT0vLFPJ3s"
      },
      "source": [
        "####2.4 Extract the text for maximum search count"
      ]
    },
    {
      "cell_type": "code",
      "execution_count": null,
      "metadata": {
        "id": "0SisbqsGguLN"
      },
      "outputs": [],
      "source": [
        "def extract_text_from_pdf(doc,pdf_page_to_extract):\n",
        "  page1 = doc.getPage(pdf_page_to_extract)\n",
        "  textpage= page1.extractText()\n",
        "  return textpage"
      ]
    },
    {
      "cell_type": "markdown",
      "metadata": {
        "id": "9N09qQzpPS_W"
      },
      "source": [
        "####2.5 Call main funtion apply above functions on dataframe"
      ]
    },
    {
      "cell_type": "code",
      "execution_count": null,
      "metadata": {
        "colab": {
          "background_save": true,
          "base_uri": "https://localhost:8080/"
        },
        "id": "Afofrp5YfMgn",
        "outputId": "04469331-f586-4470-ce36-5fd08bf17619"
      },
      "outputs": [
        {
          "name": "stdout",
          "output_type": "stream",
          "text": [
            "https://ClinicalTrials.gov/ProvidedDocs/74/NCT03763474/Prot_SAP_001.pdf\n",
            "record number :  1\n",
            "https://ClinicalTrials.gov/ProvidedDocs/94/NCT05013294/Prot_000.pdf\n",
            "record number :  2\n",
            "https://ClinicalTrials.gov/ProvidedDocs/21/NCT03108521/Prot_SAP_000.pdf\n",
            "record number :  3\n",
            "https://ClinicalTrials.gov/ProvidedDocs/52/NCT02928952/Prot_SAP_000.pdf\n",
            "record number :  4\n",
            "https://ClinicalTrials.gov/ProvidedDocs/31/NCT05106231/Prot_SAP_ICF_001.pdf\n",
            "record number :  5\n",
            "https://ClinicalTrials.gov/ProvidedDocs/30/NCT02002130/Prot_SAP_000.pdf\n",
            "record number :  6\n",
            "https://ClinicalTrials.gov/ProvidedDocs/22/NCT02641522/Prot_SAP_000.pdf\n",
            "record number :  7\n"
          ]
        },
        {
          "name": "stderr",
          "output_type": "stream",
          "text": [
            "/usr/local/lib/python3.7/dist-packages/PyPDF2/_reader.py:1345: PdfReadWarning: Xref table not zero-indexed. ID numbers for objects will be corrected.\n",
            "  PdfReadWarning,\n"
          ]
        },
        {
          "name": "stdout",
          "output_type": "stream",
          "text": [
            "https://ClinicalTrials.gov/ProvidedDocs/34/NCT03224234/Prot_SAP_000.pdf\n",
            "record number :  8\n",
            "https://ClinicalTrials.gov/ProvidedDocs/09/NCT03626909/Prot_SAP_000.pdf\n",
            "record number :  9\n",
            "https://ClinicalTrials.gov/ProvidedDocs/62/NCT02953262/Prot_SAP_000.pdf\n",
            "record number :  10\n",
            "https://ClinicalTrials.gov/ProvidedDocs/06/NCT05187806/Prot_SAP_000.pdf\n",
            "record number :  11\n",
            "https://ClinicalTrials.gov/ProvidedDocs/56/NCT03176056/Prot_000.pdf\n",
            "record number :  12\n",
            "https://ClinicalTrials.gov/ProvidedDocs/99/NCT03737799/Prot_000.pdf\n",
            "record number :  13\n",
            "https://ClinicalTrials.gov/ProvidedDocs/30/NCT01908530/Prot_000.pdf\n",
            "record number :  14\n",
            "https://ClinicalTrials.gov/ProvidedDocs/07/NCT01613807/Prot_000.pdf\n",
            "record number :  15\n",
            "https://ClinicalTrials.gov/ProvidedDocs/17/NCT04529317/Prot_SAP_ICF_000.pdf\n",
            "record number :  16\n",
            "https://ClinicalTrials.gov/ProvidedDocs/10/NCT02889510/Prot_SAP_000.pdf\n",
            "record number :  17\n",
            "https://ClinicalTrials.gov/ProvidedDocs/98/NCT05099198/Prot_SAP_000.pdf\n",
            "record number :  18\n",
            "https://ClinicalTrials.gov/ProvidedDocs/83/NCT05162183/Prot_SAP_000.pdf\n",
            "record number :  19\n",
            "https://ClinicalTrials.gov/ProvidedDocs/16/NCT04077216/Prot_SAP_000.pdf\n",
            "record number :  20\n",
            "https://ClinicalTrials.gov/ProvidedDocs/72/NCT01973972/Prot_SAP_000.pdf\n",
            "record number :  21\n",
            "https://ClinicalTrials.gov/ProvidedDocs/69/NCT03020069/Prot_SAP_000.pdf\n",
            "record number :  22\n",
            "https://ClinicalTrials.gov/ProvidedDocs/10/NCT04970810/Prot_SAP_000.pdf\n",
            "record number :  23\n",
            "https://ClinicalTrials.gov/ProvidedDocs/13/NCT03695913/Prot_000.pdf\n",
            "record number :  24\n",
            "https://ClinicalTrials.gov/ProvidedDocs/18/NCT03053518/Prot_000.pdf\n",
            "record number :  25\n",
            "https://ClinicalTrials.gov/ProvidedDocs/67/NCT03562767/Prot_SAP_000.pdf\n",
            "record number :  26\n",
            "https://ClinicalTrials.gov/ProvidedDocs/36/NCT04215536/Prot_SAP_000.pdf\n",
            "record number :  27\n",
            "https://ClinicalTrials.gov/ProvidedDocs/62/NCT03936062/Prot_SAP_001.pdf\n",
            "record number :  28\n",
            "https://ClinicalTrials.gov/ProvidedDocs/49/NCT03936049/Prot_SAP_002.pdf\n",
            "record number :  29\n",
            "https://ClinicalTrials.gov/ProvidedDocs/36/NCT03936036/Prot_SAP_001.pdf\n",
            "record number :  30\n",
            "https://ClinicalTrials.gov/ProvidedDocs/85/NCT01876485/Prot_SAP_000.pdf\n",
            "record number :  31\n",
            "https://ClinicalTrials.gov/ProvidedDocs/23/NCT03936023/Prot_SAP_001.pdf\n",
            "record number :  32\n",
            "https://ClinicalTrials.gov/ProvidedDocs/38/NCT04157738/Prot_SAP_000.pdf\n",
            "record number :  33\n",
            "https://ClinicalTrials.gov/ProvidedDocs/23/NCT04215523/Prot_SAP_000.pdf\n",
            "record number :  34\n",
            "https://ClinicalTrials.gov/ProvidedDocs/10/NCT03936010/Prot_SAP_001.pdf\n",
            "record number :  35\n",
            "https://ClinicalTrials.gov/ProvidedDocs/44/NCT05104944/Prot_000.pdf\n",
            "record number :  36\n",
            "https://ClinicalTrials.gov/ProvidedDocs/97/NCT03870997/Prot_SAP_000.pdf\n",
            "record number :  37\n",
            "https://ClinicalTrials.gov/ProvidedDocs/99/NCT01928199/Prot_SAP_000.pdf\n",
            "record number :  38\n",
            "https://ClinicalTrials.gov/ProvidedDocs/60/NCT02569060/Prot_SAP_000.pdf\n",
            "record number :  39\n",
            "https://ClinicalTrials.gov/ProvidedDocs/38/NCT02426138/Prot_SAP_000.pdf\n",
            "record number :  40\n",
            "https://ClinicalTrials.gov/ProvidedDocs/53/NCT02786953/Prot_SAP_000.pdf\n",
            "record number :  41\n",
            "https://ClinicalTrials.gov/ProvidedDocs/34/NCT01269034/Prot_000.pdf\n",
            "record number :  42\n",
            "https://ClinicalTrials.gov/ProvidedDocs/32/NCT02407132/Prot_SAP_000.pdf\n",
            "record number :  43\n",
            "https://ClinicalTrials.gov/ProvidedDocs/99/NCT03159299/Prot_SAP_000.pdf\n",
            "record number :  44\n",
            "https://ClinicalTrials.gov/ProvidedDocs/20/NCT03884920/Prot_001.pdf\n",
            "record number :  45\n",
            "https://ClinicalTrials.gov/ProvidedDocs/69/NCT03039569/Prot_SAP_000.pdf\n",
            "record number :  46\n",
            "https://ClinicalTrials.gov/ProvidedDocs/79/NCT02846779/Prot_SAP_000.pdf\n",
            "record number :  47\n",
            "https://ClinicalTrials.gov/ProvidedDocs/78/NCT01966978/Prot_SAP_000.pdf\n",
            "record number :  48\n",
            "https://ClinicalTrials.gov/ProvidedDocs/81/NCT03865381/Prot_SAP_000.pdf\n",
            "record number :  49\n",
            "https://ClinicalTrials.gov/ProvidedDocs/68/NCT04302168/Prot_SAP_000.pdf\n",
            "record number :  50\n",
            "https://ClinicalTrials.gov/ProvidedDocs/20/NCT02647320/Prot_SAP_000.pdf\n",
            "record number :  51\n",
            "https://ClinicalTrials.gov/ProvidedDocs/09/NCT01793909/Prot_SAP_000.pdf\n",
            "record number :  52\n",
            "https://ClinicalTrials.gov/ProvidedDocs/78/NCT02379078/Prot_SAP_000.pdf\n",
            "record number :  53\n",
            "https://ClinicalTrials.gov/ProvidedDocs/86/NCT05431686/Prot_SAP_000.pdf\n",
            "record number :  54\n",
            "https://ClinicalTrials.gov/ProvidedDocs/50/NCT04407650/Prot_SAP_000.pdf\n",
            "record number :  55\n",
            "https://ClinicalTrials.gov/ProvidedDocs/59/NCT05182359/Prot_SAP_000.pdf\n",
            "record number :  56\n",
            "https://ClinicalTrials.gov/ProvidedDocs/54/NCT03727854/Prot_SAP_000.pdf\n",
            "record number :  57\n",
            "https://ClinicalTrials.gov/ProvidedDocs/67/NCT04949867/Prot_SAP_000.pdf\n",
            "record number :  58\n",
            "https://ClinicalTrials.gov/ProvidedDocs/53/NCT02372253/Prot_SAP_000.pdf\n",
            "record number :  59\n",
            "https://ClinicalTrials.gov/ProvidedDocs/10/NCT03165110/Prot_SAP_000.pdf\n",
            "record number :  60\n",
            "https://ClinicalTrials.gov/ProvidedDocs/66/NCT03006666/Prot_SAP_000.pdf\n",
            "record number :  61\n",
            "https://ClinicalTrials.gov/ProvidedDocs/06/NCT02607306/Prot_SAP_000.pdf\n",
            "record number :  62\n",
            "https://ClinicalTrials.gov/ProvidedDocs/30/NCT03086330/Prot_SAP_000.pdf\n",
            "record number :  63\n",
            "https://ClinicalTrials.gov/ProvidedDocs/45/NCT04428645/Prot_SAP_000.pdf\n",
            "record number :  64\n",
            "https://ClinicalTrials.gov/ProvidedDocs/29/NCT01813929/Prot_SAP_000.pdf\n",
            "record number :  65\n",
            "https://ClinicalTrials.gov/ProvidedDocs/14/NCT03829514/Prot_001.pdf\n",
            "record number :  66\n",
            "https://ClinicalTrials.gov/ProvidedDocs/49/NCT04131049/Prot_SAP_000.pdf\n",
            "record number :  67\n",
            "https://ClinicalTrials.gov/ProvidedDocs/16/NCT03887416/Prot_SAP_000.pdf\n",
            "record number :  68\n",
            "https://ClinicalTrials.gov/ProvidedDocs/44/NCT02800044/Prot_SAP_000.pdf\n",
            "record number :  69\n",
            "https://ClinicalTrials.gov/ProvidedDocs/08/NCT03692208/Prot_SAP_000.pdf\n",
            "record number :  70\n",
            "https://ClinicalTrials.gov/ProvidedDocs/62/NCT03421262/Prot_SAP_000.pdf\n",
            "record number :  71\n",
            "https://ClinicalTrials.gov/ProvidedDocs/42/NCT02582242/Prot_SAP_000.pdf\n",
            "record number :  72\n",
            "https://ClinicalTrials.gov/ProvidedDocs/36/NCT03270436/Prot_SAP_000.pdf\n",
            "record number :  73\n",
            "https://ClinicalTrials.gov/ProvidedDocs/33/NCT02464033/Prot_SAP_000.pdf\n",
            "record number :  74\n",
            "https://ClinicalTrials.gov/ProvidedDocs/96/NCT02972996/Prot_SAP_000.pdf\n",
            "record number :  75\n",
            "https://ClinicalTrials.gov/ProvidedDocs/74/NCT02352974/Prot_SAP_000.pdf\n",
            "record number :  76\n",
            "https://ClinicalTrials.gov/ProvidedDocs/62/NCT03977662/Prot_SAP_001.pdf\n",
            "record number :  77\n",
            "https://ClinicalTrials.gov/ProvidedDocs/52/NCT05067452/Prot_SAP_000.pdf\n",
            "record number :  78\n",
            "https://ClinicalTrials.gov/ProvidedDocs/59/NCT00780559/Prot_SAP_000.pdf\n",
            "record number :  79\n",
            "https://ClinicalTrials.gov/ProvidedDocs/30/NCT02561130/Prot_SAP_000.pdf\n",
            "record number :  80\n",
            "https://ClinicalTrials.gov/ProvidedDocs/99/NCT03150199/Prot_SAP_000.pdf\n",
            "record number :  81\n",
            "https://ClinicalTrials.gov/ProvidedDocs/54/NCT05434754/Prot_000.pdf\n",
            "record number :  82\n",
            "https://ClinicalTrials.gov/ProvidedDocs/87/NCT04959487/Prot_SAP_000.pdf\n",
            "record number :  83\n",
            "https://ClinicalTrials.gov/ProvidedDocs/64/NCT04311164/Prot_SAP_000.pdf\n",
            "record number :  84\n",
            "https://ClinicalTrials.gov/ProvidedDocs/91/NCT02888691/Prot_SAP_000.pdf\n",
            "record number :  85\n",
            "https://ClinicalTrials.gov/ProvidedDocs/64/NCT02510664/Prot_SAP_000.pdf\n",
            "record number :  86\n",
            "https://ClinicalTrials.gov/ProvidedDocs/90/NCT01808690/Prot_SAP_000.pdf\n",
            "record number :  87\n",
            "https://ClinicalTrials.gov/ProvidedDocs/21/NCT02544321/Prot_SAP_000.pdf\n",
            "record number :  88\n",
            "https://ClinicalTrials.gov/ProvidedDocs/80/NCT02752880/Prot_SAP_000.pdf\n",
            "record number :  89\n",
            "https://ClinicalTrials.gov/ProvidedDocs/17/NCT01651117/Prot_SAP_000.pdf\n",
            "record number :  90\n",
            "https://ClinicalTrials.gov/ProvidedDocs/78/NCT02980978/Prot_SAP_000.pdf\n",
            "record number :  91\n",
            "https://ClinicalTrials.gov/ProvidedDocs/28/NCT03336528/Prot_SAP_000.pdf\n",
            "record number :  92\n",
            "https://ClinicalTrials.gov/ProvidedDocs/51/NCT03557151/Prot_SAP_001.pdf\n",
            "record number :  93\n",
            "https://ClinicalTrials.gov/ProvidedDocs/54/NCT02680054/Prot_SAP_000.pdf\n",
            "record number :  94\n",
            "https://ClinicalTrials.gov/ProvidedDocs/48/NCT04057248/Prot_SAP_000.pdf\n",
            "record number :  95\n",
            "https://ClinicalTrials.gov/ProvidedDocs/08/NCT03698708/Prot_SAP_000.pdf\n",
            "record number :  96\n",
            "https://ClinicalTrials.gov/ProvidedDocs/84/NCT03350984/Prot_SAP_ICF_000.pdf\n",
            "record number :  97\n",
            "https://ClinicalTrials.gov/ProvidedDocs/42/NCT04090242/Prot_SAP_000.pdf\n",
            "record number :  98\n",
            "https://ClinicalTrials.gov/ProvidedDocs/65/NCT02661165/Prot_ICF_000.pdf\n",
            "record number :  99\n",
            "https://ClinicalTrials.gov/ProvidedDocs/86/NCT03354286/Prot_SAP_000.pdf\n",
            "record number :  100\n",
            "https://ClinicalTrials.gov/ProvidedDocs/63/NCT02682563/Prot_SAP_000.pdf\n",
            "record number :  101\n",
            "https://ClinicalTrials.gov/ProvidedDocs/31/NCT01683331/Prot_SAP_000.pdf\n",
            "record number :  102\n",
            "https://ClinicalTrials.gov/ProvidedDocs/61/NCT03816761/Prot_SAP_000.pdf\n",
            "record number :  103\n",
            "https://ClinicalTrials.gov/ProvidedDocs/80/NCT03222180/Prot_SAP_001.pdf\n",
            "record number :  104\n",
            "https://ClinicalTrials.gov/ProvidedDocs/38/NCT03164538/Prot_SAP_000.pdf\n",
            "record number :  105\n",
            "https://ClinicalTrials.gov/ProvidedDocs/75/NCT01258075/Prot_SAP_000.pdf\n",
            "record number :  106\n",
            "https://ClinicalTrials.gov/ProvidedDocs/56/NCT03881956/Prot_SAP_000.pdf\n",
            "record number :  107\n",
            "https://ClinicalTrials.gov/ProvidedDocs/83/NCT02772783/Prot_SAP_000.pdf\n",
            "record number :  108\n",
            "https://ClinicalTrials.gov/ProvidedDocs/66/NCT03466866/Prot_SAP_002.pdf\n",
            "record number :  109\n",
            "https://ClinicalTrials.gov/ProvidedDocs/77/NCT02948777/Prot_SAP_000.pdf\n",
            "record number :  110\n",
            "https://ClinicalTrials.gov/ProvidedDocs/23/NCT03552523/Prot_SAP_001.pdf\n",
            "record number :  111\n",
            "https://ClinicalTrials.gov/ProvidedDocs/80/NCT02877680/Prot_SAP_000.pdf\n",
            "record number :  112\n",
            "https://ClinicalTrials.gov/ProvidedDocs/33/NCT02848833/Prot_SAP_000.pdf\n",
            "record number :  113\n",
            "https://ClinicalTrials.gov/ProvidedDocs/08/NCT03668808/Prot_SAP_000.pdf\n",
            "record number :  114\n",
            "https://ClinicalTrials.gov/ProvidedDocs/56/NCT03430856/Prot_SAP_000.pdf\n",
            "record number :  115\n",
            "https://ClinicalTrials.gov/ProvidedDocs/29/NCT01928329/Prot_SAP_000.pdf\n",
            "record number :  116\n",
            "https://ClinicalTrials.gov/ProvidedDocs/76/NCT02455076/Prot_SAP_000.pdf\n",
            "record number :  117\n",
            "https://ClinicalTrials.gov/ProvidedDocs/14/NCT01485614/Prot_SAP_000.pdf\n",
            "record number :  118\n",
            "https://ClinicalTrials.gov/ProvidedDocs/33/NCT02846233/Prot_SAP_000.pdf\n",
            "record number :  119\n",
            "https://ClinicalTrials.gov/ProvidedDocs/94/NCT04230694/Prot_SAP_000.pdf\n",
            "record number :  120\n",
            "https://ClinicalTrials.gov/ProvidedDocs/52/NCT03092752/Prot_SAP_000.pdf\n",
            "record number :  121\n",
            "https://ClinicalTrials.gov/ProvidedDocs/63/NCT02492763/Prot_SAP_000.pdf\n",
            "record number :  122\n",
            "https://ClinicalTrials.gov/ProvidedDocs/09/NCT02906709/Prot_SAP_000.pdf\n",
            "record number :  123\n",
            "https://ClinicalTrials.gov/ProvidedDocs/31/NCT02542631/Prot_SAP_000.pdf\n",
            "record number :  124\n",
            "https://ClinicalTrials.gov/ProvidedDocs/90/NCT02726490/Prot_SAP_000.pdf\n",
            "record number :  125\n",
            "https://ClinicalTrials.gov/ProvidedDocs/14/NCT02248714/Prot_SAP_000.pdf\n",
            "record number :  126\n",
            "https://ClinicalTrials.gov/ProvidedDocs/60/NCT04028960/Prot_SAP_000.pdf\n",
            "record number :  127\n",
            "https://ClinicalTrials.gov/ProvidedDocs/11/NCT02564211/Prot_SAP_000.pdf\n",
            "record number :  128\n",
            "https://ClinicalTrials.gov/ProvidedDocs/18/NCT01474018/Prot_SAP_000.pdf\n",
            "record number :  129\n",
            "https://ClinicalTrials.gov/ProvidedDocs/06/NCT02630706/Prot_SAP_000.pdf\n",
            "record number :  130\n",
            "https://ClinicalTrials.gov/ProvidedDocs/54/NCT02239354/Prot_SAP_000.pdf\n",
            "record number :  131\n",
            "https://ClinicalTrials.gov/ProvidedDocs/56/NCT01903356/Prot_SAP_000.pdf\n",
            "record number :  132\n",
            "https://ClinicalTrials.gov/ProvidedDocs/18/NCT01999218/Prot_SAP_000.pdf\n",
            "record number :  133\n",
            "https://ClinicalTrials.gov/ProvidedDocs/53/NCT02320253/Prot_SAP_000.pdf\n",
            "record number :  134\n",
            "https://ClinicalTrials.gov/ProvidedDocs/89/NCT02033889/Prot_SAP_000.pdf\n",
            "record number :  135\n",
            "https://ClinicalTrials.gov/ProvidedDocs/25/NCT02290925/Prot_SAP_000.pdf\n",
            "record number :  136\n",
            "https://ClinicalTrials.gov/ProvidedDocs/80/NCT03778580/Prot_000.pdf\n",
            "record number :  137\n",
            "https://ClinicalTrials.gov/ProvidedDocs/55/NCT02532855/Prot_SAP_000.pdf\n",
            "record number :  138\n",
            "https://ClinicalTrials.gov/ProvidedDocs/51/NCT03095651/Prot_SAP_000.pdf\n",
            "record number :  139\n",
            "https://ClinicalTrials.gov/ProvidedDocs/47/NCT01760447/Prot_SAP_000.pdf\n",
            "record number :  140\n",
            "https://ClinicalTrials.gov/ProvidedDocs/14/NCT03325114/Prot_SAP_001.pdf\n",
            "record number :  141\n",
            "https://ClinicalTrials.gov/ProvidedDocs/62/NCT02174562/Prot_SAP_001.pdf\n",
            "record number :  142\n",
            "https://ClinicalTrials.gov/ProvidedDocs/44/NCT03170544/Prot_SAP_000.pdf\n",
            "record number :  143\n",
            "https://ClinicalTrials.gov/ProvidedDocs/90/NCT03620890/Prot_SAP_000.pdf\n",
            "record number :  144\n",
            "https://ClinicalTrials.gov/ProvidedDocs/62/NCT01753362/Prot_SAP_000.pdf\n",
            "record number :  145\n",
            "https://ClinicalTrials.gov/ProvidedDocs/85/NCT04801485/Prot_000.pdf\n",
            "record number :  146\n",
            "https://ClinicalTrials.gov/ProvidedDocs/58/NCT04927858/Prot_SAP_001.pdf\n",
            "record number :  147\n",
            "https://ClinicalTrials.gov/ProvidedDocs/81/NCT04079881/Prot_SAP_000.pdf\n",
            "record number :  148\n",
            "https://ClinicalTrials.gov/ProvidedDocs/29/NCT03483129/Prot_SAP_000.pdf\n",
            "record number :  149\n",
            "https://ClinicalTrials.gov/ProvidedDocs/70/NCT03617770/Prot_SAP_000.pdf\n",
            "record number :  150\n",
            "https://ClinicalTrials.gov/ProvidedDocs/18/NCT03457818/Prot_SAP_000.pdf\n",
            "record number :  151\n",
            "https://ClinicalTrials.gov/ProvidedDocs/20/NCT02408120/Prot_SAP_000.pdf\n",
            "record number :  152\n",
            "https://ClinicalTrials.gov/ProvidedDocs/98/NCT02235298/Prot_SAP_000.pdf\n",
            "record number :  153\n",
            "https://ClinicalTrials.gov/ProvidedDocs/39/NCT03415139/Prot_SAP_000.pdf\n",
            "record number :  154\n",
            "https://ClinicalTrials.gov/ProvidedDocs/18/NCT05333718/Prot_ICF_000.pdf\n",
            "record number :  155\n"
          ]
        },
        {
          "name": "stderr",
          "output_type": "stream",
          "text": [
            "/usr/local/lib/python3.7/dist-packages/PyPDF2/_page.py:1406: PdfReadWarning:  impossible to decode XFormObject /Meta13\n",
            "  PdfReadWarning,\n"
          ]
        },
        {
          "name": "stdout",
          "output_type": "stream",
          "text": [
            "https://ClinicalTrials.gov/ProvidedDocs/13/NCT00756613/Prot_SAP_ICF_000.pdf\n",
            "record number :  156\n",
            "https://ClinicalTrials.gov/ProvidedDocs/66/NCT02004366/Prot_SAP_000.pdf\n",
            "record number :  157\n",
            "https://ClinicalTrials.gov/ProvidedDocs/55/NCT01901055/Prot_SAP_000.pdf\n",
            "record number :  158\n",
            "https://ClinicalTrials.gov/ProvidedDocs/26/NCT02328326/Prot_SAP_000.pdf\n",
            "record number :  159\n",
            "https://ClinicalTrials.gov/ProvidedDocs/75/NCT05174975/Prot_SAP_000.pdf\n",
            "record number :  160\n",
            "https://ClinicalTrials.gov/ProvidedDocs/08/NCT02762708/Prot_SAP_000.pdf\n",
            "record number :  161\n",
            "https://ClinicalTrials.gov/ProvidedDocs/55/NCT02912455/Prot_SAP_000.pdf\n",
            "record number :  162\n",
            "https://ClinicalTrials.gov/ProvidedDocs/39/NCT01951339/Prot_SAP_000.pdf\n",
            "record number :  163\n",
            "https://ClinicalTrials.gov/ProvidedDocs/36/NCT02671136/Prot_SAP_000.pdf\n",
            "record number :  164\n",
            "https://ClinicalTrials.gov/ProvidedDocs/66/NCT02325466/Prot_SAP_000.pdf\n",
            "record number :  165\n",
            "https://ClinicalTrials.gov/ProvidedDocs/75/NCT04098575/Prot_SAP_000.pdf\n",
            "record number :  166\n",
            "https://ClinicalTrials.gov/ProvidedDocs/25/NCT03333525/Prot_000.pdf\n",
            "record number :  167\n",
            "https://ClinicalTrials.gov/ProvidedDocs/78/NCT01053078/Prot_SAP_000.pdf\n",
            "record number :  168\n",
            "https://ClinicalTrials.gov/ProvidedDocs/08/NCT03495908/Prot_SAP_000.pdf\n",
            "record number :  169\n",
            "https://ClinicalTrials.gov/ProvidedDocs/00/NCT04214600/Prot_SAP_000.pdf\n",
            "record number :  170\n",
            "https://ClinicalTrials.gov/ProvidedDocs/50/NCT04026750/Prot_SAP_000.pdf\n",
            "record number :  171\n",
            "https://ClinicalTrials.gov/ProvidedDocs/89/NCT01919489/Prot_SAP_000.pdf\n",
            "record number :  172\n",
            "https://ClinicalTrials.gov/ProvidedDocs/62/NCT03553862/Prot_000.pdf\n",
            "record number :  173\n",
            "https://ClinicalTrials.gov/ProvidedDocs/31/NCT04655131/Prot_SAP_000.pdf\n",
            "record number :  174\n",
            "https://ClinicalTrials.gov/ProvidedDocs/63/NCT02525263/Prot_SAP_000.pdf\n",
            "record number :  175\n",
            "https://ClinicalTrials.gov/ProvidedDocs/68/NCT03290768/Prot_SAP_001.pdf\n",
            "record number :  176\n",
            "https://ClinicalTrials.gov/ProvidedDocs/32/NCT03326232/Prot_000.pdf\n",
            "record number :  177\n",
            "https://ClinicalTrials.gov/ProvidedDocs/64/NCT01786564/Prot_SAP_ICF_001.pdf\n",
            "record number :  178\n",
            "https://ClinicalTrials.gov/ProvidedDocs/77/NCT02973477/Prot_SAP_000.pdf\n",
            "record number :  179\n",
            "https://ClinicalTrials.gov/ProvidedDocs/75/NCT05173675/Prot_SAP_001.pdf\n",
            "record number :  180\n",
            "https://ClinicalTrials.gov/ProvidedDocs/69/NCT02061969/Prot_SAP_000.pdf\n",
            "record number :  181\n",
            "https://ClinicalTrials.gov/ProvidedDocs/70/NCT02170870/Prot_SAP_000.pdf\n",
            "record number :  182\n",
            "https://ClinicalTrials.gov/ProvidedDocs/77/NCT02024477/Prot_SAP_000.pdf\n",
            "record number :  183\n",
            "https://ClinicalTrials.gov/ProvidedDocs/77/NCT02580877/Prot_SAP_000.pdf\n",
            "record number :  184\n",
            "https://ClinicalTrials.gov/ProvidedDocs/12/NCT02904512/Prot_SAP_000.pdf\n",
            "record number :  185\n",
            "https://ClinicalTrials.gov/ProvidedDocs/51/NCT03324451/Prot_SAP_000.pdf\n",
            "record number :  186\n",
            "https://ClinicalTrials.gov/ProvidedDocs/81/NCT03258281/Prot_SAP_000.pdf\n",
            "record number :  187\n",
            "https://ClinicalTrials.gov/ProvidedDocs/99/NCT03460899/Prot_SAP_001.pdf\n",
            "record number :  188\n",
            "https://ClinicalTrials.gov/ProvidedDocs/96/NCT02558296/Prot_SAP_000.pdf\n",
            "record number :  189\n",
            "https://ClinicalTrials.gov/ProvidedDocs/03/NCT02788903/Prot_SAP_000.pdf\n",
            "record number :  190\n",
            "https://ClinicalTrials.gov/ProvidedDocs/17/NCT05220917/Prot_SAP_001.pdf\n",
            "record number :  191\n",
            "https://ClinicalTrials.gov/ProvidedDocs/76/NCT02132676/Prot_SAP_000.pdf\n",
            "record number :  192\n",
            "https://ClinicalTrials.gov/ProvidedDocs/70/NCT04267770/Prot_SAP_000.pdf\n",
            "record number :  193\n",
            "https://ClinicalTrials.gov/ProvidedDocs/91/NCT03987191/Prot_SAP_000.pdf\n",
            "record number :  194\n",
            "https://ClinicalTrials.gov/ProvidedDocs/77/NCT00179777/Prot_SAP_000.pdf\n",
            "record number :  195\n",
            "https://ClinicalTrials.gov/ProvidedDocs/80/NCT04536480/Prot_SAP_ICF_000.pdf\n",
            "record number :  196\n",
            "https://ClinicalTrials.gov/ProvidedDocs/40/NCT02014740/Prot_SAP_ICF_000.pdf\n",
            "record number :  197\n",
            "https://ClinicalTrials.gov/ProvidedDocs/02/NCT03899402/Prot_000.pdf\n",
            "record number :  198\n",
            "https://ClinicalTrials.gov/ProvidedDocs/58/NCT02088658/Prot_000.pdf\n",
            "record number :  199\n",
            "https://ClinicalTrials.gov/ProvidedDocs/99/NCT02722499/Prot_SAP_000.pdf\n",
            "record number :  200\n",
            "https://ClinicalTrials.gov/ProvidedDocs/18/NCT02920918/Prot_SAP_ICF_000.pdf\n",
            "record number :  201\n",
            "https://ClinicalTrials.gov/ProvidedDocs/78/NCT04847778/Prot_ICF_000.pdf\n",
            "record number :  202\n",
            "https://ClinicalTrials.gov/ProvidedDocs/87/NCT04409587/Prot_000.pdf\n",
            "record number :  203\n",
            "https://ClinicalTrials.gov/ProvidedDocs/74/NCT03528174/Prot_SAP_000.pdf\n",
            "record number :  204\n",
            "https://ClinicalTrials.gov/ProvidedDocs/79/NCT04414579/Prot_000.pdf\n",
            "record number :  205\n",
            "https://ClinicalTrials.gov/ProvidedDocs/88/NCT01833988/Prot_SAP_001.pdf\n",
            "record number :  206\n",
            "https://ClinicalTrials.gov/ProvidedDocs/27/NCT03977727/Prot_SAP_000.pdf\n",
            "record number :  207\n",
            "https://ClinicalTrials.gov/ProvidedDocs/54/NCT02556554/Prot_SAP_000.pdf\n",
            "record number :  208\n",
            "https://ClinicalTrials.gov/ProvidedDocs/04/NCT03549104/Prot_SAP_000.pdf\n",
            "record number :  209\n",
            "https://ClinicalTrials.gov/ProvidedDocs/17/NCT03798717/Prot_SAP_000.pdf\n",
            "record number :  210\n",
            "https://ClinicalTrials.gov/ProvidedDocs/21/NCT01831921/Prot_SAP_000.pdf\n",
            "record number :  211\n",
            "https://ClinicalTrials.gov/ProvidedDocs/03/NCT03338803/Prot_SAP_000.pdf\n",
            "record number :  212\n",
            "https://ClinicalTrials.gov/ProvidedDocs/72/NCT05216172/Prot_SAP_000.pdf\n",
            "record number :  213\n",
            "https://ClinicalTrials.gov/ProvidedDocs/56/NCT02779556/Prot_SAP_000.pdf\n",
            "record number :  214\n",
            "https://ClinicalTrials.gov/ProvidedDocs/11/NCT03014011/Prot_SAP_000.pdf\n",
            "record number :  215\n",
            "https://ClinicalTrials.gov/ProvidedDocs/64/NCT03161964/Prot_SAP_000.pdf\n",
            "record number :  216\n",
            "https://ClinicalTrials.gov/ProvidedDocs/50/NCT03840850/Prot_SAP_000.pdf\n",
            "record number :  217\n",
            "https://ClinicalTrials.gov/ProvidedDocs/90/NCT02791490/Prot_SAP_000.pdf\n",
            "record number :  218\n",
            "https://ClinicalTrials.gov/ProvidedDocs/79/NCT02738879/Prot_SAP_000.pdf\n",
            "record number :  219\n",
            "https://ClinicalTrials.gov/ProvidedDocs/16/NCT03113916/Prot_SAP_000.pdf\n",
            "record number :  220\n",
            "https://ClinicalTrials.gov/ProvidedDocs/83/NCT03010683/Prot_SAP_000.pdf\n",
            "record number :  221\n",
            "https://ClinicalTrials.gov/ProvidedDocs/02/NCT03255902/Prot_SAP_000.pdf\n",
            "record number :  222\n",
            "https://ClinicalTrials.gov/ProvidedDocs/75/NCT01781975/Prot_SAP_000.pdf\n",
            "record number :  223\n",
            "https://ClinicalTrials.gov/ProvidedDocs/44/NCT01377844/Prot_000.pdf\n",
            "record number :  224\n",
            "https://ClinicalTrials.gov/ProvidedDocs/89/NCT02910089/Prot_000.pdf\n",
            "record number :  225\n",
            "https://ClinicalTrials.gov/ProvidedDocs/43/NCT03538743/Prot_000.pdf\n",
            "record number :  226\n",
            "https://ClinicalTrials.gov/ProvidedDocs/83/NCT02879383/Prot_000.pdf\n",
            "record number :  227\n",
            "https://ClinicalTrials.gov/ProvidedDocs/96/NCT03303196/Prot_SAP_000.pdf\n",
            "record number :  228\n",
            "https://ClinicalTrials.gov/ProvidedDocs/07/NCT03623607/Prot_SAP_000.pdf\n",
            "record number :  229\n"
          ]
        },
        {
          "name": "stderr",
          "output_type": "stream",
          "text": [
            "/usr/local/lib/python3.7/dist-packages/PyPDF2/_page.py:1406: PdfReadWarning:  impossible to decode XFormObject /F0\n",
            "  PdfReadWarning,\n",
            "/usr/local/lib/python3.7/dist-packages/PyPDF2/_page.py:1406: PdfReadWarning:  impossible to decode XFormObject /F1\n",
            "  PdfReadWarning,\n",
            "/usr/local/lib/python3.7/dist-packages/PyPDF2/_page.py:1406: PdfReadWarning:  impossible to decode XFormObject /F2\n",
            "  PdfReadWarning,\n",
            "/usr/local/lib/python3.7/dist-packages/PyPDF2/_page.py:1406: PdfReadWarning:  impossible to decode XFormObject /F3\n",
            "  PdfReadWarning,\n"
          ]
        },
        {
          "name": "stdout",
          "output_type": "stream",
          "text": [
            "https://ClinicalTrials.gov/ProvidedDocs/58/NCT04862858/Prot_SAP_000.pdf\n",
            "record number :  230\n",
            "https://ClinicalTrials.gov/ProvidedDocs/93/NCT02771093/Prot_000.pdf\n",
            "record number :  231\n",
            "https://ClinicalTrials.gov/ProvidedDocs/49/NCT04440449/Prot_SAP_000.pdf\n",
            "record number :  232\n",
            "https://ClinicalTrials.gov/ProvidedDocs/33/NCT04369833/Prot_SAP_000.pdf\n",
            "record number :  233\n",
            "https://ClinicalTrials.gov/ProvidedDocs/56/NCT01729156/Prot_000.pdf\n",
            "record number :  234\n",
            "https://ClinicalTrials.gov/ProvidedDocs/76/NCT02672176/Prot_000.pdf\n",
            "record number :  235\n",
            "https://ClinicalTrials.gov/ProvidedDocs/84/NCT02886884/Prot_SAP_000.pdf\n",
            "record number :  236\n",
            "https://ClinicalTrials.gov/ProvidedDocs/37/NCT03324737/Prot_001.pdf\n",
            "record number :  237\n",
            "https://ClinicalTrials.gov/ProvidedDocs/50/NCT02548650/Prot_SAP_000.pdf\n",
            "record number :  238\n",
            "https://ClinicalTrials.gov/ProvidedDocs/14/NCT01980914/Prot_SAP_000.pdf\n",
            "record number :  239\n",
            "https://ClinicalTrials.gov/ProvidedDocs/30/NCT04877730/Prot_SAP_000.pdf\n",
            "record number :  240\n",
            "https://ClinicalTrials.gov/ProvidedDocs/82/NCT04114682/Prot_000.pdf\n",
            "record number :  241\n",
            "https://ClinicalTrials.gov/ProvidedDocs/43/NCT03334643/Prot_SAP_000.pdf\n",
            "record number :  242\n",
            "https://ClinicalTrials.gov/ProvidedDocs/38/NCT02814838/Prot_001.pdf\n",
            "record number :  243\n",
            "https://ClinicalTrials.gov/ProvidedDocs/17/NCT02620917/Prot_SAP_000.pdf\n",
            "record number :  244\n",
            "https://ClinicalTrials.gov/ProvidedDocs/09/NCT02284009/Prot_000.pdf\n",
            "record number :  245\n",
            "https://ClinicalTrials.gov/ProvidedDocs/18/NCT03786718/Prot_SAP_001.pdf\n",
            "record number :  246\n",
            "https://ClinicalTrials.gov/ProvidedDocs/01/NCT02954601/Prot_000.pdf\n",
            "record number :  247\n",
            "https://ClinicalTrials.gov/ProvidedDocs/66/NCT03550066/Prot_SAP_000.pdf\n",
            "record number :  248\n",
            "https://ClinicalTrials.gov/ProvidedDocs/33/NCT03938233/Prot_SAP_000.pdf\n",
            "record number :  249\n",
            "https://ClinicalTrials.gov/ProvidedDocs/94/NCT04113694/Prot_000.pdf\n",
            "record number :  250\n",
            "https://ClinicalTrials.gov/ProvidedDocs/24/NCT03960424/Prot_SAP_004.pdf\n",
            "record number :  251\n",
            "https://ClinicalTrials.gov/ProvidedDocs/90/NCT04733690/Prot_SAP_ICF_000.pdf\n",
            "record number :  252\n",
            "https://ClinicalTrials.gov/ProvidedDocs/58/NCT04765358/Prot_002.pdf\n",
            "record number :  253\n",
            "https://ClinicalTrials.gov/ProvidedDocs/46/NCT03377946/Prot_000.pdf\n",
            "record number :  254\n",
            "https://ClinicalTrials.gov/ProvidedDocs/12/NCT04997512/Prot_SAP_000.pdf\n",
            "record number :  255\n",
            "https://ClinicalTrials.gov/ProvidedDocs/30/NCT02750930/Prot_000.pdf\n",
            "record number :  256\n",
            "https://ClinicalTrials.gov/ProvidedDocs/99/NCT03607799/Prot_000.pdf\n",
            "record number :  257\n",
            "https://ClinicalTrials.gov/ProvidedDocs/54/NCT02793154/Prot_000.pdf\n",
            "record number :  258\n",
            "https://ClinicalTrials.gov/ProvidedDocs/73/NCT04789473/Prot_001.pdf\n",
            "record number :  259\n",
            "https://ClinicalTrials.gov/ProvidedDocs/80/NCT04090580/Prot_000.pdf\n",
            "record number :  260\n",
            "https://ClinicalTrials.gov/ProvidedDocs/93/NCT02416193/Prot_SAP_000.pdf\n",
            "record number :  261\n",
            "https://ClinicalTrials.gov/ProvidedDocs/26/NCT00135226/Prot_ICF_001.pdf\n",
            "record number :  262\n",
            "https://ClinicalTrials.gov/ProvidedDocs/42/NCT03684642/Prot_000.pdf\n",
            "record number :  263\n",
            "https://ClinicalTrials.gov/ProvidedDocs/68/NCT03260868/Prot_000.pdf\n",
            "record number :  264\n",
            "https://ClinicalTrials.gov/ProvidedDocs/28/NCT03770728/Prot_000.pdf\n",
            "record number :  265\n",
            "https://ClinicalTrials.gov/ProvidedDocs/75/NCT03217175/Prot_SAP_000.pdf\n",
            "record number :  266\n",
            "https://ClinicalTrials.gov/ProvidedDocs/84/NCT03713684/Prot_000.pdf\n",
            "record number :  267\n",
            "https://ClinicalTrials.gov/ProvidedDocs/44/NCT03386344/Prot_000.pdf\n",
            "record number :  268\n",
            "https://ClinicalTrials.gov/ProvidedDocs/19/NCT03434119/Prot_000.pdf\n",
            "record number :  269\n",
            "https://ClinicalTrials.gov/ProvidedDocs/52/NCT03152552/Prot_000.pdf\n",
            "record number :  270\n",
            "https://ClinicalTrials.gov/ProvidedDocs/10/NCT04470310/Prot_000.pdf\n",
            "record number :  271\n",
            "https://ClinicalTrials.gov/ProvidedDocs/46/NCT02029846/Prot_SAP_000.pdf\n",
            "record number :  272\n",
            "https://ClinicalTrials.gov/ProvidedDocs/57/NCT02701257/Prot_SAP_000.pdf\n",
            "record number :  273\n",
            "https://ClinicalTrials.gov/ProvidedDocs/88/NCT05115188/Prot_000.pdf\n",
            "record number :  274\n",
            "https://ClinicalTrials.gov/ProvidedDocs/90/NCT05267990/Prot_000.pdf\n",
            "record number :  275\n",
            "https://ClinicalTrials.gov/ProvidedDocs/81/NCT04234581/ICF_000.pdf\n",
            "record number :  276\n",
            "https://ClinicalTrials.gov/ProvidedDocs/27/NCT00038727/Prot_SAP_002.pdf\n",
            "record number :  277\n",
            "https://ClinicalTrials.gov/ProvidedDocs/98/NCT03496298/Prot_000.pdf\n",
            "record number :  278\n",
            "https://ClinicalTrials.gov/ProvidedDocs/05/NCT02608905/Prot_SAP_000.pdf\n",
            "record number :  279\n",
            "https://ClinicalTrials.gov/ProvidedDocs/66/NCT04518566/Prot_SAP_002.pdf\n",
            "record number :  280\n",
            "https://ClinicalTrials.gov/ProvidedDocs/94/NCT01942694/Prot_000.pdf\n",
            "record number :  281\n",
            "https://ClinicalTrials.gov/ProvidedDocs/84/NCT03152084/Prot_000.pdf\n",
            "record number :  282\n",
            "https://ClinicalTrials.gov/ProvidedDocs/55/NCT05301855/Prot_SAP_ICF_000.pdf\n",
            "record number :  283\n",
            "https://ClinicalTrials.gov/ProvidedDocs/81/NCT02236481/Prot_000.pdf\n",
            "record number :  284\n",
            "https://ClinicalTrials.gov/ProvidedDocs/64/NCT05163964/Prot_ICF_001.pdf\n",
            "record number :  285\n",
            "https://ClinicalTrials.gov/ProvidedDocs/68/NCT05440968/Prot_SAP_000.pdf\n",
            "record number :  286\n",
            "https://ClinicalTrials.gov/ProvidedDocs/87/NCT04854187/Prot_SAP_000.pdf\n",
            "record number :  287\n",
            "https://ClinicalTrials.gov/ProvidedDocs/38/NCT04261738/Prot_SAP_001.pdf\n",
            "record number :  288\n"
          ]
        },
        {
          "name": "stderr",
          "output_type": "stream",
          "text": [
            "/usr/local/lib/python3.7/dist-packages/PyPDF2/_page.py:1406: PdfReadWarning:  impossible to decode XFormObject /Meta38\n",
            "  PdfReadWarning,\n"
          ]
        },
        {
          "name": "stdout",
          "output_type": "stream",
          "text": [
            "https://ClinicalTrials.gov/ProvidedDocs/28/NCT03337828/Prot_SAP_000.pdf\n",
            "record number :  289\n",
            "https://ClinicalTrials.gov/ProvidedDocs/24/NCT05367024/Prot_SAP_000.pdf\n",
            "record number :  290\n",
            "https://ClinicalTrials.gov/ProvidedDocs/62/NCT05249062/Prot_001.pdf\n",
            "record number :  291\n",
            "https://ClinicalTrials.gov/ProvidedDocs/94/NCT04127994/ICF_000.pdf\n",
            "record number :  292\n",
            "https://ClinicalTrials.gov/ProvidedDocs/82/NCT03827382/Prot_000.pdf\n",
            "record number :  293\n",
            "https://ClinicalTrials.gov/ProvidedDocs/64/NCT02387164/Prot_000.pdf\n",
            "record number :  294\n",
            "https://ClinicalTrials.gov/ProvidedDocs/51/NCT04742751/Prot_SAP_000.pdf\n",
            "record number :  295\n",
            "https://ClinicalTrials.gov/ProvidedDocs/58/NCT03608358/Prot_000.pdf\n",
            "record number :  296\n",
            "https://ClinicalTrials.gov/ProvidedDocs/42/NCT03544242/Prot_SAP_000.pdf\n",
            "record number :  297\n",
            "https://ClinicalTrials.gov/ProvidedDocs/49/NCT02989649/Prot_000.pdf\n",
            "record number :  298\n",
            "https://ClinicalTrials.gov/ProvidedDocs/23/NCT03626623/Prot_SAP_000.pdf\n",
            "record number :  299\n",
            "https://ClinicalTrials.gov/ProvidedDocs/45/NCT03734445/Prot_SAP_002.pdf\n",
            "record number :  300\n",
            "https://ClinicalTrials.gov/ProvidedDocs/62/NCT02730962/Prot_SAP_000.pdf\n",
            "record number :  301\n"
          ]
        },
        {
          "name": "stderr",
          "output_type": "stream",
          "text": [
            "/usr/local/lib/python3.7/dist-packages/PyPDF2/_page.py:1406: PdfReadWarning:  impossible to decode XFormObject /Meta40\n",
            "  PdfReadWarning,\n"
          ]
        },
        {
          "name": "stdout",
          "output_type": "stream",
          "text": [
            "https://ClinicalTrials.gov/ProvidedDocs/74/NCT05240274/Prot_SAP_000.pdf\n",
            "record number :  302\n",
            "https://ClinicalTrials.gov/ProvidedDocs/42/NCT00679042/Prot_000.pdf\n",
            "record number :  303\n",
            "https://ClinicalTrials.gov/ProvidedDocs/42/NCT03490942/Prot_000.pdf\n",
            "record number :  304\n",
            "https://ClinicalTrials.gov/ProvidedDocs/23/NCT03959423/Prot_000.pdf\n",
            "record number :  305\n",
            "https://ClinicalTrials.gov/ProvidedDocs/73/NCT04004273/Prot_002.pdf\n",
            "record number :  306\n",
            "https://ClinicalTrials.gov/ProvidedDocs/98/NCT00967798/Prot_SAP_000.pdf\n",
            "record number :  307\n",
            "https://ClinicalTrials.gov/ProvidedDocs/71/NCT03132571/Prot_SAP_000.pdf\n",
            "record number :  308\n",
            "https://ClinicalTrials.gov/ProvidedDocs/30/NCT05101330/Prot_000.pdf\n",
            "record number :  309\n",
            "https://ClinicalTrials.gov/ProvidedDocs/89/NCT02665689/Prot_SAP_000.pdf\n",
            "record number :  310\n",
            "https://ClinicalTrials.gov/ProvidedDocs/29/NCT03936829/Prot_000.pdf\n",
            "record number :  311\n",
            "https://ClinicalTrials.gov/ProvidedDocs/38/NCT03459638/Prot_SAP_000.pdf\n",
            "record number :  312\n",
            "https://ClinicalTrials.gov/ProvidedDocs/58/NCT03591458/Prot_SAP_000.pdf\n",
            "record number :  313\n",
            "https://ClinicalTrials.gov/ProvidedDocs/90/NCT04881890/Prot_000.pdf\n",
            "record number :  314\n",
            "https://ClinicalTrials.gov/ProvidedDocs/30/NCT03169530/Prot_SAP_004.pdf\n",
            "record number :  315\n",
            "https://ClinicalTrials.gov/ProvidedDocs/81/NCT05234281/Prot_SAP_000.pdf\n",
            "record number :  316\n",
            "https://ClinicalTrials.gov/ProvidedDocs/56/NCT02572856/Prot_000.pdf\n",
            "record number :  317\n",
            "https://ClinicalTrials.gov/ProvidedDocs/94/NCT03323294/Prot_SAP_000.pdf\n",
            "record number :  318\n",
            "https://ClinicalTrials.gov/ProvidedDocs/14/NCT02802514/Prot_000.pdf\n",
            "record number :  319\n",
            "https://ClinicalTrials.gov/ProvidedDocs/12/NCT03835312/Prot_000.pdf\n",
            "record number :  320\n",
            "https://ClinicalTrials.gov/ProvidedDocs/80/NCT03415880/Prot_001.pdf\n",
            "record number :  321\n",
            "https://ClinicalTrials.gov/ProvidedDocs/72/NCT05031572/Prot_SAP_000.pdf\n",
            "record number :  322\n",
            "https://ClinicalTrials.gov/ProvidedDocs/06/NCT05295706/Prot_000.pdf\n",
            "record number :  323\n",
            "https://ClinicalTrials.gov/ProvidedDocs/35/NCT03597035/Prot_SAP_000.pdf\n",
            "record number :  324\n",
            "https://ClinicalTrials.gov/ProvidedDocs/83/NCT03481283/Prot_000.pdf\n",
            "record number :  325\n",
            "https://ClinicalTrials.gov/ProvidedDocs/79/NCT03271879/Prot_SAP_000.pdf\n",
            "record number :  326\n",
            "https://ClinicalTrials.gov/ProvidedDocs/33/NCT03960333/Prot_SAP_000.pdf\n",
            "record number :  327\n",
            "https://ClinicalTrials.gov/ProvidedDocs/45/NCT03426345/Prot_000.pdf\n",
            "record number :  328\n",
            "https://ClinicalTrials.gov/ProvidedDocs/81/NCT03420781/Prot_002.pdf\n",
            "record number :  329\n",
            "https://ClinicalTrials.gov/ProvidedDocs/46/NCT03383146/Prot_002.pdf\n",
            "record number :  330\n",
            "https://ClinicalTrials.gov/ProvidedDocs/08/NCT03285308/Prot_000.pdf\n",
            "record number :  331\n",
            "https://ClinicalTrials.gov/ProvidedDocs/46/NCT02422446/Prot_SAP_002.pdf\n",
            "record number :  332\n",
            "https://ClinicalTrials.gov/ProvidedDocs/06/NCT04831606/Prot_001.pdf\n",
            "record number :  333\n",
            "https://ClinicalTrials.gov/ProvidedDocs/87/NCT03561987/Prot_SAP_000.pdf\n",
            "record number :  334\n",
            "https://ClinicalTrials.gov/ProvidedDocs/37/NCT03179137/Prot_000.pdf\n",
            "record number :  335\n",
            "https://ClinicalTrials.gov/ProvidedDocs/08/NCT04766008/Prot_SAP_000.pdf\n",
            "record number :  336\n",
            "https://ClinicalTrials.gov/ProvidedDocs/21/NCT03511521/Prot_SAP_000.pdf\n",
            "record number :  337\n",
            "https://ClinicalTrials.gov/ProvidedDocs/15/NCT03538015/Prot_SAP_000.pdf\n",
            "record number :  338\n",
            "https://ClinicalTrials.gov/ProvidedDocs/66/NCT03771066/Prot_SAP_ICF_003.pdf\n",
            "record number :  339\n",
            "https://ClinicalTrials.gov/ProvidedDocs/54/NCT04966754/Prot_000.pdf\n",
            "record number :  340\n",
            "https://ClinicalTrials.gov/ProvidedDocs/54/NCT04074954/Prot_000.pdf\n",
            "record number :  341\n",
            "https://ClinicalTrials.gov/ProvidedDocs/59/NCT02378259/Prot_000.pdf\n",
            "record number :  342\n",
            "https://ClinicalTrials.gov/ProvidedDocs/95/NCT04612595/Prot_SAP_000.pdf\n",
            "record number :  343\n",
            "https://ClinicalTrials.gov/ProvidedDocs/56/NCT03933956/Prot_000.pdf\n",
            "record number :  344\n",
            "https://ClinicalTrials.gov/ProvidedDocs/60/NCT04864860/Prot_SAP_000.pdf\n",
            "record number :  345\n",
            "https://ClinicalTrials.gov/ProvidedDocs/36/NCT04459936/Prot_000.pdf\n",
            "record number :  346\n",
            "https://ClinicalTrials.gov/ProvidedDocs/29/NCT04286529/Prot_SAP_000.pdf\n",
            "record number :  347\n",
            "https://ClinicalTrials.gov/ProvidedDocs/12/NCT05238012/Prot_000.pdf\n",
            "record number :  348\n",
            "https://ClinicalTrials.gov/ProvidedDocs/48/NCT02631148/Prot_SAP_000.pdf\n",
            "record number :  349\n",
            "https://ClinicalTrials.gov/ProvidedDocs/35/NCT02308735/Prot_SAP_000.pdf\n",
            "record number :  350\n",
            "https://ClinicalTrials.gov/ProvidedDocs/16/NCT02168816/Prot_SAP_000.pdf\n",
            "record number :  351\n",
            "https://ClinicalTrials.gov/ProvidedDocs/69/NCT01837069/Prot_SAP_000.pdf\n",
            "record number :  352\n",
            "https://ClinicalTrials.gov/ProvidedDocs/51/NCT02001051/Prot_SAP_ICF_000.pdf\n",
            "record number :  353\n",
            "https://ClinicalTrials.gov/ProvidedDocs/72/NCT05441072/Prot_ICF_000.pdf\n",
            "record number :  354\n",
            "https://ClinicalTrials.gov/ProvidedDocs/85/NCT05130385/Prot_SAP_000.pdf\n",
            "record number :  355\n",
            "https://ClinicalTrials.gov/ProvidedDocs/52/NCT03794752/Prot_SAP_000.pdf\n",
            "record number :  356\n",
            "https://ClinicalTrials.gov/ProvidedDocs/15/NCT03597815/Prot_SAP_000.pdf\n",
            "record number :  357\n",
            "https://ClinicalTrials.gov/ProvidedDocs/01/NCT03345901/Prot_SAP_000.pdf\n",
            "record number :  358\n",
            "https://ClinicalTrials.gov/ProvidedDocs/85/NCT02510885/Prot_SAP_000.pdf\n",
            "record number :  359\n",
            "https://ClinicalTrials.gov/ProvidedDocs/94/NCT03297294/Prot_001.pdf\n",
            "record number :  360\n",
            "https://ClinicalTrials.gov/ProvidedDocs/20/NCT03228420/Prot_000.pdf\n",
            "record number :  361\n",
            "https://ClinicalTrials.gov/ProvidedDocs/82/NCT04131582/Prot_SAP_000.pdf\n",
            "record number :  362\n",
            "https://ClinicalTrials.gov/ProvidedDocs/49/NCT04190849/Prot_000.pdf\n",
            "record number :  363\n",
            "https://ClinicalTrials.gov/ProvidedDocs/26/NCT04085926/Prot_000.pdf\n",
            "record number :  364\n",
            "https://ClinicalTrials.gov/ProvidedDocs/09/NCT02681809/Prot_000.pdf\n",
            "record number :  365\n",
            "https://ClinicalTrials.gov/ProvidedDocs/33/NCT02634333/Prot_000.pdf\n",
            "record number :  366\n",
            "https://ClinicalTrials.gov/ProvidedDocs/83/NCT00619983/Prot_SAP_000.pdf\n",
            "record number :  367\n",
            "https://ClinicalTrials.gov/ProvidedDocs/84/NCT03917784/Prot_SAP_000.pdf\n",
            "record number :  368\n",
            "https://ClinicalTrials.gov/ProvidedDocs/93/NCT04123093/Prot_SAP_000.pdf\n",
            "record number :  369\n",
            "https://ClinicalTrials.gov/ProvidedDocs/83/NCT03724383/Prot_SAP_000.pdf\n",
            "record number :  370\n"
          ]
        }
      ],
      "source": [
        "final=[]\n",
        "i=0\n",
        "for row in df['links']:\n",
        "\n",
        "        print(row)\n",
        "        i=i+1\n",
        "\n",
        "        print(\"record number : \",i)\n",
        "        try:\n",
        "        \n",
        "          pages1= extract_pdf_by_url(row)\n",
        "        except (KeyError,UnicodeEncodeError,NameError,TypeError) as err:\n",
        "        \n",
        "          continue\n",
        "     \n",
        "        #print(pages1)\n",
        "        final.append(pages1)\n",
        "\n"
      ]
    },
    {
      "cell_type": "code",
      "execution_count": null,
      "metadata": {
        "colab": {
          "background_save": true
        },
        "id": "thlXbo5Fheae",
        "outputId": "65ddd4aa-9985-4a13-97be-3db6c3a4e314"
      },
      "outputs": [
        {
          "data": {
            "text/html": [
              "\n",
              "  <div id=\"df-c54b61ac-940f-4447-a2e7-8a3192eaa0de\">\n",
              "    <div class=\"colab-df-container\">\n",
              "      <div>\n",
              "<style scoped>\n",
              "    .dataframe tbody tr th:only-of-type {\n",
              "        vertical-align: middle;\n",
              "    }\n",
              "\n",
              "    .dataframe tbody tr th {\n",
              "        vertical-align: top;\n",
              "    }\n",
              "\n",
              "    .dataframe thead th {\n",
              "        text-align: right;\n",
              "    }\n",
              "</style>\n",
              "<table border=\"1\" class=\"dataframe\">\n",
              "  <thead>\n",
              "    <tr style=\"text-align: right;\">\n",
              "      <th></th>\n",
              "      <th></th>\n",
              "      <th>links</th>\n",
              "      <th>pages</th>\n",
              "      <th>Treatment</th>\n",
              "      <th>page_found</th>\n",
              "      <th>Protocol</th>\n",
              "      <th>Statistics</th>\n",
              "      <th>Procedure</th>\n",
              "      <th>adverse</th>\n",
              "      <th>Ethics</th>\n",
              "      <th>assessment</th>\n",
              "      <th>...</th>\n",
              "      <th>Risk</th>\n",
              "      <th>Assessment</th>\n",
              "      <th>purpose</th>\n",
              "      <th>risk</th>\n",
              "      <th>Summary</th>\n",
              "      <th>objectives</th>\n",
              "      <th>ethical</th>\n",
              "      <th>Regulatory</th>\n",
              "      <th>Adverse events</th>\n",
              "      <th>Purpose</th>\n",
              "    </tr>\n",
              "  </thead>\n",
              "  <tbody>\n",
              "    <tr>\n",
              "      <th>0</th>\n",
              "      <th>0</th>\n",
              "      <td>https://ClinicalTrials.gov/ProvidedDocs/74/NCT...</td>\n",
              "      <td>3</td>\n",
              "      <td>[Protocol  \\nChildren and adolescents with T1D...</td>\n",
              "      <td>[(1, 2), (1, 1)]</td>\n",
              "      <td>[Protocol  \\nChildren and adolescents with T1D...</td>\n",
              "      <td>[The change of HbA1c values  from baseline to ...</td>\n",
              "      <td>NaN</td>\n",
              "      <td>NaN</td>\n",
              "      <td>NaN</td>\n",
              "      <td>NaN</td>\n",
              "      <td>...</td>\n",
              "      <td>NaN</td>\n",
              "      <td>NaN</td>\n",
              "      <td>NaN</td>\n",
              "      <td>NaN</td>\n",
              "      <td>NaN</td>\n",
              "      <td>NaN</td>\n",
              "      <td>NaN</td>\n",
              "      <td>NaN</td>\n",
              "      <td>NaN</td>\n",
              "      <td>NaN</td>\n",
              "    </tr>\n",
              "  </tbody>\n",
              "</table>\n",
              "<p>1 rows � 26 columns</p>\n",
              "</div>\n",
              "      <button class=\"colab-df-convert\" onclick=\"convertToInteractive('df-c54b61ac-940f-4447-a2e7-8a3192eaa0de')\"\n",
              "              title=\"Convert this dataframe to an interactive table.\"\n",
              "              style=\"display:none;\">\n",
              "        \n",
              "  <svg xmlns=\"http://www.w3.org/2000/svg\" height=\"24px\"viewBox=\"0 0 24 24\"\n",
              "       width=\"24px\">\n",
              "    <path d=\"M0 0h24v24H0V0z\" fill=\"none\"/>\n",
              "    <path d=\"M18.56 5.44l.94 2.06.94-2.06 2.06-.94-2.06-.94-.94-2.06-.94 2.06-2.06.94zm-11 1L8.5 8.5l.94-2.06 2.06-.94-2.06-.94L8.5 2.5l-.94 2.06-2.06.94zm10 10l.94 2.06.94-2.06 2.06-.94-2.06-.94-.94-2.06-.94 2.06-2.06.94z\"/><path d=\"M17.41 7.96l-1.37-1.37c-.4-.4-.92-.59-1.43-.59-.52 0-1.04.2-1.43.59L10.3 9.45l-7.72 7.72c-.78.78-.78 2.05 0 2.83L4 21.41c.39.39.9.59 1.41.59.51 0 1.02-.2 1.41-.59l7.78-7.78 2.81-2.81c.8-.78.8-2.07 0-2.86zM5.41 20L4 18.59l7.72-7.72 1.47 1.35L5.41 20z\"/>\n",
              "  </svg>\n",
              "      </button>\n",
              "      \n",
              "  <style>\n",
              "    .colab-df-container {\n",
              "      display:flex;\n",
              "      flex-wrap:wrap;\n",
              "      gap: 12px;\n",
              "    }\n",
              "\n",
              "    .colab-df-convert {\n",
              "      background-color: #E8F0FE;\n",
              "      border: none;\n",
              "      border-radius: 50%;\n",
              "      cursor: pointer;\n",
              "      display: none;\n",
              "      fill: #1967D2;\n",
              "      height: 32px;\n",
              "      padding: 0 0 0 0;\n",
              "      width: 32px;\n",
              "    }\n",
              "\n",
              "    .colab-df-convert:hover {\n",
              "      background-color: #E2EBFA;\n",
              "      box-shadow: 0px 1px 2px rgba(60, 64, 67, 0.3), 0px 1px 3px 1px rgba(60, 64, 67, 0.15);\n",
              "      fill: #174EA6;\n",
              "    }\n",
              "\n",
              "    [theme=dark] .colab-df-convert {\n",
              "      background-color: #3B4455;\n",
              "      fill: #D2E3FC;\n",
              "    }\n",
              "\n",
              "    [theme=dark] .colab-df-convert:hover {\n",
              "      background-color: #434B5C;\n",
              "      box-shadow: 0px 1px 3px 1px rgba(0, 0, 0, 0.15);\n",
              "      filter: drop-shadow(0px 1px 2px rgba(0, 0, 0, 0.3));\n",
              "      fill: #FFFFFF;\n",
              "    }\n",
              "  </style>\n",
              "\n",
              "      <script>\n",
              "        const buttonEl =\n",
              "          document.querySelector('#df-c54b61ac-940f-4447-a2e7-8a3192eaa0de button.colab-df-convert');\n",
              "        buttonEl.style.display =\n",
              "          google.colab.kernel.accessAllowed ? 'block' : 'none';\n",
              "\n",
              "        async function convertToInteractive(key) {\n",
              "          const element = document.querySelector('#df-c54b61ac-940f-4447-a2e7-8a3192eaa0de');\n",
              "          const dataTable =\n",
              "            await google.colab.kernel.invokeFunction('convertToInteractive',\n",
              "                                                     [key], {});\n",
              "          if (!dataTable) return;\n",
              "\n",
              "          const docLinkHtml = 'Like what you see? Visit the ' +\n",
              "            '<a target=\"_blank\" href=https://colab.research.google.com/notebooks/data_table.ipynb>data table notebook</a>'\n",
              "            + ' to learn more about interactive tables.';\n",
              "          element.innerHTML = '';\n",
              "          dataTable['output_type'] = 'display_data';\n",
              "          await google.colab.output.renderOutput(dataTable, element);\n",
              "          const docLink = document.createElement('div');\n",
              "          docLink.innerHTML = docLinkHtml;\n",
              "          element.appendChild(docLink);\n",
              "        }\n",
              "      </script>\n",
              "    </div>\n",
              "  </div>\n",
              "  "
            ],
            "text/plain": [
              "                                                 links  pages  \\\n",
              "0 0  https://ClinicalTrials.gov/ProvidedDocs/74/NCT...      3   \n",
              "\n",
              "                                             Treatment        page_found  \\\n",
              "0 0  [Protocol  \\nChildren and adolescents with T1D...  [(1, 2), (1, 1)]   \n",
              "\n",
              "                                              Protocol  \\\n",
              "0 0  [Protocol  \\nChildren and adolescents with T1D...   \n",
              "\n",
              "                                            Statistics Procedure adverse  \\\n",
              "0 0  [The change of HbA1c values  from baseline to ...       NaN     NaN   \n",
              "\n",
              "    Ethics assessment  ... Risk Assessment purpose risk Summary objectives  \\\n",
              "0 0    NaN        NaN  ...  NaN        NaN     NaN  NaN     NaN        NaN   \n",
              "\n",
              "    ethical Regulatory Adverse events Purpose  \n",
              "0 0     NaN        NaN            NaN     NaN  \n",
              "\n",
              "[1 rows x 26 columns]"
            ]
          },
          "execution_count": 24,
          "metadata": {},
          "output_type": "execute_result"
        }
      ],
      "source": [
        "extracted_text_Dataframe= pd.DataFrame(final).stack().apply(pd.Series)\n",
        "df1= pd.concat([extracted_text_Dataframe.drop(['all_text_for_search'], axis=1), extracted_text_Dataframe['all_text_for_search'].apply(pd.Series)], axis=1)\n",
        "df1.head(1)"
      ]
    },
    {
      "cell_type": "markdown",
      "metadata": {
        "id": "A_0fYZWvcreF"
      },
      "source": [
        "###3. Save the information extracted dataset"
      ]
    },
    {
      "cell_type": "code",
      "execution_count": null,
      "metadata": {
        "colab": {
          "background_save": true
        },
        "id": "cpGtexsrJb5y"
      },
      "outputs": [],
      "source": [
        "import os\n",
        "os.chdir('/content/drive/MyDrive/Clinical Trial/')\n",
        "df1.to_csv('information_extraction.csv')\n"
      ]
    },
    {
      "cell_type": "markdown",
      "metadata": {
        "id": "fi-Y7drySU2N"
      },
      "source": [
        "##<font color='#3dc1d3'>2.2  TEXT SUMMERIZATION USING LONGFORMER\n",
        "#Outline\n",
        "---\n",
        "# <font color='#3dc1d3'>  \n",
        "1. Install the required library, import and read Dataset\n",
        "\n",
        "2. longformer transformer used to summarize the page content\n",
        "    - Pretrained longformer model\n",
        "    - Function to summarize the text for each row\n",
        "    - Add all the summarized text into one cell\n",
        "    - Merge new transformed columns with the dataset\n",
        "    \n",
        "3. Save the cleaned dataset <br>\n"
      ]
    },
    {
      "cell_type": "markdown",
      "metadata": {
        "id": "hrdRyi2TSU2N"
      },
      "source": [
        "###1. Install necessary packages"
      ]
    },
    {
      "cell_type": "code",
      "execution_count": null,
      "metadata": {
        "colab": {
          "base_uri": "https://localhost:8080/"
        },
        "outputId": "4c7c6de0-0590-4580-904c-f7a0f8fd01da",
        "id": "-ar59_0BSU2N"
      },
      "outputs": [
        {
          "name": "stdout",
          "output_type": "stream",
          "text": [
            "Looking in indexes: https://pypi.org/simple, https://us-python.pkg.dev/colab-wheels/public/simple/\n",
            "Requirement already satisfied: PyPDF2 in /usr/local/lib/python3.7/dist-packages (2.8.1)\n",
            "Requirement already satisfied: typing-extensions in /usr/local/lib/python3.7/dist-packages (from PyPDF2) (4.1.1)\n",
            "Looking in indexes: https://pypi.org/simple, https://us-python.pkg.dev/colab-wheels/public/simple/\n",
            "Requirement already satisfied: simpletransformers in /usr/local/lib/python3.7/dist-packages (0.63.7)\n",
            "Requirement already satisfied: streamlit in /usr/local/lib/python3.7/dist-packages (from simpletransformers) (1.11.1)\n",
            "Requirement already satisfied: requests in /usr/local/lib/python3.7/dist-packages (from simpletransformers) (2.23.0)\n",
            "Requirement already satisfied: wandb>=0.10.32 in /usr/local/lib/python3.7/dist-packages (from simpletransformers) (0.12.21)\n",
            "Requirement already satisfied: sentencepiece in /usr/local/lib/python3.7/dist-packages (from simpletransformers) (0.1.96)\n",
            "Requirement already satisfied: scikit-learn in /usr/local/lib/python3.7/dist-packages (from simpletransformers) (1.0.2)\n",
            "Requirement already satisfied: pandas in /usr/local/lib/python3.7/dist-packages (from simpletransformers) (1.3.5)\n",
            "Requirement already satisfied: seqeval in /usr/local/lib/python3.7/dist-packages (from simpletransformers) (1.2.2)\n",
            "Requirement already satisfied: transformers>=4.6.0 in /usr/local/lib/python3.7/dist-packages (from simpletransformers) (4.21.0)\n",
            "Requirement already satisfied: scipy in /usr/local/lib/python3.7/dist-packages (from simpletransformers) (1.7.3)\n",
            "Requirement already satisfied: tokenizers in /usr/local/lib/python3.7/dist-packages (from simpletransformers) (0.12.1)\n",
            "Requirement already satisfied: tensorboard in /usr/local/lib/python3.7/dist-packages (from simpletransformers) (2.8.0)\n",
            "Requirement already satisfied: datasets in /usr/local/lib/python3.7/dist-packages (from simpletransformers) (2.4.0)\n",
            "Requirement already satisfied: tqdm>=4.47.0 in /usr/local/lib/python3.7/dist-packages (from simpletransformers) (4.64.0)\n",
            "Requirement already satisfied: numpy in /usr/local/lib/python3.7/dist-packages (from simpletransformers) (1.21.6)\n",
            "Requirement already satisfied: regex in /usr/local/lib/python3.7/dist-packages (from simpletransformers) (2022.6.2)\n",
            "Requirement already satisfied: importlib-metadata in /usr/local/lib/python3.7/dist-packages (from transformers>=4.6.0->simpletransformers) (4.12.0)\n",
            "Requirement already satisfied: pyyaml>=5.1 in /usr/local/lib/python3.7/dist-packages (from transformers>=4.6.0->simpletransformers) (6.0)\n",
            "Requirement already satisfied: filelock in /usr/local/lib/python3.7/dist-packages (from transformers>=4.6.0->simpletransformers) (3.7.1)\n",
            "Requirement already satisfied: huggingface-hub<1.0,>=0.1.0 in /usr/local/lib/python3.7/dist-packages (from transformers>=4.6.0->simpletransformers) (0.8.1)\n",
            "Requirement already satisfied: packaging>=20.0 in /usr/local/lib/python3.7/dist-packages (from transformers>=4.6.0->simpletransformers) (21.3)\n",
            "Requirement already satisfied: typing-extensions>=3.7.4.3 in /usr/local/lib/python3.7/dist-packages (from huggingface-hub<1.0,>=0.1.0->transformers>=4.6.0->simpletransformers) (4.1.1)\n",
            "Requirement already satisfied: pyparsing!=3.0.5,>=2.0.2 in /usr/local/lib/python3.7/dist-packages (from packaging>=20.0->transformers>=4.6.0->simpletransformers) (3.0.9)\n",
            "Requirement already satisfied: psutil>=5.0.0 in /usr/local/lib/python3.7/dist-packages (from wandb>=0.10.32->simpletransformers) (5.4.8)\n",
            "Requirement already satisfied: GitPython>=1.0.0 in /usr/local/lib/python3.7/dist-packages (from wandb>=0.10.32->simpletransformers) (3.1.27)\n",
            "Requirement already satisfied: Click!=8.0.0,>=7.0 in /usr/local/lib/python3.7/dist-packages (from wandb>=0.10.32->simpletransformers) (7.1.2)\n",
            "Requirement already satisfied: promise<3,>=2.0 in /usr/local/lib/python3.7/dist-packages (from wandb>=0.10.32->simpletransformers) (2.3)\n",
            "Requirement already satisfied: sentry-sdk>=1.0.0 in /usr/local/lib/python3.7/dist-packages (from wandb>=0.10.32->simpletransformers) (1.9.0)\n",
            "Requirement already satisfied: six>=1.13.0 in /usr/local/lib/python3.7/dist-packages (from wandb>=0.10.32->simpletransformers) (1.15.0)\n",
            "Requirement already satisfied: shortuuid>=0.5.0 in /usr/local/lib/python3.7/dist-packages (from wandb>=0.10.32->simpletransformers) (1.0.9)\n",
            "Requirement already satisfied: protobuf<4.0dev,>=3.12.0 in /usr/local/lib/python3.7/dist-packages (from wandb>=0.10.32->simpletransformers) (3.17.3)\n",
            "Requirement already satisfied: setuptools in /usr/local/lib/python3.7/dist-packages (from wandb>=0.10.32->simpletransformers) (57.4.0)\n",
            "Requirement already satisfied: pathtools in /usr/local/lib/python3.7/dist-packages (from wandb>=0.10.32->simpletransformers) (0.1.2)\n",
            "Requirement already satisfied: docker-pycreds>=0.4.0 in /usr/local/lib/python3.7/dist-packages (from wandb>=0.10.32->simpletransformers) (0.4.0)\n",
            "Requirement already satisfied: setproctitle in /usr/local/lib/python3.7/dist-packages (from wandb>=0.10.32->simpletransformers) (1.3.0)\n",
            "Requirement already satisfied: gitdb<5,>=4.0.1 in /usr/local/lib/python3.7/dist-packages (from GitPython>=1.0.0->wandb>=0.10.32->simpletransformers) (4.0.9)\n",
            "Requirement already satisfied: smmap<6,>=3.0.1 in /usr/local/lib/python3.7/dist-packages (from gitdb<5,>=4.0.1->GitPython>=1.0.0->wandb>=0.10.32->simpletransformers) (5.0.0)\n",
            "Requirement already satisfied: idna<3,>=2.5 in /usr/local/lib/python3.7/dist-packages (from requests->simpletransformers) (2.10)\n",
            "Requirement already satisfied: urllib3!=1.25.0,!=1.25.1,<1.26,>=1.21.1 in /usr/local/lib/python3.7/dist-packages (from requests->simpletransformers) (1.25.11)\n",
            "Requirement already satisfied: certifi>=2017.4.17 in /usr/local/lib/python3.7/dist-packages (from requests->simpletransformers) (2022.6.15)\n",
            "Requirement already satisfied: chardet<4,>=3.0.2 in /usr/local/lib/python3.7/dist-packages (from requests->simpletransformers) (3.0.4)\n",
            "Requirement already satisfied: pyarrow>=6.0.0 in /usr/local/lib/python3.7/dist-packages (from datasets->simpletransformers) (6.0.1)\n",
            "Requirement already satisfied: aiohttp in /usr/local/lib/python3.7/dist-packages (from datasets->simpletransformers) (3.8.1)\n",
            "Requirement already satisfied: dill<0.3.6 in /usr/local/lib/python3.7/dist-packages (from datasets->simpletransformers) (0.3.5.1)\n",
            "Requirement already satisfied: xxhash in /usr/local/lib/python3.7/dist-packages (from datasets->simpletransformers) (3.0.0)\n",
            "Requirement already satisfied: fsspec[http]>=2021.11.1 in /usr/local/lib/python3.7/dist-packages (from datasets->simpletransformers) (2022.7.1)\n",
            "Requirement already satisfied: multiprocess in /usr/local/lib/python3.7/dist-packages (from datasets->simpletransformers) (0.70.13)\n",
            "Requirement already satisfied: responses<0.19 in /usr/local/lib/python3.7/dist-packages (from datasets->simpletransformers) (0.18.0)\n",
            "Requirement already satisfied: multidict<7.0,>=4.5 in /usr/local/lib/python3.7/dist-packages (from aiohttp->datasets->simpletransformers) (6.0.2)\n",
            "Requirement already satisfied: frozenlist>=1.1.1 in /usr/local/lib/python3.7/dist-packages (from aiohttp->datasets->simpletransformers) (1.3.0)\n",
            "Requirement already satisfied: asynctest==0.13.0 in /usr/local/lib/python3.7/dist-packages (from aiohttp->datasets->simpletransformers) (0.13.0)\n",
            "Requirement already satisfied: attrs>=17.3.0 in /usr/local/lib/python3.7/dist-packages (from aiohttp->datasets->simpletransformers) (21.4.0)\n",
            "Requirement already satisfied: aiosignal>=1.1.2 in /usr/local/lib/python3.7/dist-packages (from aiohttp->datasets->simpletransformers) (1.2.0)\n",
            "Requirement already satisfied: async-timeout<5.0,>=4.0.0a3 in /usr/local/lib/python3.7/dist-packages (from aiohttp->datasets->simpletransformers) (4.0.2)\n",
            "Requirement already satisfied: charset-normalizer<3.0,>=2.0 in /usr/local/lib/python3.7/dist-packages (from aiohttp->datasets->simpletransformers) (2.1.0)\n",
            "Requirement already satisfied: yarl<2.0,>=1.0 in /usr/local/lib/python3.7/dist-packages (from aiohttp->datasets->simpletransformers) (1.7.2)\n",
            "Requirement already satisfied: zipp>=0.5 in /usr/local/lib/python3.7/dist-packages (from importlib-metadata->transformers>=4.6.0->simpletransformers) (3.8.1)\n",
            "Requirement already satisfied: python-dateutil>=2.7.3 in /usr/local/lib/python3.7/dist-packages (from pandas->simpletransformers) (2.8.2)\n",
            "Requirement already satisfied: pytz>=2017.3 in /usr/local/lib/python3.7/dist-packages (from pandas->simpletransformers) (2022.1)\n",
            "Requirement already satisfied: threadpoolctl>=2.0.0 in /usr/local/lib/python3.7/dist-packages (from scikit-learn->simpletransformers) (3.1.0)\n",
            "Requirement already satisfied: joblib>=0.11 in /usr/local/lib/python3.7/dist-packages (from scikit-learn->simpletransformers) (1.1.0)\n",
            "Requirement already satisfied: tornado>=5.0 in /usr/local/lib/python3.7/dist-packages (from streamlit->simpletransformers) (6.2)\n",
            "Requirement already satisfied: toml in /usr/local/lib/python3.7/dist-packages (from streamlit->simpletransformers) (0.10.2)\n",
            "Requirement already satisfied: pydeck>=0.1.dev5 in /usr/local/lib/python3.7/dist-packages (from streamlit->simpletransformers) (0.7.1)\n",
            "Requirement already satisfied: watchdog in /usr/local/lib/python3.7/dist-packages (from streamlit->simpletransformers) (2.1.9)\n",
            "Requirement already satisfied: pillow>=6.2.0 in /usr/local/lib/python3.7/dist-packages (from streamlit->simpletransformers) (7.1.2)\n",
            "Requirement already satisfied: validators>=0.2 in /usr/local/lib/python3.7/dist-packages (from streamlit->simpletransformers) (0.20.0)\n",
            "Requirement already satisfied: semver in /usr/local/lib/python3.7/dist-packages (from streamlit->simpletransformers) (2.13.0)\n",
            "Requirement already satisfied: pympler>=0.9 in /usr/local/lib/python3.7/dist-packages (from streamlit->simpletransformers) (1.0.1)\n",
            "Requirement already satisfied: altair>=3.2.0 in /usr/local/lib/python3.7/dist-packages (from streamlit->simpletransformers) (4.2.0)\n",
            "Requirement already satisfied: tzlocal>=1.1 in /usr/local/lib/python3.7/dist-packages (from streamlit->simpletransformers) (1.5.1)\n",
            "Requirement already satisfied: blinker>=1.0.0 in /usr/local/lib/python3.7/dist-packages (from streamlit->simpletransformers) (1.5)\n",
            "Requirement already satisfied: cachetools>=4.0 in /usr/local/lib/python3.7/dist-packages (from streamlit->simpletransformers) (4.2.4)\n",
            "Requirement already satisfied: rich>=10.11.0 in /usr/local/lib/python3.7/dist-packages (from streamlit->simpletransformers) (12.5.1)\n",
            "Requirement already satisfied: jsonschema>=3.0 in /usr/local/lib/python3.7/dist-packages (from altair>=3.2.0->streamlit->simpletransformers) (4.3.3)\n",
            "Requirement already satisfied: jinja2 in /usr/local/lib/python3.7/dist-packages (from altair>=3.2.0->streamlit->simpletransformers) (2.11.3)\n",
            "Requirement already satisfied: toolz in /usr/local/lib/python3.7/dist-packages (from altair>=3.2.0->streamlit->simpletransformers) (0.12.0)\n",
            "Requirement already satisfied: entrypoints in /usr/local/lib/python3.7/dist-packages (from altair>=3.2.0->streamlit->simpletransformers) (0.4)\n",
            "Requirement already satisfied: importlib-resources>=1.4.0 in /usr/local/lib/python3.7/dist-packages (from jsonschema>=3.0->altair>=3.2.0->streamlit->simpletransformers) (5.9.0)\n",
            "Requirement already satisfied: pyrsistent!=0.17.0,!=0.17.1,!=0.17.2,>=0.14.0 in /usr/local/lib/python3.7/dist-packages (from jsonschema>=3.0->altair>=3.2.0->streamlit->simpletransformers) (0.18.1)\n",
            "Requirement already satisfied: traitlets>=4.3.2 in /usr/local/lib/python3.7/dist-packages (from pydeck>=0.1.dev5->streamlit->simpletransformers) (5.1.1)\n",
            "Requirement already satisfied: ipywidgets>=7.0.0 in /usr/local/lib/python3.7/dist-packages (from pydeck>=0.1.dev5->streamlit->simpletransformers) (7.7.1)\n",
            "Requirement already satisfied: ipykernel>=5.1.2 in /usr/local/lib/python3.7/dist-packages (from pydeck>=0.1.dev5->streamlit->simpletransformers) (6.15.1)\n",
            "Requirement already satisfied: jupyter-client>=6.1.12 in /usr/local/lib/python3.7/dist-packages (from ipykernel>=5.1.2->pydeck>=0.1.dev5->streamlit->simpletransformers) (7.3.4)\n",
            "Requirement already satisfied: pyzmq>=17 in /usr/local/lib/python3.7/dist-packages (from ipykernel>=5.1.2->pydeck>=0.1.dev5->streamlit->simpletransformers) (23.2.0)\n",
            "Requirement already satisfied: ipython>=7.23.1 in /usr/local/lib/python3.7/dist-packages (from ipykernel>=5.1.2->pydeck>=0.1.dev5->streamlit->simpletransformers) (7.34.0)\n",
            "Requirement already satisfied: matplotlib-inline>=0.1 in /usr/local/lib/python3.7/dist-packages (from ipykernel>=5.1.2->pydeck>=0.1.dev5->streamlit->simpletransformers) (0.1.3)\n",
            "Requirement already satisfied: nest-asyncio in /usr/local/lib/python3.7/dist-packages (from ipykernel>=5.1.2->pydeck>=0.1.dev5->streamlit->simpletransformers) (1.5.5)\n",
            "Requirement already satisfied: debugpy>=1.0 in /usr/local/lib/python3.7/dist-packages (from ipykernel>=5.1.2->pydeck>=0.1.dev5->streamlit->simpletransformers) (1.0.0)\n",
            "Requirement already satisfied: jedi>=0.16 in /usr/local/lib/python3.7/dist-packages (from ipython>=7.23.1->ipykernel>=5.1.2->pydeck>=0.1.dev5->streamlit->simpletransformers) (0.18.1)\n",
            "Requirement already satisfied: pygments in /usr/local/lib/python3.7/dist-packages (from ipython>=7.23.1->ipykernel>=5.1.2->pydeck>=0.1.dev5->streamlit->simpletransformers) (2.6.1)\n",
            "Requirement already satisfied: prompt-toolkit!=3.0.0,!=3.0.1,<3.1.0,>=2.0.0 in /usr/local/lib/python3.7/dist-packages (from ipython>=7.23.1->ipykernel>=5.1.2->pydeck>=0.1.dev5->streamlit->simpletransformers) (3.0.30)\n",
            "Requirement already satisfied: decorator in /usr/local/lib/python3.7/dist-packages (from ipython>=7.23.1->ipykernel>=5.1.2->pydeck>=0.1.dev5->streamlit->simpletransformers) (4.4.2)\n",
            "Requirement already satisfied: pickleshare in /usr/local/lib/python3.7/dist-packages (from ipython>=7.23.1->ipykernel>=5.1.2->pydeck>=0.1.dev5->streamlit->simpletransformers) (0.7.5)\n",
            "Requirement already satisfied: pexpect>4.3 in /usr/local/lib/python3.7/dist-packages (from ipython>=7.23.1->ipykernel>=5.1.2->pydeck>=0.1.dev5->streamlit->simpletransformers) (4.8.0)\n",
            "Requirement already satisfied: backcall in /usr/local/lib/python3.7/dist-packages (from ipython>=7.23.1->ipykernel>=5.1.2->pydeck>=0.1.dev5->streamlit->simpletransformers) (0.2.0)\n",
            "Requirement already satisfied: widgetsnbextension~=3.6.0 in /usr/local/lib/python3.7/dist-packages (from ipywidgets>=7.0.0->pydeck>=0.1.dev5->streamlit->simpletransformers) (3.6.1)\n",
            "Requirement already satisfied: jupyterlab-widgets>=1.0.0 in /usr/local/lib/python3.7/dist-packages (from ipywidgets>=7.0.0->pydeck>=0.1.dev5->streamlit->simpletransformers) (1.1.1)\n",
            "Requirement already satisfied: ipython-genutils~=0.2.0 in /usr/local/lib/python3.7/dist-packages (from ipywidgets>=7.0.0->pydeck>=0.1.dev5->streamlit->simpletransformers) (0.2.0)\n",
            "Requirement already satisfied: parso<0.9.0,>=0.8.0 in /usr/local/lib/python3.7/dist-packages (from jedi>=0.16->ipython>=7.23.1->ipykernel>=5.1.2->pydeck>=0.1.dev5->streamlit->simpletransformers) (0.8.3)\n",
            "Requirement already satisfied: MarkupSafe>=0.23 in /usr/local/lib/python3.7/dist-packages (from jinja2->altair>=3.2.0->streamlit->simpletransformers) (2.0.1)\n",
            "Requirement already satisfied: jupyter-core>=4.9.2 in /usr/local/lib/python3.7/dist-packages (from jupyter-client>=6.1.12->ipykernel>=5.1.2->pydeck>=0.1.dev5->streamlit->simpletransformers) (4.11.1)\n",
            "Requirement already satisfied: ptyprocess>=0.5 in /usr/local/lib/python3.7/dist-packages (from pexpect>4.3->ipython>=7.23.1->ipykernel>=5.1.2->pydeck>=0.1.dev5->streamlit->simpletransformers) (0.7.0)\n",
            "Requirement already satisfied: wcwidth in /usr/local/lib/python3.7/dist-packages (from prompt-toolkit!=3.0.0,!=3.0.1,<3.1.0,>=2.0.0->ipython>=7.23.1->ipykernel>=5.1.2->pydeck>=0.1.dev5->streamlit->simpletransformers) (0.2.5)\n",
            "Requirement already satisfied: commonmark<0.10.0,>=0.9.0 in /usr/local/lib/python3.7/dist-packages (from rich>=10.11.0->streamlit->simpletransformers) (0.9.1)\n",
            "Requirement already satisfied: notebook>=4.4.1 in /usr/local/lib/python3.7/dist-packages (from widgetsnbextension~=3.6.0->ipywidgets>=7.0.0->pydeck>=0.1.dev5->streamlit->simpletransformers) (5.3.1)\n",
            "Requirement already satisfied: nbformat in /usr/local/lib/python3.7/dist-packages (from notebook>=4.4.1->widgetsnbextension~=3.6.0->ipywidgets>=7.0.0->pydeck>=0.1.dev5->streamlit->simpletransformers) (5.4.0)\n",
            "Requirement already satisfied: nbconvert in /usr/local/lib/python3.7/dist-packages (from notebook>=4.4.1->widgetsnbextension~=3.6.0->ipywidgets>=7.0.0->pydeck>=0.1.dev5->streamlit->simpletransformers) (5.6.1)\n",
            "Requirement already satisfied: terminado>=0.8.1 in /usr/local/lib/python3.7/dist-packages (from notebook>=4.4.1->widgetsnbextension~=3.6.0->ipywidgets>=7.0.0->pydeck>=0.1.dev5->streamlit->simpletransformers) (0.13.3)\n",
            "Requirement already satisfied: Send2Trash in /usr/local/lib/python3.7/dist-packages (from notebook>=4.4.1->widgetsnbextension~=3.6.0->ipywidgets>=7.0.0->pydeck>=0.1.dev5->streamlit->simpletransformers) (1.8.0)\n",
            "Requirement already satisfied: defusedxml in /usr/local/lib/python3.7/dist-packages (from nbconvert->notebook>=4.4.1->widgetsnbextension~=3.6.0->ipywidgets>=7.0.0->pydeck>=0.1.dev5->streamlit->simpletransformers) (0.7.1)\n",
            "Requirement already satisfied: testpath in /usr/local/lib/python3.7/dist-packages (from nbconvert->notebook>=4.4.1->widgetsnbextension~=3.6.0->ipywidgets>=7.0.0->pydeck>=0.1.dev5->streamlit->simpletransformers) (0.6.0)\n",
            "Requirement already satisfied: pandocfilters>=1.4.1 in /usr/local/lib/python3.7/dist-packages (from nbconvert->notebook>=4.4.1->widgetsnbextension~=3.6.0->ipywidgets>=7.0.0->pydeck>=0.1.dev5->streamlit->simpletransformers) (1.5.0)\n",
            "Requirement already satisfied: mistune<2,>=0.8.1 in /usr/local/lib/python3.7/dist-packages (from nbconvert->notebook>=4.4.1->widgetsnbextension~=3.6.0->ipywidgets>=7.0.0->pydeck>=0.1.dev5->streamlit->simpletransformers) (0.8.4)\n",
            "Requirement already satisfied: bleach in /usr/local/lib/python3.7/dist-packages (from nbconvert->notebook>=4.4.1->widgetsnbextension~=3.6.0->ipywidgets>=7.0.0->pydeck>=0.1.dev5->streamlit->simpletransformers) (5.0.1)\n",
            "Requirement already satisfied: fastjsonschema in /usr/local/lib/python3.7/dist-packages (from nbformat->notebook>=4.4.1->widgetsnbextension~=3.6.0->ipywidgets>=7.0.0->pydeck>=0.1.dev5->streamlit->simpletransformers) (2.16.1)\n",
            "Requirement already satisfied: webencodings in /usr/local/lib/python3.7/dist-packages (from bleach->nbconvert->notebook>=4.4.1->widgetsnbextension~=3.6.0->ipywidgets>=7.0.0->pydeck>=0.1.dev5->streamlit->simpletransformers) (0.5.1)\n",
            "Requirement already satisfied: wheel>=0.26 in /usr/local/lib/python3.7/dist-packages (from tensorboard->simpletransformers) (0.37.1)\n",
            "Requirement already satisfied: werkzeug>=0.11.15 in /usr/local/lib/python3.7/dist-packages (from tensorboard->simpletransformers) (1.0.1)\n",
            "Requirement already satisfied: tensorboard-data-server<0.7.0,>=0.6.0 in /usr/local/lib/python3.7/dist-packages (from tensorboard->simpletransformers) (0.6.1)\n",
            "Requirement already satisfied: google-auth<3,>=1.6.3 in /usr/local/lib/python3.7/dist-packages (from tensorboard->simpletransformers) (1.35.0)\n",
            "Requirement already satisfied: google-auth-oauthlib<0.5,>=0.4.1 in /usr/local/lib/python3.7/dist-packages (from tensorboard->simpletransformers) (0.4.6)\n",
            "Requirement already satisfied: absl-py>=0.4 in /usr/local/lib/python3.7/dist-packages (from tensorboard->simpletransformers) (1.2.0)\n",
            "Requirement already satisfied: grpcio>=1.24.3 in /usr/local/lib/python3.7/dist-packages (from tensorboard->simpletransformers) (1.47.0)\n",
            "Requirement already satisfied: markdown>=2.6.8 in /usr/local/lib/python3.7/dist-packages (from tensorboard->simpletransformers) (3.4.1)\n",
            "Requirement already satisfied: tensorboard-plugin-wit>=1.6.0 in /usr/local/lib/python3.7/dist-packages (from tensorboard->simpletransformers) (1.8.1)\n",
            "Requirement already satisfied: rsa<5,>=3.1.4 in /usr/local/lib/python3.7/dist-packages (from google-auth<3,>=1.6.3->tensorboard->simpletransformers) (4.9)\n",
            "Requirement already satisfied: pyasn1-modules>=0.2.1 in /usr/local/lib/python3.7/dist-packages (from google-auth<3,>=1.6.3->tensorboard->simpletransformers) (0.2.8)\n",
            "Requirement already satisfied: requests-oauthlib>=0.7.0 in /usr/local/lib/python3.7/dist-packages (from google-auth-oauthlib<0.5,>=0.4.1->tensorboard->simpletransformers) (1.3.1)\n",
            "Requirement already satisfied: pyasn1<0.5.0,>=0.4.6 in /usr/local/lib/python3.7/dist-packages (from pyasn1-modules>=0.2.1->google-auth<3,>=1.6.3->tensorboard->simpletransformers) (0.4.8)\n",
            "Requirement already satisfied: oauthlib>=3.0.0 in /usr/local/lib/python3.7/dist-packages (from requests-oauthlib>=0.7.0->google-auth-oauthlib<0.5,>=0.4.1->tensorboard->simpletransformers) (3.2.0)\n",
            "Looking in indexes: https://pypi.org/simple, https://us-python.pkg.dev/colab-wheels/public/simple/\n",
            "\u001b[31mERROR: Could not find a version that satisfies the requirement PdfFileReader (from versions: none)\u001b[0m\n",
            "\u001b[31mERROR: No matching distribution found for PdfFileReader\u001b[0m\n",
            "Looking in indexes: https://pypi.org/simple, https://us-python.pkg.dev/colab-wheels/public/simple/\n",
            "\u001b[31mERROR: Could not find a version that satisfies the requirement re (from versions: none)\u001b[0m\n",
            "\u001b[31mERROR: No matching distribution found for re\u001b[0m\n",
            "Looking in indexes: https://pypi.org/simple, https://us-python.pkg.dev/colab-wheels/public/simple/\n",
            "Requirement already satisfied: transformers in /usr/local/lib/python3.7/dist-packages (4.21.0)\n",
            "Requirement already satisfied: filelock in /usr/local/lib/python3.7/dist-packages (from transformers) (3.7.1)\n",
            "Requirement already satisfied: packaging>=20.0 in /usr/local/lib/python3.7/dist-packages (from transformers) (21.3)\n",
            "Requirement already satisfied: requests in /usr/local/lib/python3.7/dist-packages (from transformers) (2.23.0)\n",
            "Requirement already satisfied: tqdm>=4.27 in /usr/local/lib/python3.7/dist-packages (from transformers) (4.64.0)\n",
            "Requirement already satisfied: tokenizers!=0.11.3,<0.13,>=0.11.1 in /usr/local/lib/python3.7/dist-packages (from transformers) (0.12.1)\n",
            "Requirement already satisfied: numpy>=1.17 in /usr/local/lib/python3.7/dist-packages (from transformers) (1.21.6)\n",
            "Requirement already satisfied: regex!=2019.12.17 in /usr/local/lib/python3.7/dist-packages (from transformers) (2022.6.2)\n",
            "Requirement already satisfied: huggingface-hub<1.0,>=0.1.0 in /usr/local/lib/python3.7/dist-packages (from transformers) (0.8.1)\n",
            "Requirement already satisfied: importlib-metadata in /usr/local/lib/python3.7/dist-packages (from transformers) (4.12.0)\n",
            "Requirement already satisfied: pyyaml>=5.1 in /usr/local/lib/python3.7/dist-packages (from transformers) (6.0)\n",
            "Requirement already satisfied: typing-extensions>=3.7.4.3 in /usr/local/lib/python3.7/dist-packages (from huggingface-hub<1.0,>=0.1.0->transformers) (4.1.1)\n",
            "Requirement already satisfied: pyparsing!=3.0.5,>=2.0.2 in /usr/local/lib/python3.7/dist-packages (from packaging>=20.0->transformers) (3.0.9)\n",
            "Requirement already satisfied: zipp>=0.5 in /usr/local/lib/python3.7/dist-packages (from importlib-metadata->transformers) (3.8.1)\n",
            "Requirement already satisfied: urllib3!=1.25.0,!=1.25.1,<1.26,>=1.21.1 in /usr/local/lib/python3.7/dist-packages (from requests->transformers) (1.25.11)\n",
            "Requirement already satisfied: certifi>=2017.4.17 in /usr/local/lib/python3.7/dist-packages (from requests->transformers) (2022.6.15)\n",
            "Requirement already satisfied: chardet<4,>=3.0.2 in /usr/local/lib/python3.7/dist-packages (from requests->transformers) (3.0.4)\n",
            "Requirement already satisfied: idna<3,>=2.5 in /usr/local/lib/python3.7/dist-packages (from requests->transformers) (2.10)\n",
            "Looking in indexes: https://pypi.org/simple, https://us-python.pkg.dev/colab-wheels/public/simple/\n",
            "Requirement already satisfied: tqdm in /usr/local/lib/python3.7/dist-packages (4.64.0)\n",
            "Looking in indexes: https://pypi.org/simple, https://us-python.pkg.dev/colab-wheels/public/simple/\n",
            "\u001b[31mERROR: Could not find a version that satisfies the requirement time (from versions: none)\u001b[0m\n",
            "\u001b[31mERROR: No matching distribution found for time\u001b[0m\n"
          ]
        }
      ],
      "source": [
        "!pip install PyPDF2\n",
        "!pip install simpletransformers\n",
        "!pip install PdfFileReader\n",
        "!pip install re\n",
        "!pip install transformers\n",
        "!pip install tqdm\n",
        "!pip install time"
      ]
    },
    {
      "cell_type": "markdown",
      "metadata": {
        "id": "pZp9eAsISU2O"
      },
      "source": [
        "###Import libraries"
      ]
    },
    {
      "cell_type": "code",
      "execution_count": null,
      "metadata": {
        "colab": {
          "base_uri": "https://localhost:8080/"
        },
        "outputId": "cda64619-bc54-48f9-d8ce-c9af0df33bfb",
        "id": "ORkRzrmDSU2O"
      },
      "outputs": [
        {
          "name": "stderr",
          "output_type": "stream",
          "text": [
            "[nltk_data] Downloading package stopwords to /root/nltk_data...\n",
            "[nltk_data]   Package stopwords is already up-to-date!\n"
          ]
        }
      ],
      "source": [
        "import json\n",
        "import pandas as pd\n",
        "import urllib3\n",
        "import io\n",
        "from collections import defaultdict\n",
        "import re\n",
        "import nltk\n",
        "nltk.download('stopwords')\n",
        "from nltk.corpus import stopwords\n",
        "import string\n",
        "from nltk.tokenize import RegexpTokenizer\n",
        "from tqdm import tqdm\n",
        "import time"
      ]
    },
    {
      "cell_type": "code",
      "execution_count": null,
      "metadata": {
        "colab": {
          "base_uri": "https://localhost:8080/"
        },
        "outputId": "80ab6e86-3e24-46ba-ea49-5a54c9a4077e",
        "id": "YtG_fSGYSU2O"
      },
      "outputs": [
        {
          "name": "stdout",
          "output_type": "stream",
          "text": [
            "Drive already mounted at /content/drive; to attempt to forcibly remount, call drive.mount(\"/content/drive\", force_remount=True).\n"
          ]
        }
      ],
      "source": [
        "from google.colab import drive\n",
        "drive.mount('/content/drive')"
      ]
    },
    {
      "cell_type": "markdown",
      "metadata": {
        "id": "bAGqHtHuSU2O"
      },
      "source": [
        "###Read dataset"
      ]
    },
    {
      "cell_type": "code",
      "execution_count": null,
      "metadata": {
        "colab": {
          "base_uri": "https://localhost:8080/",
          "height": 379
        },
        "outputId": "3b573ddb-08f9-4ee8-b4f0-e59694af2db7",
        "id": "PDrYfXMrSU2O"
      },
      "outputs": [
        {
          "data": {
            "text/html": [
              "\n",
              "  <div id=\"df-b5fa7fd1-9f55-4e0f-be22-6426689afe1a\">\n",
              "    <div class=\"colab-df-container\">\n",
              "      <div>\n",
              "<style scoped>\n",
              "    .dataframe tbody tr th:only-of-type {\n",
              "        vertical-align: middle;\n",
              "    }\n",
              "\n",
              "    .dataframe tbody tr th {\n",
              "        vertical-align: top;\n",
              "    }\n",
              "\n",
              "    .dataframe thead th {\n",
              "        text-align: right;\n",
              "    }\n",
              "</style>\n",
              "<table border=\"1\" class=\"dataframe\">\n",
              "  <thead>\n",
              "    <tr style=\"text-align: right;\">\n",
              "      <th></th>\n",
              "      <th>Unnamed: 0</th>\n",
              "      <th>Unnamed: 1</th>\n",
              "      <th>links</th>\n",
              "      <th>pages</th>\n",
              "      <th>Treatment</th>\n",
              "      <th>page_found</th>\n",
              "      <th>Protocol</th>\n",
              "      <th>Statistics</th>\n",
              "      <th>Procedure</th>\n",
              "      <th>adverse</th>\n",
              "      <th>...</th>\n",
              "      <th>Risk</th>\n",
              "      <th>Assessment</th>\n",
              "      <th>purpose</th>\n",
              "      <th>risk</th>\n",
              "      <th>Summary</th>\n",
              "      <th>objectives</th>\n",
              "      <th>ethical</th>\n",
              "      <th>Regulatory</th>\n",
              "      <th>Adverse events</th>\n",
              "      <th>Purpose</th>\n",
              "    </tr>\n",
              "  </thead>\n",
              "  <tbody>\n",
              "    <tr>\n",
              "      <th>0</th>\n",
              "      <td>0</td>\n",
              "      <td>0</td>\n",
              "      <td>https://ClinicalTrials.gov/ProvidedDocs/74/NCT...</td>\n",
              "      <td>3</td>\n",
              "      <td>['Protocol  \\nChildren and adolescents with T1...</td>\n",
              "      <td>[(1, 2), (1, 1)]</td>\n",
              "      <td>['Protocol  \\nChildren and adolescents with T1...</td>\n",
              "      <td>['The change of HbA1c values  from baseline to...</td>\n",
              "      <td>NaN</td>\n",
              "      <td>NaN</td>\n",
              "      <td>...</td>\n",
              "      <td>NaN</td>\n",
              "      <td>NaN</td>\n",
              "      <td>NaN</td>\n",
              "      <td>NaN</td>\n",
              "      <td>NaN</td>\n",
              "      <td>NaN</td>\n",
              "      <td>NaN</td>\n",
              "      <td>NaN</td>\n",
              "      <td>NaN</td>\n",
              "      <td>NaN</td>\n",
              "    </tr>\n",
              "    <tr>\n",
              "      <th>1</th>\n",
              "      <td>1</td>\n",
              "      <td>0</td>\n",
              "      <td>https://ClinicalTrials.gov/ProvidedDocs/94/NCT...</td>\n",
              "      <td>50</td>\n",
              "      <td>['30 \\n Networks [Internet]. Pew Research Cent...</td>\n",
              "      <td>[(1, 34), (1, 22), (4, 6), (1, 44), (1, 23), (...</td>\n",
              "      <td>['18 \\n 7.1.1  Socio -demographic and health h...</td>\n",
              "      <td>['32 \\n Interventions for Behavior Change in L...</td>\n",
              "      <td>['17 \\n 6.9 Outcomes  \\n6.9.1  Primary outcome...</td>\n",
              "      <td>['5 \\n mhealth interventions produced the high...</td>\n",
              "      <td>...</td>\n",
              "      <td>['30 \\n Networks [Internet]. Pew Research Cent...</td>\n",
              "      <td>['34 \\n  \\nAppendix 2 Food Literacy Questionna...</td>\n",
              "      <td>['40 \\n 7. All study participants should at al...</td>\n",
              "      <td>['5 \\n mhealth interventions produced the high...</td>\n",
              "      <td>NaN</td>\n",
              "      <td>NaN</td>\n",
              "      <td>NaN</td>\n",
              "      <td>NaN</td>\n",
              "      <td>NaN</td>\n",
              "      <td>NaN</td>\n",
              "    </tr>\n",
              "  </tbody>\n",
              "</table>\n",
              "<p>2 rows � 28 columns</p>\n",
              "</div>\n",
              "      <button class=\"colab-df-convert\" onclick=\"convertToInteractive('df-b5fa7fd1-9f55-4e0f-be22-6426689afe1a')\"\n",
              "              title=\"Convert this dataframe to an interactive table.\"\n",
              "              style=\"display:none;\">\n",
              "        \n",
              "  <svg xmlns=\"http://www.w3.org/2000/svg\" height=\"24px\"viewBox=\"0 0 24 24\"\n",
              "       width=\"24px\">\n",
              "    <path d=\"M0 0h24v24H0V0z\" fill=\"none\"/>\n",
              "    <path d=\"M18.56 5.44l.94 2.06.94-2.06 2.06-.94-2.06-.94-.94-2.06-.94 2.06-2.06.94zm-11 1L8.5 8.5l.94-2.06 2.06-.94-2.06-.94L8.5 2.5l-.94 2.06-2.06.94zm10 10l.94 2.06.94-2.06 2.06-.94-2.06-.94-.94-2.06-.94 2.06-2.06.94z\"/><path d=\"M17.41 7.96l-1.37-1.37c-.4-.4-.92-.59-1.43-.59-.52 0-1.04.2-1.43.59L10.3 9.45l-7.72 7.72c-.78.78-.78 2.05 0 2.83L4 21.41c.39.39.9.59 1.41.59.51 0 1.02-.2 1.41-.59l7.78-7.78 2.81-2.81c.8-.78.8-2.07 0-2.86zM5.41 20L4 18.59l7.72-7.72 1.47 1.35L5.41 20z\"/>\n",
              "  </svg>\n",
              "      </button>\n",
              "      \n",
              "  <style>\n",
              "    .colab-df-container {\n",
              "      display:flex;\n",
              "      flex-wrap:wrap;\n",
              "      gap: 12px;\n",
              "    }\n",
              "\n",
              "    .colab-df-convert {\n",
              "      background-color: #E8F0FE;\n",
              "      border: none;\n",
              "      border-radius: 50%;\n",
              "      cursor: pointer;\n",
              "      display: none;\n",
              "      fill: #1967D2;\n",
              "      height: 32px;\n",
              "      padding: 0 0 0 0;\n",
              "      width: 32px;\n",
              "    }\n",
              "\n",
              "    .colab-df-convert:hover {\n",
              "      background-color: #E2EBFA;\n",
              "      box-shadow: 0px 1px 2px rgba(60, 64, 67, 0.3), 0px 1px 3px 1px rgba(60, 64, 67, 0.15);\n",
              "      fill: #174EA6;\n",
              "    }\n",
              "\n",
              "    [theme=dark] .colab-df-convert {\n",
              "      background-color: #3B4455;\n",
              "      fill: #D2E3FC;\n",
              "    }\n",
              "\n",
              "    [theme=dark] .colab-df-convert:hover {\n",
              "      background-color: #434B5C;\n",
              "      box-shadow: 0px 1px 3px 1px rgba(0, 0, 0, 0.15);\n",
              "      filter: drop-shadow(0px 1px 2px rgba(0, 0, 0, 0.3));\n",
              "      fill: #FFFFFF;\n",
              "    }\n",
              "  </style>\n",
              "\n",
              "      <script>\n",
              "        const buttonEl =\n",
              "          document.querySelector('#df-b5fa7fd1-9f55-4e0f-be22-6426689afe1a button.colab-df-convert');\n",
              "        buttonEl.style.display =\n",
              "          google.colab.kernel.accessAllowed ? 'block' : 'none';\n",
              "\n",
              "        async function convertToInteractive(key) {\n",
              "          const element = document.querySelector('#df-b5fa7fd1-9f55-4e0f-be22-6426689afe1a');\n",
              "          const dataTable =\n",
              "            await google.colab.kernel.invokeFunction('convertToInteractive',\n",
              "                                                     [key], {});\n",
              "          if (!dataTable) return;\n",
              "\n",
              "          const docLinkHtml = 'Like what you see? Visit the ' +\n",
              "            '<a target=\"_blank\" href=https://colab.research.google.com/notebooks/data_table.ipynb>data table notebook</a>'\n",
              "            + ' to learn more about interactive tables.';\n",
              "          element.innerHTML = '';\n",
              "          dataTable['output_type'] = 'display_data';\n",
              "          await google.colab.output.renderOutput(dataTable, element);\n",
              "          const docLink = document.createElement('div');\n",
              "          docLink.innerHTML = docLinkHtml;\n",
              "          element.appendChild(docLink);\n",
              "        }\n",
              "      </script>\n",
              "    </div>\n",
              "  </div>\n",
              "  "
            ],
            "text/plain": [
              "   Unnamed: 0  Unnamed: 1                                              links  \\\n",
              "0           0           0  https://ClinicalTrials.gov/ProvidedDocs/74/NCT...   \n",
              "1           1           0  https://ClinicalTrials.gov/ProvidedDocs/94/NCT...   \n",
              "\n",
              "   pages                                          Treatment  \\\n",
              "0      3  ['Protocol  \\nChildren and adolescents with T1...   \n",
              "1     50  ['30 \\n Networks [Internet]. Pew Research Cent...   \n",
              "\n",
              "                                          page_found  \\\n",
              "0                                   [(1, 2), (1, 1)]   \n",
              "1  [(1, 34), (1, 22), (4, 6), (1, 44), (1, 23), (...   \n",
              "\n",
              "                                            Protocol  \\\n",
              "0  ['Protocol  \\nChildren and adolescents with T1...   \n",
              "1  ['18 \\n 7.1.1  Socio -demographic and health h...   \n",
              "\n",
              "                                          Statistics  \\\n",
              "0  ['The change of HbA1c values  from baseline to...   \n",
              "1  ['32 \\n Interventions for Behavior Change in L...   \n",
              "\n",
              "                                           Procedure  \\\n",
              "0                                                NaN   \n",
              "1  ['17 \\n 6.9 Outcomes  \\n6.9.1  Primary outcome...   \n",
              "\n",
              "                                             adverse  ...  \\\n",
              "0                                                NaN  ...   \n",
              "1  ['5 \\n mhealth interventions produced the high...  ...   \n",
              "\n",
              "                                                Risk  \\\n",
              "0                                                NaN   \n",
              "1  ['30 \\n Networks [Internet]. Pew Research Cent...   \n",
              "\n",
              "                                          Assessment  \\\n",
              "0                                                NaN   \n",
              "1  ['34 \\n  \\nAppendix 2 Food Literacy Questionna...   \n",
              "\n",
              "                                             purpose  \\\n",
              "0                                                NaN   \n",
              "1  ['40 \\n 7. All study participants should at al...   \n",
              "\n",
              "                                                risk Summary objectives  \\\n",
              "0                                                NaN     NaN        NaN   \n",
              "1  ['5 \\n mhealth interventions produced the high...     NaN        NaN   \n",
              "\n",
              "  ethical Regulatory Adverse events Purpose  \n",
              "0     NaN        NaN            NaN     NaN  \n",
              "1     NaN        NaN            NaN     NaN  \n",
              "\n",
              "[2 rows x 28 columns]"
            ]
          },
          "execution_count": 38,
          "metadata": {},
          "output_type": "execute_result"
        }
      ],
      "source": [
        "df1= pd.read_csv('/content/drive/MyDrive/Practicum/Final_folders/Submission/3.Data_Extraction_and_text_summerization_keyword_970_pending/Information_Extraction.csv')\n",
        "df1.head(2)"
      ]
    },
    {
      "cell_type": "markdown",
      "metadata": {
        "id": "uf6b6p_kPk7t"
      },
      "source": [
        "###longformer used to summarize the page content"
      ]
    },
    {
      "cell_type": "markdown",
      "metadata": {
        "id": "7pEr1engPrph"
      },
      "source": [
        "#### Pretrained longformer model"
      ]
    },
    {
      "cell_type": "code",
      "execution_count": null,
      "metadata": {
        "colab": {
          "base_uri": "https://localhost:8080/"
        },
        "id": "KCCo-jtn-_U1",
        "outputId": "94ec559d-28cb-482a-e523-6c94aa69f14f"
      },
      "outputs": [
        {
          "name": "stderr",
          "output_type": "stream",
          "text": [
            "You are using a model of type encoder_decoder to instantiate a model of type encoder-decoder. This is not supported for all configurations of models and can yield errors.\n",
            "Some weights of the model checkpoint at patrickvonplaten/longformer2roberta-cnn_dailymail-fp16 were not used when initializing EncoderDecoderModel: ['encoder.embeddings.position_ids', 'decoder.roberta.pooler.dense.weight', 'decoder.roberta.pooler.dense.bias']\n",
            "- This IS expected if you are initializing EncoderDecoderModel from the checkpoint of a model trained on another task or with another architecture (e.g. initializing a BertForSequenceClassification model from a BertForPreTraining model).\n",
            "- This IS NOT expected if you are initializing EncoderDecoderModel from the checkpoint of a model that you expect to be exactly identical (initializing a BertForSequenceClassification model from a BertForSequenceClassification model).\n"
          ]
        }
      ],
      "source": [
        "from transformers import LongformerTokenizer, EncoderDecoderModel\n",
        "\n",
        "# Load model and tokenizer\n",
        "model = EncoderDecoderModel.from_pretrained(\"patrickvonplaten/longformer2roberta-cnn_dailymail-fp16\")\n",
        "tokenizer = LongformerTokenizer.from_pretrained(\"allenai/longformer-base-4096\") "
      ]
    },
    {
      "cell_type": "markdown",
      "metadata": {
        "id": "aPAO-prwPwHl"
      },
      "source": [
        "#### Function to summarize the text for each row "
      ]
    },
    {
      "cell_type": "code",
      "execution_count": null,
      "metadata": {
        "id": "tm81_npV-_RI"
      },
      "outputs": [],
      "source": [
        "i=0\n",
        "def text_summerise(text): \n",
        "  \n",
        "  # Tokenize and summarize\n",
        "  input_ids = tokenizer(text, return_tensors=\"pt\").input_ids\n",
        "  output_ids = model.generate(input_ids)\n",
        "\n",
        "  # Get the summary from the output tokens\n",
        "  summary = tokenizer.decode(output_ids[0], skip_special_tokens=True)\n",
        "  print(i+1)\n",
        "  # Print summary\n",
        "  return summary"
      ]
    },
    {
      "cell_type": "code",
      "execution_count": null,
      "metadata": {
        "id": "WqgrXR_jGQrL"
      },
      "outputs": [],
      "source": [
        "def func2():\n",
        "  return \" \""
      ]
    },
    {
      "cell_type": "markdown",
      "metadata": {
        "id": "j0ipU6Jkh1RA"
      },
      "source": [
        "#### Apply text summarization for each keyword text"
      ]
    },
    {
      "cell_type": "code",
      "execution_count": null,
      "metadata": {
        "id": "qfuHBtBe-_N5"
      },
      "outputs": [],
      "source": [
        "df1[\"objectives\"] = df1.objectives.apply(lambda row: text_summerise(row) if pd.notnull(row) else  func2())\n",
        "df1[\"Objectives\"] = df1.objectives.apply(lambda row: text_summerise(row) if pd.notnull(row) else  func2())"
      ]
    },
    {
      "cell_type": "code",
      "execution_count": null,
      "metadata": {
        "id": "SJjzyOlylmIl"
      },
      "outputs": [],
      "source": [
        "df1[\"Purpose\"] = df1.Purpose.apply(lambda row: text_summerise(row) if pd.notnull(row) else  func2())\n",
        "df1[\"purpose\"] = df1.purpose.apply(lambda row: text_summerise(row) if pd.notnull(row) else  func2())"
      ]
    },
    {
      "cell_type": "code",
      "execution_count": null,
      "metadata": {
        "id": "ZNXQ2hElotX1"
      },
      "outputs": [],
      "source": [
        "df1[\"Statistics\"] = df1.Statistics.apply(lambda row: text_summerise(row) if pd.notnull(row) else  func2())\n",
        "df1[\"treatment\"] = df1.treatment.apply(lambda row: text_summerise(row) if pd.notnull(row) else  func2())"
      ]
    },
    {
      "cell_type": "code",
      "execution_count": null,
      "metadata": {
        "id": "JjqptP4vowuC"
      },
      "outputs": [],
      "source": [
        "df1[\"Treatment\"] = df1.Treatment.apply(lambda row: text_summerise(row) if pd.notnull(row) else  func2())\n",
        "df1[\"assessment\"] = df1.assessment.apply(lambda row: text_summerise(row) if pd.notnull(row) else  func2())"
      ]
    },
    {
      "cell_type": "code",
      "execution_count": null,
      "metadata": {
        "id": "QMpT8B2jozWO"
      },
      "outputs": [],
      "source": [
        "df1[\"Assessment\"] = df1.Assessment.apply(lambda row: text_summerise(row) if pd.notnull(row) else  func2())\n",
        "df1[\"adverse\"] = df1.adverse.apply(lambda row: text_summerise(row) if pd.notnull(row) else  func2())"
      ]
    },
    {
      "cell_type": "code",
      "execution_count": null,
      "metadata": {
        "id": "AbVY3jM0o1hZ"
      },
      "outputs": [],
      "source": [
        "df1[\"ethics\"] = df1.ethics.apply(lambda row: text_summerise(row) if pd.notnull(row) else  func2())\n",
        "df1[\"Ethics\"] = df1.Ethics.apply(lambda row: text_summerise(row) if pd.notnull(row) else  func2())"
      ]
    },
    {
      "cell_type": "code",
      "execution_count": null,
      "metadata": {
        "id": "oshdDA04o3q1"
      },
      "outputs": [],
      "source": [
        "df1[\"summary\"] = df1.summary.apply(lambda row: text_summerise(row) if pd.notnull(row) else  func2())\n",
        "df1[\"Summary\"] = df1.Summary.apply(lambda row: text_summerise(row) if pd.notnull(row) else  func2())"
      ]
    },
    {
      "cell_type": "code",
      "execution_count": null,
      "metadata": {
        "id": "G_oZoPqSo5xx"
      },
      "outputs": [],
      "source": [
        "df1[\"risk\"] = df1.risk.apply(lambda row: text_summerise(row) if pd.notnull(row) else  func2())\n",
        "df1[\"Risk\"] = df1.Risk.apply(lambda row: text_summerise(row) if pd.notnull(row) else  func2())"
      ]
    },
    {
      "cell_type": "code",
      "execution_count": null,
      "metadata": {
        "id": "TRCD4lAHo7pR"
      },
      "outputs": [],
      "source": [
        "df1[\"procedure\"] = df1.procedure.apply(lambda row: text_summerise(row) if pd.notnull(row) else  func2())\n",
        "df1[\"Procedure\"] = df1.Procedure.apply(lambda row: text_summerise(row) if pd.notnull(row) else  func2())"
      ]
    },
    {
      "cell_type": "code",
      "execution_count": null,
      "metadata": {
        "id": "rPoQwrMVo9aF"
      },
      "outputs": [],
      "source": [
        "df1[\"statistics\"] = df1.statistics.apply(lambda row: text_summerise(row) if pd.notnull(row) else  func2())\n",
        "df1[\"Regulatory\"] = df1.Regulatory.apply(lambda row: text_summerise(row) if pd.notnull(row) else  func2())"
      ]
    },
    {
      "cell_type": "code",
      "execution_count": null,
      "metadata": {
        "id": "XGAawKtwo_E3"
      },
      "outputs": [],
      "source": [
        "df1[\"ethical\"] = df1.ethical.apply(lambda row: text_summerise(row) if pd.notnull(row) else  func2())\n",
        "df1[\"Protocol\"] = df1.Protocol.apply(lambda row: text_summerise(row) if pd.notnull(row) else  func2())"
      ]
    },
    {
      "cell_type": "markdown",
      "metadata": {
        "id": "KRgUxHfMP5z9"
      },
      "source": [
        "#### Add all the summarized text into one cell"
      ]
    },
    {
      "cell_type": "code",
      "execution_count": null,
      "metadata": {
        "id": "E91amED2H9y8"
      },
      "outputs": [],
      "source": [
        "df1[\"Summerised_pdf_based_on_keywords\"] = df1[[\"objectives\",\"Objectives\", \"Purpose\",\"purpose\",\"Statistics\",\"treatment\",\"Treatment\",\"assessment\",\"adverse\",\"ethics\",\"Ethics\",\"summary\",\"Summary\",\"risk\",\"Risk\",\"procedure\",\"Procedure\",\"statistics\",\"Regulatory\",\"ethical\",\"Protocol\"]].apply(\"-\".join, axis=1)"
      ]
    },
    {
      "cell_type": "markdown",
      "metadata": {
        "id": "oa2tSWDPQ5qs"
      },
      "source": [
        "#### Merge new tranformed columns with the dataset"
      ]
    },
    {
      "cell_type": "code",
      "execution_count": null,
      "metadata": {
        "id": "cA4-3OcIhfmd"
      },
      "outputs": [],
      "source": [
        "Final_Dataframe= pd.merge(df, df1, on=\"links\")\n",
        "Final_Dataframe"
      ]
    },
    {
      "cell_type": "markdown",
      "metadata": {
        "id": "48Wkr0B2Q_w_"
      },
      "source": [
        "### Save the Full_dataset_pipeline_part_1"
      ]
    },
    {
      "cell_type": "code",
      "execution_count": null,
      "metadata": {
        "id": "vHRQWj7QIiU7"
      },
      "outputs": [],
      "source": [
        "import os\n",
        "os.chdir('/content/drive/MyDrive/Practicum/Final_folders/Submission/longformer/')\n",
        "Final_Dataframe.to_csv('Full_dataset_pipeline_part_1.csv')\n"
      ]
    },
    {
      "cell_type": "markdown",
      "source": [
        "# Section 3"
      ],
      "metadata": {
        "id": "0vVyu5ouYuwe"
      }
    },
    {
      "cell_type": "markdown",
      "metadata": {
        "id": "usfKI4e8zunY"
      },
      "source": [
        "##<font color='#3dc1d3'> 3.1 MACHINE LEARNING—MODELLING\n",
        "\n",
        "#Outline\n",
        "---\n",
        "# <font color='#3dc1d3'>  \n",
        "1. Install the required library, import and read the dataset.\n",
        "2. Combine attributes and rename the feature and target column.\n",
        "3. Pre-Processing:\n",
        "    - Tokenize sentences\n",
        "    - Load pretrained genism Doc2Vec model\n",
        "    - Convert all text into lowercase and apply the Doc2Vec model to vectorize the column text.\n",
        "4. Machine learning modelling:\n",
        "    - Splitting data into training and validation\n",
        "    - k-fold: cross-validation\n",
        "    - List of models : \n",
        "      Decision Tree Classifier,  Random Forest Classifier,  SVC,  Logistic Regression\n",
        "\n",
        "5. Result<br>\n",
        "    - Accuracy\n",
        "    - Precision\n",
        "    - Recall\n",
        "    - F1"
      ]
    },
    {
      "cell_type": "markdown",
      "metadata": {
        "id": "Tf7AU41WDFHi"
      },
      "source": [
        "###Install required library, import and read dataset"
      ]
    },
    {
      "cell_type": "code",
      "execution_count": null,
      "metadata": {
        "colab": {
          "base_uri": "https://localhost:8080/"
        },
        "id": "ZDhWPopDUJE9",
        "outputId": "fcbdb5f3-6ad6-42aa-82fc-5d282051de69"
      },
      "outputs": [
        {
          "name": "stderr",
          "output_type": "stream",
          "text": [
            "[nltk_data] Downloading package punkt to /root/nltk_data...\n",
            "[nltk_data]   Package punkt is already up-to-date!\n"
          ]
        }
      ],
      "source": [
        "#Libraries\n",
        "import pandas as pd\n",
        "import nltk\n",
        "nltk.download('punkt')\n",
        "from nltk.tokenize import word_tokenize\n",
        "import numpy as np\n",
        "from sklearn.model_selection import train_test_split\n",
        "from sklearn.tree import DecisionTreeClassifier\n",
        "from sklearn.ensemble import RandomForestClassifier\n",
        "from sklearn.linear_model import LogisticRegression\n",
        "from sklearn.svm import SVC\n",
        "from sklearn.metrics import accuracy_score\n",
        "from sklearn.metrics import classification_report\n",
        "from sklearn.model_selection import cross_val_score\n",
        "from sklearn.model_selection import StratifiedKFold\n",
        "from sklearn.metrics import classification_report\n",
        "from sklearn.metrics import confusion_matrix"
      ]
    },
    {
      "cell_type": "code",
      "execution_count": null,
      "metadata": {
        "colab": {
          "base_uri": "https://localhost:8080/"
        },
        "id": "yY1Ny3ZwIZ4q",
        "outputId": "843b74b3-e0b5-438c-e036-d1c4960b33b2"
      },
      "outputs": [
        {
          "name": "stdout",
          "output_type": "stream",
          "text": [
            "Drive already mounted at /content/drive; to attempt to forcibly remount, call drive.mount(\"/content/drive\", force_remount=True).\n"
          ]
        }
      ],
      "source": [
        "from google.colab import drive\n",
        "drive.mount('/content/drive')"
      ]
    },
    {
      "cell_type": "code",
      "execution_count": null,
      "metadata": {
        "colab": {
          "base_uri": "https://localhost:8080/",
          "height": 367
        },
        "id": "k3wMqW9oUWlB",
        "outputId": "813c3efe-d14e-4bca-da2e-f5c1c6514343"
      },
      "outputs": [
        {
          "data": {
            "text/html": [
              "\n",
              "  <div id=\"df-788be898-dba8-4cde-aaf6-32e321c1bf8e\">\n",
              "    <div class=\"colab-df-container\">\n",
              "      <div>\n",
              "<style scoped>\n",
              "    .dataframe tbody tr th:only-of-type {\n",
              "        vertical-align: middle;\n",
              "    }\n",
              "\n",
              "    .dataframe tbody tr th {\n",
              "        vertical-align: top;\n",
              "    }\n",
              "\n",
              "    .dataframe thead th {\n",
              "        text-align: right;\n",
              "    }\n",
              "</style>\n",
              "<table border=\"1\" class=\"dataframe\">\n",
              "  <thead>\n",
              "    <tr style=\"text-align: right;\">\n",
              "      <th></th>\n",
              "      <th>Unnamed: 0</th>\n",
              "      <th>NCT Number</th>\n",
              "      <th>Status</th>\n",
              "      <th>Conditions</th>\n",
              "      <th>Sponsor</th>\n",
              "      <th>Age</th>\n",
              "      <th>Funded_Bys</th>\n",
              "      <th>Study_Designs</th>\n",
              "      <th>Locations</th>\n",
              "      <th>Summerised_pdf_based_on_keywords</th>\n",
              "      <th>links</th>\n",
              "    </tr>\n",
              "  </thead>\n",
              "  <tbody>\n",
              "    <tr>\n",
              "      <th>0</th>\n",
              "      <td>0</td>\n",
              "      <td>NCT03763474</td>\n",
              "      <td>Completed</td>\n",
              "      <td>diabetes mellitus type 1</td>\n",
              "      <td>aristotle university of thessaloniki</td>\n",
              "      <td>years to  years � child adult</td>\n",
              "      <td>other</td>\n",
              "      <td>allocation randomized intervention model paral...</td>\n",
              "      <td>endocrine unit of rd department of pediatrics ...</td>\n",
              "      <td>-The former England captain is among the most...</td>\n",
              "      <td>https://ClinicalTrials.gov/ProvidedDocs/74/NCT...</td>\n",
              "    </tr>\n",
              "    <tr>\n",
              "      <th>1</th>\n",
              "      <td>1</td>\n",
              "      <td>NCT05013294</td>\n",
              "      <td>Completed</td>\n",
              "      <td>diabetes</td>\n",
              "      <td>ku leuven jomo kenyatta university of agricult...</td>\n",
              "      <td>child adult older adult</td>\n",
              "      <td>other</td>\n",
              "      <td>allocation randomized intervention model paral...</td>\n",
              "      <td>jomo kenyatta university of agriculture and te...</td>\n",
              "      <td>The former England captain is among the most ...</td>\n",
              "      <td>https://ClinicalTrials.gov/ProvidedDocs/94/NCT...</td>\n",
              "    </tr>\n",
              "  </tbody>\n",
              "</table>\n",
              "</div>\n",
              "      <button class=\"colab-df-convert\" onclick=\"convertToInteractive('df-788be898-dba8-4cde-aaf6-32e321c1bf8e')\"\n",
              "              title=\"Convert this dataframe to an interactive table.\"\n",
              "              style=\"display:none;\">\n",
              "        \n",
              "  <svg xmlns=\"http://www.w3.org/2000/svg\" height=\"24px\"viewBox=\"0 0 24 24\"\n",
              "       width=\"24px\">\n",
              "    <path d=\"M0 0h24v24H0V0z\" fill=\"none\"/>\n",
              "    <path d=\"M18.56 5.44l.94 2.06.94-2.06 2.06-.94-2.06-.94-.94-2.06-.94 2.06-2.06.94zm-11 1L8.5 8.5l.94-2.06 2.06-.94-2.06-.94L8.5 2.5l-.94 2.06-2.06.94zm10 10l.94 2.06.94-2.06 2.06-.94-2.06-.94-.94-2.06-.94 2.06-2.06.94z\"/><path d=\"M17.41 7.96l-1.37-1.37c-.4-.4-.92-.59-1.43-.59-.52 0-1.04.2-1.43.59L10.3 9.45l-7.72 7.72c-.78.78-.78 2.05 0 2.83L4 21.41c.39.39.9.59 1.41.59.51 0 1.02-.2 1.41-.59l7.78-7.78 2.81-2.81c.8-.78.8-2.07 0-2.86zM5.41 20L4 18.59l7.72-7.72 1.47 1.35L5.41 20z\"/>\n",
              "  </svg>\n",
              "      </button>\n",
              "      \n",
              "  <style>\n",
              "    .colab-df-container {\n",
              "      display:flex;\n",
              "      flex-wrap:wrap;\n",
              "      gap: 12px;\n",
              "    }\n",
              "\n",
              "    .colab-df-convert {\n",
              "      background-color: #E8F0FE;\n",
              "      border: none;\n",
              "      border-radius: 50%;\n",
              "      cursor: pointer;\n",
              "      display: none;\n",
              "      fill: #1967D2;\n",
              "      height: 32px;\n",
              "      padding: 0 0 0 0;\n",
              "      width: 32px;\n",
              "    }\n",
              "\n",
              "    .colab-df-convert:hover {\n",
              "      background-color: #E2EBFA;\n",
              "      box-shadow: 0px 1px 2px rgba(60, 64, 67, 0.3), 0px 1px 3px 1px rgba(60, 64, 67, 0.15);\n",
              "      fill: #174EA6;\n",
              "    }\n",
              "\n",
              "    [theme=dark] .colab-df-convert {\n",
              "      background-color: #3B4455;\n",
              "      fill: #D2E3FC;\n",
              "    }\n",
              "\n",
              "    [theme=dark] .colab-df-convert:hover {\n",
              "      background-color: #434B5C;\n",
              "      box-shadow: 0px 1px 3px 1px rgba(0, 0, 0, 0.15);\n",
              "      filter: drop-shadow(0px 1px 2px rgba(0, 0, 0, 0.3));\n",
              "      fill: #FFFFFF;\n",
              "    }\n",
              "  </style>\n",
              "\n",
              "      <script>\n",
              "        const buttonEl =\n",
              "          document.querySelector('#df-788be898-dba8-4cde-aaf6-32e321c1bf8e button.colab-df-convert');\n",
              "        buttonEl.style.display =\n",
              "          google.colab.kernel.accessAllowed ? 'block' : 'none';\n",
              "\n",
              "        async function convertToInteractive(key) {\n",
              "          const element = document.querySelector('#df-788be898-dba8-4cde-aaf6-32e321c1bf8e');\n",
              "          const dataTable =\n",
              "            await google.colab.kernel.invokeFunction('convertToInteractive',\n",
              "                                                     [key], {});\n",
              "          if (!dataTable) return;\n",
              "\n",
              "          const docLinkHtml = 'Like what you see? Visit the ' +\n",
              "            '<a target=\"_blank\" href=https://colab.research.google.com/notebooks/data_table.ipynb>data table notebook</a>'\n",
              "            + ' to learn more about interactive tables.';\n",
              "          element.innerHTML = '';\n",
              "          dataTable['output_type'] = 'display_data';\n",
              "          await google.colab.output.renderOutput(dataTable, element);\n",
              "          const docLink = document.createElement('div');\n",
              "          docLink.innerHTML = docLinkHtml;\n",
              "          element.appendChild(docLink);\n",
              "        }\n",
              "      </script>\n",
              "    </div>\n",
              "  </div>\n",
              "  "
            ],
            "text/plain": [
              "   Unnamed: 0   NCT Number     Status                 Conditions  \\\n",
              "0           0  NCT03763474  Completed  diabetes mellitus type 1    \n",
              "1           1  NCT05013294  Completed                  diabetes    \n",
              "\n",
              "                                             Sponsor  \\\n",
              "0              aristotle university of thessaloniki    \n",
              "1  ku leuven jomo kenyatta university of agricult...   \n",
              "\n",
              "                               Age Funded_Bys  \\\n",
              "0   years to  years � child adult      other    \n",
              "1         child adult older adult      other    \n",
              "\n",
              "                                       Study_Designs  \\\n",
              "0  allocation randomized intervention model paral...   \n",
              "1  allocation randomized intervention model paral...   \n",
              "\n",
              "                                           Locations  \\\n",
              "0  endocrine unit of rd department of pediatrics ...   \n",
              "1  jomo kenyatta university of agriculture and te...   \n",
              "\n",
              "                    Summerised_pdf_based_on_keywords  \\\n",
              "0   -The former England captain is among the most...   \n",
              "1   The former England captain is among the most ...   \n",
              "\n",
              "                                               links  \n",
              "0  https://ClinicalTrials.gov/ProvidedDocs/74/NCT...  \n",
              "1  https://ClinicalTrials.gov/ProvidedDocs/94/NCT...  "
            ]
          },
          "execution_count": 57,
          "metadata": {},
          "output_type": "execute_result"
        }
      ],
      "source": [
        "df= pd.read_csv(\"/content/drive/MyDrive/Practicum/Final_folders/Submission/modelling_ML/Full_dataset.csv\")\n",
        "df.head(2)"
      ]
    },
    {
      "cell_type": "markdown",
      "metadata": {
        "id": "1enAFA539Ibf"
      },
      "source": [
        "###Required column from dataframe:\n",
        "- Transform into feature vector column as text and target vector column as status for each NCT_Number that is for each clinical trial."
      ]
    },
    {
      "cell_type": "code",
      "execution_count": null,
      "metadata": {
        "colab": {
          "base_uri": "https://localhost:8080/",
          "height": 112
        },
        "id": "C00mSSkYUnKS",
        "outputId": "cd0ff73a-f5d2-4dd3-e16c-fbf2f1b47b01"
      },
      "outputs": [
        {
          "data": {
            "text/html": [
              "\n",
              "  <div id=\"df-54b199f7-d12a-417a-8e96-1039480ac643\">\n",
              "    <div class=\"colab-df-container\">\n",
              "      <div>\n",
              "<style scoped>\n",
              "    .dataframe tbody tr th:only-of-type {\n",
              "        vertical-align: middle;\n",
              "    }\n",
              "\n",
              "    .dataframe tbody tr th {\n",
              "        vertical-align: top;\n",
              "    }\n",
              "\n",
              "    .dataframe thead th {\n",
              "        text-align: right;\n",
              "    }\n",
              "</style>\n",
              "<table border=\"1\" class=\"dataframe\">\n",
              "  <thead>\n",
              "    <tr style=\"text-align: right;\">\n",
              "      <th></th>\n",
              "      <th>NCT_Number</th>\n",
              "      <th>text</th>\n",
              "      <th>Status</th>\n",
              "    </tr>\n",
              "  </thead>\n",
              "  <tbody>\n",
              "    <tr>\n",
              "      <th>0</th>\n",
              "      <td>NCT03763474</td>\n",
              "      <td>diabetes mellitus type 1 -aristotle university...</td>\n",
              "      <td>Completed</td>\n",
              "    </tr>\n",
              "    <tr>\n",
              "      <th>1</th>\n",
              "      <td>NCT05013294</td>\n",
              "      <td>diabetes -ku leuven jomo kenyatta university o...</td>\n",
              "      <td>Completed</td>\n",
              "    </tr>\n",
              "  </tbody>\n",
              "</table>\n",
              "</div>\n",
              "      <button class=\"colab-df-convert\" onclick=\"convertToInteractive('df-54b199f7-d12a-417a-8e96-1039480ac643')\"\n",
              "              title=\"Convert this dataframe to an interactive table.\"\n",
              "              style=\"display:none;\">\n",
              "        \n",
              "  <svg xmlns=\"http://www.w3.org/2000/svg\" height=\"24px\"viewBox=\"0 0 24 24\"\n",
              "       width=\"24px\">\n",
              "    <path d=\"M0 0h24v24H0V0z\" fill=\"none\"/>\n",
              "    <path d=\"M18.56 5.44l.94 2.06.94-2.06 2.06-.94-2.06-.94-.94-2.06-.94 2.06-2.06.94zm-11 1L8.5 8.5l.94-2.06 2.06-.94-2.06-.94L8.5 2.5l-.94 2.06-2.06.94zm10 10l.94 2.06.94-2.06 2.06-.94-2.06-.94-.94-2.06-.94 2.06-2.06.94z\"/><path d=\"M17.41 7.96l-1.37-1.37c-.4-.4-.92-.59-1.43-.59-.52 0-1.04.2-1.43.59L10.3 9.45l-7.72 7.72c-.78.78-.78 2.05 0 2.83L4 21.41c.39.39.9.59 1.41.59.51 0 1.02-.2 1.41-.59l7.78-7.78 2.81-2.81c.8-.78.8-2.07 0-2.86zM5.41 20L4 18.59l7.72-7.72 1.47 1.35L5.41 20z\"/>\n",
              "  </svg>\n",
              "      </button>\n",
              "      \n",
              "  <style>\n",
              "    .colab-df-container {\n",
              "      display:flex;\n",
              "      flex-wrap:wrap;\n",
              "      gap: 12px;\n",
              "    }\n",
              "\n",
              "    .colab-df-convert {\n",
              "      background-color: #E8F0FE;\n",
              "      border: none;\n",
              "      border-radius: 50%;\n",
              "      cursor: pointer;\n",
              "      display: none;\n",
              "      fill: #1967D2;\n",
              "      height: 32px;\n",
              "      padding: 0 0 0 0;\n",
              "      width: 32px;\n",
              "    }\n",
              "\n",
              "    .colab-df-convert:hover {\n",
              "      background-color: #E2EBFA;\n",
              "      box-shadow: 0px 1px 2px rgba(60, 64, 67, 0.3), 0px 1px 3px 1px rgba(60, 64, 67, 0.15);\n",
              "      fill: #174EA6;\n",
              "    }\n",
              "\n",
              "    [theme=dark] .colab-df-convert {\n",
              "      background-color: #3B4455;\n",
              "      fill: #D2E3FC;\n",
              "    }\n",
              "\n",
              "    [theme=dark] .colab-df-convert:hover {\n",
              "      background-color: #434B5C;\n",
              "      box-shadow: 0px 1px 3px 1px rgba(0, 0, 0, 0.15);\n",
              "      filter: drop-shadow(0px 1px 2px rgba(0, 0, 0, 0.3));\n",
              "      fill: #FFFFFF;\n",
              "    }\n",
              "  </style>\n",
              "\n",
              "      <script>\n",
              "        const buttonEl =\n",
              "          document.querySelector('#df-54b199f7-d12a-417a-8e96-1039480ac643 button.colab-df-convert');\n",
              "        buttonEl.style.display =\n",
              "          google.colab.kernel.accessAllowed ? 'block' : 'none';\n",
              "\n",
              "        async function convertToInteractive(key) {\n",
              "          const element = document.querySelector('#df-54b199f7-d12a-417a-8e96-1039480ac643');\n",
              "          const dataTable =\n",
              "            await google.colab.kernel.invokeFunction('convertToInteractive',\n",
              "                                                     [key], {});\n",
              "          if (!dataTable) return;\n",
              "\n",
              "          const docLinkHtml = 'Like what you see? Visit the ' +\n",
              "            '<a target=\"_blank\" href=https://colab.research.google.com/notebooks/data_table.ipynb>data table notebook</a>'\n",
              "            + ' to learn more about interactive tables.';\n",
              "          element.innerHTML = '';\n",
              "          dataTable['output_type'] = 'display_data';\n",
              "          await google.colab.output.renderOutput(dataTable, element);\n",
              "          const docLink = document.createElement('div');\n",
              "          docLink.innerHTML = docLinkHtml;\n",
              "          element.appendChild(docLink);\n",
              "        }\n",
              "      </script>\n",
              "    </div>\n",
              "  </div>\n",
              "  "
            ],
            "text/plain": [
              "    NCT_Number                                               text     Status\n",
              "0  NCT03763474  diabetes mellitus type 1 -aristotle university...  Completed\n",
              "1  NCT05013294  diabetes -ku leuven jomo kenyatta university o...  Completed"
            ]
          },
          "execution_count": 58,
          "metadata": {},
          "output_type": "execute_result"
        }
      ],
      "source": [
        "df[\"text\"] = df[[\"Conditions\", \"Sponsor\",\"Age\",\"Funded_Bys\",\"Study_Designs\",\"Locations\",\"Summerised_pdf_based_on_keywords\"]].apply(\"-\".join, axis=1)\n",
        "dataframe= df[['NCT Number','text','Status']]\n",
        "dataframe= dataframe.rename(columns ={'NCT Number':\"NCT_Number\"})\n",
        "dataframe.head(2)"
      ]
    },
    {
      "cell_type": "code",
      "execution_count": null,
      "metadata": {
        "id": "2_VhoztKwpMG"
      },
      "outputs": [],
      "source": [
        "dataframe['Status'] = dataframe['Status'].map({'Completed': 1, 'Not Completed': 0})"
      ]
    },
    {
      "cell_type": "markdown",
      "metadata": {
        "id": "XlRLhhgqDKcI"
      },
      "source": [
        "###Modelling"
      ]
    },
    {
      "cell_type": "markdown",
      "metadata": {
        "id": "wZ1S0bnw6lPD"
      },
      "source": [
        "####Tokenize sentences"
      ]
    },
    {
      "cell_type": "code",
      "execution_count": null,
      "metadata": {
        "id": "RwkwXV1xVNgS"
      },
      "outputs": [],
      "source": [
        "sentences=dataframe['text'].tolist()\n",
        "tok_sent = []\n",
        "for s in sentences:\n",
        "    tok_sent.append(word_tokenize(s.lower()))"
      ]
    },
    {
      "cell_type": "markdown",
      "metadata": {
        "id": "gvgwNiA66sTt"
      },
      "source": [
        "####Load pretrained genism Doc2Vec model"
      ]
    },
    {
      "cell_type": "code",
      "execution_count": null,
      "metadata": {
        "id": "1snTHcO8VVio"
      },
      "outputs": [],
      "source": [
        "from gensim.models.doc2vec import Doc2Vec, TaggedDocument\n",
        "tagged_data = [TaggedDocument(d, [i]) for i, d in enumerate(tok_sent)]"
      ]
    },
    {
      "cell_type": "code",
      "execution_count": null,
      "metadata": {
        "id": "EPjJJYGFVZc4"
      },
      "outputs": [],
      "source": [
        "model = Doc2Vec(tagged_data, vector_size = 5, window = 2, min_count = 1, epochs = 1000)"
      ]
    },
    {
      "cell_type": "markdown",
      "metadata": {
        "id": "8mtoFUfn7HeP"
      },
      "source": [
        "####Convert all text into lowercase and apply the Doc2Vec model to vectorize the column text"
      ]
    },
    {
      "cell_type": "code",
      "execution_count": null,
      "metadata": {
        "id": "L1blc4OJVdY7"
      },
      "outputs": [],
      "source": [
        "sentence=dataframe['text'][0]\n",
        "\n",
        "test_doc = word_tokenize(sentence.lower())\n",
        "test_doc_vector = model.infer_vector(test_doc)\n",
        "\n",
        "def text_to_array(df: pd.DataFrame):\n",
        "    text_list=[]\n",
        "    for _,row in df.iterrows():\n",
        "        text_vector=model.infer_vector(word_tokenize(row['text'].lower()))\n",
        "        text_list.append(text_vector)\n",
        "    return(np.array(text_list))"
      ]
    },
    {
      "cell_type": "markdown",
      "metadata": {
        "id": "xvNgoxftNZ6T"
      },
      "source": [
        "#### Obtained vector for text data using Doc2Vec "
      ]
    },
    {
      "cell_type": "code",
      "execution_count": null,
      "metadata": {
        "id": "H8J4A5QRV5r-"
      },
      "outputs": [],
      "source": [
        "text_array= text_to_array(dataframe)"
      ]
    },
    {
      "cell_type": "code",
      "execution_count": null,
      "metadata": {
        "colab": {
          "base_uri": "https://localhost:8080/"
        },
        "id": "sN3tboHuWAac",
        "outputId": "70c172eb-bb63-45d1-da2f-69a605c6224f"
      },
      "outputs": [
        {
          "name": "stdout",
          "output_type": "stream",
          "text": [
            "(363, 5)\n",
            "(363,)\n"
          ]
        }
      ],
      "source": [
        "X = text_array\n",
        "Y=dataframe['Status'].to_numpy()"
      ]
    },
    {
      "cell_type": "code",
      "execution_count": null,
      "metadata": {
        "colab": {
          "base_uri": "https://localhost:8080/"
        },
        "id": "Ca0bLGglaFal",
        "outputId": "a6498af5-049f-4003-f956-9e413d0c0bda"
      },
      "outputs": [
        {
          "name": "stdout",
          "output_type": "stream",
          "text": [
            "[[ 1.497994    1.1934664   1.9280154   1.1846226   0.13251962]\n",
            " [ 1.0638301   2.3907447   2.0549786   0.7462042  -0.2883812 ]\n",
            " [ 0.9122217   2.0932562   4.236477    0.80196506 -0.17591155]\n",
            " ...\n",
            " [ 0.858576    1.4652501   0.7683924   1.5630264  -0.74809825]\n",
            " [ 1.8869973   0.44585297 -0.13334319  1.7142289  -0.04603564]\n",
            " [-0.33040267  2.256687    2.2843857   1.2810794  -0.43557316]]\n",
            "['Completed' 'Completed' 'Completed' 'Not Completed' 'Completed'\n",
            " 'Completed' 'Completed' 'Completed' 'Completed' 'Completed'\n",
            " 'Not Completed' 'Completed' 'Completed' 'Completed' 'Completed'\n",
            " 'Completed' 'Completed' 'Completed' 'Completed' 'Completed'\n",
            " 'Not Completed' 'Completed' 'Not Completed' 'Not Completed'\n",
            " 'Not Completed' 'Not Completed' 'Not Completed' 'Not Completed'\n",
            " 'Completed' 'Not Completed' 'Completed' 'Not Completed' 'Not Completed'\n",
            " 'Completed' 'Completed' 'Completed' 'Completed' 'Completed' 'Completed'\n",
            " 'Completed' 'Completed' 'Completed' 'Completed' 'Completed' 'Completed'\n",
            " 'Completed' 'Completed' 'Completed' 'Completed' 'Not Completed'\n",
            " 'Not Completed' 'Not Completed' 'Completed' 'Not Completed' 'Completed'\n",
            " 'Completed' 'Completed' 'Completed' 'Completed' 'Completed' 'Completed'\n",
            " 'Completed' 'Completed' 'Not Completed' 'Not Completed' 'Completed'\n",
            " 'Not Completed' 'Completed' 'Completed' 'Completed' 'Completed'\n",
            " 'Completed' 'Completed' 'Completed' 'Completed' 'Completed'\n",
            " 'Not Completed' 'Not Completed' 'Not Completed' 'Not Completed'\n",
            " 'Completed' 'Completed' 'Completed' 'Completed' 'Completed' 'Completed'\n",
            " 'Not Completed' 'Not Completed' 'Not Completed' 'Not Completed'\n",
            " 'Completed' 'Completed' 'Completed' 'Completed' 'Completed' 'Completed'\n",
            " 'Completed' 'Completed' 'Completed' 'Completed' 'Completed' 'Completed'\n",
            " 'Completed' 'Completed' 'Completed' 'Completed' 'Completed' 'Completed'\n",
            " 'Completed' 'Completed' 'Not Completed' 'Not Completed' 'Completed'\n",
            " 'Completed' 'Completed' 'Completed' 'Completed' 'Completed'\n",
            " 'Not Completed' 'Not Completed' 'Completed' 'Completed' 'Completed'\n",
            " 'Completed' 'Completed' 'Completed' 'Completed' 'Completed' 'Completed'\n",
            " 'Completed' 'Completed' 'Completed' 'Completed' 'Completed' 'Completed'\n",
            " 'Completed' 'Completed' 'Completed' 'Completed' 'Completed' 'Completed'\n",
            " 'Completed' 'Completed' 'Completed' 'Completed' 'Completed' 'Completed'\n",
            " 'Completed' 'Completed' 'Completed' 'Completed' 'Completed' 'Completed'\n",
            " 'Completed' 'Completed' 'Completed' 'Completed' 'Completed' 'Completed'\n",
            " 'Completed' 'Completed' 'Not Completed' 'Not Completed' 'Completed'\n",
            " 'Completed' 'Not Completed' 'Not Completed' 'Completed' 'Completed'\n",
            " 'Completed' 'Completed' 'Not Completed' 'Not Completed' 'Completed'\n",
            " 'Completed' 'Not Completed' 'Not Completed' 'Completed' 'Completed'\n",
            " 'Completed' 'Completed' 'Completed' 'Not Completed' 'Not Completed'\n",
            " 'Completed' 'Completed' 'Completed' 'Completed' 'Completed' 'Completed'\n",
            " 'Completed' 'Completed' 'Completed' 'Completed' 'Not Completed'\n",
            " 'Not Completed' 'Completed' 'Completed' 'Completed' 'Completed'\n",
            " 'Completed' 'Completed' 'Not Completed' 'Not Completed' 'Completed'\n",
            " 'Not Completed' 'Completed' 'Completed' 'Not Completed' 'Completed'\n",
            " 'Completed' 'Completed' 'Completed' 'Completed' 'Completed' 'Completed'\n",
            " 'Completed' 'Completed' 'Completed' 'Completed' 'Completed' 'Completed'\n",
            " 'Not Completed' 'Completed' 'Completed' 'Completed' 'Completed'\n",
            " 'Completed' 'Completed' 'Completed' 'Completed' 'Completed' 'Completed'\n",
            " 'Not Completed' 'Completed' 'Completed' 'Completed' 'Completed'\n",
            " 'Completed' 'Completed' 'Completed' 'Not Completed' 'Completed'\n",
            " 'Not Completed' 'Not Completed' 'Not Completed' 'Not Completed'\n",
            " 'Not Completed' 'Not Completed' 'Not Completed' 'Not Completed'\n",
            " 'Not Completed' 'Not Completed' 'Not Completed' 'Not Completed'\n",
            " 'Not Completed' 'Not Completed' 'Not Completed' 'Not Completed'\n",
            " 'Not Completed' 'Not Completed' 'Not Completed' 'Not Completed'\n",
            " 'Not Completed' 'Not Completed' 'Not Completed' 'Not Completed'\n",
            " 'Not Completed' 'Not Completed' 'Not Completed' 'Not Completed'\n",
            " 'Not Completed' 'Not Completed' 'Not Completed' 'Not Completed'\n",
            " 'Not Completed' 'Not Completed' 'Not Completed' 'Not Completed'\n",
            " 'Not Completed' 'Not Completed' 'Not Completed' 'Not Completed'\n",
            " 'Not Completed' 'Not Completed' 'Not Completed' 'Not Completed'\n",
            " 'Not Completed' 'Not Completed' 'Not Completed' 'Not Completed'\n",
            " 'Not Completed' 'Not Completed' 'Not Completed' 'Not Completed'\n",
            " 'Not Completed' 'Not Completed' 'Not Completed' 'Not Completed'\n",
            " 'Not Completed' 'Not Completed' 'Not Completed' 'Not Completed'\n",
            " 'Not Completed' 'Not Completed' 'Not Completed' 'Not Completed'\n",
            " 'Not Completed' 'Not Completed' 'Not Completed' 'Not Completed'\n",
            " 'Not Completed' 'Not Completed' 'Not Completed' 'Not Completed'\n",
            " 'Not Completed' 'Not Completed' 'Not Completed' 'Not Completed'\n",
            " 'Not Completed' 'Not Completed' 'Not Completed' 'Not Completed'\n",
            " 'Not Completed' 'Not Completed' 'Not Completed' 'Not Completed'\n",
            " 'Not Completed' 'Not Completed' 'Not Completed' 'Not Completed'\n",
            " 'Not Completed' 'Not Completed' 'Not Completed' 'Not Completed'\n",
            " 'Not Completed' 'Not Completed' 'Not Completed' 'Not Completed'\n",
            " 'Not Completed' 'Not Completed' 'Not Completed' 'Not Completed'\n",
            " 'Not Completed' 'Not Completed' 'Not Completed' 'Not Completed'\n",
            " 'Not Completed' 'Not Completed' 'Not Completed' 'Not Completed'\n",
            " 'Not Completed' 'Not Completed' 'Not Completed' 'Not Completed'\n",
            " 'Not Completed' 'Not Completed' 'Not Completed' 'Not Completed'\n",
            " 'Not Completed' 'Not Completed' 'Not Completed' 'Not Completed']\n"
          ]
        }
      ],
      "source": [
        "print(X)\n",
        "print(Y)"
      ]
    },
    {
      "cell_type": "markdown",
      "metadata": {
        "id": "4Ud-6HenD6r5"
      },
      "source": [
        "###Modelling steps"
      ]
    },
    {
      "cell_type": "markdown",
      "metadata": {
        "id": "MgMHMY9OCc96"
      },
      "source": [
        "####Separating data into training and testing datasets"
      ]
    },
    {
      "cell_type": "code",
      "execution_count": null,
      "metadata": {
        "id": "BPdeTEjxINwn"
      },
      "outputs": [],
      "source": [
        "X_train, X_validation, Y_train, Y_validation = train_test_split(X, Y, test_size=0.20, random_state=1)"
      ]
    },
    {
      "cell_type": "markdown",
      "metadata": {
        "id": "n9p-5C65noYS"
      },
      "source": [
        "###Machine Learning Algorithms"
      ]
    },
    {
      "cell_type": "code",
      "execution_count": null,
      "metadata": {
        "id": "njE-2TtYIB6C"
      },
      "outputs": [],
      "source": [
        "#Algorithms\n",
        "models = []\n",
        "models.append(('LR', LogisticRegression(solver='liblinear', multi_class='ovr')))\n",
        "models.append(('CART', DecisionTreeClassifier()))\n",
        "models.append(('SVM', SVC(gamma='auto')))\n",
        "models.append(('RandomForest', RandomForestClassifier()))\n",
        "# evaluate each model in turn\n",
        "results = []\n",
        "names = []\n",
        "for name, model in models:\n",
        "\tkfold = StratifiedKFold(n_splits=10, random_state=1, shuffle=True)\n",
        "\tcv_results = cross_val_score(model, X_train, Y_train, cv=kfold, scoring='accuracy')\n",
        "\tresults.append(cv_results)\n",
        "\tnames.append(name)"
      ]
    },
    {
      "cell_type": "markdown",
      "metadata": {
        "id": "MYhVskH4MYa6"
      },
      "source": [
        "####1. Support Vector Classification"
      ]
    },
    {
      "cell_type": "code",
      "execution_count": null,
      "metadata": {
        "colab": {
          "base_uri": "https://localhost:8080/"
        },
        "id": "_le24NZtJudY",
        "outputId": "2306218e-c683-4988-c36a-c5f34792295a"
      },
      "outputs": [
        {
          "name": "stdout",
          "output_type": "stream",
          "text": [
            "0.6027397260273972\n",
            "[[19 21]\n",
            " [ 8 25]]\n",
            "               precision    recall  f1-score   support\n",
            "\n",
            "    Completed       0.70      0.47      0.57        40\n",
            "Not Completed       0.54      0.76      0.63        33\n",
            "\n",
            "     accuracy                           0.60        73\n",
            "    macro avg       0.62      0.62      0.60        73\n",
            " weighted avg       0.63      0.60      0.60        73\n",
            "\n"
          ]
        }
      ],
      "source": [
        "# make predictions\n",
        "model = SVC(gamma='auto')\n",
        "model.fit(X_train, Y_train)\n",
        "predictions = model.predict(X_validation)\n",
        "# Evaluate predictions\n",
        "print(accuracy_score(Y_validation, predictions))\n",
        "print(confusion_matrix(Y_validation, predictions))\n",
        "print(classification_report(Y_validation, predictions))"
      ]
    },
    {
      "cell_type": "markdown",
      "metadata": {
        "id": "vOkiNMUWMas_"
      },
      "source": [
        "#### 2. Logistic Regression"
      ]
    },
    {
      "cell_type": "code",
      "execution_count": null,
      "metadata": {
        "colab": {
          "base_uri": "https://localhost:8080/"
        },
        "id": "BA7dVVLgKQ_-",
        "outputId": "fa4fbe07-bb23-4a0e-bcf6-716c0665621b"
      },
      "outputs": [
        {
          "name": "stdout",
          "output_type": "stream",
          "text": [
            "0.5616438356164384\n",
            "[[24 16]\n",
            " [16 17]]\n",
            "               precision    recall  f1-score   support\n",
            "\n",
            "    Completed       0.60      0.60      0.60        40\n",
            "Not Completed       0.52      0.52      0.52        33\n",
            "\n",
            "     accuracy                           0.56        73\n",
            "    macro avg       0.56      0.56      0.56        73\n",
            " weighted avg       0.56      0.56      0.56        73\n",
            "\n"
          ]
        }
      ],
      "source": [
        "#make prediction\n",
        "model = LogisticRegression()\n",
        "model.fit(X_train, Y_train)\n",
        "predictions = model.predict(X_validation)\n",
        "# Evaluate predictions\n",
        "print(accuracy_score(Y_validation, predictions))\n",
        "print(confusion_matrix(Y_validation, predictions))\n",
        "print(classification_report(Y_validation, predictions))"
      ]
    },
    {
      "cell_type": "markdown",
      "metadata": {
        "id": "KYn5XYwkMiiw"
      },
      "source": [
        "#### 3. Decision Tree Classifier"
      ]
    },
    {
      "cell_type": "code",
      "execution_count": null,
      "metadata": {
        "colab": {
          "base_uri": "https://localhost:8080/"
        },
        "id": "BCwV9hhcJU7b",
        "outputId": "08256843-a637-416f-8bf7-7445bb89e8e3"
      },
      "outputs": [
        {
          "name": "stdout",
          "output_type": "stream",
          "text": [
            "0.5342465753424658\n",
            "[[20 20]\n",
            " [14 19]]\n",
            "               precision    recall  f1-score   support\n",
            "\n",
            "    Completed       0.59      0.50      0.54        40\n",
            "Not Completed       0.49      0.58      0.53        33\n",
            "\n",
            "     accuracy                           0.53        73\n",
            "    macro avg       0.54      0.54      0.53        73\n",
            " weighted avg       0.54      0.53      0.53        73\n",
            "\n"
          ]
        }
      ],
      "source": [
        "# make predictions\n",
        "model = DecisionTreeClassifier()\n",
        "model.fit(X_train, Y_train)\n",
        "predictions = model.predict(X_validation)\n",
        "# Evaluate predictions\n",
        "print(accuracy_score(Y_validation, predictions))\n",
        "print(confusion_matrix(Y_validation, predictions))\n",
        "print(classification_report(Y_validation, predictions))"
      ]
    },
    {
      "cell_type": "markdown",
      "metadata": {
        "id": "l90TkkqYMrG-"
      },
      "source": [
        "#### 4. Random Forest Classifier"
      ]
    },
    {
      "cell_type": "code",
      "execution_count": null,
      "metadata": {
        "colab": {
          "base_uri": "https://localhost:8080/"
        },
        "id": "bIJgewb3Joh4",
        "outputId": "2ac198a4-da9b-4bb3-b272-3d6771b339e3"
      },
      "outputs": [
        {
          "name": "stdout",
          "output_type": "stream",
          "text": [
            "0.6438356164383562\n",
            "[[26 14]\n",
            " [12 21]]\n",
            "               precision    recall  f1-score   support\n",
            "\n",
            "    Completed       0.68      0.65      0.67        40\n",
            "Not Completed       0.60      0.64      0.62        33\n",
            "\n",
            "     accuracy                           0.64        73\n",
            "    macro avg       0.64      0.64      0.64        73\n",
            " weighted avg       0.65      0.64      0.64        73\n",
            "\n"
          ]
        }
      ],
      "source": [
        "# make predictions\n",
        "model = RandomForestClassifier()\n",
        "model.fit(X_train, Y_train)\n",
        "predictions = model.predict(X_validation)\n",
        "# Evaluate predictions\n",
        "print(accuracy_score(Y_validation, predictions))\n",
        "print(confusion_matrix(Y_validation, predictions))\n",
        "print(classification_report(Y_validation, predictions))"
      ]
    },
    {
      "cell_type": "markdown",
      "metadata": {
        "id": "3OCevcxsObGG"
      },
      "source": [
        "##<font color='#3dc1d3'> 3.2 Results \n"
      ]
    },
    {
      "cell_type": "markdown",
      "source": [
        "\n",
        "Models | Accuracy(%) \n",
        "--- | --- \n",
        "Random Forest Classifier | 64.38 \n",
        "Logistic Regression |  56.16\n",
        "Decision Tree Classifier | 53.42 \n",
        "SVC | 60.27\n",
        "\n",
        "\n",
        "The Random Forest Classifier had the highest accuracy of all models, at 64.38%. Conversely, the lowest accuracy was provided by the Decision Tree Classifier, which was 53.42%. While Support Vector Classification and Logistic Regression provided 60.27% and 56.16%, respectively."
      ],
      "metadata": {
        "id": "BiFDiEs3akh4"
      }
    }
  ],
  "metadata": {
    "accelerator": "GPU",
    "colab": {
      "collapsed_sections": [],
      "name": "Source_code_Clinical_Trial.ipynb",
      "provenance": [],
      "toc_visible": true
    },
    "gpuClass": "standard",
    "kernelspec": {
      "display_name": "Python 3",
      "name": "python3"
    },
    "language_info": {
      "name": "python"
    }
  },
  "nbformat": 4,
  "nbformat_minor": 0
}